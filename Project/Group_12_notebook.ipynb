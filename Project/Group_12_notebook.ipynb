{
 "cells": [
  {
   "cell_type": "markdown",
   "id": "592625b3",
   "metadata": {
    "id": "592625b3"
   },
   "source": [
    "**<h1 align=\"center\">Machine Learning Project</h1>**\n",
    "\n",
    "**Group members:**<br> \n",
    "Barata Diogo - 20240258 <br>\n",
    "Deschanel Chloé - 20240693  <br>\n",
    "Leandro Lara  - 20211632 <br>\n",
    "Parracho Érica - 20240583 <br>\n",
    "Walihullah Mohammad - 20230768 <br>\n",
    "\n",
    "This notebook is our main one, where we develop a predictive model to help the New York Workers' Compensation Board (WCB) automate their claim handling process. Specifically, we aim to predict Claim Injury Type. "
   ]
  },
  {
   "cell_type": "markdown",
   "id": "462797e9",
   "metadata": {
    "id": "462797e9"
   },
   "source": [
    "# Table of Contents\n",
    "* [1. Project Setup](#chapter1)\n",
    "    * [1.1. Imports](#sub-section-1_1)\n",
    "    * [1.2. Loading Data](#sub-section-1_2)\n",
    "    * [1.3. Data Type and Duplicates](#sub-section-1_3)\n",
    "* [2. Data Preparation and Preprocessing](#chapter2)\n",
    "    * [2.1. Coherence Checking](#sub-section-2_1)\n",
    "        * [2.1.1. Incoherences in the Age variables](#sub-section-2_1_1)\n",
    "        * [2.1.2. Incoherences in Carrier Name](#sub-section-2_1_2)\n",
    "        * [2.1.3. Incoherences in Zip codes](#sub-section-2_1_3)\n",
    "        * [2.1.4. Unknown Values](#sub-section-2_1_4)\n",
    "        * [2.1.5. Dates](#sub-section-2_1_5)\n",
    "        * [2.1.6. Codes](#sub-section-2_1_6)\n",
    "    * [2.2. Feature Engineering](#sub-section-2_2)\n",
    "    * [2.3. Splitting the Data](#sub-section-2_3)\n",
    "    * [2.4. Outliers](#sub-section-2_4)\n",
    "    * [2.5. Treating missing values](#sub-section-2_5)\n",
    "        * [2.5.1. Removing Variables](#sub-section-2_5_1)\n",
    "        * [2.5.2. Imputing Missing Values](#sub-section-2_5_2)\n",
    "    * [2.6. Encoding Categorical Variables](#sub-section-2_6)\n",
    "    * [2.7. Scaling the Data](#sub-section-2_7)\n",
    "    * [2.8. Feature Selection](#sub-section-2_8)\n",
    "        * [2.8.1. Univariate variables](#sub-section-2_8_1)\n",
    "        * [2.8.2. Correlation Indices](#sub-section-2_8_2)\n",
    "        * [2.8.3. Chi-Square](#sub-section-2_8_3)\n",
    "        * [2.8.4. Wrapper Methods - RFE](#sub-section-2_8_4)\n",
    "        * [2.8.5. Embedded Methods - Lasso](#sub-section-2_8_5)\n",
    "        * [2.8.6. Final Drops](#sub-section-2_8_6)\n",
    "* [3. Modeling](#chapter3)\n",
    "    * [3.1. Models](#sub-section-3_1)\n",
    "        * [3.1.1. Logistic Regression](#sub-section-3_1_1)\n",
    "        * [3.1.2. Naive Bayes](#sub-section-3_1_2)\n",
    "        * [3.1.3. KNN](#sub-section-3_1_3)\n",
    "        * [3.1.4. Decision Tree](#sub-section-3_1_4)\n",
    "        * [3.1.5. Gradient Boosting](#sub-section-3_1_5)\n",
    "        * [3.1.6. Random Forest Classifier](#sub-section-3_1_6)\n",
    "        * [3.1.7. Neural Networks](#sub-section-3_1_7)\n",
    "        * [3.1.8. Comparing Models](#sub-section-3_1_8)\n",
    "    * [3.2. Optimization](#sub-section-3_2)\n",
    "        * [3.2.1. Oversampling](#sub-section-3_2_1)\n",
    "        * [3.2.2. Hyperparameter tuning](#sub-section-3_2_2)\n",
    "            * [3.2.2.1. Gradient Boosting](#sub-section-3_2_2_1)\n",
    "            * [3.2.2.2. Random Forest](#sub-section-3_2_2_2)\n",
    "            * [3.2.2.3. KNN](#sub-section-3_2_2_3)\n",
    "            * [3.2.2.4. Neural Networks](#sub-section-3_2_2_4)\n",
    "        * [3.2.3. Comparing Results](#sub-section-3_2_3)\n",
    "    * [3.3. Best Model](#sub-section-3_3)\n",
    "* [4. Open Ended Section](#chapter4)\n",
    "    * [4.1. Agreement Reached](#sub-section-4_1)\n",
    "    * [4.2. Interactive Dashboard](#sub-section-4_2)\n",
    "* [5. Deployment](#chapter5)"
   ]
  },
  {
   "cell_type": "markdown",
   "id": "9cea38b9-6791-4424-87d0-4e7451339aae",
   "metadata": {
    "id": "9cea38b9-6791-4424-87d0-4e7451339aae"
   },
   "source": [
    "<a class=\"anchor\" id=\"chapter1\"></a>\n",
    "\n",
    "# 1. Project Setup\n",
    "\n",
    "</a>"
   ]
  },
  {
   "cell_type": "markdown",
   "id": "256bc704-b7cb-4025-b7d2-3288dc54e560",
   "metadata": {
    "id": "256bc704-b7cb-4025-b7d2-3288dc54e560"
   },
   "source": [
    "<a class=\"anchor\" id=\"sub-section-1_1\"></a>\n",
    "\n",
    "## 1.1. Imports\n",
    "\n",
    "</a>"
   ]
  },
  {
   "cell_type": "code",
   "execution_count": 1,
   "id": "7ab3097f-1f6d-41ea-b2d3-c7421b0b3e57",
   "metadata": {
    "colab": {
     "base_uri": "https://localhost:8080/"
    },
    "id": "7ab3097f-1f6d-41ea-b2d3-c7421b0b3e57",
    "outputId": "e9803bde-15a3-4e91-aff2-c11dc58759f1"
   },
   "outputs": [],
   "source": [
    "import numpy as np\n",
    "import pandas as pd\n",
    "import re\n",
    "from datetime import date\n",
    "\n",
    "# Created functions in .py file\n",
    "import functions\n",
    "\n",
    "# Visualization \n",
    "import matplotlib.pyplot as plt\n",
    "import seaborn as sns\n",
    "\n",
    "# Data Partition\n",
    "from sklearn.model_selection import train_test_split\n",
    "\n",
    "# Preprocessing\n",
    "from sklearn.preprocessing import MinMaxScaler, LabelEncoder, OrdinalEncoder\n",
    "\n",
    "# Feature Selection - Filter Methods\n",
    "import scipy.stats as stats\n",
    "from scipy.stats import chi2_contingency\n",
    "from sklearn.feature_selection import mutual_info_classif\n",
    "\n",
    "# Feature Selection - Wrapper Methods\n",
    "from sklearn.feature_selection import RFE\n",
    "from sklearn.tree import DecisionTreeClassifier\n",
    "from sklearn.linear_model import LogisticRegression\n",
    "\n",
    "# Feature Selection - Embedded Methods\n",
    "from sklearn.linear_model import LassoCV\n",
    "\n",
    "# Modeling\n",
    "from sklearn.naive_bayes import GaussianNB\n",
    "from sklearn.tree import DecisionTreeClassifier\n",
    "from sklearn.neighbors import KNeighborsClassifier\n",
    "from sklearn.ensemble import RandomForestClassifier\n",
    "import xgboost as xgb\n",
    "from sklearn.neural_network import MLPClassifier\n",
    "\n",
    "# Performance Metrics \n",
    "from sklearn.metrics import accuracy_score, classification_report, confusion_matrix, f1_score\n",
    "from sklearn.metrics import roc_auc_score\n",
    "\n",
    "# Hyperparameter tuning\n",
    "from imblearn.over_sampling import SMOTE\n",
    "from sklearn.model_selection import GridSearchCV\n",
    "from sklearn.model_selection import RandomizedSearchCV\n",
    "from sklearn.model_selection import PredefinedSplit\n",
    "\n",
    "# Open-ended section\n",
    "from sklearn.base import clone\n",
    "import pickle\n",
    "import copy\n",
    "\n",
    "\n",
    "# Suppress Warnings\n",
    "import warnings\n",
    "warnings.filterwarnings('ignore')"
   ]
  },
  {
   "cell_type": "markdown",
   "id": "65ccbeb8-3474-4c4b-89c4-bf8fe6b3619f",
   "metadata": {
    "id": "65ccbeb8-3474-4c4b-89c4-bf8fe6b3619f"
   },
   "source": [
    "<a class=\"anchor\" id=\"sub-section-1_2\"></a>\n",
    "\n",
    "## 1.2. Loading data\n",
    "\n",
    "</a>"
   ]
  },
  {
   "cell_type": "code",
   "execution_count": 2,
   "id": "1712205d",
   "metadata": {},
   "outputs": [],
   "source": [
    "# Import all the data that will be used\n",
    "train_data_original = pd.read_csv(\"train_data.csv\")\n",
    "test_original = pd.read_csv(\"test_data.csv\")"
   ]
  },
  {
   "cell_type": "code",
   "execution_count": 3,
   "id": "73adeed9",
   "metadata": {},
   "outputs": [
    {
     "name": "stdout",
     "output_type": "stream",
     "text": [
      "<class 'pandas.core.frame.DataFrame'>\n",
      "RangeIndex: 593471 entries, 0 to 593470\n",
      "Data columns (total 33 columns):\n",
      " #   Column                              Non-Null Count   Dtype  \n",
      "---  ------                              --------------   -----  \n",
      " 0   Accident Date                       570337 non-null  object \n",
      " 1   Age at Injury                       574026 non-null  float64\n",
      " 2   Alternative Dispute Resolution      574026 non-null  object \n",
      " 3   Assembly Date                       593471 non-null  object \n",
      " 4   Attorney/Representative             574026 non-null  object \n",
      " 5   Average Weekly Wage                 545375 non-null  float64\n",
      " 6   Birth Year                          544948 non-null  float64\n",
      " 7   C-2 Date                            559466 non-null  object \n",
      " 8   C-3 Date                            187245 non-null  object \n",
      " 9   Carrier Name                        574026 non-null  object \n",
      " 10  Carrier Type                        574026 non-null  object \n",
      " 11  Claim Identifier                    593471 non-null  int64  \n",
      " 12  Claim Injury Type                   574026 non-null  object \n",
      " 13  County of Injury                    574026 non-null  object \n",
      " 14  COVID-19 Indicator                  574026 non-null  object \n",
      " 15  District Name                       574026 non-null  object \n",
      " 16  First Hearing Date                  150798 non-null  object \n",
      " 17  Gender                              574026 non-null  object \n",
      " 18  IME-4 Count                         132803 non-null  float64\n",
      " 19  Industry Code                       564068 non-null  float64\n",
      " 20  Industry Code Description           564068 non-null  object \n",
      " 21  Medical Fee Region                  574026 non-null  object \n",
      " 22  OIICS Nature of Injury Description  0 non-null       float64\n",
      " 23  WCIO Cause of Injury Code           558386 non-null  float64\n",
      " 24  WCIO Cause of Injury Description    558386 non-null  object \n",
      " 25  WCIO Nature of Injury Code          558369 non-null  float64\n",
      " 26  WCIO Nature of Injury Description   558369 non-null  object \n",
      " 27  WCIO Part Of Body Code              556944 non-null  float64\n",
      " 28  WCIO Part Of Body Description       556944 non-null  object \n",
      " 29  Zip Code                            545389 non-null  object \n",
      " 30  Agreement Reached                   574026 non-null  float64\n",
      " 31  WCB Decision                        574026 non-null  object \n",
      " 32  Number of Dependents                574026 non-null  float64\n",
      "dtypes: float64(11), int64(1), object(21)\n",
      "memory usage: 149.4+ MB\n"
     ]
    }
   ],
   "source": [
    "train_data_original.info()"
   ]
  },
  {
   "cell_type": "code",
   "execution_count": 4,
   "id": "b9dde016-b689-4723-953e-afb57a0a9c0b",
   "metadata": {
    "id": "b9dde016-b689-4723-953e-afb57a0a9c0b"
   },
   "outputs": [],
   "source": [
    "# Display all columns\n",
    "pd.set_option('display.max_columns', None)\n",
    "\n",
    "# Set Claim Identifier as index\n",
    "train_data_original.set_index('Claim Identifier', inplace = True)\n",
    "test_original.set_index('Claim Identifier', inplace = True)"
   ]
  },
  {
   "cell_type": "code",
   "execution_count": 5,
   "id": "5fd91b2c",
   "metadata": {
    "id": "5fd91b2c"
   },
   "outputs": [],
   "source": [
    "# Create a copy to work on \n",
    "train_data = train_data_original.copy()\n",
    "test=test_original.copy()"
   ]
  },
  {
   "cell_type": "code",
   "execution_count": 6,
   "id": "b0788c04-546c-4ba4-961c-4a687a1f0712",
   "metadata": {
    "colab": {
     "base_uri": "https://localhost:8080/",
     "height": 587
    },
    "id": "b0788c04-546c-4ba4-961c-4a687a1f0712",
    "outputId": "7596aaf2-ae7b-4d65-bcba-2405a1174766"
   },
   "outputs": [
    {
     "data": {
      "text/html": [
       "<div>\n",
       "<style scoped>\n",
       "    .dataframe tbody tr th:only-of-type {\n",
       "        vertical-align: middle;\n",
       "    }\n",
       "\n",
       "    .dataframe tbody tr th {\n",
       "        vertical-align: top;\n",
       "    }\n",
       "\n",
       "    .dataframe thead th {\n",
       "        text-align: right;\n",
       "    }\n",
       "</style>\n",
       "<table border=\"1\" class=\"dataframe\">\n",
       "  <thead>\n",
       "    <tr style=\"text-align: right;\">\n",
       "      <th></th>\n",
       "      <th>Accident Date</th>\n",
       "      <th>Age at Injury</th>\n",
       "      <th>Alternative Dispute Resolution</th>\n",
       "      <th>Assembly Date</th>\n",
       "      <th>Attorney/Representative</th>\n",
       "      <th>Average Weekly Wage</th>\n",
       "      <th>Birth Year</th>\n",
       "      <th>C-2 Date</th>\n",
       "      <th>C-3 Date</th>\n",
       "      <th>Carrier Name</th>\n",
       "      <th>Carrier Type</th>\n",
       "      <th>Claim Injury Type</th>\n",
       "      <th>County of Injury</th>\n",
       "      <th>COVID-19 Indicator</th>\n",
       "      <th>District Name</th>\n",
       "      <th>First Hearing Date</th>\n",
       "      <th>Gender</th>\n",
       "      <th>IME-4 Count</th>\n",
       "      <th>Industry Code</th>\n",
       "      <th>Industry Code Description</th>\n",
       "      <th>Medical Fee Region</th>\n",
       "      <th>OIICS Nature of Injury Description</th>\n",
       "      <th>WCIO Cause of Injury Code</th>\n",
       "      <th>WCIO Cause of Injury Description</th>\n",
       "      <th>WCIO Nature of Injury Code</th>\n",
       "      <th>WCIO Nature of Injury Description</th>\n",
       "      <th>WCIO Part Of Body Code</th>\n",
       "      <th>WCIO Part Of Body Description</th>\n",
       "      <th>Zip Code</th>\n",
       "      <th>Agreement Reached</th>\n",
       "      <th>WCB Decision</th>\n",
       "      <th>Number of Dependents</th>\n",
       "    </tr>\n",
       "    <tr>\n",
       "      <th>Claim Identifier</th>\n",
       "      <th></th>\n",
       "      <th></th>\n",
       "      <th></th>\n",
       "      <th></th>\n",
       "      <th></th>\n",
       "      <th></th>\n",
       "      <th></th>\n",
       "      <th></th>\n",
       "      <th></th>\n",
       "      <th></th>\n",
       "      <th></th>\n",
       "      <th></th>\n",
       "      <th></th>\n",
       "      <th></th>\n",
       "      <th></th>\n",
       "      <th></th>\n",
       "      <th></th>\n",
       "      <th></th>\n",
       "      <th></th>\n",
       "      <th></th>\n",
       "      <th></th>\n",
       "      <th></th>\n",
       "      <th></th>\n",
       "      <th></th>\n",
       "      <th></th>\n",
       "      <th></th>\n",
       "      <th></th>\n",
       "      <th></th>\n",
       "      <th></th>\n",
       "      <th></th>\n",
       "      <th></th>\n",
       "      <th></th>\n",
       "    </tr>\n",
       "  </thead>\n",
       "  <tbody>\n",
       "    <tr>\n",
       "      <th>5393875</th>\n",
       "      <td>2019-12-30</td>\n",
       "      <td>31.0</td>\n",
       "      <td>N</td>\n",
       "      <td>2020-01-01</td>\n",
       "      <td>N</td>\n",
       "      <td>0.00</td>\n",
       "      <td>1988.0</td>\n",
       "      <td>2019-12-31</td>\n",
       "      <td>NaN</td>\n",
       "      <td>NEW HAMPSHIRE INSURANCE CO</td>\n",
       "      <td>1A. PRIVATE</td>\n",
       "      <td>2. NON-COMP</td>\n",
       "      <td>ST. LAWRENCE</td>\n",
       "      <td>N</td>\n",
       "      <td>SYRACUSE</td>\n",
       "      <td>NaN</td>\n",
       "      <td>M</td>\n",
       "      <td>NaN</td>\n",
       "      <td>44.0</td>\n",
       "      <td>RETAIL TRADE</td>\n",
       "      <td>I</td>\n",
       "      <td>NaN</td>\n",
       "      <td>27.0</td>\n",
       "      <td>FROM LIQUID OR GREASE SPILLS</td>\n",
       "      <td>10.0</td>\n",
       "      <td>CONTUSION</td>\n",
       "      <td>62.0</td>\n",
       "      <td>BUTTOCKS</td>\n",
       "      <td>13662</td>\n",
       "      <td>0.0</td>\n",
       "      <td>Not Work Related</td>\n",
       "      <td>1.0</td>\n",
       "    </tr>\n",
       "    <tr>\n",
       "      <th>5393091</th>\n",
       "      <td>2019-08-30</td>\n",
       "      <td>46.0</td>\n",
       "      <td>N</td>\n",
       "      <td>2020-01-01</td>\n",
       "      <td>Y</td>\n",
       "      <td>1745.93</td>\n",
       "      <td>1973.0</td>\n",
       "      <td>2020-01-01</td>\n",
       "      <td>2020-01-14</td>\n",
       "      <td>ZURICH AMERICAN INSURANCE CO</td>\n",
       "      <td>1A. PRIVATE</td>\n",
       "      <td>4. TEMPORARY</td>\n",
       "      <td>WYOMING</td>\n",
       "      <td>N</td>\n",
       "      <td>ROCHESTER</td>\n",
       "      <td>2020-02-21</td>\n",
       "      <td>F</td>\n",
       "      <td>4.0</td>\n",
       "      <td>23.0</td>\n",
       "      <td>CONSTRUCTION</td>\n",
       "      <td>I</td>\n",
       "      <td>NaN</td>\n",
       "      <td>97.0</td>\n",
       "      <td>REPETITIVE MOTION</td>\n",
       "      <td>49.0</td>\n",
       "      <td>SPRAIN OR TEAR</td>\n",
       "      <td>38.0</td>\n",
       "      <td>SHOULDER(S)</td>\n",
       "      <td>14569</td>\n",
       "      <td>1.0</td>\n",
       "      <td>Not Work Related</td>\n",
       "      <td>4.0</td>\n",
       "    </tr>\n",
       "    <tr>\n",
       "      <th>5393889</th>\n",
       "      <td>2019-12-06</td>\n",
       "      <td>40.0</td>\n",
       "      <td>N</td>\n",
       "      <td>2020-01-01</td>\n",
       "      <td>N</td>\n",
       "      <td>1434.80</td>\n",
       "      <td>1979.0</td>\n",
       "      <td>2020-01-01</td>\n",
       "      <td>NaN</td>\n",
       "      <td>INDEMNITY INSURANCE CO OF</td>\n",
       "      <td>1A. PRIVATE</td>\n",
       "      <td>4. TEMPORARY</td>\n",
       "      <td>ORANGE</td>\n",
       "      <td>N</td>\n",
       "      <td>ALBANY</td>\n",
       "      <td>NaN</td>\n",
       "      <td>M</td>\n",
       "      <td>NaN</td>\n",
       "      <td>56.0</td>\n",
       "      <td>ADMINISTRATIVE AND SUPPORT AND WASTE MANAGEMEN...</td>\n",
       "      <td>II</td>\n",
       "      <td>NaN</td>\n",
       "      <td>79.0</td>\n",
       "      <td>OBJECT BEING LIFTED OR HANDLED</td>\n",
       "      <td>7.0</td>\n",
       "      <td>CONCUSSION</td>\n",
       "      <td>10.0</td>\n",
       "      <td>MULTIPLE HEAD INJURY</td>\n",
       "      <td>12589</td>\n",
       "      <td>0.0</td>\n",
       "      <td>Not Work Related</td>\n",
       "      <td>6.0</td>\n",
       "    </tr>\n",
       "    <tr>\n",
       "      <th>957648180</th>\n",
       "      <td>NaN</td>\n",
       "      <td>NaN</td>\n",
       "      <td>NaN</td>\n",
       "      <td>2020-01-01</td>\n",
       "      <td>NaN</td>\n",
       "      <td>NaN</td>\n",
       "      <td>NaN</td>\n",
       "      <td>NaN</td>\n",
       "      <td>NaN</td>\n",
       "      <td>NaN</td>\n",
       "      <td>NaN</td>\n",
       "      <td>NaN</td>\n",
       "      <td>NaN</td>\n",
       "      <td>NaN</td>\n",
       "      <td>NaN</td>\n",
       "      <td>NaN</td>\n",
       "      <td>NaN</td>\n",
       "      <td>NaN</td>\n",
       "      <td>NaN</td>\n",
       "      <td>NaN</td>\n",
       "      <td>NaN</td>\n",
       "      <td>NaN</td>\n",
       "      <td>NaN</td>\n",
       "      <td>NaN</td>\n",
       "      <td>NaN</td>\n",
       "      <td>NaN</td>\n",
       "      <td>NaN</td>\n",
       "      <td>NaN</td>\n",
       "      <td>NaN</td>\n",
       "      <td>NaN</td>\n",
       "      <td>NaN</td>\n",
       "      <td>NaN</td>\n",
       "    </tr>\n",
       "    <tr>\n",
       "      <th>5393887</th>\n",
       "      <td>2019-12-30</td>\n",
       "      <td>61.0</td>\n",
       "      <td>N</td>\n",
       "      <td>2020-01-01</td>\n",
       "      <td>N</td>\n",
       "      <td>NaN</td>\n",
       "      <td>1958.0</td>\n",
       "      <td>2019-12-31</td>\n",
       "      <td>NaN</td>\n",
       "      <td>STATE INSURANCE FUND</td>\n",
       "      <td>2A. SIF</td>\n",
       "      <td>2. NON-COMP</td>\n",
       "      <td>DUTCHESS</td>\n",
       "      <td>N</td>\n",
       "      <td>ALBANY</td>\n",
       "      <td>NaN</td>\n",
       "      <td>M</td>\n",
       "      <td>NaN</td>\n",
       "      <td>62.0</td>\n",
       "      <td>HEALTH CARE AND SOCIAL ASSISTANCE</td>\n",
       "      <td>II</td>\n",
       "      <td>NaN</td>\n",
       "      <td>16.0</td>\n",
       "      <td>HAND TOOL, UTENSIL; NOT POWERED</td>\n",
       "      <td>43.0</td>\n",
       "      <td>PUNCTURE</td>\n",
       "      <td>36.0</td>\n",
       "      <td>FINGER(S)</td>\n",
       "      <td>12603</td>\n",
       "      <td>0.0</td>\n",
       "      <td>Not Work Related</td>\n",
       "      <td>1.0</td>\n",
       "    </tr>\n",
       "  </tbody>\n",
       "</table>\n",
       "</div>"
      ],
      "text/plain": [
       "                 Accident Date  Age at Injury Alternative Dispute Resolution  \\\n",
       "Claim Identifier                                                               \n",
       "5393875             2019-12-30           31.0                              N   \n",
       "5393091             2019-08-30           46.0                              N   \n",
       "5393889             2019-12-06           40.0                              N   \n",
       "957648180                  NaN            NaN                            NaN   \n",
       "5393887             2019-12-30           61.0                              N   \n",
       "\n",
       "                 Assembly Date Attorney/Representative  Average Weekly Wage  \\\n",
       "Claim Identifier                                                              \n",
       "5393875             2020-01-01                       N                 0.00   \n",
       "5393091             2020-01-01                       Y              1745.93   \n",
       "5393889             2020-01-01                       N              1434.80   \n",
       "957648180           2020-01-01                     NaN                  NaN   \n",
       "5393887             2020-01-01                       N                  NaN   \n",
       "\n",
       "                  Birth Year    C-2 Date    C-3 Date  \\\n",
       "Claim Identifier                                       \n",
       "5393875               1988.0  2019-12-31         NaN   \n",
       "5393091               1973.0  2020-01-01  2020-01-14   \n",
       "5393889               1979.0  2020-01-01         NaN   \n",
       "957648180                NaN         NaN         NaN   \n",
       "5393887               1958.0  2019-12-31         NaN   \n",
       "\n",
       "                                  Carrier Name Carrier Type Claim Injury Type  \\\n",
       "Claim Identifier                                                                \n",
       "5393875             NEW HAMPSHIRE INSURANCE CO  1A. PRIVATE       2. NON-COMP   \n",
       "5393091           ZURICH AMERICAN INSURANCE CO  1A. PRIVATE      4. TEMPORARY   \n",
       "5393889              INDEMNITY INSURANCE CO OF  1A. PRIVATE      4. TEMPORARY   \n",
       "957648180                                  NaN          NaN               NaN   \n",
       "5393887                   STATE INSURANCE FUND      2A. SIF       2. NON-COMP   \n",
       "\n",
       "                 County of Injury COVID-19 Indicator District Name  \\\n",
       "Claim Identifier                                                     \n",
       "5393875              ST. LAWRENCE                  N      SYRACUSE   \n",
       "5393091                   WYOMING                  N     ROCHESTER   \n",
       "5393889                    ORANGE                  N        ALBANY   \n",
       "957648180                     NaN                NaN           NaN   \n",
       "5393887                  DUTCHESS                  N        ALBANY   \n",
       "\n",
       "                 First Hearing Date Gender  IME-4 Count  Industry Code  \\\n",
       "Claim Identifier                                                         \n",
       "5393875                         NaN      M          NaN           44.0   \n",
       "5393091                  2020-02-21      F          4.0           23.0   \n",
       "5393889                         NaN      M          NaN           56.0   \n",
       "957648180                       NaN    NaN          NaN            NaN   \n",
       "5393887                         NaN      M          NaN           62.0   \n",
       "\n",
       "                                          Industry Code Description  \\\n",
       "Claim Identifier                                                      \n",
       "5393875                                                RETAIL TRADE   \n",
       "5393091                                                CONSTRUCTION   \n",
       "5393889           ADMINISTRATIVE AND SUPPORT AND WASTE MANAGEMEN...   \n",
       "957648180                                                       NaN   \n",
       "5393887                           HEALTH CARE AND SOCIAL ASSISTANCE   \n",
       "\n",
       "                 Medical Fee Region  OIICS Nature of Injury Description  \\\n",
       "Claim Identifier                                                          \n",
       "5393875                           I                                 NaN   \n",
       "5393091                           I                                 NaN   \n",
       "5393889                          II                                 NaN   \n",
       "957648180                       NaN                                 NaN   \n",
       "5393887                          II                                 NaN   \n",
       "\n",
       "                  WCIO Cause of Injury Code WCIO Cause of Injury Description  \\\n",
       "Claim Identifier                                                               \n",
       "5393875                                27.0     FROM LIQUID OR GREASE SPILLS   \n",
       "5393091                                97.0                REPETITIVE MOTION   \n",
       "5393889                                79.0   OBJECT BEING LIFTED OR HANDLED   \n",
       "957648180                               NaN                              NaN   \n",
       "5393887                                16.0  HAND TOOL, UTENSIL; NOT POWERED   \n",
       "\n",
       "                  WCIO Nature of Injury Code  \\\n",
       "Claim Identifier                               \n",
       "5393875                                 10.0   \n",
       "5393091                                 49.0   \n",
       "5393889                                  7.0   \n",
       "957648180                                NaN   \n",
       "5393887                                 43.0   \n",
       "\n",
       "                 WCIO Nature of Injury Description  WCIO Part Of Body Code  \\\n",
       "Claim Identifier                                                             \n",
       "5393875                                  CONTUSION                    62.0   \n",
       "5393091                             SPRAIN OR TEAR                    38.0   \n",
       "5393889                                 CONCUSSION                    10.0   \n",
       "957648180                                      NaN                     NaN   \n",
       "5393887                                   PUNCTURE                    36.0   \n",
       "\n",
       "                 WCIO Part Of Body Description Zip Code  Agreement Reached  \\\n",
       "Claim Identifier                                                             \n",
       "5393875                               BUTTOCKS    13662                0.0   \n",
       "5393091                            SHOULDER(S)    14569                1.0   \n",
       "5393889                   MULTIPLE HEAD INJURY    12589                0.0   \n",
       "957648180                                  NaN      NaN                NaN   \n",
       "5393887                              FINGER(S)    12603                0.0   \n",
       "\n",
       "                      WCB Decision  Number of Dependents  \n",
       "Claim Identifier                                          \n",
       "5393875           Not Work Related                   1.0  \n",
       "5393091           Not Work Related                   4.0  \n",
       "5393889           Not Work Related                   6.0  \n",
       "957648180                      NaN                   NaN  \n",
       "5393887           Not Work Related                   1.0  "
      ]
     },
     "execution_count": 6,
     "metadata": {},
     "output_type": "execute_result"
    }
   ],
   "source": [
    "# Display & verify the data is correctly imported\n",
    "train_data.head()"
   ]
  },
  {
   "cell_type": "code",
   "execution_count": 7,
   "id": "9909e91e",
   "metadata": {},
   "outputs": [
    {
     "data": {
      "text/html": [
       "<div>\n",
       "<style scoped>\n",
       "    .dataframe tbody tr th:only-of-type {\n",
       "        vertical-align: middle;\n",
       "    }\n",
       "\n",
       "    .dataframe tbody tr th {\n",
       "        vertical-align: top;\n",
       "    }\n",
       "\n",
       "    .dataframe thead th {\n",
       "        text-align: right;\n",
       "    }\n",
       "</style>\n",
       "<table border=\"1\" class=\"dataframe\">\n",
       "  <thead>\n",
       "    <tr style=\"text-align: right;\">\n",
       "      <th></th>\n",
       "      <th>Accident Date</th>\n",
       "      <th>Age at Injury</th>\n",
       "      <th>Alternative Dispute Resolution</th>\n",
       "      <th>Assembly Date</th>\n",
       "      <th>Attorney/Representative</th>\n",
       "      <th>Average Weekly Wage</th>\n",
       "      <th>Birth Year</th>\n",
       "      <th>C-2 Date</th>\n",
       "      <th>C-3 Date</th>\n",
       "      <th>Carrier Name</th>\n",
       "      <th>Carrier Type</th>\n",
       "      <th>County of Injury</th>\n",
       "      <th>COVID-19 Indicator</th>\n",
       "      <th>District Name</th>\n",
       "      <th>First Hearing Date</th>\n",
       "      <th>Gender</th>\n",
       "      <th>IME-4 Count</th>\n",
       "      <th>Industry Code</th>\n",
       "      <th>Industry Code Description</th>\n",
       "      <th>Medical Fee Region</th>\n",
       "      <th>OIICS Nature of Injury Description</th>\n",
       "      <th>WCIO Cause of Injury Code</th>\n",
       "      <th>WCIO Cause of Injury Description</th>\n",
       "      <th>WCIO Nature of Injury Code</th>\n",
       "      <th>WCIO Nature of Injury Description</th>\n",
       "      <th>WCIO Part Of Body Code</th>\n",
       "      <th>WCIO Part Of Body Description</th>\n",
       "      <th>Zip Code</th>\n",
       "      <th>Number of Dependents</th>\n",
       "    </tr>\n",
       "    <tr>\n",
       "      <th>Claim Identifier</th>\n",
       "      <th></th>\n",
       "      <th></th>\n",
       "      <th></th>\n",
       "      <th></th>\n",
       "      <th></th>\n",
       "      <th></th>\n",
       "      <th></th>\n",
       "      <th></th>\n",
       "      <th></th>\n",
       "      <th></th>\n",
       "      <th></th>\n",
       "      <th></th>\n",
       "      <th></th>\n",
       "      <th></th>\n",
       "      <th></th>\n",
       "      <th></th>\n",
       "      <th></th>\n",
       "      <th></th>\n",
       "      <th></th>\n",
       "      <th></th>\n",
       "      <th></th>\n",
       "      <th></th>\n",
       "      <th></th>\n",
       "      <th></th>\n",
       "      <th></th>\n",
       "      <th></th>\n",
       "      <th></th>\n",
       "      <th></th>\n",
       "      <th></th>\n",
       "    </tr>\n",
       "  </thead>\n",
       "  <tbody>\n",
       "    <tr>\n",
       "      <th>6165911</th>\n",
       "      <td>2022-12-24</td>\n",
       "      <td>19</td>\n",
       "      <td>N</td>\n",
       "      <td>2023-01-02</td>\n",
       "      <td>N</td>\n",
       "      <td>NaN</td>\n",
       "      <td>2003.0</td>\n",
       "      <td>2023-01-02</td>\n",
       "      <td>NaN</td>\n",
       "      <td>INDEMNITY INSURANCE CO OF</td>\n",
       "      <td>1A. PRIVATE</td>\n",
       "      <td>BRONX</td>\n",
       "      <td>N</td>\n",
       "      <td>NYC</td>\n",
       "      <td>NaN</td>\n",
       "      <td>M</td>\n",
       "      <td>NaN</td>\n",
       "      <td>48.0</td>\n",
       "      <td>TRANSPORTATION AND WAREHOUSING</td>\n",
       "      <td>IV</td>\n",
       "      <td>NaN</td>\n",
       "      <td>31.0</td>\n",
       "      <td>FALL, SLIP OR TRIP, NOC</td>\n",
       "      <td>10.0</td>\n",
       "      <td>CONTUSION</td>\n",
       "      <td>54.0</td>\n",
       "      <td>LOWER LEG</td>\n",
       "      <td>10466</td>\n",
       "      <td>1</td>\n",
       "    </tr>\n",
       "  </tbody>\n",
       "</table>\n",
       "</div>"
      ],
      "text/plain": [
       "                 Accident Date  Age at Injury Alternative Dispute Resolution  \\\n",
       "Claim Identifier                                                               \n",
       "6165911             2022-12-24             19                              N   \n",
       "\n",
       "                 Assembly Date Attorney/Representative  Average Weekly Wage  \\\n",
       "Claim Identifier                                                              \n",
       "6165911             2023-01-02                       N                  NaN   \n",
       "\n",
       "                  Birth Year    C-2 Date C-3 Date               Carrier Name  \\\n",
       "Claim Identifier                                                               \n",
       "6165911               2003.0  2023-01-02      NaN  INDEMNITY INSURANCE CO OF   \n",
       "\n",
       "                 Carrier Type County of Injury COVID-19 Indicator  \\\n",
       "Claim Identifier                                                    \n",
       "6165911           1A. PRIVATE            BRONX                  N   \n",
       "\n",
       "                 District Name First Hearing Date Gender  IME-4 Count  \\\n",
       "Claim Identifier                                                        \n",
       "6165911                    NYC                NaN      M          NaN   \n",
       "\n",
       "                  Industry Code       Industry Code Description  \\\n",
       "Claim Identifier                                                  \n",
       "6165911                    48.0  TRANSPORTATION AND WAREHOUSING   \n",
       "\n",
       "                 Medical Fee Region  OIICS Nature of Injury Description  \\\n",
       "Claim Identifier                                                          \n",
       "6165911                          IV                                 NaN   \n",
       "\n",
       "                  WCIO Cause of Injury Code WCIO Cause of Injury Description  \\\n",
       "Claim Identifier                                                               \n",
       "6165911                                31.0          FALL, SLIP OR TRIP, NOC   \n",
       "\n",
       "                  WCIO Nature of Injury Code  \\\n",
       "Claim Identifier                               \n",
       "6165911                                 10.0   \n",
       "\n",
       "                 WCIO Nature of Injury Description  WCIO Part Of Body Code  \\\n",
       "Claim Identifier                                                             \n",
       "6165911                                  CONTUSION                    54.0   \n",
       "\n",
       "                 WCIO Part Of Body Description Zip Code  Number of Dependents  \n",
       "Claim Identifier                                                               \n",
       "6165911                              LOWER LEG    10466                     1  "
      ]
     },
     "execution_count": 7,
     "metadata": {},
     "output_type": "execute_result"
    }
   ],
   "source": [
    "# Display & verify if test data is correctly imported\n",
    "test.head(1)"
   ]
  },
  {
   "cell_type": "code",
   "execution_count": 8,
   "id": "cad53389",
   "metadata": {},
   "outputs": [],
   "source": [
    "# Adding columns that are not present on test and filling them with 'O' to ensure conistency\n",
    "test.insert(28, 'Agreement Reached', '0')\n",
    "test.insert(29, 'WCB Decision', '0')"
   ]
  },
  {
   "cell_type": "code",
   "execution_count": 9,
   "id": "288c6a16",
   "metadata": {},
   "outputs": [
    {
     "data": {
      "text/html": [
       "<div>\n",
       "<style scoped>\n",
       "    .dataframe tbody tr th:only-of-type {\n",
       "        vertical-align: middle;\n",
       "    }\n",
       "\n",
       "    .dataframe tbody tr th {\n",
       "        vertical-align: top;\n",
       "    }\n",
       "\n",
       "    .dataframe thead th {\n",
       "        text-align: right;\n",
       "    }\n",
       "</style>\n",
       "<table border=\"1\" class=\"dataframe\">\n",
       "  <thead>\n",
       "    <tr style=\"text-align: right;\">\n",
       "      <th></th>\n",
       "      <th>Accident Date</th>\n",
       "      <th>Age at Injury</th>\n",
       "      <th>Alternative Dispute Resolution</th>\n",
       "      <th>Assembly Date</th>\n",
       "      <th>Attorney/Representative</th>\n",
       "      <th>Average Weekly Wage</th>\n",
       "      <th>Birth Year</th>\n",
       "      <th>C-2 Date</th>\n",
       "      <th>C-3 Date</th>\n",
       "      <th>Carrier Name</th>\n",
       "      <th>Carrier Type</th>\n",
       "      <th>County of Injury</th>\n",
       "      <th>COVID-19 Indicator</th>\n",
       "      <th>District Name</th>\n",
       "      <th>First Hearing Date</th>\n",
       "      <th>Gender</th>\n",
       "      <th>IME-4 Count</th>\n",
       "      <th>Industry Code</th>\n",
       "      <th>Industry Code Description</th>\n",
       "      <th>Medical Fee Region</th>\n",
       "      <th>OIICS Nature of Injury Description</th>\n",
       "      <th>WCIO Cause of Injury Code</th>\n",
       "      <th>WCIO Cause of Injury Description</th>\n",
       "      <th>WCIO Nature of Injury Code</th>\n",
       "      <th>WCIO Nature of Injury Description</th>\n",
       "      <th>WCIO Part Of Body Code</th>\n",
       "      <th>WCIO Part Of Body Description</th>\n",
       "      <th>Zip Code</th>\n",
       "      <th>Agreement Reached</th>\n",
       "      <th>WCB Decision</th>\n",
       "      <th>Number of Dependents</th>\n",
       "    </tr>\n",
       "    <tr>\n",
       "      <th>Claim Identifier</th>\n",
       "      <th></th>\n",
       "      <th></th>\n",
       "      <th></th>\n",
       "      <th></th>\n",
       "      <th></th>\n",
       "      <th></th>\n",
       "      <th></th>\n",
       "      <th></th>\n",
       "      <th></th>\n",
       "      <th></th>\n",
       "      <th></th>\n",
       "      <th></th>\n",
       "      <th></th>\n",
       "      <th></th>\n",
       "      <th></th>\n",
       "      <th></th>\n",
       "      <th></th>\n",
       "      <th></th>\n",
       "      <th></th>\n",
       "      <th></th>\n",
       "      <th></th>\n",
       "      <th></th>\n",
       "      <th></th>\n",
       "      <th></th>\n",
       "      <th></th>\n",
       "      <th></th>\n",
       "      <th></th>\n",
       "      <th></th>\n",
       "      <th></th>\n",
       "      <th></th>\n",
       "      <th></th>\n",
       "    </tr>\n",
       "  </thead>\n",
       "  <tbody>\n",
       "    <tr>\n",
       "      <th>6165911</th>\n",
       "      <td>2022-12-24</td>\n",
       "      <td>19</td>\n",
       "      <td>N</td>\n",
       "      <td>2023-01-02</td>\n",
       "      <td>N</td>\n",
       "      <td>NaN</td>\n",
       "      <td>2003.0</td>\n",
       "      <td>2023-01-02</td>\n",
       "      <td>NaN</td>\n",
       "      <td>INDEMNITY INSURANCE CO OF</td>\n",
       "      <td>1A. PRIVATE</td>\n",
       "      <td>BRONX</td>\n",
       "      <td>N</td>\n",
       "      <td>NYC</td>\n",
       "      <td>NaN</td>\n",
       "      <td>M</td>\n",
       "      <td>NaN</td>\n",
       "      <td>48.0</td>\n",
       "      <td>TRANSPORTATION AND WAREHOUSING</td>\n",
       "      <td>IV</td>\n",
       "      <td>NaN</td>\n",
       "      <td>31.0</td>\n",
       "      <td>FALL, SLIP OR TRIP, NOC</td>\n",
       "      <td>10.0</td>\n",
       "      <td>CONTUSION</td>\n",
       "      <td>54.0</td>\n",
       "      <td>LOWER LEG</td>\n",
       "      <td>10466</td>\n",
       "      <td>0</td>\n",
       "      <td>0</td>\n",
       "      <td>1</td>\n",
       "    </tr>\n",
       "  </tbody>\n",
       "</table>\n",
       "</div>"
      ],
      "text/plain": [
       "                 Accident Date  Age at Injury Alternative Dispute Resolution  \\\n",
       "Claim Identifier                                                               \n",
       "6165911             2022-12-24             19                              N   \n",
       "\n",
       "                 Assembly Date Attorney/Representative  Average Weekly Wage  \\\n",
       "Claim Identifier                                                              \n",
       "6165911             2023-01-02                       N                  NaN   \n",
       "\n",
       "                  Birth Year    C-2 Date C-3 Date               Carrier Name  \\\n",
       "Claim Identifier                                                               \n",
       "6165911               2003.0  2023-01-02      NaN  INDEMNITY INSURANCE CO OF   \n",
       "\n",
       "                 Carrier Type County of Injury COVID-19 Indicator  \\\n",
       "Claim Identifier                                                    \n",
       "6165911           1A. PRIVATE            BRONX                  N   \n",
       "\n",
       "                 District Name First Hearing Date Gender  IME-4 Count  \\\n",
       "Claim Identifier                                                        \n",
       "6165911                    NYC                NaN      M          NaN   \n",
       "\n",
       "                  Industry Code       Industry Code Description  \\\n",
       "Claim Identifier                                                  \n",
       "6165911                    48.0  TRANSPORTATION AND WAREHOUSING   \n",
       "\n",
       "                 Medical Fee Region  OIICS Nature of Injury Description  \\\n",
       "Claim Identifier                                                          \n",
       "6165911                          IV                                 NaN   \n",
       "\n",
       "                  WCIO Cause of Injury Code WCIO Cause of Injury Description  \\\n",
       "Claim Identifier                                                               \n",
       "6165911                                31.0          FALL, SLIP OR TRIP, NOC   \n",
       "\n",
       "                  WCIO Nature of Injury Code  \\\n",
       "Claim Identifier                               \n",
       "6165911                                 10.0   \n",
       "\n",
       "                 WCIO Nature of Injury Description  WCIO Part Of Body Code  \\\n",
       "Claim Identifier                                                             \n",
       "6165911                                  CONTUSION                    54.0   \n",
       "\n",
       "                 WCIO Part Of Body Description Zip Code Agreement Reached  \\\n",
       "Claim Identifier                                                            \n",
       "6165911                              LOWER LEG    10466                 0   \n",
       "\n",
       "                 WCB Decision  Number of Dependents  \n",
       "Claim Identifier                                     \n",
       "6165911                     0                     1  "
      ]
     },
     "execution_count": 9,
     "metadata": {},
     "output_type": "execute_result"
    }
   ],
   "source": [
    "test.head(1)"
   ]
  },
  {
   "cell_type": "markdown",
   "id": "658ef52b-4a31-4659-a701-c945446c4a6c",
   "metadata": {
    "id": "658ef52b-4a31-4659-a701-c945446c4a6c"
   },
   "source": [
    "<a class=\"anchor\" id=\"sub-section-1_3\"></a>\n",
    "\n",
    "## 1.3. Data Type and Duplicates\n",
    "\n",
    "</a>"
   ]
  },
  {
   "cell_type": "code",
   "execution_count": 10,
   "id": "42774de6-0a7d-44be-a265-45607599b55d",
   "metadata": {
    "colab": {
     "base_uri": "https://localhost:8080/"
    },
    "id": "42774de6-0a7d-44be-a265-45607599b55d",
    "outputId": "1acf47a9-d0c3-4831-d7c9-d2a7a66b5a02"
   },
   "outputs": [
    {
     "name": "stdout",
     "output_type": "stream",
     "text": [
      "<class 'pandas.core.frame.DataFrame'>\n",
      "Index: 593471 entries, 5393875 to 818961390\n",
      "Data columns (total 5 columns):\n",
      " #   Column              Non-Null Count   Dtype         \n",
      "---  ------              --------------   -----         \n",
      " 0   Accident Date       570337 non-null  datetime64[ns]\n",
      " 1   Assembly Date       593471 non-null  datetime64[ns]\n",
      " 2   C-2 Date            559466 non-null  datetime64[ns]\n",
      " 3   C-3 Date            187245 non-null  datetime64[ns]\n",
      " 4   First Hearing Date  150798 non-null  datetime64[ns]\n",
      "dtypes: datetime64[ns](5)\n",
      "memory usage: 27.2 MB\n"
     ]
    }
   ],
   "source": [
    "# Change dates to datetime type\n",
    "dates = ['Accident Date', 'Assembly Date', 'C-2 Date', 'C-3 Date', 'First Hearing Date']\n",
    "train_data[dates] = train_data[dates].apply(pd.to_datetime)\n",
    "test[dates] = test[dates].apply(pd.to_datetime)\n",
    "\n",
    "train_data[dates].info()"
   ]
  },
  {
   "cell_type": "code",
   "execution_count": 11,
   "id": "f8ad0361-a5da-4fd5-bb3d-3149a9b2815b",
   "metadata": {
    "colab": {
     "base_uri": "https://localhost:8080/",
     "height": 236
    },
    "id": "f8ad0361-a5da-4fd5-bb3d-3149a9b2815b",
    "outputId": "81ec490c-e953-42b3-a582-f7355454769b"
   },
   "outputs": [
    {
     "data": {
      "text/html": [
       "<div>\n",
       "<style scoped>\n",
       "    .dataframe tbody tr th:only-of-type {\n",
       "        vertical-align: middle;\n",
       "    }\n",
       "\n",
       "    .dataframe tbody tr th {\n",
       "        vertical-align: top;\n",
       "    }\n",
       "\n",
       "    .dataframe thead th {\n",
       "        text-align: right;\n",
       "    }\n",
       "</style>\n",
       "<table border=\"1\" class=\"dataframe\">\n",
       "  <thead>\n",
       "    <tr style=\"text-align: right;\">\n",
       "      <th></th>\n",
       "      <th>Accident Date</th>\n",
       "      <th>Age at Injury</th>\n",
       "      <th>Alternative Dispute Resolution</th>\n",
       "      <th>Assembly Date</th>\n",
       "      <th>Attorney/Representative</th>\n",
       "      <th>Average Weekly Wage</th>\n",
       "      <th>Birth Year</th>\n",
       "      <th>C-2 Date</th>\n",
       "      <th>C-3 Date</th>\n",
       "      <th>Carrier Name</th>\n",
       "      <th>Carrier Type</th>\n",
       "      <th>Claim Injury Type</th>\n",
       "      <th>County of Injury</th>\n",
       "      <th>COVID-19 Indicator</th>\n",
       "      <th>District Name</th>\n",
       "      <th>First Hearing Date</th>\n",
       "      <th>Gender</th>\n",
       "      <th>IME-4 Count</th>\n",
       "      <th>Industry Code</th>\n",
       "      <th>Industry Code Description</th>\n",
       "      <th>Medical Fee Region</th>\n",
       "      <th>OIICS Nature of Injury Description</th>\n",
       "      <th>WCIO Cause of Injury Code</th>\n",
       "      <th>WCIO Cause of Injury Description</th>\n",
       "      <th>WCIO Nature of Injury Code</th>\n",
       "      <th>WCIO Nature of Injury Description</th>\n",
       "      <th>WCIO Part Of Body Code</th>\n",
       "      <th>WCIO Part Of Body Description</th>\n",
       "      <th>Zip Code</th>\n",
       "      <th>Agreement Reached</th>\n",
       "      <th>WCB Decision</th>\n",
       "      <th>Number of Dependents</th>\n",
       "    </tr>\n",
       "    <tr>\n",
       "      <th>Claim Identifier</th>\n",
       "      <th></th>\n",
       "      <th></th>\n",
       "      <th></th>\n",
       "      <th></th>\n",
       "      <th></th>\n",
       "      <th></th>\n",
       "      <th></th>\n",
       "      <th></th>\n",
       "      <th></th>\n",
       "      <th></th>\n",
       "      <th></th>\n",
       "      <th></th>\n",
       "      <th></th>\n",
       "      <th></th>\n",
       "      <th></th>\n",
       "      <th></th>\n",
       "      <th></th>\n",
       "      <th></th>\n",
       "      <th></th>\n",
       "      <th></th>\n",
       "      <th></th>\n",
       "      <th></th>\n",
       "      <th></th>\n",
       "      <th></th>\n",
       "      <th></th>\n",
       "      <th></th>\n",
       "      <th></th>\n",
       "      <th></th>\n",
       "      <th></th>\n",
       "      <th></th>\n",
       "      <th></th>\n",
       "      <th></th>\n",
       "    </tr>\n",
       "  </thead>\n",
       "  <tbody>\n",
       "    <tr>\n",
       "      <th>292668076</th>\n",
       "      <td>NaT</td>\n",
       "      <td>NaN</td>\n",
       "      <td>NaN</td>\n",
       "      <td>2022-09-05</td>\n",
       "      <td>NaN</td>\n",
       "      <td>NaN</td>\n",
       "      <td>NaN</td>\n",
       "      <td>NaT</td>\n",
       "      <td>NaT</td>\n",
       "      <td>NaN</td>\n",
       "      <td>NaN</td>\n",
       "      <td>NaN</td>\n",
       "      <td>NaN</td>\n",
       "      <td>NaN</td>\n",
       "      <td>NaN</td>\n",
       "      <td>NaT</td>\n",
       "      <td>NaN</td>\n",
       "      <td>NaN</td>\n",
       "      <td>NaN</td>\n",
       "      <td>NaN</td>\n",
       "      <td>NaN</td>\n",
       "      <td>NaN</td>\n",
       "      <td>NaN</td>\n",
       "      <td>NaN</td>\n",
       "      <td>NaN</td>\n",
       "      <td>NaN</td>\n",
       "      <td>NaN</td>\n",
       "      <td>NaN</td>\n",
       "      <td>NaN</td>\n",
       "      <td>NaN</td>\n",
       "      <td>NaN</td>\n",
       "      <td>NaN</td>\n",
       "    </tr>\n",
       "  </tbody>\n",
       "</table>\n",
       "</div>"
      ],
      "text/plain": [
       "                 Accident Date  Age at Injury Alternative Dispute Resolution  \\\n",
       "Claim Identifier                                                               \n",
       "292668076                  NaT            NaN                            NaN   \n",
       "\n",
       "                 Assembly Date Attorney/Representative  Average Weekly Wage  \\\n",
       "Claim Identifier                                                              \n",
       "292668076           2022-09-05                     NaN                  NaN   \n",
       "\n",
       "                  Birth Year C-2 Date C-3 Date Carrier Name Carrier Type  \\\n",
       "Claim Identifier                                                           \n",
       "292668076                NaN      NaT      NaT          NaN          NaN   \n",
       "\n",
       "                 Claim Injury Type County of Injury COVID-19 Indicator  \\\n",
       "Claim Identifier                                                         \n",
       "292668076                      NaN              NaN                NaN   \n",
       "\n",
       "                 District Name First Hearing Date Gender  IME-4 Count  \\\n",
       "Claim Identifier                                                        \n",
       "292668076                  NaN                NaT    NaN          NaN   \n",
       "\n",
       "                  Industry Code Industry Code Description Medical Fee Region  \\\n",
       "Claim Identifier                                                               \n",
       "292668076                   NaN                       NaN                NaN   \n",
       "\n",
       "                  OIICS Nature of Injury Description  \\\n",
       "Claim Identifier                                       \n",
       "292668076                                        NaN   \n",
       "\n",
       "                  WCIO Cause of Injury Code WCIO Cause of Injury Description  \\\n",
       "Claim Identifier                                                               \n",
       "292668076                               NaN                              NaN   \n",
       "\n",
       "                  WCIO Nature of Injury Code  \\\n",
       "Claim Identifier                               \n",
       "292668076                                NaN   \n",
       "\n",
       "                 WCIO Nature of Injury Description  WCIO Part Of Body Code  \\\n",
       "Claim Identifier                                                             \n",
       "292668076                                      NaN                     NaN   \n",
       "\n",
       "                 WCIO Part Of Body Description Zip Code  Agreement Reached  \\\n",
       "Claim Identifier                                                             \n",
       "292668076                                  NaN      NaN                NaN   \n",
       "\n",
       "                 WCB Decision  Number of Dependents  \n",
       "Claim Identifier                                     \n",
       "292668076                 NaN                   NaN  "
      ]
     },
     "execution_count": 11,
     "metadata": {},
     "output_type": "execute_result"
    }
   ],
   "source": [
    "# Check for duplicate Claim Identifiers\n",
    "train_data[train_data.index.duplicated() == True]"
   ]
  },
  {
   "cell_type": "code",
   "execution_count": 12,
   "id": "42c49f98",
   "metadata": {
    "id": "42c49f98"
   },
   "outputs": [],
   "source": [
    "# Drop the duplicated index, as it seems to be an error\n",
    "train_data = train_data[~train_data.index.duplicated(keep = 'first')]"
   ]
  },
  {
   "cell_type": "code",
   "execution_count": 13,
   "id": "9c2ae8f7",
   "metadata": {},
   "outputs": [
    {
     "name": "stdout",
     "output_type": "stream",
     "text": [
      "There are 18349 duplicated rows.\n"
     ]
    }
   ],
   "source": [
    "# Check for duplicate rows\n",
    "duplicates = train_data.duplicated().sum()\n",
    "print(f\"There are {duplicates} duplicated rows.\")"
   ]
  },
  {
   "cell_type": "code",
   "execution_count": 14,
   "id": "97a157e6",
   "metadata": {},
   "outputs": [],
   "source": [
    "# Drop duplicated rows\n",
    "train_data.drop_duplicates(inplace = True) "
   ]
  },
  {
   "cell_type": "markdown",
   "id": "70121723-8b3e-431f-a729-55ef76b501dd",
   "metadata": {},
   "source": [
    "***For the exploratory data analysis, please refer to the notebook called \"Group_12_EDA_notebook.ipynb\".***"
   ]
  },
  {
   "cell_type": "markdown",
   "id": "94b3ee63-238f-4287-915a-a30f17cb0238",
   "metadata": {
    "id": "94b3ee63-238f-4287-915a-a30f17cb0238"
   },
   "source": [
    "<a class=\"anchor\"  id=\"chapter2\"></a>\n",
    "\n",
    "# 2. Data Preparation and Preprocessing\n",
    "\n",
    "</a>"
   ]
  },
  {
   "cell_type": "markdown",
   "id": "206cbeaf-b036-47a7-bd5b-603d46e6ab74",
   "metadata": {
    "id": "206cbeaf-b036-47a7-bd5b-603d46e6ab74"
   },
   "source": [
    "<a class=\"anchor\" id=\"sub-section-2_1\"></a>\n",
    "\n",
    "## 2.1. Coherence Checking\n",
    "\n",
    "</a>"
   ]
  },
  {
   "cell_type": "markdown",
   "id": "eeb26f97-fd62-403b-93fb-52cac59882d4",
   "metadata": {},
   "source": [
    "Before starting the pre-processing phase, the data needs to be checked for any inconsistencies in variables. "
   ]
  },
  {
   "cell_type": "markdown",
   "id": "08acb503",
   "metadata": {
    "id": "08acb503"
   },
   "source": [
    "<a class=\"anchor\" id=\"sub-section-2_1_1\"></a>\n",
    "\n",
    "###  2.1.1. Incoherences in the Age variables\n",
    "\n",
    "</a>"
   ]
  },
  {
   "cell_type": "code",
   "execution_count": 15,
   "id": "171bf8d2",
   "metadata": {
    "colab": {
     "base_uri": "https://localhost:8080/"
    },
    "id": "171bf8d2",
    "outputId": "65b092ac-5d05-4d82-db79-b24ff4eb7aea"
   },
   "outputs": [
    {
     "data": {
      "text/plain": [
       "24846"
      ]
     },
     "execution_count": 15,
     "metadata": {},
     "output_type": "execute_result"
    }
   ],
   "source": [
    "# Get cases where the age at the time of injury doesn't match with birth year and year of the accident\n",
    "len(train_data[(train_data['Accident Date'].dt.year - train_data['Birth Year']-train_data['Age at Injury']>1)])"
   ]
  },
  {
   "cell_type": "code",
   "execution_count": 16,
   "id": "f6698dc7",
   "metadata": {
    "colab": {
     "base_uri": "https://localhost:8080/",
     "height": 147
    },
    "id": "f6698dc7",
    "outputId": "569e7b24-f318-4f1f-dd0b-427a3a07102c"
   },
   "outputs": [
    {
     "data": {
      "text/plain": [
       "Age at Injury\n",
       "0.0    93\n",
       "Name: count, dtype: int64"
      ]
     },
     "execution_count": 16,
     "metadata": {},
     "output_type": "execute_result"
    }
   ],
   "source": [
    "# Count how often each Age at Injury value appears where ages don't match and Birth Year is valid\n",
    "train_data[((train_data['Accident Date'].dt.year - train_data['Birth Year']) - train_data['Age at Injury']>1) & (train_data['Birth Year']!= 0)]['Age at Injury'].value_counts()"
   ]
  },
  {
   "cell_type": "markdown",
   "id": "4b6c6c30-a63d-4642-b7f5-24e395a97f6c",
   "metadata": {},
   "source": [
    "In these 93 cases, the Birth Year is valid, but the calculated age (based on the Accident Date and Birth Year) differs from the reported Age at Injury by more than 1 year."
   ]
  },
  {
   "cell_type": "code",
   "execution_count": 17,
   "id": "630bcf49",
   "metadata": {
    "colab": {
     "base_uri": "https://localhost:8080/",
     "height": 147
    },
    "id": "630bcf49",
    "outputId": "43c55c3c-a618-4cd9-e445-508f2adae50b"
   },
   "outputs": [
    {
     "data": {
      "text/plain": [
       "Birth Year\n",
       "0.0    23155\n",
       "Name: count, dtype: int64"
      ]
     },
     "execution_count": 17,
     "metadata": {},
     "output_type": "execute_result"
    }
   ],
   "source": [
    "# Count how often each Birth Year value appears where ages don't match and Age at Injury is valid\n",
    "train_data[((train_data['Accident Date'].dt.year - train_data['Birth Year']) - train_data['Age at Injury']>1) & (train_data['Age at Injury']!= 0)]['Birth Year'].value_counts()"
   ]
  },
  {
   "cell_type": "markdown",
   "id": "8543db41-d016-4801-87d8-e962da545b08",
   "metadata": {},
   "source": [
    "In these 23155 cases, the Age at Injury is valid, but the calculated age (based on the Accident Date and Birth Year) differs from the reported Age at Injury by more than 1 year."
   ]
  },
  {
   "cell_type": "code",
   "execution_count": 18,
   "id": "be4bf69c",
   "metadata": {
    "colab": {
     "base_uri": "https://localhost:8080/",
     "height": 147
    },
    "id": "be4bf69c",
    "outputId": "b4524157-8bbf-40a5-a5aa-cc15d6bbc702"
   },
   "outputs": [
    {
     "data": {
      "text/plain": [
       "Birth Year\n",
       "0.0    1598\n",
       "Name: count, dtype: int64"
      ]
     },
     "execution_count": 18,
     "metadata": {},
     "output_type": "execute_result"
    }
   ],
   "source": [
    "# Count how often Birth Year and Age at Injury are 0, and have inconsistencies in the age \n",
    "train_data[((train_data['Accident Date'].dt.year - train_data['Birth Year']) - train_data['Age at Injury']>1) & (train_data['Age at Injury']== 0) & (train_data['Birth Year']== 0)]['Birth Year'].value_counts()"
   ]
  },
  {
   "cell_type": "markdown",
   "id": "de469dde",
   "metadata": {
    "id": "de469dde"
   },
   "source": [
    "There are 1598 cases where both Birth Year and Age at Injury are recorded as 0, the calculated age differs from the Age at Injury by more than 1 year.\n",
    "\n",
    "The inconsistencies found suggest that either the Age at Injury is 0, the Birth Year is 0, or both. With the available information, these inconsistencies need to be corrected."
   ]
  },
  {
   "cell_type": "code",
   "execution_count": 19,
   "id": "5eb6c6b6",
   "metadata": {
    "id": "5eb6c6b6"
   },
   "outputs": [],
   "source": [
    "# Missing values in Age at Injury and Birth Year\n",
    "\n",
    "# Replace values where there is a 0 in Age at Injury and Birth Year with NaN\n",
    "train_data['Age at Injury'] = train_data['Age at Injury'].replace(0, np.nan)\n",
    "train_data['Birth Year'] = train_data['Birth Year'].replace(0, np.nan)\n",
    "\n",
    "# Identify rows where one value is NaN and not the other, and calculate Birth Year\n",
    "condition = train_data['Birth Year'].isna() & train_data['Age at Injury'].notna()\n",
    "train_data.loc[condition, 'Birth Year'] = train_data['Accident Date'].dt.year - train_data['Age at Injury']\n",
    "\n",
    "# Identify rows where one value is NaN and not the other, and calculate Age at Injury\n",
    "condition = train_data['Age at Injury'].isna() & train_data['Birth Year'].notna()\n",
    "train_data.loc[condition, 'Age at Injury'] = train_data['Accident Date'].dt.year - train_data['Birth Year']"
   ]
  },
  {
   "cell_type": "code",
   "execution_count": 20,
   "id": "cff66fa2",
   "metadata": {},
   "outputs": [],
   "source": [
    "# Repeat the same process for test\n",
    "test['Age at Injury'] = test['Age at Injury'].replace(0, np.nan)\n",
    "test['Birth Year'] = test['Birth Year'].replace(0, np.nan)\n",
    "\n",
    "condition = test['Birth Year'].isna() & test['Age at Injury'].notna()\n",
    "test.loc[condition, 'Birth Year'] = test['Accident Date'].dt.year - test['Age at Injury']\n",
    "condition = test['Age at Injury'].isna() & test['Birth Year'].notna()\n",
    "test.loc[condition, 'Age at Injury'] = test['Accident Date'].dt.year - test['Birth Year']"
   ]
  },
  {
   "cell_type": "code",
   "execution_count": 21,
   "id": "1fccb809",
   "metadata": {
    "colab": {
     "base_uri": "https://localhost:8080/"
    },
    "id": "1fccb809",
    "outputId": "d8098d47-00f9-4df8-a9f7-6bb10ed6e94e",
    "scrolled": true
   },
   "outputs": [
    {
     "data": {
      "text/plain": [
       "259"
      ]
     },
     "execution_count": 21,
     "metadata": {},
     "output_type": "execute_result"
    }
   ],
   "source": [
    "# Filter rows where the Age at Injury is greater than 90\n",
    "len(train_data[train_data['Age at Injury']>90])"
   ]
  },
  {
   "cell_type": "code",
   "execution_count": 22,
   "id": "df591163",
   "metadata": {
    "colab": {
     "base_uri": "https://localhost:8080/"
    },
    "id": "fac6d9be",
    "outputId": "ab9d3047-0399-4ca7-ae1c-a7410df2ef36"
   },
   "outputs": [
    {
     "data": {
      "text/plain": [
       "47"
      ]
     },
     "execution_count": 22,
     "metadata": {},
     "output_type": "execute_result"
    }
   ],
   "source": [
    "# Filter rows where the Age at Injury is lower than 14\n",
    "len(train_data[train_data['Age at Injury']<14])"
   ]
  },
  {
   "cell_type": "markdown",
   "id": "b11bc086",
   "metadata": {
    "id": "b11bc086"
   },
   "source": [
    "Regarding work-related injuries, the age range should probably be between 14 and 80. This could be due to an error in the data set or a specific circumstance. As a general rule, the FLSA sets 14 years old as the minimum age for employment. Also, there are not many people working after the age of 90, so we will put this as missing values."
   ]
  },
  {
   "cell_type": "code",
   "execution_count": 23,
   "id": "d7176379",
   "metadata": {},
   "outputs": [],
   "source": [
    "# Replace with NaN if Age at Injury values are outside of the range 14 and 90 years old\n",
    "train_data['Age at Injury'] = np.where( (train_data['Age at Injury'] > 90) | (train_data['Age at Injury'] < 14),np.nan,train_data['Age at Injury'])\n",
    "test['Age at Injury'] = np.where( (test['Age at Injury'] > 90) | (test['Age at Injury'] < 14),np.nan, test['Age at Injury'])"
   ]
  },
  {
   "cell_type": "code",
   "execution_count": 24,
   "id": "36be9e22",
   "metadata": {},
   "outputs": [
    {
     "data": {
      "text/plain": [
       "34"
      ]
     },
     "execution_count": 24,
     "metadata": {},
     "output_type": "execute_result"
    }
   ],
   "source": [
    "# Since the last accident date was in 2023, we cannot have any birth years bigger than 2008 \n",
    "len(train_data[train_data['Birth Year']>2008])"
   ]
  },
  {
   "cell_type": "code",
   "execution_count": 25,
   "id": "3d99ae23",
   "metadata": {},
   "outputs": [],
   "source": [
    "# Replace with NaN if Birth Year is greater than 2008 in train and test sets\n",
    "train_data['Birth Year'] = np.where( train_data['Birth Year']>2008, np.nan, train_data['Birth Year'])\n",
    "test['Birth Year'] = np.where(test['Birth Year']>2008, np.nan, test['Birth Year'])"
   ]
  },
  {
   "cell_type": "markdown",
   "id": "1875158d",
   "metadata": {
    "id": "1875158d"
   },
   "source": [
    "<a class=\"anchor\" id=\"sub-section-2_1_2\"></a>\n",
    "\n",
    "###  2.1.2. Incoherences in Carrier Name\n",
    "\n",
    "</a>"
   ]
  },
  {
   "cell_type": "code",
   "execution_count": 26,
   "id": "bb7581f7",
   "metadata": {},
   "outputs": [],
   "source": [
    "# This code was re-run after trials to create the function clean carrier name to see the results\n",
    "#unique_carrier_name=sorted(train_data[\"Carrier Name\"].dropna().unique())\n",
    "#print(unique_carrier_name[:100])"
   ]
  },
  {
   "cell_type": "code",
   "execution_count": 27,
   "id": "c6f5bb97",
   "metadata": {},
   "outputs": [
    {
     "name": "stdout",
     "output_type": "stream",
     "text": [
      "Number of carrier names without cleaning: 2046\n",
      "Number of unique carrier names after cleaning: 1560\n"
     ]
    }
   ],
   "source": [
    "# Check the number of carrier names after cleaning\n",
    "cleaned_carrier_names = train_data['Carrier Name'].apply(functions.clean_carrier_name)\n",
    "\n",
    "unique_original = train_data['Carrier Name'].nunique()\n",
    "unique_cleaned = cleaned_carrier_names.nunique()\n",
    "\n",
    "print(f\"Number of carrier names without cleaning: {unique_original}\") \n",
    "print(f\"Number of unique carrier names after cleaning: {unique_cleaned}\")"
   ]
  },
  {
   "cell_type": "markdown",
   "id": "3794f34f",
   "metadata": {
    "id": "3794f34f"
   },
   "source": [
    "After checking how many unique carrier names remain after removing punctuation, there are some values that represent the same carrier but with different formats (e.g. abbreviations, added commas or dots). It is important to note that there may be other variations of these values, which can impact the model."
   ]
  },
  {
   "cell_type": "code",
   "execution_count": 28,
   "id": "679817d8",
   "metadata": {},
   "outputs": [],
   "source": [
    "# Clean Carrier Name using clean_carrier_name function in train and test\n",
    "train_data[\"Carrier Name\"] = train_data[\"Carrier Name\"].apply(functions.clean_carrier_name)\n",
    "test[\"Carrier Name\"] = test[\"Carrier Name\"].apply(functions.clean_carrier_name)"
   ]
  },
  {
   "cell_type": "markdown",
   "id": "ffbcd7b9",
   "metadata": {
    "id": "ffbcd7b9"
   },
   "source": [
    "<a class=\"anchor\" id=\"sub-section-2_1_3\"></a>\n",
    "\n",
    "###  2.1.3. Incoherences in Zip codes\n",
    "\n",
    "</a>"
   ]
  },
  {
   "cell_type": "markdown",
   "id": "1a924dd2",
   "metadata": {
    "id": "1a924dd2"
   },
   "source": [
    "Assuming the dataset is based in the USA, a valid US postal code consists of 5 digits. Therefore, the zip codes in the dataset need to be checked to ensure they meet this condition."
   ]
  },
  {
   "cell_type": "code",
   "execution_count": 29,
   "id": "3cf8e997",
   "metadata": {
    "colab": {
     "base_uri": "https://localhost:8080/"
    },
    "id": "3cf8e997",
    "outputId": "5e80c958-ab59-423e-e15b-eac736bb3286"
   },
   "outputs": [
    {
     "name": "stdout",
     "output_type": "stream",
     "text": [
      "['K1N0A', 'F94A0', 'P7G', 'L2N3A', 'L0L2N', 'J0L1B', '7006', 'N6C4E', 'V6Z3G', 'L5N7C', 'V4W2N', 'Z2E1N', 'HIV3S', 'L2H 3', 'L1C0K', 'L3J0R', 'L0R 2', 'M6S5B', 'M9N1B', 'H1G0A', 'J5K', 'L2A 5', 'L6H 3', 'N0A 1', 'L9W4X', 'L1G', 'CP 59', 'K9J', 'JMAKN', 'M5V 3', 'M6K3C', 'SLV', 'M4E1S', 'J1H2Y', 'H2T2W', 'E1G5R', 'S7W 1', 'SG2OL', 'M4C5K', 'K9K 1', 'JMDMR', 'N2P 1', 'T4R1E', 'H3COW', 'V1M2B', 'L7L 6', 'F42E0', 'L2W 1', 'R3L1B', 'L2A1R', 'N0L1B', 'V6ZOG', 'L1A 3', 'L2A 1', 'L9H1N', 'B3M 3', 'L0S1T', 'MIN2M', 'N4K 6', 'S7W', 'L7T 4', 'L2P0A', 'L1N 5', 'JMCTY', 'L4H1K', 'L2A 3', 'L8G 1', 'DH8 9', 'M5R', 'L9W', 'AB106', 'V6B2M', 'L1E 3', 'L37 6', 'L0S1N', '22-40', 'L0R 1', 'B3E1A', 'K6H6Y', 'L6Y 1', 'L1V 3', 'L7C 3', 'T1J5G', 'M5R2Z', 'T2V', 'M6H 4', 'V6T1Z', 'L2H0H', 'K2L 4', 'V1W1Y', '.1605', 'T2X3P', 'K9K 2', 'K6H2L', 'K9H1P', 'L2N 3', 'KOC 1', 'L4A0G', 'S7W1B', 'TS7 8', 'S7R 0', 'L9L1B', 'T1B0P', 'V1M 1', 'H1Y2W', 'T6R 0', 'M3K2B', 'T1S', 'JMACE', 'H9S', 'V6T5C', 'K9A 0', 'JMDWD', 'H1V2L', 'H1V3S', 'L1G 3', 'L2R 6', 'M8W 0', 'L9W 7', 'H3J2V', 'CW57B', 'CH60', 'L1A 1', 'L319P', 'JMDCN', 'J0J1S', 'UNKNO', 'M3K2C', 'JOL1B', 'L2A2N', 'T1S 0', 'BT48-', 'L7G 1', 'K9J 0', 'V2B0E', 'G674J', 'V3H1H', 'IP3 8', 'L7L7G', 'H1X3L', 'N8H', 'H7X3Z', 'V4W 2', 'G9B0Y', 'JMBTS', 'L6L 1']\n"
     ]
    }
   ],
   "source": [
    "# Check invalid post codes\n",
    "invalid_codes = functions.invalid_zip_codes(train_data['Zip Code'])\n",
    "\n",
    "print(list(set(invalid_codes)))"
   ]
  },
  {
   "cell_type": "code",
   "execution_count": 30,
   "id": "cc8adb51",
   "metadata": {
    "colab": {
     "base_uri": "https://localhost:8080/"
    },
    "id": "cc8adb51",
    "outputId": "677fd73d-98fa-47f9-899d-9389f6c43ed2"
   },
   "outputs": [
    {
     "data": {
      "text/plain": [
       "81"
      ]
     },
     "execution_count": 30,
     "metadata": {},
     "output_type": "execute_result"
    }
   ],
   "source": [
    "# Check if there are rows with 00000 or 99999 as postal code, which are not valid postal codes\n",
    "len(train_data[(train_data['Zip Code'] == \"00000\") | (train_data['Zip Code'] == \"99999\")])"
   ]
  },
  {
   "cell_type": "markdown",
   "id": "be1617ed",
   "metadata": {
    "id": "be1617ed"
   },
   "source": [
    "Some of these values contain letters, so they are not valid in the US, but could potentially be valid for other countries (e.g. Canada). Other values, such as \"UNKNO\", are not valid and can be considered as placeholders"
   ]
  },
  {
   "cell_type": "code",
   "execution_count": 31,
   "id": "ee31de3e",
   "metadata": {},
   "outputs": [],
   "source": [
    "# Replace invalid zip codes with NaN\n",
    "train_data['Zip Code'] = functions.replace_invalid_zip_codes(train_data['Zip Code'])\n",
    "test['Zip Code'] = functions.replace_invalid_zip_codes(test['Zip Code'])"
   ]
  },
  {
   "cell_type": "code",
   "execution_count": 32,
   "id": "8367dc62",
   "metadata": {
    "id": "8367dc62"
   },
   "outputs": [],
   "source": [
    "# Replace 00000 and 99999 postal codes with NaN to be filled later\n",
    "train_data['Zip Code'].replace(\"00000\", np.nan, inplace=True)\n",
    "test['Zip Code'].replace(\"00000\", np.nan, inplace=True)\n",
    "\n",
    "train_data['Zip Code'].replace(\"99999\", np.nan, inplace=True)\n",
    "test['Zip Code'].replace(\"99999\", np.nan, inplace=True)"
   ]
  },
  {
   "cell_type": "markdown",
   "id": "ab0bc475",
   "metadata": {
    "id": "ab0bc475"
   },
   "source": [
    "<a class=\"anchor\" id=\"sub-section-2_1_4\"></a>\n",
    "\n",
    "###  2.1.4. Unknown Values\n",
    "\n",
    "</a>"
   ]
  },
  {
   "cell_type": "code",
   "execution_count": 33,
   "id": "90f6ab52",
   "metadata": {
    "colab": {
     "base_uri": "https://localhost:8080/",
     "height": 241
    },
    "id": "90f6ab52",
    "outputId": "f457ee8a-3e39-4518-b13d-c5785b9d4e22"
   },
   "outputs": [
    {
     "data": {
      "text/plain": [
       "Gender\n",
       "M    335217\n",
       "F    234051\n",
       "U      4711\n",
       "X        46\n",
       "Name: count, dtype: int64"
      ]
     },
     "execution_count": 33,
     "metadata": {},
     "output_type": "execute_result"
    }
   ],
   "source": [
    "train_data[\"Gender\"].value_counts()"
   ]
  },
  {
   "cell_type": "code",
   "execution_count": 34,
   "id": "a74f281b",
   "metadata": {
    "colab": {
     "base_uri": "https://localhost:8080/"
    },
    "id": "a74f281b",
    "outputId": "c341da0c-9794-40fd-d0a3-9dd2da609997"
   },
   "outputs": [
    {
     "data": {
      "text/plain": [
       "1774"
      ]
     },
     "execution_count": 34,
     "metadata": {},
     "output_type": "execute_result"
    }
   ],
   "source": [
    "# Check 'UNKNOWN' Carrier Type\n",
    "len(train_data[train_data[\"Carrier Type\"]==\"UNKNOWN\"])"
   ]
  },
  {
   "cell_type": "code",
   "execution_count": 35,
   "id": "49e2353a",
   "metadata": {
    "colab": {
     "base_uri": "https://localhost:8080/",
     "height": 147
    },
    "id": "49e2353a",
    "outputId": "d9483a9c-52bd-4f49-c0e1-65c5881e7314"
   },
   "outputs": [
    {
     "data": {
      "text/plain": [
       "Carrier Name\n",
       "*** CARRIER UNDETERMINED ***    1774\n",
       "Name: count, dtype: int64"
      ]
     },
     "execution_count": 35,
     "metadata": {},
     "output_type": "execute_result"
    }
   ],
   "source": [
    "train_data[train_data[\"Carrier Type\"]==\"UNKNOWN\"][\"Carrier Name\"].value_counts()"
   ]
  },
  {
   "cell_type": "markdown",
   "id": "c55c5586",
   "metadata": {
    "id": "c55c5586"
   },
   "source": [
    "The values of some variables represent unknown entries and should perhaps be filled with NaN. However, they have different distributions of the target variable, which needs to be considered."
   ]
  },
  {
   "cell_type": "code",
   "execution_count": 36,
   "id": "7acc71ed",
   "metadata": {},
   "outputs": [
    {
     "data": {
      "text/plain": [
       "1196"
      ]
     },
     "execution_count": 36,
     "metadata": {},
     "output_type": "execute_result"
    }
   ],
   "source": [
    "#print(list(set(train_data['County of Injury'])))\n",
    "len(train_data[train_data['County of Injury']=='UNKNOWN']['Claim Injury Type'])"
   ]
  },
  {
   "cell_type": "code",
   "execution_count": 37,
   "id": "65113fc9",
   "metadata": {},
   "outputs": [],
   "source": [
    "# For County of Injury, replace as NaN to be correctly filled later\n",
    "train_data['County of Injury'] = np.where( train_data['County of Injury']=='UNKNOWN', np.nan, train_data['County of Injury'])\n",
    "test['County of Injury'] = np.where( test['County of Injury']=='UNKNOWN', np.nan, test['County of Injury'])"
   ]
  },
  {
   "cell_type": "code",
   "execution_count": 38,
   "id": "0d8160cb-e86c-41df-99f8-628427e55e73",
   "metadata": {},
   "outputs": [
    {
     "data": {
      "text/plain": [
       "Alternative Dispute Resolution\n",
       "N    571411\n",
       "Y      2609\n",
       "U         5\n",
       "Name: count, dtype: int64"
      ]
     },
     "execution_count": 38,
     "metadata": {},
     "output_type": "execute_result"
    }
   ],
   "source": [
    "train_data['Alternative Dispute Resolution'].value_counts()"
   ]
  },
  {
   "cell_type": "code",
   "execution_count": 39,
   "id": "640f2070",
   "metadata": {},
   "outputs": [],
   "source": [
    "# Alternative Dispute Resolution, replace unknown values with 'N'\n",
    "train_data['Alternative Dispute Resolution'].replace('U', 'N', inplace=True)\n",
    "test['Alternative Dispute Resolution'].replace('U', 'N', inplace=True)"
   ]
  },
  {
   "cell_type": "markdown",
   "id": "e8ff2d1a",
   "metadata": {
    "id": "e8ff2d1a"
   },
   "source": [
    "<a class=\"anchor\" id=\"sub-section-2_1_5\"></a>\n",
    "\n",
    "### 2.1.5. Dates\n",
    "\n",
    "</a>"
   ]
  },
  {
   "cell_type": "code",
   "execution_count": 40,
   "id": "b1e52003",
   "metadata": {
    "colab": {
     "base_uri": "https://localhost:8080/"
    },
    "id": "b1e52003",
    "outputId": "d10904ea-6d3a-461f-a641-f4f7cff0e81e"
   },
   "outputs": [
    {
     "data": {
      "text/plain": [
       "74"
      ]
     },
     "execution_count": 40,
     "metadata": {},
     "output_type": "execute_result"
    }
   ],
   "source": [
    "# Check cases when the First Hearing happened before the Accident Date\n",
    "len(train_data[train_data['First Hearing Date'] < train_data['Accident Date']])"
   ]
  },
  {
   "cell_type": "code",
   "execution_count": 41,
   "id": "14436216",
   "metadata": {
    "colab": {
     "base_uri": "https://localhost:8080/"
    },
    "id": "14436216",
    "outputId": "14a16886-f8a9-4c45-8e51-941781e96dc4"
   },
   "outputs": [
    {
     "data": {
      "text/plain": [
       "1407"
      ]
     },
     "execution_count": 41,
     "metadata": {},
     "output_type": "execute_result"
    }
   ],
   "source": [
    "# Check cases when the Assembly Date happened before the Accident Date\n",
    "len(train_data[train_data['Assembly Date'] < train_data['Accident Date']])"
   ]
  },
  {
   "cell_type": "markdown",
   "id": "66ef6bf4",
   "metadata": {
    "id": "66ef6bf4"
   },
   "source": [
    "The cases where the assembly date happened before the accident must be errors. They will be replaced with the oldest date provided for that individual, which we believe is the most accurate represenation."
   ]
  },
  {
   "cell_type": "code",
   "execution_count": 42,
   "id": "735d7e02",
   "metadata": {},
   "outputs": [],
   "source": [
    "# Replace Accident Date with the oldest date provided for that individual\n",
    "train_data['Accident Date']=np.where(train_data['Assembly Date'] < train_data['Accident Date'],train_data[dates].min(axis=1),\n",
    "                                     train_data['Accident Date'])\n",
    "test['Accident Date']=np.where(test['Assembly Date'] < test['Accident Date'],test[dates].min(axis=1),\n",
    "                                     test['Accident Date'])"
   ]
  },
  {
   "cell_type": "markdown",
   "id": "2cbd2efc",
   "metadata": {},
   "source": [
    "<a class=\"anchor\" id=\"sub-section-2_1_6\"></a>\n",
    "\n",
    "### 2.1.6. Codes\n",
    "\n",
    "</a>"
   ]
  },
  {
   "cell_type": "markdown",
   "id": "e214e742",
   "metadata": {},
   "source": [
    "From checking invalid codes in the descriptive statistics, we know that Part of Body Code has a negative value and it is not present in WCIO codes."
   ]
  },
  {
   "cell_type": "code",
   "execution_count": 43,
   "id": "ab5980b1",
   "metadata": {},
   "outputs": [
    {
     "data": {
      "text/plain": [
       "array(['MULTIPLE'], dtype=object)"
      ]
     },
     "execution_count": 43,
     "metadata": {},
     "output_type": "execute_result"
    }
   ],
   "source": [
    "train_data[train_data['WCIO Part Of Body Code']==-9]['WCIO Part Of Body Description'].unique()"
   ]
  },
  {
   "cell_type": "markdown",
   "id": "ae10cad2",
   "metadata": {},
   "source": [
    "After observing the descriptions, the most similar code description to -9 is the code 90 'MULTIPLE BODY PARTS (INCLUDING BODY)', so we will relace code -9 with code 90."
   ]
  },
  {
   "cell_type": "code",
   "execution_count": 44,
   "id": "d87fe667",
   "metadata": {},
   "outputs": [],
   "source": [
    "train_data['WCIO Part Of Body Code']=np.where(train_data['WCIO Part Of Body Code'] ==-9,90,train_data['WCIO Part Of Body Code'])\n",
    "test['WCIO Part Of Body Code']=np.where(test['WCIO Part Of Body Code'] ==-9,90,test['WCIO Part Of Body Code'])"
   ]
  },
  {
   "cell_type": "markdown",
   "id": "1b5f0a72",
   "metadata": {},
   "source": [
    "Below, we are checking for cases where there are multiple codes with the same description or multiple descriptions with the same code."
   ]
  },
  {
   "cell_type": "code",
   "execution_count": 45,
   "id": "71d1f0cc",
   "metadata": {},
   "outputs": [
    {
     "name": "stdout",
     "output_type": "stream",
     "text": [
      "Nature of Injury duplicated codes: Series([], Name: WCIO Nature of Injury Description, dtype: int64)\n",
      "Nature of Injury duplicated descriptios: Series([], Name: WCIO Nature of Injury Code, dtype: int64)\n"
     ]
    }
   ],
   "source": [
    "# Check WCIO Nature of Injury Code\n",
    "duplicated_codes, duplicated_descriptions = functions.check_code_description_duplicates(train_data,'WCIO Nature of Injury Code', 'WCIO Nature of Injury Description')\n",
    "print(\"Nature of Injury duplicated codes:\", duplicated_codes)\n",
    "print(\"Nature of Injury duplicated descriptios:\", duplicated_descriptions)"
   ]
  },
  {
   "cell_type": "code",
   "execution_count": 46,
   "id": "6727e1c1",
   "metadata": {},
   "outputs": [
    {
     "name": "stdout",
     "output_type": "stream",
     "text": [
      "Cause of Injury duplicated codes: Series([], Name: WCIO Cause of Injury Description, dtype: int64)\n",
      "Cause of Injury duplicated descriptios: WCIO Cause of Injury Description\n",
      "OBJECT BEING LIFTED OR HANDLED    3\n",
      "REPETITIVE MOTION                 2\n",
      "Name: WCIO Cause of Injury Code, dtype: int64\n"
     ]
    }
   ],
   "source": [
    "# Check WCIO Cause of Injury Code\n",
    "duplicated_codes, duplicated_descriptions = functions.check_code_description_duplicates(train_data,'WCIO Cause of Injury Code', 'WCIO Cause of Injury Description')\n",
    "print(\"Cause of Injury duplicated codes:\", duplicated_codes)\n",
    "print(\"Cause of Injury duplicated descriptios:\", duplicated_descriptions)"
   ]
  },
  {
   "cell_type": "code",
   "execution_count": 47,
   "id": "b916cd28",
   "metadata": {},
   "outputs": [
    {
     "data": {
      "text/plain": [
       "array([97., 79., 17., 66., 94.])"
      ]
     },
     "execution_count": 47,
     "metadata": {},
     "output_type": "execute_result"
    }
   ],
   "source": [
    "train_data[train_data['WCIO Cause of Injury Description'].isin(['OBJECT BEING LIFTED OR HANDLED', 'REPETITIVE MOTION'])]['WCIO Cause of Injury Code'].unique()"
   ]
  },
  {
   "cell_type": "code",
   "execution_count": 48,
   "id": "01dd8775",
   "metadata": {},
   "outputs": [
    {
     "name": "stdout",
     "output_type": "stream",
     "text": [
      "Part Of Body duplicated codes: WCIO Part Of Body Code\n",
      "90.0    2\n",
      "Name: WCIO Part Of Body Description, dtype: int64\n",
      "Part Of Body duplicated descriptios: WCIO Part Of Body Description\n",
      "DISC           2\n",
      "SOFT TISSUE    2\n",
      "SPINAL CORD    2\n",
      "Name: WCIO Part Of Body Code, dtype: int64\n"
     ]
    }
   ],
   "source": [
    "# Check WCIO Part of Body Code\n",
    "duplicated_codes, duplicated_descriptions = functions.check_code_description_duplicates(train_data,'WCIO Part Of Body Code', 'WCIO Part Of Body Description')\n",
    "print(\"Part Of Body duplicated codes:\", duplicated_codes)\n",
    "print(\"Part Of Body duplicated descriptios:\", duplicated_descriptions)"
   ]
  },
  {
   "cell_type": "code",
   "execution_count": 49,
   "id": "0a0d5ce6",
   "metadata": {},
   "outputs": [
    {
     "data": {
      "text/plain": [
       "array([18., 25., 43., 22.])"
      ]
     },
     "execution_count": 49,
     "metadata": {},
     "output_type": "execute_result"
    }
   ],
   "source": [
    "train_data[train_data['WCIO Part Of Body Description'].isin(['DISC', 'SOFT TISSUE', 'SPINAL CORD '])]['WCIO Part Of Body Code'].unique()"
   ]
  },
  {
   "cell_type": "code",
   "execution_count": 50,
   "id": "b36c711b",
   "metadata": {},
   "outputs": [
    {
     "name": "stdout",
     "output_type": "stream",
     "text": [
      "Industry duplicated codes: Series([], Name: Industry Code Description, dtype: int64)\n",
      "Industry descriptios: Industry Code Description\n",
      "MANUFACTURING                     3\n",
      "RETAIL TRADE                      2\n",
      "TRANSPORTATION AND WAREHOUSING    2\n",
      "Name: Industry Code, dtype: int64\n"
     ]
    }
   ],
   "source": [
    "# Check Industry Code\n",
    "duplicated_codes, duplicated_descriptions = functions.check_code_description_duplicates(train_data, 'Industry Code', 'Industry Code Description')\n",
    "print(\"Industry duplicated codes:\", duplicated_codes)\n",
    "print(\"Industry descriptios:\", duplicated_descriptions)"
   ]
  },
  {
   "cell_type": "code",
   "execution_count": 51,
   "id": "142a58fc",
   "metadata": {},
   "outputs": [
    {
     "data": {
      "text/plain": [
       "array([44., 31., 48., 45., 49., 33., 32.])"
      ]
     },
     "execution_count": 51,
     "metadata": {},
     "output_type": "execute_result"
    }
   ],
   "source": [
    "train_data[train_data['Industry Code Description'].isin(['MANUFACTURING', 'RETAIL TRADE', 'TRANSPORTATION AND WAREHOUSING'])]['Industry Code'].unique()"
   ]
  },
  {
   "cell_type": "markdown",
   "id": "0a5d24de",
   "metadata": {},
   "source": [
    "After reviewing the specific codes, we saw that the duplicates are not mistakes, but rather refer to different types of specific industries or injuries. Since we will be using only the codes later, we will leave the descriptions as is."
   ]
  },
  {
   "cell_type": "markdown",
   "id": "69d1737e-64c0-42f9-85ba-309c60c2e0cf",
   "metadata": {
    "id": "69d1737e-64c0-42f9-85ba-309c60c2e0cf"
   },
   "source": [
    "<a class=\"anchor\" id=\"sub-section-2_2\"></a>\n",
    "\n",
    "## 2.2. Feature Engineering\n",
    "\n",
    "</a>"
   ]
  },
  {
   "cell_type": "code",
   "execution_count": 52,
   "id": "a8a11a10-e4e3-4cb6-b91e-36446a832bc8",
   "metadata": {
    "id": "a8a11a10-e4e3-4cb6-b91e-36446a832bc8"
   },
   "outputs": [],
   "source": [
    "# Calculate the current Age based on Birth Year and current date, as Age is easier to understand than Birth Year\n",
    "train_data[\"Age\"]= date.today().year-train_data[\"Birth Year\"]\n",
    "test[\"Age\"]= date.today().year-test[\"Birth Year\"]"
   ]
  },
  {
   "cell_type": "code",
   "execution_count": 53,
   "id": "a7dce352",
   "metadata": {
    "id": "a7dce352"
   },
   "outputs": [],
   "source": [
    "# Create a binary variable with 1 if the C3 date is no an empty value and 0 otherwise\n",
    "train_data[\"C3_Received\"] = train_data[\"C-3 Date\"].notna().astype(int)\n",
    "test[\"C3_Received\"] = test[\"C-3 Date\"].notna().astype(int)"
   ]
  },
  {
   "cell_type": "code",
   "execution_count": 54,
   "id": "522402ec",
   "metadata": {
    "id": "522402ec"
   },
   "outputs": [],
   "source": [
    "# Create a binary variable with 1 if the C2 date is no an empty value and 0 otherwise\n",
    "train_data[\"C2_Received\"] = train_data[\"C-2 Date\"].notna().astype(int)\n",
    "test[\"C2_Received\"] = test[\"C-2 Date\"].notna().astype(int)"
   ]
  },
  {
   "cell_type": "code",
   "execution_count": 55,
   "id": "07472226",
   "metadata": {
    "id": "07472226"
   },
   "outputs": [],
   "source": [
    "# Create a binary variable with 1 if the First Hearing is no an empty value and 0 otherwise\n",
    "train_data[\"First_Hearing\"] = train_data[\"First Hearing Date\"].notna().astype(int)\n",
    "test[\"First_Hearing\"] = test[\"First Hearing Date\"].notna().astype(int)"
   ]
  },
  {
   "cell_type": "code",
   "execution_count": 56,
   "id": "1ff8e58c",
   "metadata": {},
   "outputs": [],
   "source": [
    "# Create a variable with the number of days between the current date and the Assembly Date\n",
    "train_data['Days_from_Assembly Date'] = (pd.Timestamp.today() - train_data['Assembly Date']).dt.days\n",
    "test['Days_from_Assembly Date'] = (pd.Timestamp.today() - test['Assembly Date']).dt.days"
   ]
  },
  {
   "cell_type": "code",
   "execution_count": 57,
   "id": "271a224f",
   "metadata": {},
   "outputs": [],
   "source": [
    "# Create a variable and extract the accident year from the Accident Date to facilitate understanding \n",
    "train_data[\"Accident Year\"] = train_data[\"Accident Date\"].dt.year\n",
    "test[\"Accident Year\"] = test[\"Accident Date\"].dt.year"
   ]
  },
  {
   "cell_type": "code",
   "execution_count": 58,
   "id": "7cd51d87-9888-462d-a9bb-2c1ae9e116a8",
   "metadata": {
    "id": "7cd51d87-9888-462d-a9bb-2c1ae9e116a8"
   },
   "outputs": [],
   "source": [
    "# Create a binary variable with 1 if the individual has a dependent and O if not\n",
    "train_data['Has_Dependents'] = train_data['Number of Dependents'].apply(lambda x: 1 if x > 0 else 0)\n",
    "test['Has_Dependents'] = test['Number of Dependents'].apply(lambda x: 1 if x > 0 else 0)"
   ]
  },
  {
   "cell_type": "code",
   "execution_count": 59,
   "id": "4a4a13b8",
   "metadata": {},
   "outputs": [],
   "source": [
    "# Do the log transformation of Wage to help reduce skewness in the data (+1 ensures all values have a log)\n",
    "train_data['Average Weekly Wage'] = train_data['Average Weekly Wage'].apply(lambda x: np.log(x + 1))\n",
    "test['Average Weekly Wage'] = test['Average Weekly Wage'].apply(lambda x: np.log(x + 1))"
   ]
  },
  {
   "cell_type": "code",
   "execution_count": 60,
   "id": "c27a9e0c",
   "metadata": {},
   "outputs": [],
   "source": [
    "# Do the log transformation of IME-4 Count to help reduce skewness in the data (+1 ensures all values have a log)\n",
    "train_data['IME-4 Count'] = train_data['IME-4 Count'].apply(lambda x: np.log(x + 1))\n",
    "test['IME-4 Count'] = train_data['IME-4 Count'].apply(lambda x: np.log(x + 1))"
   ]
  },
  {
   "cell_type": "markdown",
   "id": "ec79c706-a80b-4afb-bbb1-bd5106da3fa9",
   "metadata": {},
   "source": [
    "**Some other variables that were created:**"
   ]
  },
  {
   "cell_type": "code",
   "execution_count": 61,
   "id": "1b04ba50",
   "metadata": {
    "id": "1b04ba50"
   },
   "outputs": [],
   "source": [
    "# May not be useful as there are many missing values\n",
    "\n",
    "#train_data['Days From Accident'] = (train_data['First Hearing Date'] - train_data['Accident Date']).dt.days\n",
    "#train_data['Days From Assembly to Hearing'] = (train_data['First Hearing Date'] - train_data['Assembly Date']).dt.days\n",
    "#train_data['Days From Accident to Assembly'] = (train_data['Assembly Date'] - train_data['Accident Date']).dt.days\n",
    "#train_data['Days_from_accident'] = (pd.Timestamp.today() - train_data['Accident Date']).dt.days\n",
    "#train_data['Days_from_C-2'] = (pd.Timestamp.today() - train_data['C-2 Date']).dt.days"
   ]
  },
  {
   "cell_type": "markdown",
   "id": "9dc92567",
   "metadata": {
    "id": "9dc92567"
   },
   "source": [
    "**Dropping variables:**\n",
    "\n",
    "After creating the variables, the ones that will not be useful are removed from train_data and test."
   ]
  },
  {
   "cell_type": "code",
   "execution_count": 62,
   "id": "63b66807",
   "metadata": {
    "id": "63b66807"
   },
   "outputs": [],
   "source": [
    "train_data.drop('Birth Year', axis = 1, inplace = True)\n",
    "train_data.drop('C-3 Date', axis = 1, inplace = True) \n",
    "train_data.drop(\"First Hearing Date\", axis = 1, inplace = True)\n",
    "train_data.drop(\"Accident Date\", axis = 1, inplace = True)\n",
    "train_data.drop(\"Assembly Date\", axis = 1, inplace = True)\n",
    "train_data.drop(\"C-2 Date\", axis = 1, inplace = True)\n",
    "\n",
    "test.drop('Birth Year', axis = 1, inplace = True)\n",
    "test.drop('C-3 Date', axis = 1, inplace = True) \n",
    "test.drop(\"First Hearing Date\", axis = 1, inplace = True)\n",
    "test.drop(\"Accident Date\", axis = 1, inplace = True)\n",
    "test.drop(\"Assembly Date\", axis = 1, inplace = True)\n",
    "test.drop(\"C-2 Date\", axis = 1, inplace = True)"
   ]
  },
  {
   "cell_type": "markdown",
   "id": "83de79cc-cfe2-4271-a5e7-75c48e946bc0",
   "metadata": {},
   "source": [
    "The description columns are redundant because they provide textual explanations of the code columns. Having both columns could introduce duplicated information, so they will be dropped."
   ]
  },
  {
   "cell_type": "code",
   "execution_count": 63,
   "id": "8987de36-250e-44f1-92a3-1d467660c4ed",
   "metadata": {},
   "outputs": [],
   "source": [
    "train_data.drop('Industry Code Description', axis = 1, inplace = True)\n",
    "train_data.drop('WCIO Cause of Injury Description', axis = 1, inplace = True)\n",
    "train_data.drop('WCIO Nature of Injury Description', axis = 1, inplace = True)\n",
    "train_data.drop('WCIO Part Of Body Description', axis = 1, inplace = True)\n",
    "\n",
    "test.drop('Industry Code Description', axis = 1, inplace = True)\n",
    "test.drop('WCIO Cause of Injury Description', axis = 1, inplace = True)\n",
    "test.drop('WCIO Nature of Injury Description', axis = 1, inplace = True)\n",
    "test.drop('WCIO Part Of Body Description', axis = 1, inplace = True)"
   ]
  },
  {
   "cell_type": "markdown",
   "id": "64b90815-a547-4535-bc0d-c1dddbf19395",
   "metadata": {},
   "source": [
    "<a class=\"anchor\" id=\"sub-section-2_3\"></a>\n",
    "\n",
    "## 2.3. Splitting the Data\n",
    "\n",
    "</a>\n"
   ]
  },
  {
   "cell_type": "markdown",
   "id": "f26260dd",
   "metadata": {},
   "source": [
    "We used the **hold-out method** to split the dataset, dividing it into separate training (80% of the data) and validation (20% of the data) sets. Since we have class imbalance, we also want to guarantee that both data sets have the same distribution of the target variable, so we used stratified sampling.\n",
    "\n",
    "There are some rows where the target is missing (the only variable from the orignal dataset that was not missing was \"Assembly Date\"), so we will need to remove them before splitting to do the stratification."
   ]
  },
  {
   "cell_type": "code",
   "execution_count": 64,
   "id": "39a793a7",
   "metadata": {},
   "outputs": [],
   "source": [
    "train_data.dropna(subset=[\"Claim Injury Type\"],inplace=True)"
   ]
  },
  {
   "cell_type": "code",
   "execution_count": 65,
   "id": "1d74e3ec-3933-4fa3-a91b-2cdc25e04336",
   "metadata": {},
   "outputs": [],
   "source": [
    "# Split the  data set into features and target \n",
    "data = train_data.drop(columns=[\"Claim Injury Type\"])\n",
    "target = train_data[\"Claim Injury Type\"]"
   ]
  },
  {
   "cell_type": "code",
   "execution_count": 66,
   "id": "2a0c57b8-b54b-40a3-9f96-4f232701ca00",
   "metadata": {},
   "outputs": [],
   "source": [
    "# Split into the train and valiations sets\n",
    "X_train, X_val, y_train, y_val = train_test_split(data, target, test_size=0.2, random_state=5, stratify=target)"
   ]
  },
  {
   "cell_type": "markdown",
   "id": "8a0bf96b-b8b2-456b-ba42-13573e63c667",
   "metadata": {},
   "source": [
    "<a class=\"anchor\" id=\"sub-section-2_4\"></a>\n",
    "\n",
    "## 2.4. Outliers\n",
    "\n",
    "</a>"
   ]
  },
  {
   "cell_type": "markdown",
   "id": "5748437e",
   "metadata": {},
   "source": [
    "As we saw in the visualizations, there appears to be outliers in some variables. To detect and replace them, we will use the **Inter Quartile Range (IQR)** method."
   ]
  },
  {
   "cell_type": "code",
   "execution_count": 67,
   "id": "57c344fc-9a99-4f4a-855b-0cef5ed25641",
   "metadata": {},
   "outputs": [],
   "source": [
    "numerical_columns = ['Age at Injury', 'Average Weekly Wage', 'Number of Dependents', 'Age','IME-4 Count', \n",
    "                     'Accident Year','Days_from_Assembly Date']"
   ]
  },
  {
   "cell_type": "code",
   "execution_count": 68,
   "id": "139a4468-c221-492d-8990-d70d71b821ad",
   "metadata": {},
   "outputs": [
    {
     "name": "stdout",
     "output_type": "stream",
     "text": [
      "Percentage of data removed for Age at Injury: 0.01%\n",
      "Percentage of data removed for Average Weekly Wage: 0.00%\n",
      "Percentage of data removed for Number of Dependents: 0.00%\n",
      "Percentage of data removed for Age: 0.06%\n",
      "Percentage of data removed for IME-4 Count: 0.06%\n",
      "Percentage of data removed for Accident Year: 0.85%\n",
      "Percentage of data removed for Days_from_Assembly Date: 0.00%\n"
     ]
    }
   ],
   "source": [
    "# Calculate the percentage of outliers in each metric feature\n",
    "removed_percentages = {}\n",
    "for col in numerical_columns:\n",
    "    removed_percentages[col] = functions.calculate_percentage_outliers(X_train, col)\n",
    "    print(f\"Percentage of data removed for {col}: {removed_percentages[col]:.2f}%\")"
   ]
  },
  {
   "cell_type": "code",
   "execution_count": 69,
   "id": "e796bb48",
   "metadata": {},
   "outputs": [
    {
     "data": {
      "image/png": "[encoded data removed]",
      "text/plain": [
       "<Figure size 1500x1000 with 7 Axes>"
      ]
     },
     "metadata": {},
     "output_type": "display_data"
    }
   ],
   "source": [
    "X_train_cleaned = X_train.copy()\n",
    "X_val_cleaned = X_val.copy()    \n",
    "\n",
    "for col in numerical_columns:\n",
    "    functions.replace_outliers(X_train_cleaned,X_val_cleaned, col)\n",
    "    functions.replace_outliers(X_train_cleaned,X_train_cleaned, col)\n",
    "    functions.replace_outliers(X_train_cleaned,test, col)\n",
    "    \n",
    "plt.figure(figsize=(15, 10))\n",
    "for i, col in enumerate(numerical_columns, 1):\n",
    "    plt.subplot(3, 4, i)\n",
    "    plt.boxplot(X_train_cleaned[col].dropna(), vert=False)\n",
    "    plt.title(f'{col} (after outlier removal)')\n",
    "plt.tight_layout()\n",
    "plt.show()"
   ]
  },
  {
   "cell_type": "markdown",
   "id": "3a86e258",
   "metadata": {},
   "source": [
    "We can see that some variables continue to have extreme variables after outlier removal with IQR."
   ]
  },
  {
   "cell_type": "markdown",
   "id": "0c74042c-5427-47c3-a536-c8539b01a050",
   "metadata": {},
   "source": [
    "<a class=\"anchor\" id=\"sub-section-2_5\"></a>\n",
    "\n",
    "## 2.5. Treating Missing Values\n",
    "\n",
    "</a>"
   ]
  },
  {
   "cell_type": "markdown",
   "id": "14354abf",
   "metadata": {},
   "source": [
    "<a class=\"anchor\" id=\"sub-section-2_5_1\"></a>\n",
    "\n",
    "###  2.5.1. Removing Variables\n",
    "\n",
    "</a>"
   ]
  },
  {
   "cell_type": "code",
   "execution_count": 70,
   "id": "2abefc01-824e-4183-b59f-074641eb6e5a",
   "metadata": {},
   "outputs": [
    {
     "data": {
      "text/plain": [
       "Index(['OIICS Nature of Injury Description'], dtype='object')"
      ]
     },
     "execution_count": 70,
     "metadata": {},
     "output_type": "execute_result"
    }
   ],
   "source": [
    "# Check variables with more than 80% missing values \n",
    "columns_to_drop = train_data.columns[train_data.isnull().mean() > 0.8] \n",
    "columns_to_drop"
   ]
  },
  {
   "cell_type": "code",
   "execution_count": 71,
   "id": "a2e2dc47-718e-45ef-9825-7c91dcfff03e",
   "metadata": {},
   "outputs": [],
   "source": [
    "# Remove variables with more than 80% missing values\n",
    "X_train_cleaned = X_train_cleaned.drop(columns=columns_to_drop)\n",
    "X_val_cleaned = X_val_cleaned.drop(columns=columns_to_drop)\n",
    "test = test.drop(columns=columns_to_drop)"
   ]
  },
  {
   "cell_type": "markdown",
   "id": "a5eb3647",
   "metadata": {},
   "source": [
    "<a class=\"anchor\" id=\"sub-section-2_5_2\"></a>\n",
    "\n",
    "### 2.5.2. Imputing Missing Values\n",
    "\n",
    "</a>"
   ]
  },
  {
   "cell_type": "code",
   "execution_count": 72,
   "id": "7d76fd90-49c2-42e0-a8d4-32d46ec45126",
   "metadata": {},
   "outputs": [
    {
     "name": "stdout",
     "output_type": "stream",
     "text": [
      "Index(['Age at Injury', 'Average Weekly Wage', 'County of Injury',\n",
      "       'IME-4 Count', 'Industry Code', 'WCIO Cause of Injury Code',\n",
      "       'WCIO Nature of Injury Code', 'WCIO Part Of Body Code', 'Zip Code',\n",
      "       'Age', 'Accident Year'],\n",
      "      dtype='object')\n"
     ]
    }
   ],
   "source": [
    "# Get remaining columns with missing values\n",
    "print(X_train_cleaned.columns[X_train_cleaned.isnull().any()])"
   ]
  },
  {
   "cell_type": "markdown",
   "id": "96d537cc",
   "metadata": {},
   "source": [
    "As the assembly does not have any missing values and the difference between accident and assembly date in almost all cases is less than an year, we can use it to input a good approximation for those variables. "
   ]
  },
  {
   "cell_type": "code",
   "execution_count": 73,
   "id": "b679e0d6",
   "metadata": {},
   "outputs": [
    {
     "name": "stdout",
     "output_type": "stream",
     "text": [
      "0\n",
      "2728\n"
     ]
    }
   ],
   "source": [
    "# Count how many values would be imputed \n",
    "birth_year_condition = X_train_cleaned['Age'].isna() & X_train_cleaned['Age at Injury'].notna()\n",
    "print(X_train_cleaned[birth_year_condition].shape[0])\n",
    "\n",
    "age_at_injury_condition = X_train_cleaned['Age at Injury'].isna() & X_train_cleaned['Age'].notna()\n",
    "print( X_train_cleaned[age_at_injury_condition].shape[0])"
   ]
  },
  {
   "cell_type": "code",
   "execution_count": 74,
   "id": "1b332d9c",
   "metadata": {},
   "outputs": [],
   "source": [
    "# Only impute Age at Injury using Age and Days_from_Assembly Date\n",
    "condition = X_train_cleaned['Age at Injury'].isna() & X_train_cleaned['Age'].notna()\n",
    "X_train_cleaned.loc[condition, 'Age at Injury'] = np.floor( X_train_cleaned['Age']-(X_train_cleaned['Days_from_Assembly Date']/365))\n",
    "\n",
    "condition = X_val_cleaned['Age at Injury'].isna() & X_val_cleaned['Age'].notna()\n",
    "X_val_cleaned.loc[condition, 'Age at Injury'] = np.floor( X_val_cleaned['Age']-(X_val_cleaned['Days_from_Assembly Date']/365))\n",
    "\n",
    "condition = test['Age at Injury'].isna() & test['Age'].notna()\n",
    "test.loc[condition, 'Age at Injury'] = np.floor( test['Age']-(test['Days_from_Assembly Date']/365))\n"
   ]
  },
  {
   "cell_type": "code",
   "execution_count": 75,
   "id": "b1740c66-cbf7-4f08-bf84-c11ed7fa0999",
   "metadata": {},
   "outputs": [],
   "source": [
    "# Fill missing values of categorical variables with the mode of the train data to avoid data leakage\n",
    "cat_cols_to_fill = ['Industry Code','WCIO Cause of Injury Code', 'WCIO Nature of Injury Code',\n",
    "                    'WCIO Part Of Body Code','Zip Code','County of Injury']\n",
    "\n",
    "for col in cat_cols_to_fill:\n",
    "    mode = X_train[col].mode()[0]\n",
    "    X_train_cleaned[col].fillna(mode, inplace=True)\n",
    "    X_val_cleaned[col].fillna(mode, inplace=True)\n",
    "    test[col].fillna(mode, inplace=True)    "
   ]
  },
  {
   "cell_type": "code",
   "execution_count": 76,
   "id": "6637a5ba-48a2-4c8e-bf50-177d05f79fc1",
   "metadata": {},
   "outputs": [],
   "source": [
    "# Fill variables with asymptopically normal distribution with the mean \n",
    "mean_cols = [\"Age\",\"Age at Injury\"]\n",
    "\n",
    "for col in mean_cols:\n",
    "    mean = round(X_train[col].mean())\n",
    "    X_train_cleaned[col].fillna(mean, inplace=True)\n",
    "    X_val_cleaned[col].fillna(mean, inplace=True)\n",
    "    test[col].fillna(mean, inplace=True)"
   ]
  },
  {
   "cell_type": "code",
   "execution_count": 77,
   "id": "30f07405-706a-492d-a188-951aa4d619ee",
   "metadata": {},
   "outputs": [],
   "source": [
    "# Fill the rest of variables with the median\n",
    "median_cols_round = [\"Accident Year\"]\n",
    "\n",
    "for col in median_cols_round:\n",
    "    # Need to round \n",
    "    median = round(X_train[col].median())\n",
    "    X_train_cleaned[col].fillna(median, inplace=True)\n",
    "    X_val_cleaned[col].fillna(median, inplace=True)\n",
    "    test[col].fillna(median, inplace=True)"
   ]
  },
  {
   "cell_type": "code",
   "execution_count": 78,
   "id": "eab6961e",
   "metadata": {},
   "outputs": [],
   "source": [
    "# Fill Weekly Wage with the mean by Industry \n",
    "industry_mean_train = X_train_cleaned.groupby('Industry Code')['Average Weekly Wage'].median()\n",
    "overall_mean_train = X_train_cleaned['Average Weekly Wage'].median()\n",
    "\n",
    "\n",
    "X_train_cleaned['Average Weekly Wage'] = X_train_cleaned['Average Weekly Wage'].fillna(X_train_cleaned['Industry Code'].map(industry_mean_train))\n",
    "X_val_cleaned['Average Weekly Wage'].fillna(X_val_cleaned['Industry Code'].map(industry_mean_train).fillna(overall_mean_train),inplace=True)\n",
    "test['Average Weekly Wage'].fillna(test['Industry Code'].map(industry_mean_train).fillna(overall_mean_train),inplace=True)"
   ]
  },
  {
   "cell_type": "markdown",
   "id": "6090ffd0-19ce-4feb-9013-fe2c1a6c0168",
   "metadata": {},
   "source": [
    "Sometimes, a variable may have many missing values, but it still holds important information. For example, missing values might actually mean something significant, like indicating that no IME-4 forms were submitted or not, which is essentially the same as a value of 0."
   ]
  },
  {
   "cell_type": "code",
   "execution_count": 79,
   "id": "0a71f0fb",
   "metadata": {},
   "outputs": [],
   "source": [
    "X_train_cleaned['IME-4 Count'].fillna(0, inplace=True)\n",
    "X_val_cleaned['IME-4 Count'].fillna(0, inplace=True)\n",
    "test['IME-4 Count'].fillna(0, inplace=True)"
   ]
  },
  {
   "cell_type": "markdown",
   "id": "75113c93",
   "metadata": {},
   "source": [
    "<a class=\"anchor\" id=\"sub-section-2_6\"></a>\n",
    "\n",
    "## 2.6. Encoding Categorical Variables\n",
    "\n",
    "</a>"
   ]
  },
  {
   "cell_type": "markdown",
   "id": "3c3280c9",
   "metadata": {},
   "source": [
    "Since some models dont work with categorical variables, we will convert the information to numerical values. We used ordinal encoder for its simplicity and effectiveness, and after, we ensured that new categories in the validation were encoded with the mode from the training set."
   ]
  },
  {
   "cell_type": "code",
   "execution_count": 80,
   "id": "cc80c46a",
   "metadata": {},
   "outputs": [],
   "source": [
    "# Initialize the encoder for the features\n",
    "enc1 = OrdinalEncoder(handle_unknown='use_encoded_value',unknown_value=-1) \n",
    "\n",
    "# Initialize the encoder for the labels\n",
    "enc2 = LabelEncoder()  "
   ]
  },
  {
   "cell_type": "code",
   "execution_count": 81,
   "id": "12a5dd9a",
   "metadata": {},
   "outputs": [],
   "source": [
    "# Categorical columns that need to be encoded\n",
    "columns_enc=['Alternative Dispute Resolution', 'Attorney/Representative',  'Carrier Name', 'Carrier Type', \n",
    "             'County of Injury','Medical Fee Region', 'COVID-19 Indicator', 'District Name', 'Gender', \n",
    "             'Agreement Reached', 'WCB Decision']"
   ]
  },
  {
   "cell_type": "code",
   "execution_count": 82,
   "id": "09c471ed",
   "metadata": {},
   "outputs": [],
   "source": [
    "# Create a copy because some models dont need encoding\n",
    "X_train_encoded = X_train_cleaned.copy() \n",
    "X_val_encoded = X_val_cleaned.copy()\n",
    "\n",
    "# Encode train and val datasets (need to fit on train and val because some values are not in train)\n",
    "X_train_encoded[columns_enc] = enc1.fit_transform(X_train_encoded[columns_enc])\n",
    "X_val_encoded[columns_enc] = enc1.transform(X_val_cleaned[columns_enc])\n",
    "test[columns_enc] = enc1.transform(test[columns_enc])\n",
    "\n",
    "# Encode new categories in validation with the mode from training\n",
    "for column in columns_enc:\n",
    "    mode = X_train_encoded[X_train_encoded[column] != -1][column].mode()[0] \n",
    "    X_val_encoded[column] = X_val_encoded[column].replace(-1, mode)\n",
    "    test[column] = test[column].replace(-1, mode)"
   ]
  },
  {
   "cell_type": "code",
   "execution_count": 83,
   "id": "a452baaa",
   "metadata": {},
   "outputs": [],
   "source": [
    "# Encode the target on train and val\n",
    "y_train_enc=enc2.fit_transform(y_train)\n",
    "y_val_enc=enc2.transform(y_val)\n",
    "y_train = pd.Series(y_train_enc, index=y_train.index)\n",
    "y_val= pd.Series(y_val_enc, index=y_val.index)"
   ]
  },
  {
   "cell_type": "code",
   "execution_count": 84,
   "id": "bad5a583-f024-45ef-8aa0-2ad3590a05be",
   "metadata": {},
   "outputs": [],
   "source": [
    "enc_dict={}\n",
    "for col in columns_enc:\n",
    "    enc = enc1.fit(X_train_cleaned[[col]])\n",
    "    enc_dict[col] = copy.copy(enc)\n",
    "    X_train_cleaned[col] = enc1.transform(X_train_cleaned[[col]])\n",
    "    X_val_cleaned[col] = enc1.transform(X_val_cleaned[[col]])  # Handle unseen categories in validation"
   ]
  },
  {
   "cell_type": "code",
   "execution_count": 85,
   "id": "f84c1e59-ac6c-4604-a8a7-9c88d7833dc4",
   "metadata": {},
   "outputs": [],
   "source": [
    "with open(\"label_encoder.pkl\", \"wb\") as enc_file:\n",
    "    pickle.dump(enc2, enc_file)\n",
    "\n",
    "with open(\"ordinal_encoder.pkl\", \"wb\") as enc_file:\n",
    "    pickle.dump(enc1, enc_file)"
   ]
  },
  {
   "cell_type": "markdown",
   "id": "a3abe2a5",
   "metadata": {
    "id": "63b66807"
   },
   "source": [
    "<a class=\"anchor\" id=\"sub-section-2_7\"></a>\n",
    "\n",
    "## 2.7. Scaling the Data\n",
    "\n",
    "</a>"
   ]
  },
  {
   "cell_type": "markdown",
   "id": "07e13c70",
   "metadata": {},
   "source": [
    "As some models are sensitive to differences in variable scales, it is important to scale all variables.\n",
    "We decided to use **min max scaler** as it preserves the data distribution by scaling the features between 0 and 1, which is suitable since most of our variables are not normally distributed."
   ]
  },
  {
   "cell_type": "code",
   "execution_count": 86,
   "id": "5af1ea64",
   "metadata": {},
   "outputs": [],
   "source": [
    "# Initilize the scaling\n",
    "scaler = MinMaxScaler()"
   ]
  },
  {
   "cell_type": "code",
   "execution_count": 87,
   "id": "707f77f4",
   "metadata": {},
   "outputs": [],
   "source": [
    "# Fit and transform the training data\n",
    "X_train_scaled = scaler.fit_transform(X_train_encoded)  \n",
    "\n",
    "# Only transform the validation and test data\n",
    "X_val_scaled = scaler.transform(X_val_encoded)  \n",
    "test_scaled = scaler.transform(test)  \n",
    "\n",
    "X_train_scaled = pd.DataFrame(X_train_scaled, columns=X_train_cleaned.columns).set_index(X_train_cleaned.index)\n",
    "X_val_scaled= pd.DataFrame(X_val_scaled, columns=X_val_cleaned.columns).set_index(X_val_cleaned.index)\n",
    "test= pd.DataFrame(test_scaled, columns=test.columns).set_index(test.index)"
   ]
  },
  {
   "cell_type": "code",
   "execution_count": 88,
   "id": "a9a7448a",
   "metadata": {},
   "outputs": [
    {
     "data": {
      "text/html": [
       "<div>\n",
       "<style scoped>\n",
       "    .dataframe tbody tr th:only-of-type {\n",
       "        vertical-align: middle;\n",
       "    }\n",
       "\n",
       "    .dataframe tbody tr th {\n",
       "        vertical-align: top;\n",
       "    }\n",
       "\n",
       "    .dataframe thead th {\n",
       "        text-align: right;\n",
       "    }\n",
       "</style>\n",
       "<table border=\"1\" class=\"dataframe\">\n",
       "  <thead>\n",
       "    <tr style=\"text-align: right;\">\n",
       "      <th></th>\n",
       "      <th>Age at Injury</th>\n",
       "      <th>Alternative Dispute Resolution</th>\n",
       "      <th>Attorney/Representative</th>\n",
       "      <th>Average Weekly Wage</th>\n",
       "      <th>Carrier Name</th>\n",
       "      <th>Carrier Type</th>\n",
       "      <th>County of Injury</th>\n",
       "      <th>COVID-19 Indicator</th>\n",
       "      <th>District Name</th>\n",
       "      <th>Gender</th>\n",
       "      <th>IME-4 Count</th>\n",
       "      <th>Industry Code</th>\n",
       "      <th>Medical Fee Region</th>\n",
       "      <th>WCIO Cause of Injury Code</th>\n",
       "      <th>WCIO Nature of Injury Code</th>\n",
       "      <th>WCIO Part Of Body Code</th>\n",
       "      <th>Zip Code</th>\n",
       "      <th>Agreement Reached</th>\n",
       "      <th>WCB Decision</th>\n",
       "      <th>Number of Dependents</th>\n",
       "      <th>Age</th>\n",
       "      <th>C3_Received</th>\n",
       "      <th>C2_Received</th>\n",
       "      <th>First_Hearing</th>\n",
       "      <th>Days_from_Assembly Date</th>\n",
       "      <th>Accident Year</th>\n",
       "      <th>Has_Dependents</th>\n",
       "    </tr>\n",
       "    <tr>\n",
       "      <th>Claim Identifier</th>\n",
       "      <th></th>\n",
       "      <th></th>\n",
       "      <th></th>\n",
       "      <th></th>\n",
       "      <th></th>\n",
       "      <th></th>\n",
       "      <th></th>\n",
       "      <th></th>\n",
       "      <th></th>\n",
       "      <th></th>\n",
       "      <th></th>\n",
       "      <th></th>\n",
       "      <th></th>\n",
       "      <th></th>\n",
       "      <th></th>\n",
       "      <th></th>\n",
       "      <th></th>\n",
       "      <th></th>\n",
       "      <th></th>\n",
       "      <th></th>\n",
       "      <th></th>\n",
       "      <th></th>\n",
       "      <th></th>\n",
       "      <th></th>\n",
       "      <th></th>\n",
       "      <th></th>\n",
       "      <th></th>\n",
       "    </tr>\n",
       "  </thead>\n",
       "  <tbody>\n",
       "    <tr>\n",
       "      <th>5716478</th>\n",
       "      <td>0.551282</td>\n",
       "      <td>0.0</td>\n",
       "      <td>0.0</td>\n",
       "      <td>0.000000</td>\n",
       "      <td>0.144256</td>\n",
       "      <td>0.000000</td>\n",
       "      <td>0.213115</td>\n",
       "      <td>0.0</td>\n",
       "      <td>0.000000</td>\n",
       "      <td>0.333333</td>\n",
       "      <td>0.000000</td>\n",
       "      <td>0.246914</td>\n",
       "      <td>0.25</td>\n",
       "      <td>0.989796</td>\n",
       "      <td>0.566667</td>\n",
       "      <td>0.314607</td>\n",
       "      <td>0.120364</td>\n",
       "      <td>0.0</td>\n",
       "      <td>0.0</td>\n",
       "      <td>0.333333</td>\n",
       "      <td>0.562092</td>\n",
       "      <td>0.0</td>\n",
       "      <td>1.0</td>\n",
       "      <td>0.0</td>\n",
       "      <td>0.551598</td>\n",
       "      <td>0.8</td>\n",
       "      <td>1.0</td>\n",
       "    </tr>\n",
       "    <tr>\n",
       "      <th>5912619</th>\n",
       "      <td>0.512821</td>\n",
       "      <td>0.0</td>\n",
       "      <td>0.0</td>\n",
       "      <td>0.000000</td>\n",
       "      <td>0.144256</td>\n",
       "      <td>0.000000</td>\n",
       "      <td>0.573770</td>\n",
       "      <td>0.0</td>\n",
       "      <td>0.000000</td>\n",
       "      <td>0.333333</td>\n",
       "      <td>0.000000</td>\n",
       "      <td>0.246914</td>\n",
       "      <td>0.50</td>\n",
       "      <td>0.316327</td>\n",
       "      <td>0.566667</td>\n",
       "      <td>0.359551</td>\n",
       "      <td>0.104294</td>\n",
       "      <td>0.0</td>\n",
       "      <td>0.0</td>\n",
       "      <td>0.500000</td>\n",
       "      <td>0.496732</td>\n",
       "      <td>0.0</td>\n",
       "      <td>1.0</td>\n",
       "      <td>0.0</td>\n",
       "      <td>0.301370</td>\n",
       "      <td>1.0</td>\n",
       "      <td>1.0</td>\n",
       "    </tr>\n",
       "    <tr>\n",
       "      <th>5981288</th>\n",
       "      <td>0.179487</td>\n",
       "      <td>0.0</td>\n",
       "      <td>0.0</td>\n",
       "      <td>0.000000</td>\n",
       "      <td>0.561358</td>\n",
       "      <td>0.285714</td>\n",
       "      <td>0.836066</td>\n",
       "      <td>0.0</td>\n",
       "      <td>0.428571</td>\n",
       "      <td>0.333333</td>\n",
       "      <td>0.000000</td>\n",
       "      <td>1.000000</td>\n",
       "      <td>0.75</td>\n",
       "      <td>0.265306</td>\n",
       "      <td>0.566667</td>\n",
       "      <td>0.359551</td>\n",
       "      <td>0.111981</td>\n",
       "      <td>0.0</td>\n",
       "      <td>0.0</td>\n",
       "      <td>0.166667</td>\n",
       "      <td>0.169935</td>\n",
       "      <td>0.0</td>\n",
       "      <td>1.0</td>\n",
       "      <td>0.0</td>\n",
       "      <td>0.221005</td>\n",
       "      <td>1.0</td>\n",
       "      <td>1.0</td>\n",
       "    </tr>\n",
       "    <tr>\n",
       "      <th>5954431</th>\n",
       "      <td>0.397436</td>\n",
       "      <td>0.0</td>\n",
       "      <td>1.0</td>\n",
       "      <td>0.571824</td>\n",
       "      <td>0.690601</td>\n",
       "      <td>0.285714</td>\n",
       "      <td>0.836066</td>\n",
       "      <td>0.0</td>\n",
       "      <td>0.428571</td>\n",
       "      <td>0.333333</td>\n",
       "      <td>0.232298</td>\n",
       "      <td>1.000000</td>\n",
       "      <td>0.75</td>\n",
       "      <td>0.571429</td>\n",
       "      <td>0.100000</td>\n",
       "      <td>0.898876</td>\n",
       "      <td>0.112505</td>\n",
       "      <td>0.0</td>\n",
       "      <td>0.0</td>\n",
       "      <td>0.833333</td>\n",
       "      <td>0.392157</td>\n",
       "      <td>1.0</td>\n",
       "      <td>1.0</td>\n",
       "      <td>0.0</td>\n",
       "      <td>0.252055</td>\n",
       "      <td>1.0</td>\n",
       "      <td>1.0</td>\n",
       "    </tr>\n",
       "    <tr>\n",
       "      <th>6008602</th>\n",
       "      <td>0.500000</td>\n",
       "      <td>0.0</td>\n",
       "      <td>0.0</td>\n",
       "      <td>0.000000</td>\n",
       "      <td>0.082245</td>\n",
       "      <td>0.285714</td>\n",
       "      <td>0.491803</td>\n",
       "      <td>0.0</td>\n",
       "      <td>0.571429</td>\n",
       "      <td>0.000000</td>\n",
       "      <td>0.000000</td>\n",
       "      <td>0.617284</td>\n",
       "      <td>0.75</td>\n",
       "      <td>0.744898</td>\n",
       "      <td>0.100000</td>\n",
       "      <td>0.269663</td>\n",
       "      <td>0.107280</td>\n",
       "      <td>0.0</td>\n",
       "      <td>0.0</td>\n",
       "      <td>0.666667</td>\n",
       "      <td>0.496732</td>\n",
       "      <td>1.0</td>\n",
       "      <td>1.0</td>\n",
       "      <td>0.0</td>\n",
       "      <td>0.188128</td>\n",
       "      <td>1.0</td>\n",
       "      <td>1.0</td>\n",
       "    </tr>\n",
       "  </tbody>\n",
       "</table>\n",
       "</div>"
      ],
      "text/plain": [
       "                  Age at Injury  Alternative Dispute Resolution  \\\n",
       "Claim Identifier                                                  \n",
       "5716478                0.551282                             0.0   \n",
       "5912619                0.512821                             0.0   \n",
       "5981288                0.179487                             0.0   \n",
       "5954431                0.397436                             0.0   \n",
       "6008602                0.500000                             0.0   \n",
       "\n",
       "                  Attorney/Representative  Average Weekly Wage  Carrier Name  \\\n",
       "Claim Identifier                                                               \n",
       "5716478                               0.0             0.000000      0.144256   \n",
       "5912619                               0.0             0.000000      0.144256   \n",
       "5981288                               0.0             0.000000      0.561358   \n",
       "5954431                               1.0             0.571824      0.690601   \n",
       "6008602                               0.0             0.000000      0.082245   \n",
       "\n",
       "                  Carrier Type  County of Injury  COVID-19 Indicator  \\\n",
       "Claim Identifier                                                       \n",
       "5716478               0.000000          0.213115                 0.0   \n",
       "5912619               0.000000          0.573770                 0.0   \n",
       "5981288               0.285714          0.836066                 0.0   \n",
       "5954431               0.285714          0.836066                 0.0   \n",
       "6008602               0.285714          0.491803                 0.0   \n",
       "\n",
       "                  District Name    Gender  IME-4 Count  Industry Code  \\\n",
       "Claim Identifier                                                        \n",
       "5716478                0.000000  0.333333     0.000000       0.246914   \n",
       "5912619                0.000000  0.333333     0.000000       0.246914   \n",
       "5981288                0.428571  0.333333     0.000000       1.000000   \n",
       "5954431                0.428571  0.333333     0.232298       1.000000   \n",
       "6008602                0.571429  0.000000     0.000000       0.617284   \n",
       "\n",
       "                  Medical Fee Region  WCIO Cause of Injury Code  \\\n",
       "Claim Identifier                                                  \n",
       "5716478                         0.25                   0.989796   \n",
       "5912619                         0.50                   0.316327   \n",
       "5981288                         0.75                   0.265306   \n",
       "5954431                         0.75                   0.571429   \n",
       "6008602                         0.75                   0.744898   \n",
       "\n",
       "                  WCIO Nature of Injury Code  WCIO Part Of Body Code  \\\n",
       "Claim Identifier                                                       \n",
       "5716478                             0.566667                0.314607   \n",
       "5912619                             0.566667                0.359551   \n",
       "5981288                             0.566667                0.359551   \n",
       "5954431                             0.100000                0.898876   \n",
       "6008602                             0.100000                0.269663   \n",
       "\n",
       "                  Zip Code  Agreement Reached  WCB Decision  \\\n",
       "Claim Identifier                                              \n",
       "5716478           0.120364                0.0           0.0   \n",
       "5912619           0.104294                0.0           0.0   \n",
       "5981288           0.111981                0.0           0.0   \n",
       "5954431           0.112505                0.0           0.0   \n",
       "6008602           0.107280                0.0           0.0   \n",
       "\n",
       "                  Number of Dependents       Age  C3_Received  C2_Received  \\\n",
       "Claim Identifier                                                             \n",
       "5716478                       0.333333  0.562092          0.0          1.0   \n",
       "5912619                       0.500000  0.496732          0.0          1.0   \n",
       "5981288                       0.166667  0.169935          0.0          1.0   \n",
       "5954431                       0.833333  0.392157          1.0          1.0   \n",
       "6008602                       0.666667  0.496732          1.0          1.0   \n",
       "\n",
       "                  First_Hearing  Days_from_Assembly Date  Accident Year  \\\n",
       "Claim Identifier                                                          \n",
       "5716478                     0.0                 0.551598            0.8   \n",
       "5912619                     0.0                 0.301370            1.0   \n",
       "5981288                     0.0                 0.221005            1.0   \n",
       "5954431                     0.0                 0.252055            1.0   \n",
       "6008602                     0.0                 0.188128            1.0   \n",
       "\n",
       "                  Has_Dependents  \n",
       "Claim Identifier                  \n",
       "5716478                      1.0  \n",
       "5912619                      1.0  \n",
       "5981288                      1.0  \n",
       "5954431                      1.0  \n",
       "6008602                      1.0  "
      ]
     },
     "execution_count": 88,
     "metadata": {},
     "output_type": "execute_result"
    }
   ],
   "source": [
    "# Check if the results are as expected\n",
    "X_train_scaled.head()"
   ]
  },
  {
   "cell_type": "code",
   "execution_count": 89,
   "id": "72db9415-ff05-4c0e-a356-d40c7a0cde8c",
   "metadata": {},
   "outputs": [],
   "source": [
    "with open(\"scaler.pkl\", \"wb\") as scaler_file:\n",
    "    pickle.dump(scaler, scaler_file)"
   ]
  },
  {
   "cell_type": "markdown",
   "id": "92b88c26",
   "metadata": {},
   "source": [
    "<a class=\"anchor\" id=\"sub-section-2_8\"></a>\n",
    "\n",
    "## 2.8. Feature Selection\n",
    "\n",
    "</a>\n",
    "\n"
   ]
  },
  {
   "cell_type": "markdown",
   "id": "7dad07b4",
   "metadata": {},
   "source": [
    "For feature selection, we will use different methods and have set the below thresholds for our decisions:\n",
    "- |correlation| >= 0.80\n",
    "- Lasso=0"
   ]
  },
  {
   "cell_type": "markdown",
   "id": "a4b0a39f",
   "metadata": {},
   "source": [
    "<a class=\"anchor\" id=\"sub-section-2_8_1\"> </a>\n",
    "\n",
    "###  2.8.1. Univariate variables\n",
    "\n",
    "</a>"
   ]
  },
  {
   "cell_type": "code",
   "execution_count": 90,
   "id": "554eab0d-9d8b-4a84-9156-a4841030ba7e",
   "metadata": {},
   "outputs": [
    {
     "data": {
      "text/plain": [
       "Age at Injury                     0.030768\n",
       "Alternative Dispute Resolution    0.004489\n",
       "Attorney/Representative           0.216202\n",
       "Average Weekly Wage               0.057547\n",
       "Carrier Name                      0.089143\n",
       "Carrier Type                      0.025037\n",
       "County of Injury                  0.072736\n",
       "COVID-19 Indicator                0.045620\n",
       "District Name                     0.071938\n",
       "Gender                            0.028526\n",
       "IME-4 Count                       0.039853\n",
       "Industry Code                     0.057807\n",
       "Medical Fee Region                0.111890\n",
       "WCIO Cause of Injury Code         0.067749\n",
       "WCIO Nature of Injury Code        0.059587\n",
       "WCIO Part Of Body Code            0.062443\n",
       "Zip Code                          0.002640\n",
       "Agreement Reached                 0.044510\n",
       "WCB Decision                      0.000000\n",
       "Number of Dependents              0.111114\n",
       "Age                               0.032449\n",
       "C3_Received                       0.219724\n",
       "C2_Received                       0.024678\n",
       "First_Hearing                     0.193593\n",
       "Days_from_Assembly Date           0.082652\n",
       "Accident Year                     0.035483\n",
       "Has_Dependents                    0.121805\n",
       "dtype: float64"
      ]
     },
     "execution_count": 90,
     "metadata": {},
     "output_type": "execute_result"
    }
   ],
   "source": [
    "# Check univariate variables (i.e. has same value in all observations)\n",
    "X_train_scaled.var()"
   ]
  },
  {
   "cell_type": "markdown",
   "id": "581ee1ec",
   "metadata": {},
   "source": [
    "**'WCB Decision'**  is univariate so we drop it in train and validation sets."
   ]
  },
  {
   "cell_type": "code",
   "execution_count": 91,
   "id": "f7984e05",
   "metadata": {},
   "outputs": [],
   "source": [
    "X_train_scaled.drop('WCB Decision', axis=1, inplace=True)\n",
    "X_val_scaled.drop('WCB Decision', axis=1, inplace=True)\n",
    "test.drop('WCB Decision', axis=1, inplace=True)"
   ]
  },
  {
   "cell_type": "markdown",
   "id": "00157e3c",
   "metadata": {},
   "source": [
    "<a class=\"anchor\" id=\"sub-section-2_8_2\"> </a>\n",
    "\n",
    "###  2.8.2. Correlation Indices\n",
    "\n",
    "</a>\n"
   ]
  },
  {
   "cell_type": "markdown",
   "id": "59fcfd11",
   "metadata": {},
   "source": [
    "As we have a categorical target, we will check the correlation indices to find redundant variables."
   ]
  },
  {
   "cell_type": "code",
   "execution_count": 92,
   "id": "9e78abd2-c02c-4ff1-8d0a-da58c6d9a884",
   "metadata": {
    "scrolled": true
   },
   "outputs": [
    {
     "data": {
      "text/html": [
       "<div>\n",
       "<style scoped>\n",
       "    .dataframe tbody tr th:only-of-type {\n",
       "        vertical-align: middle;\n",
       "    }\n",
       "\n",
       "    .dataframe tbody tr th {\n",
       "        vertical-align: top;\n",
       "    }\n",
       "\n",
       "    .dataframe thead th {\n",
       "        text-align: right;\n",
       "    }\n",
       "</style>\n",
       "<table border=\"1\" class=\"dataframe\">\n",
       "  <thead>\n",
       "    <tr style=\"text-align: right;\">\n",
       "      <th></th>\n",
       "      <th>Age at Injury</th>\n",
       "      <th>Average Weekly Wage</th>\n",
       "      <th>Number of Dependents</th>\n",
       "      <th>Age</th>\n",
       "      <th>IME-4 Count</th>\n",
       "      <th>Accident Year</th>\n",
       "      <th>Days_from_Assembly Date</th>\n",
       "    </tr>\n",
       "  </thead>\n",
       "  <tbody>\n",
       "    <tr>\n",
       "      <th>Age at Injury</th>\n",
       "      <td>1.000000</td>\n",
       "      <td>0.115428</td>\n",
       "      <td>0.000905</td>\n",
       "      <td>0.991720</td>\n",
       "      <td>0.126502</td>\n",
       "      <td>-0.019391</td>\n",
       "      <td>0.019354</td>\n",
       "    </tr>\n",
       "    <tr>\n",
       "      <th>Average Weekly Wage</th>\n",
       "      <td>0.115428</td>\n",
       "      <td>1.000000</td>\n",
       "      <td>0.000309</td>\n",
       "      <td>0.110072</td>\n",
       "      <td>0.556030</td>\n",
       "      <td>-0.010974</td>\n",
       "      <td>0.034666</td>\n",
       "    </tr>\n",
       "    <tr>\n",
       "      <th>Number of Dependents</th>\n",
       "      <td>0.000905</td>\n",
       "      <td>0.000309</td>\n",
       "      <td>1.000000</td>\n",
       "      <td>0.000928</td>\n",
       "      <td>0.002110</td>\n",
       "      <td>0.001978</td>\n",
       "      <td>-0.001383</td>\n",
       "    </tr>\n",
       "    <tr>\n",
       "      <th>Age</th>\n",
       "      <td>0.991720</td>\n",
       "      <td>0.110072</td>\n",
       "      <td>0.000928</td>\n",
       "      <td>1.000000</td>\n",
       "      <td>0.123640</td>\n",
       "      <td>-0.092228</td>\n",
       "      <td>0.079528</td>\n",
       "    </tr>\n",
       "    <tr>\n",
       "      <th>IME-4 Count</th>\n",
       "      <td>0.126502</td>\n",
       "      <td>0.556030</td>\n",
       "      <td>0.002110</td>\n",
       "      <td>0.123640</td>\n",
       "      <td>1.000000</td>\n",
       "      <td>-0.024255</td>\n",
       "      <td>0.037010</td>\n",
       "    </tr>\n",
       "    <tr>\n",
       "      <th>Accident Year</th>\n",
       "      <td>-0.019391</td>\n",
       "      <td>-0.010974</td>\n",
       "      <td>0.001978</td>\n",
       "      <td>-0.092228</td>\n",
       "      <td>-0.024255</td>\n",
       "      <td>1.000000</td>\n",
       "      <td>-0.904513</td>\n",
       "    </tr>\n",
       "    <tr>\n",
       "      <th>Days_from_Assembly Date</th>\n",
       "      <td>0.019354</td>\n",
       "      <td>0.034666</td>\n",
       "      <td>-0.001383</td>\n",
       "      <td>0.079528</td>\n",
       "      <td>0.037010</td>\n",
       "      <td>-0.904513</td>\n",
       "      <td>1.000000</td>\n",
       "    </tr>\n",
       "  </tbody>\n",
       "</table>\n",
       "</div>"
      ],
      "text/plain": [
       "                         Age at Injury  Average Weekly Wage  \\\n",
       "Age at Injury                 1.000000             0.115428   \n",
       "Average Weekly Wage           0.115428             1.000000   \n",
       "Number of Dependents          0.000905             0.000309   \n",
       "Age                           0.991720             0.110072   \n",
       "IME-4 Count                   0.126502             0.556030   \n",
       "Accident Year                -0.019391            -0.010974   \n",
       "Days_from_Assembly Date       0.019354             0.034666   \n",
       "\n",
       "                         Number of Dependents       Age  IME-4 Count  \\\n",
       "Age at Injury                        0.000905  0.991720     0.126502   \n",
       "Average Weekly Wage                  0.000309  0.110072     0.556030   \n",
       "Number of Dependents                 1.000000  0.000928     0.002110   \n",
       "Age                                  0.000928  1.000000     0.123640   \n",
       "IME-4 Count                          0.002110  0.123640     1.000000   \n",
       "Accident Year                        0.001978 -0.092228    -0.024255   \n",
       "Days_from_Assembly Date             -0.001383  0.079528     0.037010   \n",
       "\n",
       "                         Accident Year  Days_from_Assembly Date  \n",
       "Age at Injury                -0.019391                 0.019354  \n",
       "Average Weekly Wage          -0.010974                 0.034666  \n",
       "Number of Dependents          0.001978                -0.001383  \n",
       "Age                          -0.092228                 0.079528  \n",
       "IME-4 Count                  -0.024255                 0.037010  \n",
       "Accident Year                 1.000000                -0.904513  \n",
       "Days_from_Assembly Date      -0.904513                 1.000000  "
      ]
     },
     "execution_count": 92,
     "metadata": {},
     "output_type": "execute_result"
    }
   ],
   "source": [
    "X_train_num_corr = X_train_scaled[numerical_columns].corr(method ='spearman')\n",
    "X_train_num_corr"
   ]
  },
  {
   "cell_type": "code",
   "execution_count": 93,
   "id": "e70f741b-eef4-456d-87b9-21c85afeb77c",
   "metadata": {
    "scrolled": true
   },
   "outputs": [
    {
     "data": {
      "image/png": "[encoded data removed]",
      "text/plain": [
       "<Figure size 1200x1000 with 2 Axes>"
      ]
     },
     "metadata": {},
     "output_type": "display_data"
    }
   ],
   "source": [
    "functions.cor_heatmap(X_train_num_corr)"
   ]
  },
  {
   "cell_type": "markdown",
   "id": "ea7ba36d-736f-4e8a-969b-33a04e5f3636",
   "metadata": {},
   "source": [
    "According to the correlation heatmap, the pairs of features below are redundant (∣correlation∣≥0.8) and one of them should be dropped:\n",
    "- Age and Age at Injury (0.991720)\n",
    "- Accident Year and Days from Assembly (-0.904513)"
   ]
  },
  {
   "cell_type": "markdown",
   "id": "4b74512b",
   "metadata": {},
   "source": [
    "<a class=\"anchor\" id=\"sub-section-2_8_3\"> </a>\n",
    "\n",
    "###  2.8.3. Chi-Square\n",
    "\n",
    "</a>\n"
   ]
  },
  {
   "cell_type": "markdown",
   "id": "5054d3a0",
   "metadata": {},
   "source": [
    "The Chi-square test can help determine if there is a significant association between each categorical feature and the target."
   ]
  },
  {
   "cell_type": "code",
   "execution_count": 94,
   "id": "5ae22087-46f6-4284-b060-cdfe43652a84",
   "metadata": {},
   "outputs": [],
   "source": [
    "# Get the categorical varibles from X_train_scaled\n",
    "X_train_cat = [col for col in X_train_scaled if col not in numerical_columns]"
   ]
  },
  {
   "cell_type": "code",
   "execution_count": 95,
   "id": "8ec9283b-707e-41cd-a25f-3ed31886091d",
   "metadata": {},
   "outputs": [
    {
     "name": "stdout",
     "output_type": "stream",
     "text": [
      "Alternative Dispute Resolution is IMPORTANT for Prediction\n",
      "Attorney/Representative is IMPORTANT for Prediction\n",
      "Carrier Name is IMPORTANT for Prediction\n",
      "Carrier Type is IMPORTANT for Prediction\n",
      "County of Injury is IMPORTANT for Prediction\n",
      "COVID-19 Indicator is IMPORTANT for Prediction\n",
      "District Name is IMPORTANT for Prediction\n",
      "Gender is IMPORTANT for Prediction\n",
      "Industry Code is IMPORTANT for Prediction\n",
      "Medical Fee Region is IMPORTANT for Prediction\n",
      "WCIO Cause of Injury Code is IMPORTANT for Prediction\n",
      "WCIO Nature of Injury Code is IMPORTANT for Prediction\n",
      "WCIO Part Of Body Code is IMPORTANT for Prediction\n",
      "Zip Code is IMPORTANT for Prediction\n",
      "Agreement Reached is IMPORTANT for Prediction\n",
      "C3_Received is IMPORTANT for Prediction\n",
      "C2_Received is IMPORTANT for Prediction\n",
      "First_Hearing is IMPORTANT for Prediction\n",
      "Has_Dependents is NOT an important predictor. (Discard Has_Dependents from model)\n"
     ]
    }
   ],
   "source": [
    "# Test each variables against the target\n",
    "for var in X_train[X_train_cat]:\n",
    "    functions.TestIndependence(X_train_cleaned[X_train_cat][var],y_train, var)"
   ]
  },
  {
   "cell_type": "markdown",
   "id": "ba3c6010",
   "metadata": {},
   "source": [
    "<a class=\"anchor\" id=\"sub-section-2_8_4\"> </a>\n",
    "\n",
    "###  2.8.4. Wrapper Methods - RFE\n",
    "\n",
    "</a>"
   ]
  },
  {
   "cell_type": "code",
   "execution_count": 96,
   "id": "b48dc5ca",
   "metadata": {},
   "outputs": [],
   "source": [
    "numerical_binary= ['Age at Injury','Average Weekly Wage','Number of Dependents','Age','IME-4 Count','Accident Year',\n",
    "                   'Days_from_Assembly Date','Alternative Dispute Resolution','Attorney/Representative', 'COVID-19 Indicator',\n",
    "                   'Agreement Reached', 'C3_Received','C2_Received', 'First_Hearing', 'Has_Dependents']"
   ]
  },
  {
   "cell_type": "code",
   "execution_count": 97,
   "id": "a94929eb",
   "metadata": {},
   "outputs": [
    {
     "name": "stdout",
     "output_type": "stream",
     "text": [
      "Optimum number of features: 10\n",
      "Score with 10 features: 0.889622\n"
     ]
    }
   ],
   "source": [
    "# Define the number of features to evaluate (from 1 to 15 features)\n",
    "nof_list = np.arange(1, 16)\n",
    "\n",
    "# Variables/lists to store the best score and number of features\n",
    "high_score = 0\n",
    "nof = 0           \n",
    "train_score_list = []\n",
    "val_score_list = []\n",
    "\n",
    "# Iterate over each possible number of features (from 1 to 7)\n",
    "for n in range(len(nof_list)):\n",
    "    \n",
    "    # Initialize a logistic regression model\n",
    "    model = LogisticRegression()\n",
    "    \n",
    "    # Perform RFE to select 'n' features\n",
    "    rfe = RFE(estimator=model, n_features_to_select=nof_list[n])\n",
    "    \n",
    "    # Apply RFE to the training & validation data, selecting the top 'n' features\n",
    "    X_train_rfe = rfe.fit_transform(X_train_scaled[numerical_binary], y_train)\n",
    "    X_val_rfe = rfe.transform(X_val_scaled[numerical_binary])\n",
    "    \n",
    "    # Fit the logistic regression model on the selected features from the training data\n",
    "    model.fit(X_train_rfe, y_train)\n",
    "    \n",
    "    # Predict for the training and validation datasets\n",
    "    y_train_pred = model.predict(X_train_rfe)\n",
    "    y_val_pred = model.predict(X_val_rfe)\n",
    "    \n",
    "    # Calculate the ROC AUC score on the training and validation data\n",
    "    train_score = roc_auc_score(y_train, model.predict_proba(X_train_rfe), multi_class='ovr')\n",
    "    train_score_list.append(train_score)\n",
    "    \n",
    "    val_score = roc_auc_score(y_val, model.predict_proba(X_val_rfe), multi_class='ovr')\n",
    "    val_score_list.append(val_score)\n",
    "    \n",
    "    # Check if the current validation score is higher than the best score so far\n",
    "    if val_score >= high_score:\n",
    "        high_score = val_score\n",
    "        nof = nof_list[n]\n",
    "\n",
    "print(\"Optimum number of features: %d\" % nof)\n",
    "print(\"Score with %d features: %f\" % (nof, high_score))"
   ]
  },
  {
   "cell_type": "code",
   "execution_count": 98,
   "id": "abfa46a3-e49e-489d-bf04-97fd80d20cbf",
   "metadata": {},
   "outputs": [],
   "source": [
    "# Initialize the RFE model with a Logistic Regression estimator & set number of features to 10\n",
    "rfe = RFE(estimator = model, n_features_to_select = 10)\n",
    "\n",
    "# Apply RFE to the scaled training data with the specified numerical columns\n",
    "X_rfe = rfe.fit_transform(X = X_train_scaled[numerical_binary], y = y_train)"
   ]
  },
  {
   "cell_type": "code",
   "execution_count": 99,
   "id": "a2a01acc-aa6a-49dd-a917-b9890b0f057b",
   "metadata": {},
   "outputs": [
    {
     "data": {
      "text/plain": [
       "Age at Injury                     False\n",
       "Average Weekly Wage                True\n",
       "Number of Dependents              False\n",
       "Age                               False\n",
       "IME-4 Count                        True\n",
       "Accident Year                      True\n",
       "Days_from_Assembly Date           False\n",
       "Alternative Dispute Resolution     True\n",
       "Attorney/Representative            True\n",
       "COVID-19 Indicator                 True\n",
       "Agreement Reached                  True\n",
       "C3_Received                        True\n",
       "C2_Received                        True\n",
       "First_Hearing                      True\n",
       "Has_Dependents                    False\n",
       "dtype: bool"
      ]
     },
     "execution_count": 99,
     "metadata": {},
     "output_type": "execute_result"
    }
   ],
   "source": [
    "# Create a pandas Series to see if a feature is selected or not\n",
    "selected_features = pd.Series(rfe.support_, index = X_train_scaled[numerical_binary].columns)\n",
    "selected_features"
   ]
  },
  {
   "cell_type": "code",
   "execution_count": 100,
   "id": "1c58fe70-8bb5-491f-b08a-6962e30d93fc",
   "metadata": {},
   "outputs": [
    {
     "data": {
      "image/png": "[encoded data removed]",
      "text/plain": [
       "<Figure size 640x480 with 1 Axes>"
      ]
     },
     "metadata": {},
     "output_type": "display_data"
    }
   ],
   "source": [
    "# Plot how training accuracy and validation accuracy vary with the number of features\n",
    "plt.plot(list(range(1,16)), train_score_list, label=\"Score on Training Set\", color='yellowgreen')\n",
    "plt.plot(list(range(1,16)), val_score_list, label=\"Score on Test Set\", color='dimgray')\n",
    "plt.xlabel(\"Maximum Depth\")\n",
    "plt.ylabel(\"Score\")\n",
    "plt.legend()\n",
    "plt.show()"
   ]
  },
  {
   "cell_type": "markdown",
   "id": "a2a35bae",
   "metadata": {},
   "source": [
    "<a class=\"anchor\" id=\"sub-section-2_8_5\"> </a>\n",
    "\n",
    "### 2.8.5. Embedded Methods - Lasso\n",
    "\n",
    "</a>"
   ]
  },
  {
   "cell_type": "code",
   "execution_count": 101,
   "id": "5e48ea12",
   "metadata": {},
   "outputs": [],
   "source": [
    "# Initializing a Lasso Regression\n",
    "Lreg = LassoCV()"
   ]
  },
  {
   "cell_type": "code",
   "execution_count": 102,
   "id": "08970ebe-eff1-4540-82fb-ddbcdcfdf3c4",
   "metadata": {},
   "outputs": [
    {
     "data": {
      "text/html": [
       "<style>#sk-container-id-1 {\n",
       "  /* Definition of color scheme common for light and dark mode */\n",
       "  --sklearn-color-text: black;\n",
       "  --sklearn-color-line: gray;\n",
       "  /* Definition of color scheme for unfitted estimators */\n",
       "  --sklearn-color-unfitted-level-0: #fff5e6;\n",
       "  --sklearn-color-unfitted-level-1: #f6e4d2;\n",
       "  --sklearn-color-unfitted-level-2: #ffe0b3;\n",
       "  --sklearn-color-unfitted-level-3: chocolate;\n",
       "  /* Definition of color scheme for fitted estimators */\n",
       "  --sklearn-color-fitted-level-0: #f0f8ff;\n",
       "  --sklearn-color-fitted-level-1: #d4ebff;\n",
       "  --sklearn-color-fitted-level-2: #b3dbfd;\n",
       "  --sklearn-color-fitted-level-3: cornflowerblue;\n",
       "\n",
       "  /* Specific color for light theme */\n",
       "  --sklearn-color-text-on-default-background: var(--sg-text-color, var(--theme-code-foreground, var(--jp-content-font-color1, black)));\n",
       "  --sklearn-color-background: var(--sg-background-color, var(--theme-background, var(--jp-layout-color0, white)));\n",
       "  --sklearn-color-border-box: var(--sg-text-color, var(--theme-code-foreground, var(--jp-content-font-color1, black)));\n",
       "  --sklearn-color-icon: #696969;\n",
       "\n",
       "  @media (prefers-color-scheme: dark) {\n",
       "    /* Redefinition of color scheme for dark theme */\n",
       "    --sklearn-color-text-on-default-background: var(--sg-text-color, var(--theme-code-foreground, var(--jp-content-font-color1, white)));\n",
       "    --sklearn-color-background: var(--sg-background-color, var(--theme-background, var(--jp-layout-color0, #111)));\n",
       "    --sklearn-color-border-box: var(--sg-text-color, var(--theme-code-foreground, var(--jp-content-font-color1, white)));\n",
       "    --sklearn-color-icon: #878787;\n",
       "  }\n",
       "}\n",
       "\n",
       "#sk-container-id-1 {\n",
       "  color: var(--sklearn-color-text);\n",
       "}\n",
       "\n",
       "#sk-container-id-1 pre {\n",
       "  padding: 0;\n",
       "}\n",
       "\n",
       "#sk-container-id-1 input.sk-hidden--visually {\n",
       "  border: 0;\n",
       "  clip: rect(1px 1px 1px 1px);\n",
       "  clip: rect(1px, 1px, 1px, 1px);\n",
       "  height: 1px;\n",
       "  margin: -1px;\n",
       "  overflow: hidden;\n",
       "  padding: 0;\n",
       "  position: absolute;\n",
       "  width: 1px;\n",
       "}\n",
       "\n",
       "#sk-container-id-1 div.sk-dashed-wrapped {\n",
       "  border: 1px dashed var(--sklearn-color-line);\n",
       "  margin: 0 0.4em 0.5em 0.4em;\n",
       "  box-sizing: border-box;\n",
       "  padding-bottom: 0.4em;\n",
       "  background-color: var(--sklearn-color-background);\n",
       "}\n",
       "\n",
       "#sk-container-id-1 div.sk-container {\n",
       "  /* jupyter's `normalize.less` sets `[hidden] { display: none; }`\n",
       "     but bootstrap.min.css set `[hidden] { display: none !important; }`\n",
       "     so we also need the `!important` here to be able to override the\n",
       "     default hidden behavior on the sphinx rendered scikit-learn.org.\n",
       "     See: https://github.com/scikit-learn/scikit-learn/issues/21755 */\n",
       "  display: inline-block !important;\n",
       "  position: relative;\n",
       "}\n",
       "\n",
       "#sk-container-id-1 div.sk-text-repr-fallback {\n",
       "  display: none;\n",
       "}\n",
       "\n",
       "div.sk-parallel-item,\n",
       "div.sk-serial,\n",
       "div.sk-item {\n",
       "  /* draw centered vertical line to link estimators */\n",
       "  background-image: linear-gradient(var(--sklearn-color-text-on-default-background), var(--sklearn-color-text-on-default-background));\n",
       "  background-size: 2px 100%;\n",
       "  background-repeat: no-repeat;\n",
       "  background-position: center center;\n",
       "}\n",
       "\n",
       "/* Parallel-specific style estimator block */\n",
       "\n",
       "#sk-container-id-1 div.sk-parallel-item::after {\n",
       "  content: \"\";\n",
       "  width: 100%;\n",
       "  border-bottom: 2px solid var(--sklearn-color-text-on-default-background);\n",
       "  flex-grow: 1;\n",
       "}\n",
       "\n",
       "#sk-container-id-1 div.sk-parallel {\n",
       "  display: flex;\n",
       "  align-items: stretch;\n",
       "  justify-content: center;\n",
       "  background-color: var(--sklearn-color-background);\n",
       "  position: relative;\n",
       "}\n",
       "\n",
       "#sk-container-id-1 div.sk-parallel-item {\n",
       "  display: flex;\n",
       "  flex-direction: column;\n",
       "}\n",
       "\n",
       "#sk-container-id-1 div.sk-parallel-item:first-child::after {\n",
       "  align-self: flex-end;\n",
       "  width: 50%;\n",
       "}\n",
       "\n",
       "#sk-container-id-1 div.sk-parallel-item:last-child::after {\n",
       "  align-self: flex-start;\n",
       "  width: 50%;\n",
       "}\n",
       "\n",
       "#sk-container-id-1 div.sk-parallel-item:only-child::after {\n",
       "  width: 0;\n",
       "}\n",
       "\n",
       "/* Serial-specific style estimator block */\n",
       "\n",
       "#sk-container-id-1 div.sk-serial {\n",
       "  display: flex;\n",
       "  flex-direction: column;\n",
       "  align-items: center;\n",
       "  background-color: var(--sklearn-color-background);\n",
       "  padding-right: 1em;\n",
       "  padding-left: 1em;\n",
       "}\n",
       "\n",
       "\n",
       "/* Toggleable style: style used for estimator/Pipeline/ColumnTransformer box that is\n",
       "clickable and can be expanded/collapsed.\n",
       "- Pipeline and ColumnTransformer use this feature and define the default style\n",
       "- Estimators will overwrite some part of the style using the `sk-estimator` class\n",
       "*/\n",
       "\n",
       "/* Pipeline and ColumnTransformer style (default) */\n",
       "\n",
       "#sk-container-id-1 div.sk-toggleable {\n",
       "  /* Default theme specific background. It is overwritten whether we have a\n",
       "  specific estimator or a Pipeline/ColumnTransformer */\n",
       "  background-color: var(--sklearn-color-background);\n",
       "}\n",
       "\n",
       "/* Toggleable label */\n",
       "#sk-container-id-1 label.sk-toggleable__label {\n",
       "  cursor: pointer;\n",
       "  display: block;\n",
       "  width: 100%;\n",
       "  margin-bottom: 0;\n",
       "  padding: 0.5em;\n",
       "  box-sizing: border-box;\n",
       "  text-align: center;\n",
       "}\n",
       "\n",
       "#sk-container-id-1 label.sk-toggleable__label-arrow:before {\n",
       "  /* Arrow on the left of the label */\n",
       "  content: \"▸\";\n",
       "  float: left;\n",
       "  margin-right: 0.25em;\n",
       "  color: var(--sklearn-color-icon);\n",
       "}\n",
       "\n",
       "#sk-container-id-1 label.sk-toggleable__label-arrow:hover:before {\n",
       "  color: var(--sklearn-color-text);\n",
       "}\n",
       "\n",
       "/* Toggleable content - dropdown */\n",
       "\n",
       "#sk-container-id-1 div.sk-toggleable__content {\n",
       "  max-height: 0;\n",
       "  max-width: 0;\n",
       "  overflow: hidden;\n",
       "  text-align: left;\n",
       "  /* unfitted */\n",
       "  background-color: var(--sklearn-color-unfitted-level-0);\n",
       "}\n",
       "\n",
       "#sk-container-id-1 div.sk-toggleable__content.fitted {\n",
       "  /* fitted */\n",
       "  background-color: var(--sklearn-color-fitted-level-0);\n",
       "}\n",
       "\n",
       "#sk-container-id-1 div.sk-toggleable__content pre {\n",
       "  margin: 0.2em;\n",
       "  border-radius: 0.25em;\n",
       "  color: var(--sklearn-color-text);\n",
       "  /* unfitted */\n",
       "  background-color: var(--sklearn-color-unfitted-level-0);\n",
       "}\n",
       "\n",
       "#sk-container-id-1 div.sk-toggleable__content.fitted pre {\n",
       "  /* unfitted */\n",
       "  background-color: var(--sklearn-color-fitted-level-0);\n",
       "}\n",
       "\n",
       "#sk-container-id-1 input.sk-toggleable__control:checked~div.sk-toggleable__content {\n",
       "  /* Expand drop-down */\n",
       "  max-height: 200px;\n",
       "  max-width: 100%;\n",
       "  overflow: auto;\n",
       "}\n",
       "\n",
       "#sk-container-id-1 input.sk-toggleable__control:checked~label.sk-toggleable__label-arrow:before {\n",
       "  content: \"▾\";\n",
       "}\n",
       "\n",
       "/* Pipeline/ColumnTransformer-specific style */\n",
       "\n",
       "#sk-container-id-1 div.sk-label input.sk-toggleable__control:checked~label.sk-toggleable__label {\n",
       "  color: var(--sklearn-color-text);\n",
       "  background-color: var(--sklearn-color-unfitted-level-2);\n",
       "}\n",
       "\n",
       "#sk-container-id-1 div.sk-label.fitted input.sk-toggleable__control:checked~label.sk-toggleable__label {\n",
       "  background-color: var(--sklearn-color-fitted-level-2);\n",
       "}\n",
       "\n",
       "/* Estimator-specific style */\n",
       "\n",
       "/* Colorize estimator box */\n",
       "#sk-container-id-1 div.sk-estimator input.sk-toggleable__control:checked~label.sk-toggleable__label {\n",
       "  /* unfitted */\n",
       "  background-color: var(--sklearn-color-unfitted-level-2);\n",
       "}\n",
       "\n",
       "#sk-container-id-1 div.sk-estimator.fitted input.sk-toggleable__control:checked~label.sk-toggleable__label {\n",
       "  /* fitted */\n",
       "  background-color: var(--sklearn-color-fitted-level-2);\n",
       "}\n",
       "\n",
       "#sk-container-id-1 div.sk-label label.sk-toggleable__label,\n",
       "#sk-container-id-1 div.sk-label label {\n",
       "  /* The background is the default theme color */\n",
       "  color: var(--sklearn-color-text-on-default-background);\n",
       "}\n",
       "\n",
       "/* On hover, darken the color of the background */\n",
       "#sk-container-id-1 div.sk-label:hover label.sk-toggleable__label {\n",
       "  color: var(--sklearn-color-text);\n",
       "  background-color: var(--sklearn-color-unfitted-level-2);\n",
       "}\n",
       "\n",
       "/* Label box, darken color on hover, fitted */\n",
       "#sk-container-id-1 div.sk-label.fitted:hover label.sk-toggleable__label.fitted {\n",
       "  color: var(--sklearn-color-text);\n",
       "  background-color: var(--sklearn-color-fitted-level-2);\n",
       "}\n",
       "\n",
       "/* Estimator label */\n",
       "\n",
       "#sk-container-id-1 div.sk-label label {\n",
       "  font-family: monospace;\n",
       "  font-weight: bold;\n",
       "  display: inline-block;\n",
       "  line-height: 1.2em;\n",
       "}\n",
       "\n",
       "#sk-container-id-1 div.sk-label-container {\n",
       "  text-align: center;\n",
       "}\n",
       "\n",
       "/* Estimator-specific */\n",
       "#sk-container-id-1 div.sk-estimator {\n",
       "  font-family: monospace;\n",
       "  border: 1px dotted var(--sklearn-color-border-box);\n",
       "  border-radius: 0.25em;\n",
       "  box-sizing: border-box;\n",
       "  margin-bottom: 0.5em;\n",
       "  /* unfitted */\n",
       "  background-color: var(--sklearn-color-unfitted-level-0);\n",
       "}\n",
       "\n",
       "#sk-container-id-1 div.sk-estimator.fitted {\n",
       "  /* fitted */\n",
       "  background-color: var(--sklearn-color-fitted-level-0);\n",
       "}\n",
       "\n",
       "/* on hover */\n",
       "#sk-container-id-1 div.sk-estimator:hover {\n",
       "  /* unfitted */\n",
       "  background-color: var(--sklearn-color-unfitted-level-2);\n",
       "}\n",
       "\n",
       "#sk-container-id-1 div.sk-estimator.fitted:hover {\n",
       "  /* fitted */\n",
       "  background-color: var(--sklearn-color-fitted-level-2);\n",
       "}\n",
       "\n",
       "/* Specification for estimator info (e.g. \"i\" and \"?\") */\n",
       "\n",
       "/* Common style for \"i\" and \"?\" */\n",
       "\n",
       ".sk-estimator-doc-link,\n",
       "a:link.sk-estimator-doc-link,\n",
       "a:visited.sk-estimator-doc-link {\n",
       "  float: right;\n",
       "  font-size: smaller;\n",
       "  line-height: 1em;\n",
       "  font-family: monospace;\n",
       "  background-color: var(--sklearn-color-background);\n",
       "  border-radius: 1em;\n",
       "  height: 1em;\n",
       "  width: 1em;\n",
       "  text-decoration: none !important;\n",
       "  margin-left: 1ex;\n",
       "  /* unfitted */\n",
       "  border: var(--sklearn-color-unfitted-level-1) 1pt solid;\n",
       "  color: var(--sklearn-color-unfitted-level-1);\n",
       "}\n",
       "\n",
       ".sk-estimator-doc-link.fitted,\n",
       "a:link.sk-estimator-doc-link.fitted,\n",
       "a:visited.sk-estimator-doc-link.fitted {\n",
       "  /* fitted */\n",
       "  border: var(--sklearn-color-fitted-level-1) 1pt solid;\n",
       "  color: var(--sklearn-color-fitted-level-1);\n",
       "}\n",
       "\n",
       "/* On hover */\n",
       "div.sk-estimator:hover .sk-estimator-doc-link:hover,\n",
       ".sk-estimator-doc-link:hover,\n",
       "div.sk-label-container:hover .sk-estimator-doc-link:hover,\n",
       ".sk-estimator-doc-link:hover {\n",
       "  /* unfitted */\n",
       "  background-color: var(--sklearn-color-unfitted-level-3);\n",
       "  color: var(--sklearn-color-background);\n",
       "  text-decoration: none;\n",
       "}\n",
       "\n",
       "div.sk-estimator.fitted:hover .sk-estimator-doc-link.fitted:hover,\n",
       ".sk-estimator-doc-link.fitted:hover,\n",
       "div.sk-label-container:hover .sk-estimator-doc-link.fitted:hover,\n",
       ".sk-estimator-doc-link.fitted:hover {\n",
       "  /* fitted */\n",
       "  background-color: var(--sklearn-color-fitted-level-3);\n",
       "  color: var(--sklearn-color-background);\n",
       "  text-decoration: none;\n",
       "}\n",
       "\n",
       "/* Span, style for the box shown on hovering the info icon */\n",
       ".sk-estimator-doc-link span {\n",
       "  display: none;\n",
       "  z-index: 9999;\n",
       "  position: relative;\n",
       "  font-weight: normal;\n",
       "  right: .2ex;\n",
       "  padding: .5ex;\n",
       "  margin: .5ex;\n",
       "  width: min-content;\n",
       "  min-width: 20ex;\n",
       "  max-width: 50ex;\n",
       "  color: var(--sklearn-color-text);\n",
       "  box-shadow: 2pt 2pt 4pt #999;\n",
       "  /* unfitted */\n",
       "  background: var(--sklearn-color-unfitted-level-0);\n",
       "  border: .5pt solid var(--sklearn-color-unfitted-level-3);\n",
       "}\n",
       "\n",
       ".sk-estimator-doc-link.fitted span {\n",
       "  /* fitted */\n",
       "  background: var(--sklearn-color-fitted-level-0);\n",
       "  border: var(--sklearn-color-fitted-level-3);\n",
       "}\n",
       "\n",
       ".sk-estimator-doc-link:hover span {\n",
       "  display: block;\n",
       "}\n",
       "\n",
       "/* \"?\"-specific style due to the `<a>` HTML tag */\n",
       "\n",
       "#sk-container-id-1 a.estimator_doc_link {\n",
       "  float: right;\n",
       "  font-size: 1rem;\n",
       "  line-height: 1em;\n",
       "  font-family: monospace;\n",
       "  background-color: var(--sklearn-color-background);\n",
       "  border-radius: 1rem;\n",
       "  height: 1rem;\n",
       "  width: 1rem;\n",
       "  text-decoration: none;\n",
       "  /* unfitted */\n",
       "  color: var(--sklearn-color-unfitted-level-1);\n",
       "  border: var(--sklearn-color-unfitted-level-1) 1pt solid;\n",
       "}\n",
       "\n",
       "#sk-container-id-1 a.estimator_doc_link.fitted {\n",
       "  /* fitted */\n",
       "  border: var(--sklearn-color-fitted-level-1) 1pt solid;\n",
       "  color: var(--sklearn-color-fitted-level-1);\n",
       "}\n",
       "\n",
       "/* On hover */\n",
       "#sk-container-id-1 a.estimator_doc_link:hover {\n",
       "  /* unfitted */\n",
       "  background-color: var(--sklearn-color-unfitted-level-3);\n",
       "  color: var(--sklearn-color-background);\n",
       "  text-decoration: none;\n",
       "}\n",
       "\n",
       "#sk-container-id-1 a.estimator_doc_link.fitted:hover {\n",
       "  /* fitted */\n",
       "  background-color: var(--sklearn-color-fitted-level-3);\n",
       "}\n",
       "</style><div id=\"sk-container-id-1\" class=\"sk-top-container\"><div class=\"sk-text-repr-fallback\"><pre>LassoCV()</pre><b>In a Jupyter environment, please rerun this cell to show the HTML representation or trust the notebook. <br />On GitHub, the HTML representation is unable to render, please try loading this page with nbviewer.org.</b></div><div class=\"sk-container\" hidden><div class=\"sk-item\"><div class=\"sk-estimator fitted sk-toggleable\"><input class=\"sk-toggleable__control sk-hidden--visually\" id=\"sk-estimator-id-1\" type=\"checkbox\" checked><label for=\"sk-estimator-id-1\" class=\"sk-toggleable__label fitted sk-toggleable__label-arrow fitted\">&nbsp;&nbsp;LassoCV<a class=\"sk-estimator-doc-link fitted\" rel=\"noreferrer\" target=\"_blank\" href=\"https://scikit-learn.org/1.5/modules/generated/sklearn.linear_model.LassoCV.html\">?<span>Documentation for LassoCV</span></a><span class=\"sk-estimator-doc-link fitted\">i<span>Fitted</span></span></label><div class=\"sk-toggleable__content fitted\"><pre>LassoCV()</pre></div> </div></div></div></div>"
      ],
      "text/plain": [
       "LassoCV()"
      ]
     },
     "execution_count": 102,
     "metadata": {},
     "output_type": "execute_result"
    }
   ],
   "source": [
    "# Fit the data to the regression \n",
    "Lreg.fit(X_train_scaled[numerical_binary], y_train)"
   ]
  },
  {
   "cell_type": "code",
   "execution_count": 103,
   "id": "902d836b-14eb-4c03-9b24-39975c548cea",
   "metadata": {},
   "outputs": [
    {
     "data": {
      "text/plain": [
       "Age at Injury                    -0.000000\n",
       "Average Weekly Wage               3.252434\n",
       "Number of Dependents             -0.000000\n",
       "Age                               0.026798\n",
       "IME-4 Count                       0.363072\n",
       "Accident Year                    -0.179566\n",
       "Days_from_Assembly Date           0.023436\n",
       "Alternative Dispute Resolution    0.521921\n",
       "Attorney/Representative           0.360860\n",
       "COVID-19 Indicator               -0.100989\n",
       "Agreement Reached                 0.382364\n",
       "C3_Received                       0.027537\n",
       "C2_Received                       0.855470\n",
       "First_Hearing                    -0.008183\n",
       "Has_Dependents                    0.000000\n",
       "dtype: float64"
      ]
     },
     "execution_count": 103,
     "metadata": {},
     "output_type": "execute_result"
    }
   ],
   "source": [
    "coef = pd.Series(Lreg.coef_, index = X_train_scaled[numerical_binary].columns)\n",
    "coef"
   ]
  },
  {
   "cell_type": "markdown",
   "id": "40652a6d",
   "metadata": {},
   "source": [
    "<a class=\"anchor\" id=\"sub-section-2_8_6\"> </a>\n",
    "\n",
    "### 2.8.6. Final Drops\n",
    "\n",
    "</a>"
   ]
  },
  {
   "cell_type": "markdown",
   "id": "84317236",
   "metadata": {},
   "source": [
    "Variables to drop according to feature selection:\n",
    "- Correlation indices: 'Age' or 'Age at Injury', 'Accident Year' or 'Days_from_Assembly Date'  \n",
    "- Chi-Squared: 'Has_Dependents'\n",
    "- RFE: 'Age at Injury', 'Number of Dependents', 'Age', 'Days_from_Assembly Date', 'Has_Dependents'  \n",
    "- Lasso: 'Number of Dependents', 'Has_Dependents', 'Age at Injury'"
   ]
  },
  {
   "cell_type": "markdown",
   "id": "2a3c9329",
   "metadata": {},
   "source": [
    "Final considerations: <br>\n",
    "- We will remove the  variable who fail in all aplicable tests \n",
    "- For example, 'Has_Dependents' was flagged in the Chi-Squared, RFE and Lasso tests.\n",
    "- For numerical variables, we will drop 'Number of Dependents' and 'Age at Injury'\n",
    "- Regarding the second pair of correlated variables. 'Days_from_Assembly Date' will be dropped as it was flagged in RFE test and has a lower score than 'Accident Year' in the Lasso test."
   ]
  },
  {
   "cell_type": "code",
   "execution_count": 104,
   "id": "e64f5586",
   "metadata": {},
   "outputs": [],
   "source": [
    "# For the open-ended section\n",
    "y_train_agr = X_train_scaled[\"Agreement Reached\"]\n",
    "y_val_agr = X_val_scaled[\"Agreement Reached\"]"
   ]
  },
  {
   "cell_type": "code",
   "execution_count": 105,
   "id": "79015de4",
   "metadata": {},
   "outputs": [],
   "source": [
    "X_train_scaled.drop('Number of Dependents', axis=1, inplace=True)\n",
    "X_val_scaled.drop('Number of Dependents', axis=1, inplace=True)\n",
    "test.drop('Number of Dependents', axis=1, inplace=True)"
   ]
  },
  {
   "cell_type": "code",
   "execution_count": 106,
   "id": "41bf42cd",
   "metadata": {},
   "outputs": [],
   "source": [
    "X_train_scaled.drop('Days_from_Assembly Date', axis=1, inplace=True)\n",
    "X_val_scaled.drop('Days_from_Assembly Date', axis=1, inplace=True)\n",
    "test.drop('Days_from_Assembly Date', axis=1, inplace=True)"
   ]
  },
  {
   "cell_type": "code",
   "execution_count": 107,
   "id": "1d50d5fb",
   "metadata": {},
   "outputs": [],
   "source": [
    "# Need to drop agreement reached because it is not in test\n",
    "X_train_scaled.drop('Agreement Reached', axis=1, inplace=True)\n",
    "X_val_scaled.drop('Agreement Reached', axis=1, inplace=True)\n",
    "test.drop('Agreement Reached', axis=1, inplace=True)"
   ]
  },
  {
   "cell_type": "code",
   "execution_count": 108,
   "id": "c04ad4fe",
   "metadata": {},
   "outputs": [],
   "source": [
    "# To use for the other model\n",
    "X_train_agr = X_train_scaled.copy()\n",
    "X_val_agr = X_val_scaled.copy()"
   ]
  },
  {
   "cell_type": "code",
   "execution_count": 109,
   "id": "e6abd561",
   "metadata": {},
   "outputs": [],
   "source": [
    "X_train_scaled.drop('Has_Dependents', axis=1, inplace=True)\n",
    "X_val_scaled.drop('Has_Dependents', axis=1, inplace=True)\n",
    "#test.drop('Has_Dependents', axis=1, inplace=True) # Uncomment depending on open section or not"
   ]
  },
  {
   "cell_type": "code",
   "execution_count": 110,
   "id": "46c3151a",
   "metadata": {},
   "outputs": [],
   "source": [
    "X_train_scaled.drop('Age at Injury', axis=1, inplace=True)\n",
    "X_val_scaled.drop('Age at Injury', axis=1, inplace=True)\n",
    "#test.drop('Age at Injury', axis=1, inplace=True) # Uncomment depending on open section or not"
   ]
  },
  {
   "cell_type": "markdown",
   "id": "d441c67f",
   "metadata": {},
   "source": [
    "<a class=\"anchor\"  id=\"chapter3\"></a>\n",
    "\n",
    "# 3. Modeling\n",
    "\n",
    "</a>"
   ]
  },
  {
   "cell_type": "markdown",
   "id": "05936f31",
   "metadata": {},
   "source": [
    "This problem is a multi-class classification problem as we aim to predict a target with several categories. Some relevant models include: K-Nearest Neighbors, Gradient Boosting, Naive Bayes classifier, decision trees, logistic regression. It's important to note that some models need some adjustments to work on this type of problem."
   ]
  },
  {
   "cell_type": "markdown",
   "id": "829e3e6e",
   "metadata": {},
   "source": [
    "To assess the performance of the models, we will use the following metrics:\n",
    "   -  Accuracy: because it gives a general overview of the  model performance (but is not that useful on unbalanced data)\n",
    "   -  Macro F1 score: to test if the model performs well across all target classes\n",
    "   -  Weighted F1 Score: because it considers the proportion of each class and gives a more general view of the model\n",
    "   -  Same metrics but by class: to see which classes have better and worse predictions\n",
    "   -  Confusion matrix: has the details of the predictions to see where the model is making the most misclassifications"
   ]
  },
  {
   "cell_type": "markdown",
   "id": "555f5e8b",
   "metadata": {},
   "source": [
    "To see some of these metrics, we used classification_report that also includes other metrics (e.g. precision and recall)."
   ]
  },
  {
   "cell_type": "markdown",
   "id": "864467f4",
   "metadata": {},
   "source": [
    "<a class=\"anchor\" id=\"sub-section-3_1\"></a>\n",
    "\n",
    "## 3.1. Models\n",
    "\n",
    "</a>"
   ]
  },
  {
   "cell_type": "markdown",
   "id": "1ce6a19e",
   "metadata": {
    "id": "63b66807"
   },
   "source": [
    "<a class=\"anchor\" id=\"sub-section-3_1_1\"></a>\n",
    "\n",
    "### 3.1.1. Logistic Regression\n",
    "\n",
    "</a>"
   ]
  },
  {
   "cell_type": "code",
   "execution_count": 111,
   "id": "eb79bca4",
   "metadata": {},
   "outputs": [
    {
     "data": {
      "text/html": [
       "<style>#sk-container-id-2 {\n",
       "  /* Definition of color scheme common for light and dark mode */\n",
       "  --sklearn-color-text: black;\n",
       "  --sklearn-color-line: gray;\n",
       "  /* Definition of color scheme for unfitted estimators */\n",
       "  --sklearn-color-unfitted-level-0: #fff5e6;\n",
       "  --sklearn-color-unfitted-level-1: #f6e4d2;\n",
       "  --sklearn-color-unfitted-level-2: #ffe0b3;\n",
       "  --sklearn-color-unfitted-level-3: chocolate;\n",
       "  /* Definition of color scheme for fitted estimators */\n",
       "  --sklearn-color-fitted-level-0: #f0f8ff;\n",
       "  --sklearn-color-fitted-level-1: #d4ebff;\n",
       "  --sklearn-color-fitted-level-2: #b3dbfd;\n",
       "  --sklearn-color-fitted-level-3: cornflowerblue;\n",
       "\n",
       "  /* Specific color for light theme */\n",
       "  --sklearn-color-text-on-default-background: var(--sg-text-color, var(--theme-code-foreground, var(--jp-content-font-color1, black)));\n",
       "  --sklearn-color-background: var(--sg-background-color, var(--theme-background, var(--jp-layout-color0, white)));\n",
       "  --sklearn-color-border-box: var(--sg-text-color, var(--theme-code-foreground, var(--jp-content-font-color1, black)));\n",
       "  --sklearn-color-icon: #696969;\n",
       "\n",
       "  @media (prefers-color-scheme: dark) {\n",
       "    /* Redefinition of color scheme for dark theme */\n",
       "    --sklearn-color-text-on-default-background: var(--sg-text-color, var(--theme-code-foreground, var(--jp-content-font-color1, white)));\n",
       "    --sklearn-color-background: var(--sg-background-color, var(--theme-background, var(--jp-layout-color0, #111)));\n",
       "    --sklearn-color-border-box: var(--sg-text-color, var(--theme-code-foreground, var(--jp-content-font-color1, white)));\n",
       "    --sklearn-color-icon: #878787;\n",
       "  }\n",
       "}\n",
       "\n",
       "#sk-container-id-2 {\n",
       "  color: var(--sklearn-color-text);\n",
       "}\n",
       "\n",
       "#sk-container-id-2 pre {\n",
       "  padding: 0;\n",
       "}\n",
       "\n",
       "#sk-container-id-2 input.sk-hidden--visually {\n",
       "  border: 0;\n",
       "  clip: rect(1px 1px 1px 1px);\n",
       "  clip: rect(1px, 1px, 1px, 1px);\n",
       "  height: 1px;\n",
       "  margin: -1px;\n",
       "  overflow: hidden;\n",
       "  padding: 0;\n",
       "  position: absolute;\n",
       "  width: 1px;\n",
       "}\n",
       "\n",
       "#sk-container-id-2 div.sk-dashed-wrapped {\n",
       "  border: 1px dashed var(--sklearn-color-line);\n",
       "  margin: 0 0.4em 0.5em 0.4em;\n",
       "  box-sizing: border-box;\n",
       "  padding-bottom: 0.4em;\n",
       "  background-color: var(--sklearn-color-background);\n",
       "}\n",
       "\n",
       "#sk-container-id-2 div.sk-container {\n",
       "  /* jupyter's `normalize.less` sets `[hidden] { display: none; }`\n",
       "     but bootstrap.min.css set `[hidden] { display: none !important; }`\n",
       "     so we also need the `!important` here to be able to override the\n",
       "     default hidden behavior on the sphinx rendered scikit-learn.org.\n",
       "     See: https://github.com/scikit-learn/scikit-learn/issues/21755 */\n",
       "  display: inline-block !important;\n",
       "  position: relative;\n",
       "}\n",
       "\n",
       "#sk-container-id-2 div.sk-text-repr-fallback {\n",
       "  display: none;\n",
       "}\n",
       "\n",
       "div.sk-parallel-item,\n",
       "div.sk-serial,\n",
       "div.sk-item {\n",
       "  /* draw centered vertical line to link estimators */\n",
       "  background-image: linear-gradient(var(--sklearn-color-text-on-default-background), var(--sklearn-color-text-on-default-background));\n",
       "  background-size: 2px 100%;\n",
       "  background-repeat: no-repeat;\n",
       "  background-position: center center;\n",
       "}\n",
       "\n",
       "/* Parallel-specific style estimator block */\n",
       "\n",
       "#sk-container-id-2 div.sk-parallel-item::after {\n",
       "  content: \"\";\n",
       "  width: 100%;\n",
       "  border-bottom: 2px solid var(--sklearn-color-text-on-default-background);\n",
       "  flex-grow: 1;\n",
       "}\n",
       "\n",
       "#sk-container-id-2 div.sk-parallel {\n",
       "  display: flex;\n",
       "  align-items: stretch;\n",
       "  justify-content: center;\n",
       "  background-color: var(--sklearn-color-background);\n",
       "  position: relative;\n",
       "}\n",
       "\n",
       "#sk-container-id-2 div.sk-parallel-item {\n",
       "  display: flex;\n",
       "  flex-direction: column;\n",
       "}\n",
       "\n",
       "#sk-container-id-2 div.sk-parallel-item:first-child::after {\n",
       "  align-self: flex-end;\n",
       "  width: 50%;\n",
       "}\n",
       "\n",
       "#sk-container-id-2 div.sk-parallel-item:last-child::after {\n",
       "  align-self: flex-start;\n",
       "  width: 50%;\n",
       "}\n",
       "\n",
       "#sk-container-id-2 div.sk-parallel-item:only-child::after {\n",
       "  width: 0;\n",
       "}\n",
       "\n",
       "/* Serial-specific style estimator block */\n",
       "\n",
       "#sk-container-id-2 div.sk-serial {\n",
       "  display: flex;\n",
       "  flex-direction: column;\n",
       "  align-items: center;\n",
       "  background-color: var(--sklearn-color-background);\n",
       "  padding-right: 1em;\n",
       "  padding-left: 1em;\n",
       "}\n",
       "\n",
       "\n",
       "/* Toggleable style: style used for estimator/Pipeline/ColumnTransformer box that is\n",
       "clickable and can be expanded/collapsed.\n",
       "- Pipeline and ColumnTransformer use this feature and define the default style\n",
       "- Estimators will overwrite some part of the style using the `sk-estimator` class\n",
       "*/\n",
       "\n",
       "/* Pipeline and ColumnTransformer style (default) */\n",
       "\n",
       "#sk-container-id-2 div.sk-toggleable {\n",
       "  /* Default theme specific background. It is overwritten whether we have a\n",
       "  specific estimator or a Pipeline/ColumnTransformer */\n",
       "  background-color: var(--sklearn-color-background);\n",
       "}\n",
       "\n",
       "/* Toggleable label */\n",
       "#sk-container-id-2 label.sk-toggleable__label {\n",
       "  cursor: pointer;\n",
       "  display: block;\n",
       "  width: 100%;\n",
       "  margin-bottom: 0;\n",
       "  padding: 0.5em;\n",
       "  box-sizing: border-box;\n",
       "  text-align: center;\n",
       "}\n",
       "\n",
       "#sk-container-id-2 label.sk-toggleable__label-arrow:before {\n",
       "  /* Arrow on the left of the label */\n",
       "  content: \"▸\";\n",
       "  float: left;\n",
       "  margin-right: 0.25em;\n",
       "  color: var(--sklearn-color-icon);\n",
       "}\n",
       "\n",
       "#sk-container-id-2 label.sk-toggleable__label-arrow:hover:before {\n",
       "  color: var(--sklearn-color-text);\n",
       "}\n",
       "\n",
       "/* Toggleable content - dropdown */\n",
       "\n",
       "#sk-container-id-2 div.sk-toggleable__content {\n",
       "  max-height: 0;\n",
       "  max-width: 0;\n",
       "  overflow: hidden;\n",
       "  text-align: left;\n",
       "  /* unfitted */\n",
       "  background-color: var(--sklearn-color-unfitted-level-0);\n",
       "}\n",
       "\n",
       "#sk-container-id-2 div.sk-toggleable__content.fitted {\n",
       "  /* fitted */\n",
       "  background-color: var(--sklearn-color-fitted-level-0);\n",
       "}\n",
       "\n",
       "#sk-container-id-2 div.sk-toggleable__content pre {\n",
       "  margin: 0.2em;\n",
       "  border-radius: 0.25em;\n",
       "  color: var(--sklearn-color-text);\n",
       "  /* unfitted */\n",
       "  background-color: var(--sklearn-color-unfitted-level-0);\n",
       "}\n",
       "\n",
       "#sk-container-id-2 div.sk-toggleable__content.fitted pre {\n",
       "  /* unfitted */\n",
       "  background-color: var(--sklearn-color-fitted-level-0);\n",
       "}\n",
       "\n",
       "#sk-container-id-2 input.sk-toggleable__control:checked~div.sk-toggleable__content {\n",
       "  /* Expand drop-down */\n",
       "  max-height: 200px;\n",
       "  max-width: 100%;\n",
       "  overflow: auto;\n",
       "}\n",
       "\n",
       "#sk-container-id-2 input.sk-toggleable__control:checked~label.sk-toggleable__label-arrow:before {\n",
       "  content: \"▾\";\n",
       "}\n",
       "\n",
       "/* Pipeline/ColumnTransformer-specific style */\n",
       "\n",
       "#sk-container-id-2 div.sk-label input.sk-toggleable__control:checked~label.sk-toggleable__label {\n",
       "  color: var(--sklearn-color-text);\n",
       "  background-color: var(--sklearn-color-unfitted-level-2);\n",
       "}\n",
       "\n",
       "#sk-container-id-2 div.sk-label.fitted input.sk-toggleable__control:checked~label.sk-toggleable__label {\n",
       "  background-color: var(--sklearn-color-fitted-level-2);\n",
       "}\n",
       "\n",
       "/* Estimator-specific style */\n",
       "\n",
       "/* Colorize estimator box */\n",
       "#sk-container-id-2 div.sk-estimator input.sk-toggleable__control:checked~label.sk-toggleable__label {\n",
       "  /* unfitted */\n",
       "  background-color: var(--sklearn-color-unfitted-level-2);\n",
       "}\n",
       "\n",
       "#sk-container-id-2 div.sk-estimator.fitted input.sk-toggleable__control:checked~label.sk-toggleable__label {\n",
       "  /* fitted */\n",
       "  background-color: var(--sklearn-color-fitted-level-2);\n",
       "}\n",
       "\n",
       "#sk-container-id-2 div.sk-label label.sk-toggleable__label,\n",
       "#sk-container-id-2 div.sk-label label {\n",
       "  /* The background is the default theme color */\n",
       "  color: var(--sklearn-color-text-on-default-background);\n",
       "}\n",
       "\n",
       "/* On hover, darken the color of the background */\n",
       "#sk-container-id-2 div.sk-label:hover label.sk-toggleable__label {\n",
       "  color: var(--sklearn-color-text);\n",
       "  background-color: var(--sklearn-color-unfitted-level-2);\n",
       "}\n",
       "\n",
       "/* Label box, darken color on hover, fitted */\n",
       "#sk-container-id-2 div.sk-label.fitted:hover label.sk-toggleable__label.fitted {\n",
       "  color: var(--sklearn-color-text);\n",
       "  background-color: var(--sklearn-color-fitted-level-2);\n",
       "}\n",
       "\n",
       "/* Estimator label */\n",
       "\n",
       "#sk-container-id-2 div.sk-label label {\n",
       "  font-family: monospace;\n",
       "  font-weight: bold;\n",
       "  display: inline-block;\n",
       "  line-height: 1.2em;\n",
       "}\n",
       "\n",
       "#sk-container-id-2 div.sk-label-container {\n",
       "  text-align: center;\n",
       "}\n",
       "\n",
       "/* Estimator-specific */\n",
       "#sk-container-id-2 div.sk-estimator {\n",
       "  font-family: monospace;\n",
       "  border: 1px dotted var(--sklearn-color-border-box);\n",
       "  border-radius: 0.25em;\n",
       "  box-sizing: border-box;\n",
       "  margin-bottom: 0.5em;\n",
       "  /* unfitted */\n",
       "  background-color: var(--sklearn-color-unfitted-level-0);\n",
       "}\n",
       "\n",
       "#sk-container-id-2 div.sk-estimator.fitted {\n",
       "  /* fitted */\n",
       "  background-color: var(--sklearn-color-fitted-level-0);\n",
       "}\n",
       "\n",
       "/* on hover */\n",
       "#sk-container-id-2 div.sk-estimator:hover {\n",
       "  /* unfitted */\n",
       "  background-color: var(--sklearn-color-unfitted-level-2);\n",
       "}\n",
       "\n",
       "#sk-container-id-2 div.sk-estimator.fitted:hover {\n",
       "  /* fitted */\n",
       "  background-color: var(--sklearn-color-fitted-level-2);\n",
       "}\n",
       "\n",
       "/* Specification for estimator info (e.g. \"i\" and \"?\") */\n",
       "\n",
       "/* Common style for \"i\" and \"?\" */\n",
       "\n",
       ".sk-estimator-doc-link,\n",
       "a:link.sk-estimator-doc-link,\n",
       "a:visited.sk-estimator-doc-link {\n",
       "  float: right;\n",
       "  font-size: smaller;\n",
       "  line-height: 1em;\n",
       "  font-family: monospace;\n",
       "  background-color: var(--sklearn-color-background);\n",
       "  border-radius: 1em;\n",
       "  height: 1em;\n",
       "  width: 1em;\n",
       "  text-decoration: none !important;\n",
       "  margin-left: 1ex;\n",
       "  /* unfitted */\n",
       "  border: var(--sklearn-color-unfitted-level-1) 1pt solid;\n",
       "  color: var(--sklearn-color-unfitted-level-1);\n",
       "}\n",
       "\n",
       ".sk-estimator-doc-link.fitted,\n",
       "a:link.sk-estimator-doc-link.fitted,\n",
       "a:visited.sk-estimator-doc-link.fitted {\n",
       "  /* fitted */\n",
       "  border: var(--sklearn-color-fitted-level-1) 1pt solid;\n",
       "  color: var(--sklearn-color-fitted-level-1);\n",
       "}\n",
       "\n",
       "/* On hover */\n",
       "div.sk-estimator:hover .sk-estimator-doc-link:hover,\n",
       ".sk-estimator-doc-link:hover,\n",
       "div.sk-label-container:hover .sk-estimator-doc-link:hover,\n",
       ".sk-estimator-doc-link:hover {\n",
       "  /* unfitted */\n",
       "  background-color: var(--sklearn-color-unfitted-level-3);\n",
       "  color: var(--sklearn-color-background);\n",
       "  text-decoration: none;\n",
       "}\n",
       "\n",
       "div.sk-estimator.fitted:hover .sk-estimator-doc-link.fitted:hover,\n",
       ".sk-estimator-doc-link.fitted:hover,\n",
       "div.sk-label-container:hover .sk-estimator-doc-link.fitted:hover,\n",
       ".sk-estimator-doc-link.fitted:hover {\n",
       "  /* fitted */\n",
       "  background-color: var(--sklearn-color-fitted-level-3);\n",
       "  color: var(--sklearn-color-background);\n",
       "  text-decoration: none;\n",
       "}\n",
       "\n",
       "/* Span, style for the box shown on hovering the info icon */\n",
       ".sk-estimator-doc-link span {\n",
       "  display: none;\n",
       "  z-index: 9999;\n",
       "  position: relative;\n",
       "  font-weight: normal;\n",
       "  right: .2ex;\n",
       "  padding: .5ex;\n",
       "  margin: .5ex;\n",
       "  width: min-content;\n",
       "  min-width: 20ex;\n",
       "  max-width: 50ex;\n",
       "  color: var(--sklearn-color-text);\n",
       "  box-shadow: 2pt 2pt 4pt #999;\n",
       "  /* unfitted */\n",
       "  background: var(--sklearn-color-unfitted-level-0);\n",
       "  border: .5pt solid var(--sklearn-color-unfitted-level-3);\n",
       "}\n",
       "\n",
       ".sk-estimator-doc-link.fitted span {\n",
       "  /* fitted */\n",
       "  background: var(--sklearn-color-fitted-level-0);\n",
       "  border: var(--sklearn-color-fitted-level-3);\n",
       "}\n",
       "\n",
       ".sk-estimator-doc-link:hover span {\n",
       "  display: block;\n",
       "}\n",
       "\n",
       "/* \"?\"-specific style due to the `<a>` HTML tag */\n",
       "\n",
       "#sk-container-id-2 a.estimator_doc_link {\n",
       "  float: right;\n",
       "  font-size: 1rem;\n",
       "  line-height: 1em;\n",
       "  font-family: monospace;\n",
       "  background-color: var(--sklearn-color-background);\n",
       "  border-radius: 1rem;\n",
       "  height: 1rem;\n",
       "  width: 1rem;\n",
       "  text-decoration: none;\n",
       "  /* unfitted */\n",
       "  color: var(--sklearn-color-unfitted-level-1);\n",
       "  border: var(--sklearn-color-unfitted-level-1) 1pt solid;\n",
       "}\n",
       "\n",
       "#sk-container-id-2 a.estimator_doc_link.fitted {\n",
       "  /* fitted */\n",
       "  border: var(--sklearn-color-fitted-level-1) 1pt solid;\n",
       "  color: var(--sklearn-color-fitted-level-1);\n",
       "}\n",
       "\n",
       "/* On hover */\n",
       "#sk-container-id-2 a.estimator_doc_link:hover {\n",
       "  /* unfitted */\n",
       "  background-color: var(--sklearn-color-unfitted-level-3);\n",
       "  color: var(--sklearn-color-background);\n",
       "  text-decoration: none;\n",
       "}\n",
       "\n",
       "#sk-container-id-2 a.estimator_doc_link.fitted:hover {\n",
       "  /* fitted */\n",
       "  background-color: var(--sklearn-color-fitted-level-3);\n",
       "}\n",
       "</style><div id=\"sk-container-id-2\" class=\"sk-top-container\"><div class=\"sk-text-repr-fallback\"><pre>LogisticRegression()</pre><b>In a Jupyter environment, please rerun this cell to show the HTML representation or trust the notebook. <br />On GitHub, the HTML representation is unable to render, please try loading this page with nbviewer.org.</b></div><div class=\"sk-container\" hidden><div class=\"sk-item\"><div class=\"sk-estimator fitted sk-toggleable\"><input class=\"sk-toggleable__control sk-hidden--visually\" id=\"sk-estimator-id-2\" type=\"checkbox\" checked><label for=\"sk-estimator-id-2\" class=\"sk-toggleable__label fitted sk-toggleable__label-arrow fitted\">&nbsp;&nbsp;LogisticRegression<a class=\"sk-estimator-doc-link fitted\" rel=\"noreferrer\" target=\"_blank\" href=\"https://scikit-learn.org/1.5/modules/generated/sklearn.linear_model.LogisticRegression.html\">?<span>Documentation for LogisticRegression</span></a><span class=\"sk-estimator-doc-link fitted\">i<span>Fitted</span></span></label><div class=\"sk-toggleable__content fitted\"><pre>LogisticRegression()</pre></div> </div></div></div></div>"
      ],
      "text/plain": [
       "LogisticRegression()"
      ]
     },
     "execution_count": 111,
     "metadata": {},
     "output_type": "execute_result"
    }
   ],
   "source": [
    "log_model = LogisticRegression()\n",
    "log_model.fit(X_train_scaled, y_train)"
   ]
  },
  {
   "cell_type": "code",
   "execution_count": 112,
   "id": "c9210deb",
   "metadata": {},
   "outputs": [],
   "source": [
    "# Predict the target variable on the validation set\n",
    "log_predictions = log_model.predict(X_val_scaled)\n",
    "log_train_predictions = log_model.predict(X_train_scaled)"
   ]
  },
  {
   "cell_type": "code",
   "execution_count": 113,
   "id": "74eee261-69a8-4958-bd0c-af5b181f246f",
   "metadata": {},
   "outputs": [
    {
     "name": "stdout",
     "output_type": "stream",
     "text": [
      "Logistic Regression Model Performance:\n",
      "Accuracy on Train Set: 0.7606441357083751\n",
      "Training F1 Macro: 0.3375523723202124\n",
      "Accuracy on Validation Set: 0.7614302512956753\n"
     ]
    }
   ],
   "source": [
    "# Model's performance\n",
    "print(\"Logistic Regression Model Performance:\")\n",
    "f1_train_LR=f1_score(y_train, log_train_predictions, average='macro')\n",
    "f1_val_LR=f1_score(y_val, log_predictions, average='macro')\n",
    "\n",
    "print('Accuracy on Train Set:', accuracy_score(y_train, log_train_predictions))\n",
    "print('Training F1 Macro:', f1_train_LR)\n",
    "print('Accuracy on Validation Set:', accuracy_score(y_val, log_predictions))"
   ]
  },
  {
   "cell_type": "code",
   "execution_count": 114,
   "id": "d65352d5-e92a-44f0-855a-ea7eb1c1402a",
   "metadata": {},
   "outputs": [
    {
     "data": {
      "text/html": [
       "<div>\n",
       "<style scoped>\n",
       "    .dataframe tbody tr th:only-of-type {\n",
       "        vertical-align: middle;\n",
       "    }\n",
       "\n",
       "    .dataframe tbody tr th {\n",
       "        vertical-align: top;\n",
       "    }\n",
       "\n",
       "    .dataframe thead th {\n",
       "        text-align: right;\n",
       "    }\n",
       "</style>\n",
       "<table border=\"1\" class=\"dataframe\">\n",
       "  <thead>\n",
       "    <tr style=\"text-align: right;\">\n",
       "      <th></th>\n",
       "      <th>precision</th>\n",
       "      <th>recall</th>\n",
       "      <th>f1-score</th>\n",
       "      <th>support</th>\n",
       "    </tr>\n",
       "  </thead>\n",
       "  <tbody>\n",
       "    <tr>\n",
       "      <th>0</th>\n",
       "      <td>0.684762</td>\n",
       "      <td>0.444890</td>\n",
       "      <td>0.539359</td>\n",
       "      <td>2495.00000</td>\n",
       "    </tr>\n",
       "    <tr>\n",
       "      <th>1</th>\n",
       "      <td>0.836432</td>\n",
       "      <td>0.975282</td>\n",
       "      <td>0.900536</td>\n",
       "      <td>58216.00000</td>\n",
       "    </tr>\n",
       "    <tr>\n",
       "      <th>2</th>\n",
       "      <td>0.328125</td>\n",
       "      <td>0.050287</td>\n",
       "      <td>0.087208</td>\n",
       "      <td>13781.00000</td>\n",
       "    </tr>\n",
       "    <tr>\n",
       "      <th>3</th>\n",
       "      <td>0.675875</td>\n",
       "      <td>0.858355</td>\n",
       "      <td>0.756263</td>\n",
       "      <td>29701.00000</td>\n",
       "    </tr>\n",
       "    <tr>\n",
       "      <th>4</th>\n",
       "      <td>0.611304</td>\n",
       "      <td>0.346106</td>\n",
       "      <td>0.441976</td>\n",
       "      <td>9656.00000</td>\n",
       "    </tr>\n",
       "    <tr>\n",
       "      <th>5</th>\n",
       "      <td>0.000000</td>\n",
       "      <td>0.000000</td>\n",
       "      <td>0.000000</td>\n",
       "      <td>842.00000</td>\n",
       "    </tr>\n",
       "    <tr>\n",
       "      <th>6</th>\n",
       "      <td>0.000000</td>\n",
       "      <td>0.000000</td>\n",
       "      <td>0.000000</td>\n",
       "      <td>20.00000</td>\n",
       "    </tr>\n",
       "    <tr>\n",
       "      <th>7</th>\n",
       "      <td>0.000000</td>\n",
       "      <td>0.000000</td>\n",
       "      <td>0.000000</td>\n",
       "      <td>94.00000</td>\n",
       "    </tr>\n",
       "    <tr>\n",
       "      <th>accuracy</th>\n",
       "      <td>0.761430</td>\n",
       "      <td>0.761430</td>\n",
       "      <td>0.761430</td>\n",
       "      <td>0.76143</td>\n",
       "    </tr>\n",
       "    <tr>\n",
       "      <th>macro avg</th>\n",
       "      <td>0.392062</td>\n",
       "      <td>0.334365</td>\n",
       "      <td>0.340668</td>\n",
       "      <td>114805.00000</td>\n",
       "    </tr>\n",
       "    <tr>\n",
       "      <th>weighted avg</th>\n",
       "      <td>0.704682</td>\n",
       "      <td>0.761430</td>\n",
       "      <td>0.711664</td>\n",
       "      <td>114805.00000</td>\n",
       "    </tr>\n",
       "  </tbody>\n",
       "</table>\n",
       "</div>"
      ],
      "text/plain": [
       "              precision    recall  f1-score       support\n",
       "0              0.684762  0.444890  0.539359    2495.00000\n",
       "1              0.836432  0.975282  0.900536   58216.00000\n",
       "2              0.328125  0.050287  0.087208   13781.00000\n",
       "3              0.675875  0.858355  0.756263   29701.00000\n",
       "4              0.611304  0.346106  0.441976    9656.00000\n",
       "5              0.000000  0.000000  0.000000     842.00000\n",
       "6              0.000000  0.000000  0.000000      20.00000\n",
       "7              0.000000  0.000000  0.000000      94.00000\n",
       "accuracy       0.761430  0.761430  0.761430       0.76143\n",
       "macro avg      0.392062  0.334365  0.340668  114805.00000\n",
       "weighted avg   0.704682  0.761430  0.711664  114805.00000"
      ]
     },
     "execution_count": 114,
     "metadata": {},
     "output_type": "execute_result"
    }
   ],
   "source": [
    "class_report = classification_report(y_val, log_predictions, output_dict=True)\n",
    "class_report_df = pd.DataFrame(class_report).transpose()\n",
    "class_report_df"
   ]
  },
  {
   "cell_type": "code",
   "execution_count": 115,
   "id": "28a4a16a-087e-4855-a005-ea711eacfd1d",
   "metadata": {},
   "outputs": [
    {
     "name": "stdout",
     "output_type": "stream",
     "text": [
      "Confusion Matrix for Validation:\n"
     ]
    },
    {
     "data": {
      "text/html": [
       "<div>\n",
       "<style scoped>\n",
       "    .dataframe tbody tr th:only-of-type {\n",
       "        vertical-align: middle;\n",
       "    }\n",
       "\n",
       "    .dataframe tbody tr th {\n",
       "        vertical-align: top;\n",
       "    }\n",
       "\n",
       "    .dataframe thead th {\n",
       "        text-align: right;\n",
       "    }\n",
       "</style>\n",
       "<table border=\"1\" class=\"dataframe\">\n",
       "  <thead>\n",
       "    <tr style=\"text-align: right;\">\n",
       "      <th></th>\n",
       "      <th>0</th>\n",
       "      <th>1</th>\n",
       "      <th>2</th>\n",
       "      <th>3</th>\n",
       "      <th>4</th>\n",
       "      <th>5</th>\n",
       "      <th>6</th>\n",
       "      <th>7</th>\n",
       "    </tr>\n",
       "  </thead>\n",
       "  <tbody>\n",
       "    <tr>\n",
       "      <th>0</th>\n",
       "      <td>1110</td>\n",
       "      <td>1284</td>\n",
       "      <td>57</td>\n",
       "      <td>42</td>\n",
       "      <td>2</td>\n",
       "      <td>0</td>\n",
       "      <td>0</td>\n",
       "      <td>0</td>\n",
       "    </tr>\n",
       "    <tr>\n",
       "      <th>1</th>\n",
       "      <td>454</td>\n",
       "      <td>56777</td>\n",
       "      <td>449</td>\n",
       "      <td>514</td>\n",
       "      <td>22</td>\n",
       "      <td>0</td>\n",
       "      <td>0</td>\n",
       "      <td>0</td>\n",
       "    </tr>\n",
       "    <tr>\n",
       "      <th>2</th>\n",
       "      <td>26</td>\n",
       "      <td>7709</td>\n",
       "      <td>693</td>\n",
       "      <td>4937</td>\n",
       "      <td>415</td>\n",
       "      <td>1</td>\n",
       "      <td>0</td>\n",
       "      <td>0</td>\n",
       "    </tr>\n",
       "    <tr>\n",
       "      <th>3</th>\n",
       "      <td>30</td>\n",
       "      <td>1922</td>\n",
       "      <td>690</td>\n",
       "      <td>25494</td>\n",
       "      <td>1562</td>\n",
       "      <td>2</td>\n",
       "      <td>0</td>\n",
       "      <td>1</td>\n",
       "    </tr>\n",
       "    <tr>\n",
       "      <th>4</th>\n",
       "      <td>1</td>\n",
       "      <td>167</td>\n",
       "      <td>193</td>\n",
       "      <td>5953</td>\n",
       "      <td>3342</td>\n",
       "      <td>0</td>\n",
       "      <td>0</td>\n",
       "      <td>0</td>\n",
       "    </tr>\n",
       "    <tr>\n",
       "      <th>5</th>\n",
       "      <td>0</td>\n",
       "      <td>3</td>\n",
       "      <td>23</td>\n",
       "      <td>698</td>\n",
       "      <td>118</td>\n",
       "      <td>0</td>\n",
       "      <td>0</td>\n",
       "      <td>0</td>\n",
       "    </tr>\n",
       "    <tr>\n",
       "      <th>6</th>\n",
       "      <td>0</td>\n",
       "      <td>0</td>\n",
       "      <td>0</td>\n",
       "      <td>16</td>\n",
       "      <td>3</td>\n",
       "      <td>1</td>\n",
       "      <td>0</td>\n",
       "      <td>0</td>\n",
       "    </tr>\n",
       "    <tr>\n",
       "      <th>7</th>\n",
       "      <td>0</td>\n",
       "      <td>18</td>\n",
       "      <td>7</td>\n",
       "      <td>66</td>\n",
       "      <td>3</td>\n",
       "      <td>0</td>\n",
       "      <td>0</td>\n",
       "      <td>0</td>\n",
       "    </tr>\n",
       "  </tbody>\n",
       "</table>\n",
       "</div>"
      ],
      "text/plain": [
       "      0      1    2      3     4  5  6  7\n",
       "0  1110   1284   57     42     2  0  0  0\n",
       "1   454  56777  449    514    22  0  0  0\n",
       "2    26   7709  693   4937   415  1  0  0\n",
       "3    30   1922  690  25494  1562  2  0  1\n",
       "4     1    167  193   5953  3342  0  0  0\n",
       "5     0      3   23    698   118  0  0  0\n",
       "6     0      0    0     16     3  1  0  0\n",
       "7     0     18    7     66     3  0  0  0"
      ]
     },
     "execution_count": 115,
     "metadata": {},
     "output_type": "execute_result"
    }
   ],
   "source": [
    "conf_matrix = confusion_matrix(y_val, log_predictions)\n",
    "conf_matrix = pd.DataFrame(conf_matrix)\n",
    "print('Confusion Matrix for Validation:')\n",
    "conf_matrix"
   ]
  },
  {
   "cell_type": "markdown",
   "id": "78f13343",
   "metadata": {
    "id": "63b66807"
   },
   "source": [
    "<a class=\"anchor\" id=\"sub-section-3_1_2\"></a>\n",
    "\n",
    "### 3.1.2. Naive Bayes\n",
    "</a>"
   ]
  },
  {
   "cell_type": "code",
   "execution_count": 116,
   "id": "a1f4b028",
   "metadata": {},
   "outputs": [],
   "source": [
    "modelNB = GaussianNB(var_smoothing=0.0001)"
   ]
  },
  {
   "cell_type": "code",
   "execution_count": 117,
   "id": "4c93c366",
   "metadata": {},
   "outputs": [
    {
     "data": {
      "text/html": [
       "<style>#sk-container-id-3 {\n",
       "  /* Definition of color scheme common for light and dark mode */\n",
       "  --sklearn-color-text: black;\n",
       "  --sklearn-color-line: gray;\n",
       "  /* Definition of color scheme for unfitted estimators */\n",
       "  --sklearn-color-unfitted-level-0: #fff5e6;\n",
       "  --sklearn-color-unfitted-level-1: #f6e4d2;\n",
       "  --sklearn-color-unfitted-level-2: #ffe0b3;\n",
       "  --sklearn-color-unfitted-level-3: chocolate;\n",
       "  /* Definition of color scheme for fitted estimators */\n",
       "  --sklearn-color-fitted-level-0: #f0f8ff;\n",
       "  --sklearn-color-fitted-level-1: #d4ebff;\n",
       "  --sklearn-color-fitted-level-2: #b3dbfd;\n",
       "  --sklearn-color-fitted-level-3: cornflowerblue;\n",
       "\n",
       "  /* Specific color for light theme */\n",
       "  --sklearn-color-text-on-default-background: var(--sg-text-color, var(--theme-code-foreground, var(--jp-content-font-color1, black)));\n",
       "  --sklearn-color-background: var(--sg-background-color, var(--theme-background, var(--jp-layout-color0, white)));\n",
       "  --sklearn-color-border-box: var(--sg-text-color, var(--theme-code-foreground, var(--jp-content-font-color1, black)));\n",
       "  --sklearn-color-icon: #696969;\n",
       "\n",
       "  @media (prefers-color-scheme: dark) {\n",
       "    /* Redefinition of color scheme for dark theme */\n",
       "    --sklearn-color-text-on-default-background: var(--sg-text-color, var(--theme-code-foreground, var(--jp-content-font-color1, white)));\n",
       "    --sklearn-color-background: var(--sg-background-color, var(--theme-background, var(--jp-layout-color0, #111)));\n",
       "    --sklearn-color-border-box: var(--sg-text-color, var(--theme-code-foreground, var(--jp-content-font-color1, white)));\n",
       "    --sklearn-color-icon: #878787;\n",
       "  }\n",
       "}\n",
       "\n",
       "#sk-container-id-3 {\n",
       "  color: var(--sklearn-color-text);\n",
       "}\n",
       "\n",
       "#sk-container-id-3 pre {\n",
       "  padding: 0;\n",
       "}\n",
       "\n",
       "#sk-container-id-3 input.sk-hidden--visually {\n",
       "  border: 0;\n",
       "  clip: rect(1px 1px 1px 1px);\n",
       "  clip: rect(1px, 1px, 1px, 1px);\n",
       "  height: 1px;\n",
       "  margin: -1px;\n",
       "  overflow: hidden;\n",
       "  padding: 0;\n",
       "  position: absolute;\n",
       "  width: 1px;\n",
       "}\n",
       "\n",
       "#sk-container-id-3 div.sk-dashed-wrapped {\n",
       "  border: 1px dashed var(--sklearn-color-line);\n",
       "  margin: 0 0.4em 0.5em 0.4em;\n",
       "  box-sizing: border-box;\n",
       "  padding-bottom: 0.4em;\n",
       "  background-color: var(--sklearn-color-background);\n",
       "}\n",
       "\n",
       "#sk-container-id-3 div.sk-container {\n",
       "  /* jupyter's `normalize.less` sets `[hidden] { display: none; }`\n",
       "     but bootstrap.min.css set `[hidden] { display: none !important; }`\n",
       "     so we also need the `!important` here to be able to override the\n",
       "     default hidden behavior on the sphinx rendered scikit-learn.org.\n",
       "     See: https://github.com/scikit-learn/scikit-learn/issues/21755 */\n",
       "  display: inline-block !important;\n",
       "  position: relative;\n",
       "}\n",
       "\n",
       "#sk-container-id-3 div.sk-text-repr-fallback {\n",
       "  display: none;\n",
       "}\n",
       "\n",
       "div.sk-parallel-item,\n",
       "div.sk-serial,\n",
       "div.sk-item {\n",
       "  /* draw centered vertical line to link estimators */\n",
       "  background-image: linear-gradient(var(--sklearn-color-text-on-default-background), var(--sklearn-color-text-on-default-background));\n",
       "  background-size: 2px 100%;\n",
       "  background-repeat: no-repeat;\n",
       "  background-position: center center;\n",
       "}\n",
       "\n",
       "/* Parallel-specific style estimator block */\n",
       "\n",
       "#sk-container-id-3 div.sk-parallel-item::after {\n",
       "  content: \"\";\n",
       "  width: 100%;\n",
       "  border-bottom: 2px solid var(--sklearn-color-text-on-default-background);\n",
       "  flex-grow: 1;\n",
       "}\n",
       "\n",
       "#sk-container-id-3 div.sk-parallel {\n",
       "  display: flex;\n",
       "  align-items: stretch;\n",
       "  justify-content: center;\n",
       "  background-color: var(--sklearn-color-background);\n",
       "  position: relative;\n",
       "}\n",
       "\n",
       "#sk-container-id-3 div.sk-parallel-item {\n",
       "  display: flex;\n",
       "  flex-direction: column;\n",
       "}\n",
       "\n",
       "#sk-container-id-3 div.sk-parallel-item:first-child::after {\n",
       "  align-self: flex-end;\n",
       "  width: 50%;\n",
       "}\n",
       "\n",
       "#sk-container-id-3 div.sk-parallel-item:last-child::after {\n",
       "  align-self: flex-start;\n",
       "  width: 50%;\n",
       "}\n",
       "\n",
       "#sk-container-id-3 div.sk-parallel-item:only-child::after {\n",
       "  width: 0;\n",
       "}\n",
       "\n",
       "/* Serial-specific style estimator block */\n",
       "\n",
       "#sk-container-id-3 div.sk-serial {\n",
       "  display: flex;\n",
       "  flex-direction: column;\n",
       "  align-items: center;\n",
       "  background-color: var(--sklearn-color-background);\n",
       "  padding-right: 1em;\n",
       "  padding-left: 1em;\n",
       "}\n",
       "\n",
       "\n",
       "/* Toggleable style: style used for estimator/Pipeline/ColumnTransformer box that is\n",
       "clickable and can be expanded/collapsed.\n",
       "- Pipeline and ColumnTransformer use this feature and define the default style\n",
       "- Estimators will overwrite some part of the style using the `sk-estimator` class\n",
       "*/\n",
       "\n",
       "/* Pipeline and ColumnTransformer style (default) */\n",
       "\n",
       "#sk-container-id-3 div.sk-toggleable {\n",
       "  /* Default theme specific background. It is overwritten whether we have a\n",
       "  specific estimator or a Pipeline/ColumnTransformer */\n",
       "  background-color: var(--sklearn-color-background);\n",
       "}\n",
       "\n",
       "/* Toggleable label */\n",
       "#sk-container-id-3 label.sk-toggleable__label {\n",
       "  cursor: pointer;\n",
       "  display: block;\n",
       "  width: 100%;\n",
       "  margin-bottom: 0;\n",
       "  padding: 0.5em;\n",
       "  box-sizing: border-box;\n",
       "  text-align: center;\n",
       "}\n",
       "\n",
       "#sk-container-id-3 label.sk-toggleable__label-arrow:before {\n",
       "  /* Arrow on the left of the label */\n",
       "  content: \"▸\";\n",
       "  float: left;\n",
       "  margin-right: 0.25em;\n",
       "  color: var(--sklearn-color-icon);\n",
       "}\n",
       "\n",
       "#sk-container-id-3 label.sk-toggleable__label-arrow:hover:before {\n",
       "  color: var(--sklearn-color-text);\n",
       "}\n",
       "\n",
       "/* Toggleable content - dropdown */\n",
       "\n",
       "#sk-container-id-3 div.sk-toggleable__content {\n",
       "  max-height: 0;\n",
       "  max-width: 0;\n",
       "  overflow: hidden;\n",
       "  text-align: left;\n",
       "  /* unfitted */\n",
       "  background-color: var(--sklearn-color-unfitted-level-0);\n",
       "}\n",
       "\n",
       "#sk-container-id-3 div.sk-toggleable__content.fitted {\n",
       "  /* fitted */\n",
       "  background-color: var(--sklearn-color-fitted-level-0);\n",
       "}\n",
       "\n",
       "#sk-container-id-3 div.sk-toggleable__content pre {\n",
       "  margin: 0.2em;\n",
       "  border-radius: 0.25em;\n",
       "  color: var(--sklearn-color-text);\n",
       "  /* unfitted */\n",
       "  background-color: var(--sklearn-color-unfitted-level-0);\n",
       "}\n",
       "\n",
       "#sk-container-id-3 div.sk-toggleable__content.fitted pre {\n",
       "  /* unfitted */\n",
       "  background-color: var(--sklearn-color-fitted-level-0);\n",
       "}\n",
       "\n",
       "#sk-container-id-3 input.sk-toggleable__control:checked~div.sk-toggleable__content {\n",
       "  /* Expand drop-down */\n",
       "  max-height: 200px;\n",
       "  max-width: 100%;\n",
       "  overflow: auto;\n",
       "}\n",
       "\n",
       "#sk-container-id-3 input.sk-toggleable__control:checked~label.sk-toggleable__label-arrow:before {\n",
       "  content: \"▾\";\n",
       "}\n",
       "\n",
       "/* Pipeline/ColumnTransformer-specific style */\n",
       "\n",
       "#sk-container-id-3 div.sk-label input.sk-toggleable__control:checked~label.sk-toggleable__label {\n",
       "  color: var(--sklearn-color-text);\n",
       "  background-color: var(--sklearn-color-unfitted-level-2);\n",
       "}\n",
       "\n",
       "#sk-container-id-3 div.sk-label.fitted input.sk-toggleable__control:checked~label.sk-toggleable__label {\n",
       "  background-color: var(--sklearn-color-fitted-level-2);\n",
       "}\n",
       "\n",
       "/* Estimator-specific style */\n",
       "\n",
       "/* Colorize estimator box */\n",
       "#sk-container-id-3 div.sk-estimator input.sk-toggleable__control:checked~label.sk-toggleable__label {\n",
       "  /* unfitted */\n",
       "  background-color: var(--sklearn-color-unfitted-level-2);\n",
       "}\n",
       "\n",
       "#sk-container-id-3 div.sk-estimator.fitted input.sk-toggleable__control:checked~label.sk-toggleable__label {\n",
       "  /* fitted */\n",
       "  background-color: var(--sklearn-color-fitted-level-2);\n",
       "}\n",
       "\n",
       "#sk-container-id-3 div.sk-label label.sk-toggleable__label,\n",
       "#sk-container-id-3 div.sk-label label {\n",
       "  /* The background is the default theme color */\n",
       "  color: var(--sklearn-color-text-on-default-background);\n",
       "}\n",
       "\n",
       "/* On hover, darken the color of the background */\n",
       "#sk-container-id-3 div.sk-label:hover label.sk-toggleable__label {\n",
       "  color: var(--sklearn-color-text);\n",
       "  background-color: var(--sklearn-color-unfitted-level-2);\n",
       "}\n",
       "\n",
       "/* Label box, darken color on hover, fitted */\n",
       "#sk-container-id-3 div.sk-label.fitted:hover label.sk-toggleable__label.fitted {\n",
       "  color: var(--sklearn-color-text);\n",
       "  background-color: var(--sklearn-color-fitted-level-2);\n",
       "}\n",
       "\n",
       "/* Estimator label */\n",
       "\n",
       "#sk-container-id-3 div.sk-label label {\n",
       "  font-family: monospace;\n",
       "  font-weight: bold;\n",
       "  display: inline-block;\n",
       "  line-height: 1.2em;\n",
       "}\n",
       "\n",
       "#sk-container-id-3 div.sk-label-container {\n",
       "  text-align: center;\n",
       "}\n",
       "\n",
       "/* Estimator-specific */\n",
       "#sk-container-id-3 div.sk-estimator {\n",
       "  font-family: monospace;\n",
       "  border: 1px dotted var(--sklearn-color-border-box);\n",
       "  border-radius: 0.25em;\n",
       "  box-sizing: border-box;\n",
       "  margin-bottom: 0.5em;\n",
       "  /* unfitted */\n",
       "  background-color: var(--sklearn-color-unfitted-level-0);\n",
       "}\n",
       "\n",
       "#sk-container-id-3 div.sk-estimator.fitted {\n",
       "  /* fitted */\n",
       "  background-color: var(--sklearn-color-fitted-level-0);\n",
       "}\n",
       "\n",
       "/* on hover */\n",
       "#sk-container-id-3 div.sk-estimator:hover {\n",
       "  /* unfitted */\n",
       "  background-color: var(--sklearn-color-unfitted-level-2);\n",
       "}\n",
       "\n",
       "#sk-container-id-3 div.sk-estimator.fitted:hover {\n",
       "  /* fitted */\n",
       "  background-color: var(--sklearn-color-fitted-level-2);\n",
       "}\n",
       "\n",
       "/* Specification for estimator info (e.g. \"i\" and \"?\") */\n",
       "\n",
       "/* Common style for \"i\" and \"?\" */\n",
       "\n",
       ".sk-estimator-doc-link,\n",
       "a:link.sk-estimator-doc-link,\n",
       "a:visited.sk-estimator-doc-link {\n",
       "  float: right;\n",
       "  font-size: smaller;\n",
       "  line-height: 1em;\n",
       "  font-family: monospace;\n",
       "  background-color: var(--sklearn-color-background);\n",
       "  border-radius: 1em;\n",
       "  height: 1em;\n",
       "  width: 1em;\n",
       "  text-decoration: none !important;\n",
       "  margin-left: 1ex;\n",
       "  /* unfitted */\n",
       "  border: var(--sklearn-color-unfitted-level-1) 1pt solid;\n",
       "  color: var(--sklearn-color-unfitted-level-1);\n",
       "}\n",
       "\n",
       ".sk-estimator-doc-link.fitted,\n",
       "a:link.sk-estimator-doc-link.fitted,\n",
       "a:visited.sk-estimator-doc-link.fitted {\n",
       "  /* fitted */\n",
       "  border: var(--sklearn-color-fitted-level-1) 1pt solid;\n",
       "  color: var(--sklearn-color-fitted-level-1);\n",
       "}\n",
       "\n",
       "/* On hover */\n",
       "div.sk-estimator:hover .sk-estimator-doc-link:hover,\n",
       ".sk-estimator-doc-link:hover,\n",
       "div.sk-label-container:hover .sk-estimator-doc-link:hover,\n",
       ".sk-estimator-doc-link:hover {\n",
       "  /* unfitted */\n",
       "  background-color: var(--sklearn-color-unfitted-level-3);\n",
       "  color: var(--sklearn-color-background);\n",
       "  text-decoration: none;\n",
       "}\n",
       "\n",
       "div.sk-estimator.fitted:hover .sk-estimator-doc-link.fitted:hover,\n",
       ".sk-estimator-doc-link.fitted:hover,\n",
       "div.sk-label-container:hover .sk-estimator-doc-link.fitted:hover,\n",
       ".sk-estimator-doc-link.fitted:hover {\n",
       "  /* fitted */\n",
       "  background-color: var(--sklearn-color-fitted-level-3);\n",
       "  color: var(--sklearn-color-background);\n",
       "  text-decoration: none;\n",
       "}\n",
       "\n",
       "/* Span, style for the box shown on hovering the info icon */\n",
       ".sk-estimator-doc-link span {\n",
       "  display: none;\n",
       "  z-index: 9999;\n",
       "  position: relative;\n",
       "  font-weight: normal;\n",
       "  right: .2ex;\n",
       "  padding: .5ex;\n",
       "  margin: .5ex;\n",
       "  width: min-content;\n",
       "  min-width: 20ex;\n",
       "  max-width: 50ex;\n",
       "  color: var(--sklearn-color-text);\n",
       "  box-shadow: 2pt 2pt 4pt #999;\n",
       "  /* unfitted */\n",
       "  background: var(--sklearn-color-unfitted-level-0);\n",
       "  border: .5pt solid var(--sklearn-color-unfitted-level-3);\n",
       "}\n",
       "\n",
       ".sk-estimator-doc-link.fitted span {\n",
       "  /* fitted */\n",
       "  background: var(--sklearn-color-fitted-level-0);\n",
       "  border: var(--sklearn-color-fitted-level-3);\n",
       "}\n",
       "\n",
       ".sk-estimator-doc-link:hover span {\n",
       "  display: block;\n",
       "}\n",
       "\n",
       "/* \"?\"-specific style due to the `<a>` HTML tag */\n",
       "\n",
       "#sk-container-id-3 a.estimator_doc_link {\n",
       "  float: right;\n",
       "  font-size: 1rem;\n",
       "  line-height: 1em;\n",
       "  font-family: monospace;\n",
       "  background-color: var(--sklearn-color-background);\n",
       "  border-radius: 1rem;\n",
       "  height: 1rem;\n",
       "  width: 1rem;\n",
       "  text-decoration: none;\n",
       "  /* unfitted */\n",
       "  color: var(--sklearn-color-unfitted-level-1);\n",
       "  border: var(--sklearn-color-unfitted-level-1) 1pt solid;\n",
       "}\n",
       "\n",
       "#sk-container-id-3 a.estimator_doc_link.fitted {\n",
       "  /* fitted */\n",
       "  border: var(--sklearn-color-fitted-level-1) 1pt solid;\n",
       "  color: var(--sklearn-color-fitted-level-1);\n",
       "}\n",
       "\n",
       "/* On hover */\n",
       "#sk-container-id-3 a.estimator_doc_link:hover {\n",
       "  /* unfitted */\n",
       "  background-color: var(--sklearn-color-unfitted-level-3);\n",
       "  color: var(--sklearn-color-background);\n",
       "  text-decoration: none;\n",
       "}\n",
       "\n",
       "#sk-container-id-3 a.estimator_doc_link.fitted:hover {\n",
       "  /* fitted */\n",
       "  background-color: var(--sklearn-color-fitted-level-3);\n",
       "}\n",
       "</style><div id=\"sk-container-id-3\" class=\"sk-top-container\"><div class=\"sk-text-repr-fallback\"><pre>GaussianNB(var_smoothing=0.0001)</pre><b>In a Jupyter environment, please rerun this cell to show the HTML representation or trust the notebook. <br />On GitHub, the HTML representation is unable to render, please try loading this page with nbviewer.org.</b></div><div class=\"sk-container\" hidden><div class=\"sk-item\"><div class=\"sk-estimator fitted sk-toggleable\"><input class=\"sk-toggleable__control sk-hidden--visually\" id=\"sk-estimator-id-3\" type=\"checkbox\" checked><label for=\"sk-estimator-id-3\" class=\"sk-toggleable__label fitted sk-toggleable__label-arrow fitted\">&nbsp;&nbsp;GaussianNB<a class=\"sk-estimator-doc-link fitted\" rel=\"noreferrer\" target=\"_blank\" href=\"https://scikit-learn.org/1.5/modules/generated/sklearn.naive_bayes.GaussianNB.html\">?<span>Documentation for GaussianNB</span></a><span class=\"sk-estimator-doc-link fitted\">i<span>Fitted</span></span></label><div class=\"sk-toggleable__content fitted\"><pre>GaussianNB(var_smoothing=0.0001)</pre></div> </div></div></div></div>"
      ],
      "text/plain": [
       "GaussianNB(var_smoothing=0.0001)"
      ]
     },
     "execution_count": 117,
     "metadata": {},
     "output_type": "execute_result"
    }
   ],
   "source": [
    "modelNB.fit(X = X_train_scaled, y = y_train)"
   ]
  },
  {
   "cell_type": "code",
   "execution_count": 118,
   "id": "23310922",
   "metadata": {},
   "outputs": [],
   "source": [
    "y_train_pred_NB = modelNB.predict(X_train_scaled)\n",
    "y_val_pred_NB = modelNB.predict(X_val_scaled)"
   ]
  },
  {
   "cell_type": "code",
   "execution_count": 119,
   "id": "e0e3fb24",
   "metadata": {},
   "outputs": [
    {
     "name": "stdout",
     "output_type": "stream",
     "text": [
      "Accuracy on Train Set: 0.5882147990070119\n",
      "Training F1 Macro: 0.3259279505831902\n",
      "Accuracy on Validation Set: 0.5860894560341449\n"
     ]
    }
   ],
   "source": [
    "f1_train_NB=f1_score(y_train, y_train_pred_NB, average='macro')\n",
    "f1_val_NB=f1_score(y_val, y_val_pred_NB, average='macro')\n",
    "\n",
    "print('Accuracy on Train Set:', accuracy_score(y_train, y_train_pred_NB))\n",
    "print('Training F1 Macro:', f1_train_NB)\n",
    "print('Accuracy on Validation Set:', accuracy_score(y_val, y_val_pred_NB))"
   ]
  },
  {
   "cell_type": "code",
   "execution_count": 120,
   "id": "6498da24-ccbf-431c-ae80-f347715740c7",
   "metadata": {},
   "outputs": [
    {
     "data": {
      "text/html": [
       "<div>\n",
       "<style scoped>\n",
       "    .dataframe tbody tr th:only-of-type {\n",
       "        vertical-align: middle;\n",
       "    }\n",
       "\n",
       "    .dataframe tbody tr th {\n",
       "        vertical-align: top;\n",
       "    }\n",
       "\n",
       "    .dataframe thead th {\n",
       "        text-align: right;\n",
       "    }\n",
       "</style>\n",
       "<table border=\"1\" class=\"dataframe\">\n",
       "  <thead>\n",
       "    <tr style=\"text-align: right;\">\n",
       "      <th></th>\n",
       "      <th>precision</th>\n",
       "      <th>recall</th>\n",
       "      <th>f1-score</th>\n",
       "      <th>support</th>\n",
       "    </tr>\n",
       "  </thead>\n",
       "  <tbody>\n",
       "    <tr>\n",
       "      <th>0</th>\n",
       "      <td>0.451279</td>\n",
       "      <td>0.558717</td>\n",
       "      <td>0.499284</td>\n",
       "      <td>2495.000000</td>\n",
       "    </tr>\n",
       "    <tr>\n",
       "      <th>1</th>\n",
       "      <td>0.881121</td>\n",
       "      <td>0.846657</td>\n",
       "      <td>0.863545</td>\n",
       "      <td>58216.000000</td>\n",
       "    </tr>\n",
       "    <tr>\n",
       "      <th>2</th>\n",
       "      <td>0.210776</td>\n",
       "      <td>0.286409</td>\n",
       "      <td>0.242840</td>\n",
       "      <td>13781.000000</td>\n",
       "    </tr>\n",
       "    <tr>\n",
       "      <th>3</th>\n",
       "      <td>0.708764</td>\n",
       "      <td>0.203124</td>\n",
       "      <td>0.315756</td>\n",
       "      <td>29701.000000</td>\n",
       "    </tr>\n",
       "    <tr>\n",
       "      <th>4</th>\n",
       "      <td>0.424881</td>\n",
       "      <td>0.618268</td>\n",
       "      <td>0.503649</td>\n",
       "      <td>9656.000000</td>\n",
       "    </tr>\n",
       "    <tr>\n",
       "      <th>5</th>\n",
       "      <td>0.049642</td>\n",
       "      <td>0.682898</td>\n",
       "      <td>0.092555</td>\n",
       "      <td>842.000000</td>\n",
       "    </tr>\n",
       "    <tr>\n",
       "      <th>6</th>\n",
       "      <td>0.006700</td>\n",
       "      <td>0.200000</td>\n",
       "      <td>0.012966</td>\n",
       "      <td>20.000000</td>\n",
       "    </tr>\n",
       "    <tr>\n",
       "      <th>7</th>\n",
       "      <td>0.032062</td>\n",
       "      <td>0.787234</td>\n",
       "      <td>0.061615</td>\n",
       "      <td>94.000000</td>\n",
       "    </tr>\n",
       "    <tr>\n",
       "      <th>accuracy</th>\n",
       "      <td>0.586089</td>\n",
       "      <td>0.586089</td>\n",
       "      <td>0.586089</td>\n",
       "      <td>0.586089</td>\n",
       "    </tr>\n",
       "    <tr>\n",
       "      <th>macro avg</th>\n",
       "      <td>0.345653</td>\n",
       "      <td>0.522914</td>\n",
       "      <td>0.324026</td>\n",
       "      <td>114805.000000</td>\n",
       "    </tr>\n",
       "    <tr>\n",
       "      <th>weighted avg</th>\n",
       "      <td>0.701403</td>\n",
       "      <td>0.586089</td>\n",
       "      <td>0.602674</td>\n",
       "      <td>114805.000000</td>\n",
       "    </tr>\n",
       "  </tbody>\n",
       "</table>\n",
       "</div>"
      ],
      "text/plain": [
       "              precision    recall  f1-score        support\n",
       "0              0.451279  0.558717  0.499284    2495.000000\n",
       "1              0.881121  0.846657  0.863545   58216.000000\n",
       "2              0.210776  0.286409  0.242840   13781.000000\n",
       "3              0.708764  0.203124  0.315756   29701.000000\n",
       "4              0.424881  0.618268  0.503649    9656.000000\n",
       "5              0.049642  0.682898  0.092555     842.000000\n",
       "6              0.006700  0.200000  0.012966      20.000000\n",
       "7              0.032062  0.787234  0.061615      94.000000\n",
       "accuracy       0.586089  0.586089  0.586089       0.586089\n",
       "macro avg      0.345653  0.522914  0.324026  114805.000000\n",
       "weighted avg   0.701403  0.586089  0.602674  114805.000000"
      ]
     },
     "execution_count": 120,
     "metadata": {},
     "output_type": "execute_result"
    }
   ],
   "source": [
    "class_report = classification_report(y_val, y_val_pred_NB, output_dict=True)\n",
    "class_report_df = pd.DataFrame(class_report).transpose()\n",
    "class_report_df"
   ]
  },
  {
   "cell_type": "code",
   "execution_count": 121,
   "id": "0c6d636d-082e-4d04-a912-ffe0e06eb658",
   "metadata": {},
   "outputs": [
    {
     "name": "stdout",
     "output_type": "stream",
     "text": [
      "Confusion Matrix for Validation:\n"
     ]
    },
    {
     "data": {
      "text/html": [
       "<div>\n",
       "<style scoped>\n",
       "    .dataframe tbody tr th:only-of-type {\n",
       "        vertical-align: middle;\n",
       "    }\n",
       "\n",
       "    .dataframe tbody tr th {\n",
       "        vertical-align: top;\n",
       "    }\n",
       "\n",
       "    .dataframe thead th {\n",
       "        text-align: right;\n",
       "    }\n",
       "</style>\n",
       "<table border=\"1\" class=\"dataframe\">\n",
       "  <thead>\n",
       "    <tr style=\"text-align: right;\">\n",
       "      <th></th>\n",
       "      <th>0</th>\n",
       "      <th>1</th>\n",
       "      <th>2</th>\n",
       "      <th>3</th>\n",
       "      <th>4</th>\n",
       "      <th>5</th>\n",
       "      <th>6</th>\n",
       "      <th>7</th>\n",
       "    </tr>\n",
       "  </thead>\n",
       "  <tbody>\n",
       "    <tr>\n",
       "      <th>0</th>\n",
       "      <td>1394</td>\n",
       "      <td>594</td>\n",
       "      <td>398</td>\n",
       "      <td>18</td>\n",
       "      <td>15</td>\n",
       "      <td>2</td>\n",
       "      <td>0</td>\n",
       "      <td>74</td>\n",
       "    </tr>\n",
       "    <tr>\n",
       "      <th>1</th>\n",
       "      <td>1334</td>\n",
       "      <td>49289</td>\n",
       "      <td>6619</td>\n",
       "      <td>216</td>\n",
       "      <td>113</td>\n",
       "      <td>17</td>\n",
       "      <td>6</td>\n",
       "      <td>622</td>\n",
       "    </tr>\n",
       "    <tr>\n",
       "      <th>2</th>\n",
       "      <td>58</td>\n",
       "      <td>5455</td>\n",
       "      <td>3947</td>\n",
       "      <td>1497</td>\n",
       "      <td>1568</td>\n",
       "      <td>701</td>\n",
       "      <td>36</td>\n",
       "      <td>519</td>\n",
       "    </tr>\n",
       "    <tr>\n",
       "      <th>3</th>\n",
       "      <td>297</td>\n",
       "      <td>589</td>\n",
       "      <td>7285</td>\n",
       "      <td>6033</td>\n",
       "      <td>6219</td>\n",
       "      <td>8016</td>\n",
       "      <td>401</td>\n",
       "      <td>861</td>\n",
       "    </tr>\n",
       "    <tr>\n",
       "      <th>4</th>\n",
       "      <td>5</td>\n",
       "      <td>12</td>\n",
       "      <td>457</td>\n",
       "      <td>703</td>\n",
       "      <td>5970</td>\n",
       "      <td>2260</td>\n",
       "      <td>110</td>\n",
       "      <td>139</td>\n",
       "    </tr>\n",
       "    <tr>\n",
       "      <th>5</th>\n",
       "      <td>0</td>\n",
       "      <td>0</td>\n",
       "      <td>14</td>\n",
       "      <td>43</td>\n",
       "      <td>157</td>\n",
       "      <td>575</td>\n",
       "      <td>37</td>\n",
       "      <td>16</td>\n",
       "    </tr>\n",
       "    <tr>\n",
       "      <th>6</th>\n",
       "      <td>1</td>\n",
       "      <td>0</td>\n",
       "      <td>0</td>\n",
       "      <td>0</td>\n",
       "      <td>3</td>\n",
       "      <td>9</td>\n",
       "      <td>4</td>\n",
       "      <td>3</td>\n",
       "    </tr>\n",
       "    <tr>\n",
       "      <th>7</th>\n",
       "      <td>0</td>\n",
       "      <td>0</td>\n",
       "      <td>6</td>\n",
       "      <td>2</td>\n",
       "      <td>6</td>\n",
       "      <td>3</td>\n",
       "      <td>3</td>\n",
       "      <td>74</td>\n",
       "    </tr>\n",
       "  </tbody>\n",
       "</table>\n",
       "</div>"
      ],
      "text/plain": [
       "      0      1     2     3     4     5    6    7\n",
       "0  1394    594   398    18    15     2    0   74\n",
       "1  1334  49289  6619   216   113    17    6  622\n",
       "2    58   5455  3947  1497  1568   701   36  519\n",
       "3   297    589  7285  6033  6219  8016  401  861\n",
       "4     5     12   457   703  5970  2260  110  139\n",
       "5     0      0    14    43   157   575   37   16\n",
       "6     1      0     0     0     3     9    4    3\n",
       "7     0      0     6     2     6     3    3   74"
      ]
     },
     "execution_count": 121,
     "metadata": {},
     "output_type": "execute_result"
    }
   ],
   "source": [
    "conf_matrix = confusion_matrix(y_val, y_val_pred_NB)\n",
    "conf_matrix = pd.DataFrame(conf_matrix)\n",
    "print('Confusion Matrix for Validation:')\n",
    "conf_matrix"
   ]
  },
  {
   "cell_type": "markdown",
   "id": "42830eb6",
   "metadata": {
    "id": "63b66807"
   },
   "source": [
    "<a class=\"anchor\" id=\"sub-section-3_1_3\"></a>\n",
    "\n",
    "### 3.1.3. KNN\n",
    "</a>"
   ]
  },
  {
   "cell_type": "code",
   "execution_count": 122,
   "id": "a5b7ad08",
   "metadata": {},
   "outputs": [],
   "source": [
    "knn = KNeighborsClassifier()  "
   ]
  },
  {
   "cell_type": "code",
   "execution_count": 123,
   "id": "e54a282c",
   "metadata": {},
   "outputs": [],
   "source": [
    "knn.fit(X_train_scaled, y_train)\n",
    "y_pred_val_knn = knn.predict(X_val_scaled)\n",
    "y_pred_train_knn = knn.predict(X_train_scaled)"
   ]
  },
  {
   "cell_type": "code",
   "execution_count": 124,
   "id": "745b3af4",
   "metadata": {},
   "outputs": [
    {
     "name": "stdout",
     "output_type": "stream",
     "text": [
      "Accuracy on Train Set: 0.8097426070293106\n",
      "Training F1 Macro: 0.4803498658278543\n",
      "Accuracy on Validation Set: 0.7548451722485955\n"
     ]
    }
   ],
   "source": [
    "f1_train_KNN=f1_score(y_train, y_pred_train_knn, average='macro')\n",
    "f1_val_KNN=f1_score(y_val, y_pred_val_knn, average='macro')\n",
    "\n",
    "print('Accuracy on Train Set:', accuracy_score(y_train, y_pred_train_knn))\n",
    "print('Training F1 Macro:', f1_train_KNN)\n",
    "print('Accuracy on Validation Set:', accuracy_score(y_val, y_pred_val_knn))"
   ]
  },
  {
   "cell_type": "code",
   "execution_count": 125,
   "id": "3ee3e3d6-e7b0-433a-997c-1b80363c552a",
   "metadata": {},
   "outputs": [
    {
     "data": {
      "text/html": [
       "<div>\n",
       "<style scoped>\n",
       "    .dataframe tbody tr th:only-of-type {\n",
       "        vertical-align: middle;\n",
       "    }\n",
       "\n",
       "    .dataframe tbody tr th {\n",
       "        vertical-align: top;\n",
       "    }\n",
       "\n",
       "    .dataframe thead th {\n",
       "        text-align: right;\n",
       "    }\n",
       "</style>\n",
       "<table border=\"1\" class=\"dataframe\">\n",
       "  <thead>\n",
       "    <tr style=\"text-align: right;\">\n",
       "      <th></th>\n",
       "      <th>precision</th>\n",
       "      <th>recall</th>\n",
       "      <th>f1-score</th>\n",
       "      <th>support</th>\n",
       "    </tr>\n",
       "  </thead>\n",
       "  <tbody>\n",
       "    <tr>\n",
       "      <th>0</th>\n",
       "      <td>0.628941</td>\n",
       "      <td>0.487776</td>\n",
       "      <td>0.549436</td>\n",
       "      <td>2495.000000</td>\n",
       "    </tr>\n",
       "    <tr>\n",
       "      <th>1</th>\n",
       "      <td>0.847814</td>\n",
       "      <td>0.952728</td>\n",
       "      <td>0.897214</td>\n",
       "      <td>58216.000000</td>\n",
       "    </tr>\n",
       "    <tr>\n",
       "      <th>2</th>\n",
       "      <td>0.296484</td>\n",
       "      <td>0.131558</td>\n",
       "      <td>0.182248</td>\n",
       "      <td>13781.000000</td>\n",
       "    </tr>\n",
       "    <tr>\n",
       "      <th>3</th>\n",
       "      <td>0.702207</td>\n",
       "      <td>0.794956</td>\n",
       "      <td>0.745709</td>\n",
       "      <td>29701.000000</td>\n",
       "    </tr>\n",
       "    <tr>\n",
       "      <th>4</th>\n",
       "      <td>0.596660</td>\n",
       "      <td>0.469863</td>\n",
       "      <td>0.525724</td>\n",
       "      <td>9656.000000</td>\n",
       "    </tr>\n",
       "    <tr>\n",
       "      <th>5</th>\n",
       "      <td>0.025641</td>\n",
       "      <td>0.002375</td>\n",
       "      <td>0.004348</td>\n",
       "      <td>842.000000</td>\n",
       "    </tr>\n",
       "    <tr>\n",
       "      <th>6</th>\n",
       "      <td>0.000000</td>\n",
       "      <td>0.000000</td>\n",
       "      <td>0.000000</td>\n",
       "      <td>20.000000</td>\n",
       "    </tr>\n",
       "    <tr>\n",
       "      <th>7</th>\n",
       "      <td>0.551724</td>\n",
       "      <td>0.170213</td>\n",
       "      <td>0.260163</td>\n",
       "      <td>94.000000</td>\n",
       "    </tr>\n",
       "    <tr>\n",
       "      <th>accuracy</th>\n",
       "      <td>0.754845</td>\n",
       "      <td>0.754845</td>\n",
       "      <td>0.754845</td>\n",
       "      <td>0.754845</td>\n",
       "    </tr>\n",
       "    <tr>\n",
       "      <th>macro avg</th>\n",
       "      <td>0.456184</td>\n",
       "      <td>0.376184</td>\n",
       "      <td>0.395605</td>\n",
       "      <td>114805.000000</td>\n",
       "    </tr>\n",
       "    <tr>\n",
       "      <th>weighted avg</th>\n",
       "      <td>0.711663</td>\n",
       "      <td>0.754845</td>\n",
       "      <td>0.726166</td>\n",
       "      <td>114805.000000</td>\n",
       "    </tr>\n",
       "  </tbody>\n",
       "</table>\n",
       "</div>"
      ],
      "text/plain": [
       "              precision    recall  f1-score        support\n",
       "0              0.628941  0.487776  0.549436    2495.000000\n",
       "1              0.847814  0.952728  0.897214   58216.000000\n",
       "2              0.296484  0.131558  0.182248   13781.000000\n",
       "3              0.702207  0.794956  0.745709   29701.000000\n",
       "4              0.596660  0.469863  0.525724    9656.000000\n",
       "5              0.025641  0.002375  0.004348     842.000000\n",
       "6              0.000000  0.000000  0.000000      20.000000\n",
       "7              0.551724  0.170213  0.260163      94.000000\n",
       "accuracy       0.754845  0.754845  0.754845       0.754845\n",
       "macro avg      0.456184  0.376184  0.395605  114805.000000\n",
       "weighted avg   0.711663  0.754845  0.726166  114805.000000"
      ]
     },
     "execution_count": 125,
     "metadata": {},
     "output_type": "execute_result"
    }
   ],
   "source": [
    "class_report = classification_report(y_val, y_pred_val_knn, output_dict=True)\n",
    "class_report_df = pd.DataFrame(class_report).transpose()\n",
    "class_report_df"
   ]
  },
  {
   "cell_type": "code",
   "execution_count": 126,
   "id": "03450f66-32e4-4014-bd0b-20a6cdc62adf",
   "metadata": {},
   "outputs": [
    {
     "name": "stdout",
     "output_type": "stream",
     "text": [
      "Confusion Matrix for Validation:\n"
     ]
    },
    {
     "data": {
      "text/html": [
       "<div>\n",
       "<style scoped>\n",
       "    .dataframe tbody tr th:only-of-type {\n",
       "        vertical-align: middle;\n",
       "    }\n",
       "\n",
       "    .dataframe tbody tr th {\n",
       "        vertical-align: top;\n",
       "    }\n",
       "\n",
       "    .dataframe thead th {\n",
       "        text-align: right;\n",
       "    }\n",
       "</style>\n",
       "<table border=\"1\" class=\"dataframe\">\n",
       "  <thead>\n",
       "    <tr style=\"text-align: right;\">\n",
       "      <th></th>\n",
       "      <th>0</th>\n",
       "      <th>1</th>\n",
       "      <th>2</th>\n",
       "      <th>3</th>\n",
       "      <th>4</th>\n",
       "      <th>5</th>\n",
       "      <th>6</th>\n",
       "      <th>7</th>\n",
       "    </tr>\n",
       "  </thead>\n",
       "  <tbody>\n",
       "    <tr>\n",
       "      <th>0</th>\n",
       "      <td>1217</td>\n",
       "      <td>1127</td>\n",
       "      <td>73</td>\n",
       "      <td>72</td>\n",
       "      <td>6</td>\n",
       "      <td>0</td>\n",
       "      <td>0</td>\n",
       "      <td>0</td>\n",
       "    </tr>\n",
       "    <tr>\n",
       "      <th>1</th>\n",
       "      <td>544</td>\n",
       "      <td>55464</td>\n",
       "      <td>1549</td>\n",
       "      <td>622</td>\n",
       "      <td>36</td>\n",
       "      <td>0</td>\n",
       "      <td>0</td>\n",
       "      <td>1</td>\n",
       "    </tr>\n",
       "    <tr>\n",
       "      <th>2</th>\n",
       "      <td>93</td>\n",
       "      <td>7088</td>\n",
       "      <td>1813</td>\n",
       "      <td>4226</td>\n",
       "      <td>555</td>\n",
       "      <td>5</td>\n",
       "      <td>0</td>\n",
       "      <td>1</td>\n",
       "    </tr>\n",
       "    <tr>\n",
       "      <th>3</th>\n",
       "      <td>68</td>\n",
       "      <td>1544</td>\n",
       "      <td>2099</td>\n",
       "      <td>23611</td>\n",
       "      <td>2315</td>\n",
       "      <td>53</td>\n",
       "      <td>0</td>\n",
       "      <td>11</td>\n",
       "    </tr>\n",
       "    <tr>\n",
       "      <th>4</th>\n",
       "      <td>10</td>\n",
       "      <td>173</td>\n",
       "      <td>524</td>\n",
       "      <td>4394</td>\n",
       "      <td>4537</td>\n",
       "      <td>18</td>\n",
       "      <td>0</td>\n",
       "      <td>0</td>\n",
       "    </tr>\n",
       "    <tr>\n",
       "      <th>5</th>\n",
       "      <td>1</td>\n",
       "      <td>6</td>\n",
       "      <td>46</td>\n",
       "      <td>641</td>\n",
       "      <td>146</td>\n",
       "      <td>2</td>\n",
       "      <td>0</td>\n",
       "      <td>0</td>\n",
       "    </tr>\n",
       "    <tr>\n",
       "      <th>6</th>\n",
       "      <td>0</td>\n",
       "      <td>0</td>\n",
       "      <td>1</td>\n",
       "      <td>17</td>\n",
       "      <td>2</td>\n",
       "      <td>0</td>\n",
       "      <td>0</td>\n",
       "      <td>0</td>\n",
       "    </tr>\n",
       "    <tr>\n",
       "      <th>7</th>\n",
       "      <td>2</td>\n",
       "      <td>18</td>\n",
       "      <td>10</td>\n",
       "      <td>41</td>\n",
       "      <td>7</td>\n",
       "      <td>0</td>\n",
       "      <td>0</td>\n",
       "      <td>16</td>\n",
       "    </tr>\n",
       "  </tbody>\n",
       "</table>\n",
       "</div>"
      ],
      "text/plain": [
       "      0      1     2      3     4   5  6   7\n",
       "0  1217   1127    73     72     6   0  0   0\n",
       "1   544  55464  1549    622    36   0  0   1\n",
       "2    93   7088  1813   4226   555   5  0   1\n",
       "3    68   1544  2099  23611  2315  53  0  11\n",
       "4    10    173   524   4394  4537  18  0   0\n",
       "5     1      6    46    641   146   2  0   0\n",
       "6     0      0     1     17     2   0  0   0\n",
       "7     2     18    10     41     7   0  0  16"
      ]
     },
     "execution_count": 126,
     "metadata": {},
     "output_type": "execute_result"
    }
   ],
   "source": [
    "conf_matrix = confusion_matrix(y_val, y_pred_val_knn)\n",
    "conf_matrix = pd.DataFrame(conf_matrix)\n",
    "print('Confusion Matrix for Validation:')\n",
    "conf_matrix"
   ]
  },
  {
   "cell_type": "markdown",
   "id": "9545f5ee",
   "metadata": {
    "id": "63b66807"
   },
   "source": [
    "<a class=\"anchor\" id=\"sub-section-3_1_4\"></a>\n",
    "\n",
    "### 3.1.4. Decision Tree\n",
    "</a>"
   ]
  },
  {
   "cell_type": "code",
   "execution_count": 127,
   "id": "54df44f1",
   "metadata": {},
   "outputs": [],
   "source": [
    "DT = DecisionTreeClassifier(random_state=42)"
   ]
  },
  {
   "cell_type": "code",
   "execution_count": 128,
   "id": "9838e58c",
   "metadata": {},
   "outputs": [],
   "source": [
    "DT.fit(X_train_scaled, y_train)\n",
    "y_pred_val_DT = DT.predict(X_val_scaled)\n",
    "y_pred_train_DT = DT.predict(X_train_scaled)"
   ]
  },
  {
   "cell_type": "code",
   "execution_count": 129,
   "id": "3177cb85",
   "metadata": {},
   "outputs": [
    {
     "name": "stdout",
     "output_type": "stream",
     "text": [
      "Accuracy on Train Set: 0.999838857192631\n",
      "Training F1 Macro: 0.9989180493909744\n",
      "Accuracy on Validation Set: 0.6811550019598449\n"
     ]
    }
   ],
   "source": [
    "f1_train_DT=f1_score(y_train, y_pred_train_DT, average='macro')\n",
    "f1_val_DT=f1_score(y_val, y_pred_val_DT, average='macro')\n",
    "\n",
    "print('Accuracy on Train Set:', accuracy_score(y_train, y_pred_train_DT))\n",
    "print('Training F1 Macro:', f1_train_DT)\n",
    "print('Accuracy on Validation Set:', accuracy_score(y_val, y_pred_val_DT))"
   ]
  },
  {
   "cell_type": "code",
   "execution_count": 130,
   "id": "2622dd76",
   "metadata": {},
   "outputs": [
    {
     "data": {
      "text/html": [
       "<div>\n",
       "<style scoped>\n",
       "    .dataframe tbody tr th:only-of-type {\n",
       "        vertical-align: middle;\n",
       "    }\n",
       "\n",
       "    .dataframe tbody tr th {\n",
       "        vertical-align: top;\n",
       "    }\n",
       "\n",
       "    .dataframe thead th {\n",
       "        text-align: right;\n",
       "    }\n",
       "</style>\n",
       "<table border=\"1\" class=\"dataframe\">\n",
       "  <thead>\n",
       "    <tr style=\"text-align: right;\">\n",
       "      <th></th>\n",
       "      <th>precision</th>\n",
       "      <th>recall</th>\n",
       "      <th>f1-score</th>\n",
       "      <th>support</th>\n",
       "    </tr>\n",
       "  </thead>\n",
       "  <tbody>\n",
       "    <tr>\n",
       "      <th>0</th>\n",
       "      <td>0.432321</td>\n",
       "      <td>0.462124</td>\n",
       "      <td>0.446726</td>\n",
       "      <td>2495.000000</td>\n",
       "    </tr>\n",
       "    <tr>\n",
       "      <th>1</th>\n",
       "      <td>0.856030</td>\n",
       "      <td>0.836385</td>\n",
       "      <td>0.846094</td>\n",
       "      <td>58216.000000</td>\n",
       "    </tr>\n",
       "    <tr>\n",
       "      <th>2</th>\n",
       "      <td>0.206924</td>\n",
       "      <td>0.229446</td>\n",
       "      <td>0.217604</td>\n",
       "      <td>13781.000000</td>\n",
       "    </tr>\n",
       "    <tr>\n",
       "      <th>3</th>\n",
       "      <td>0.687169</td>\n",
       "      <td>0.671829</td>\n",
       "      <td>0.679412</td>\n",
       "      <td>29701.000000</td>\n",
       "    </tr>\n",
       "    <tr>\n",
       "      <th>4</th>\n",
       "      <td>0.519008</td>\n",
       "      <td>0.533036</td>\n",
       "      <td>0.525929</td>\n",
       "      <td>9656.000000</td>\n",
       "    </tr>\n",
       "    <tr>\n",
       "      <th>5</th>\n",
       "      <td>0.083598</td>\n",
       "      <td>0.093824</td>\n",
       "      <td>0.088416</td>\n",
       "      <td>842.000000</td>\n",
       "    </tr>\n",
       "    <tr>\n",
       "      <th>6</th>\n",
       "      <td>0.000000</td>\n",
       "      <td>0.000000</td>\n",
       "      <td>0.000000</td>\n",
       "      <td>20.000000</td>\n",
       "    </tr>\n",
       "    <tr>\n",
       "      <th>7</th>\n",
       "      <td>0.191781</td>\n",
       "      <td>0.148936</td>\n",
       "      <td>0.167665</td>\n",
       "      <td>94.000000</td>\n",
       "    </tr>\n",
       "    <tr>\n",
       "      <th>accuracy</th>\n",
       "      <td>0.681155</td>\n",
       "      <td>0.681155</td>\n",
       "      <td>0.681155</td>\n",
       "      <td>0.681155</td>\n",
       "    </tr>\n",
       "    <tr>\n",
       "      <th>macro avg</th>\n",
       "      <td>0.372104</td>\n",
       "      <td>0.371948</td>\n",
       "      <td>0.371481</td>\n",
       "      <td>114805.000000</td>\n",
       "    </tr>\n",
       "    <tr>\n",
       "      <th>weighted avg</th>\n",
       "      <td>0.690514</td>\n",
       "      <td>0.681155</td>\n",
       "      <td>0.685661</td>\n",
       "      <td>114805.000000</td>\n",
       "    </tr>\n",
       "  </tbody>\n",
       "</table>\n",
       "</div>"
      ],
      "text/plain": [
       "              precision    recall  f1-score        support\n",
       "0              0.432321  0.462124  0.446726    2495.000000\n",
       "1              0.856030  0.836385  0.846094   58216.000000\n",
       "2              0.206924  0.229446  0.217604   13781.000000\n",
       "3              0.687169  0.671829  0.679412   29701.000000\n",
       "4              0.519008  0.533036  0.525929    9656.000000\n",
       "5              0.083598  0.093824  0.088416     842.000000\n",
       "6              0.000000  0.000000  0.000000      20.000000\n",
       "7              0.191781  0.148936  0.167665      94.000000\n",
       "accuracy       0.681155  0.681155  0.681155       0.681155\n",
       "macro avg      0.372104  0.371948  0.371481  114805.000000\n",
       "weighted avg   0.690514  0.681155  0.685661  114805.000000"
      ]
     },
     "execution_count": 130,
     "metadata": {},
     "output_type": "execute_result"
    }
   ],
   "source": [
    "class_report = classification_report(y_val, y_pred_val_DT, output_dict=True)\n",
    "class_report_df = pd.DataFrame(class_report).transpose()\n",
    "class_report_df"
   ]
  },
  {
   "cell_type": "code",
   "execution_count": 131,
   "id": "2a2d4998",
   "metadata": {},
   "outputs": [
    {
     "name": "stdout",
     "output_type": "stream",
     "text": [
      "Confusion Matrix for Validation:\n"
     ]
    },
    {
     "data": {
      "text/html": [
       "<div>\n",
       "<style scoped>\n",
       "    .dataframe tbody tr th:only-of-type {\n",
       "        vertical-align: middle;\n",
       "    }\n",
       "\n",
       "    .dataframe tbody tr th {\n",
       "        vertical-align: top;\n",
       "    }\n",
       "\n",
       "    .dataframe thead th {\n",
       "        text-align: right;\n",
       "    }\n",
       "</style>\n",
       "<table border=\"1\" class=\"dataframe\">\n",
       "  <thead>\n",
       "    <tr style=\"text-align: right;\">\n",
       "      <th></th>\n",
       "      <th>0</th>\n",
       "      <th>1</th>\n",
       "      <th>2</th>\n",
       "      <th>3</th>\n",
       "      <th>4</th>\n",
       "      <th>5</th>\n",
       "      <th>6</th>\n",
       "      <th>7</th>\n",
       "    </tr>\n",
       "  </thead>\n",
       "  <tbody>\n",
       "    <tr>\n",
       "      <th>0</th>\n",
       "      <td>1153</td>\n",
       "      <td>1050</td>\n",
       "      <td>171</td>\n",
       "      <td>101</td>\n",
       "      <td>17</td>\n",
       "      <td>2</td>\n",
       "      <td>0</td>\n",
       "      <td>1</td>\n",
       "    </tr>\n",
       "    <tr>\n",
       "      <th>1</th>\n",
       "      <td>1229</td>\n",
       "      <td>48691</td>\n",
       "      <td>6766</td>\n",
       "      <td>1390</td>\n",
       "      <td>130</td>\n",
       "      <td>5</td>\n",
       "      <td>0</td>\n",
       "      <td>5</td>\n",
       "    </tr>\n",
       "    <tr>\n",
       "      <th>2</th>\n",
       "      <td>173</td>\n",
       "      <td>5737</td>\n",
       "      <td>3162</td>\n",
       "      <td>3743</td>\n",
       "      <td>870</td>\n",
       "      <td>80</td>\n",
       "      <td>1</td>\n",
       "      <td>15</td>\n",
       "    </tr>\n",
       "    <tr>\n",
       "      <th>3</th>\n",
       "      <td>103</td>\n",
       "      <td>1229</td>\n",
       "      <td>4199</td>\n",
       "      <td>19954</td>\n",
       "      <td>3581</td>\n",
       "      <td>597</td>\n",
       "      <td>3</td>\n",
       "      <td>35</td>\n",
       "    </tr>\n",
       "    <tr>\n",
       "      <th>4</th>\n",
       "      <td>8</td>\n",
       "      <td>150</td>\n",
       "      <td>880</td>\n",
       "      <td>3295</td>\n",
       "      <td>5147</td>\n",
       "      <td>176</td>\n",
       "      <td>0</td>\n",
       "      <td>0</td>\n",
       "    </tr>\n",
       "    <tr>\n",
       "      <th>5</th>\n",
       "      <td>0</td>\n",
       "      <td>12</td>\n",
       "      <td>87</td>\n",
       "      <td>500</td>\n",
       "      <td>161</td>\n",
       "      <td>79</td>\n",
       "      <td>0</td>\n",
       "      <td>3</td>\n",
       "    </tr>\n",
       "    <tr>\n",
       "      <th>6</th>\n",
       "      <td>0</td>\n",
       "      <td>0</td>\n",
       "      <td>3</td>\n",
       "      <td>15</td>\n",
       "      <td>0</td>\n",
       "      <td>2</td>\n",
       "      <td>0</td>\n",
       "      <td>0</td>\n",
       "    </tr>\n",
       "    <tr>\n",
       "      <th>7</th>\n",
       "      <td>1</td>\n",
       "      <td>11</td>\n",
       "      <td>13</td>\n",
       "      <td>40</td>\n",
       "      <td>11</td>\n",
       "      <td>4</td>\n",
       "      <td>0</td>\n",
       "      <td>14</td>\n",
       "    </tr>\n",
       "  </tbody>\n",
       "</table>\n",
       "</div>"
      ],
      "text/plain": [
       "      0      1     2      3     4    5  6   7\n",
       "0  1153   1050   171    101    17    2  0   1\n",
       "1  1229  48691  6766   1390   130    5  0   5\n",
       "2   173   5737  3162   3743   870   80  1  15\n",
       "3   103   1229  4199  19954  3581  597  3  35\n",
       "4     8    150   880   3295  5147  176  0   0\n",
       "5     0     12    87    500   161   79  0   3\n",
       "6     0      0     3     15     0    2  0   0\n",
       "7     1     11    13     40    11    4  0  14"
      ]
     },
     "execution_count": 131,
     "metadata": {},
     "output_type": "execute_result"
    }
   ],
   "source": [
    "conf_matrix = confusion_matrix(y_val, y_pred_val_DT)\n",
    "conf_matrix = pd.DataFrame(conf_matrix)\n",
    "print('Confusion Matrix for Validation:')\n",
    "conf_matrix"
   ]
  },
  {
   "cell_type": "markdown",
   "id": "8b623854",
   "metadata": {
    "id": "63b66807"
   },
   "source": [
    "<a class=\"anchor\" id=\"sub-section-3_1_5\"></a>\n",
    "\n",
    "### 3.1.5. Gradient Boosting\n",
    "\n",
    "</a>"
   ]
  },
  {
   "cell_type": "code",
   "execution_count": 132,
   "id": "e50df128",
   "metadata": {},
   "outputs": [],
   "source": [
    "GB = xgb.XGBClassifier(random_state=42, verbosity=1)"
   ]
  },
  {
   "cell_type": "code",
   "execution_count": 133,
   "id": "e83b07ee",
   "metadata": {},
   "outputs": [],
   "source": [
    "GB.fit(X_train_scaled, y_train)\n",
    "y_pred_val_GB = GB.predict(X_val_scaled)\n",
    "y_pred_train_GB = GB.predict(X_train_scaled)"
   ]
  },
  {
   "cell_type": "code",
   "execution_count": 134,
   "id": "12f3f28f",
   "metadata": {},
   "outputs": [
    {
     "name": "stdout",
     "output_type": "stream",
     "text": [
      "Accuracy on Train Set: 0.8019337136884283\n",
      "Training F1 Macro: 0.6341167674905017\n",
      "Accuracy on Validation Set: 0.7908105047689561\n"
     ]
    }
   ],
   "source": [
    "f1_train_GB=f1_score(y_train, y_pred_train_GB, average='macro')\n",
    "f1_val_GB=f1_score(y_val, y_pred_val_GB, average='macro')\n",
    "\n",
    "print('Accuracy on Train Set:', accuracy_score(y_train, y_pred_train_GB))\n",
    "print('Training F1 Macro:', f1_train_GB)\n",
    "print('Accuracy on Validation Set:', accuracy_score(y_val, y_pred_val_GB))"
   ]
  },
  {
   "cell_type": "code",
   "execution_count": 135,
   "id": "7f2ed070-f65a-4410-a071-84bd3d8a4884",
   "metadata": {},
   "outputs": [
    {
     "data": {
      "text/html": [
       "<div>\n",
       "<style scoped>\n",
       "    .dataframe tbody tr th:only-of-type {\n",
       "        vertical-align: middle;\n",
       "    }\n",
       "\n",
       "    .dataframe tbody tr th {\n",
       "        vertical-align: top;\n",
       "    }\n",
       "\n",
       "    .dataframe thead th {\n",
       "        text-align: right;\n",
       "    }\n",
       "</style>\n",
       "<table border=\"1\" class=\"dataframe\">\n",
       "  <thead>\n",
       "    <tr style=\"text-align: right;\">\n",
       "      <th></th>\n",
       "      <th>precision</th>\n",
       "      <th>recall</th>\n",
       "      <th>f1-score</th>\n",
       "      <th>support</th>\n",
       "    </tr>\n",
       "  </thead>\n",
       "  <tbody>\n",
       "    <tr>\n",
       "      <th>0</th>\n",
       "      <td>0.733683</td>\n",
       "      <td>0.504609</td>\n",
       "      <td>0.597958</td>\n",
       "      <td>2495.000000</td>\n",
       "    </tr>\n",
       "    <tr>\n",
       "      <th>1</th>\n",
       "      <td>0.848045</td>\n",
       "      <td>0.977635</td>\n",
       "      <td>0.908241</td>\n",
       "      <td>58216.000000</td>\n",
       "    </tr>\n",
       "    <tr>\n",
       "      <th>2</th>\n",
       "      <td>0.491900</td>\n",
       "      <td>0.072709</td>\n",
       "      <td>0.126691</td>\n",
       "      <td>13781.000000</td>\n",
       "    </tr>\n",
       "    <tr>\n",
       "      <th>3</th>\n",
       "      <td>0.726982</td>\n",
       "      <td>0.865594</td>\n",
       "      <td>0.790256</td>\n",
       "      <td>29701.000000</td>\n",
       "    </tr>\n",
       "    <tr>\n",
       "      <th>4</th>\n",
       "      <td>0.690513</td>\n",
       "      <td>0.606773</td>\n",
       "      <td>0.645940</td>\n",
       "      <td>9656.000000</td>\n",
       "    </tr>\n",
       "    <tr>\n",
       "      <th>5</th>\n",
       "      <td>0.411765</td>\n",
       "      <td>0.008314</td>\n",
       "      <td>0.016298</td>\n",
       "      <td>842.000000</td>\n",
       "    </tr>\n",
       "    <tr>\n",
       "      <th>6</th>\n",
       "      <td>0.000000</td>\n",
       "      <td>0.000000</td>\n",
       "      <td>0.000000</td>\n",
       "      <td>20.000000</td>\n",
       "    </tr>\n",
       "    <tr>\n",
       "      <th>7</th>\n",
       "      <td>0.534247</td>\n",
       "      <td>0.414894</td>\n",
       "      <td>0.467066</td>\n",
       "      <td>94.000000</td>\n",
       "    </tr>\n",
       "    <tr>\n",
       "      <th>accuracy</th>\n",
       "      <td>0.790811</td>\n",
       "      <td>0.790811</td>\n",
       "      <td>0.790811</td>\n",
       "      <td>0.790811</td>\n",
       "    </tr>\n",
       "    <tr>\n",
       "      <th>macro avg</th>\n",
       "      <td>0.554642</td>\n",
       "      <td>0.431316</td>\n",
       "      <td>0.444056</td>\n",
       "      <td>114805.000000</td>\n",
       "    </tr>\n",
       "    <tr>\n",
       "      <th>weighted avg</th>\n",
       "      <td>0.754635</td>\n",
       "      <td>0.790811</td>\n",
       "      <td>0.748035</td>\n",
       "      <td>114805.000000</td>\n",
       "    </tr>\n",
       "  </tbody>\n",
       "</table>\n",
       "</div>"
      ],
      "text/plain": [
       "              precision    recall  f1-score        support\n",
       "0              0.733683  0.504609  0.597958    2495.000000\n",
       "1              0.848045  0.977635  0.908241   58216.000000\n",
       "2              0.491900  0.072709  0.126691   13781.000000\n",
       "3              0.726982  0.865594  0.790256   29701.000000\n",
       "4              0.690513  0.606773  0.645940    9656.000000\n",
       "5              0.411765  0.008314  0.016298     842.000000\n",
       "6              0.000000  0.000000  0.000000      20.000000\n",
       "7              0.534247  0.414894  0.467066      94.000000\n",
       "accuracy       0.790811  0.790811  0.790811       0.790811\n",
       "macro avg      0.554642  0.431316  0.444056  114805.000000\n",
       "weighted avg   0.754635  0.790811  0.748035  114805.000000"
      ]
     },
     "execution_count": 135,
     "metadata": {},
     "output_type": "execute_result"
    }
   ],
   "source": [
    "class_report = classification_report(y_val, y_pred_val_GB, output_dict=True)\n",
    "class_report_df = pd.DataFrame(class_report).transpose()\n",
    "class_report_df"
   ]
  },
  {
   "cell_type": "code",
   "execution_count": 136,
   "id": "14e10dca-77d3-4ac6-bce7-a88a0ebd5d74",
   "metadata": {},
   "outputs": [
    {
     "name": "stdout",
     "output_type": "stream",
     "text": [
      "Confusion Matrix for Validation:\n"
     ]
    },
    {
     "data": {
      "text/html": [
       "<div>\n",
       "<style scoped>\n",
       "    .dataframe tbody tr th:only-of-type {\n",
       "        vertical-align: middle;\n",
       "    }\n",
       "\n",
       "    .dataframe tbody tr th {\n",
       "        vertical-align: top;\n",
       "    }\n",
       "\n",
       "    .dataframe thead th {\n",
       "        text-align: right;\n",
       "    }\n",
       "</style>\n",
       "<table border=\"1\" class=\"dataframe\">\n",
       "  <thead>\n",
       "    <tr style=\"text-align: right;\">\n",
       "      <th></th>\n",
       "      <th>0</th>\n",
       "      <th>1</th>\n",
       "      <th>2</th>\n",
       "      <th>3</th>\n",
       "      <th>4</th>\n",
       "      <th>5</th>\n",
       "      <th>6</th>\n",
       "      <th>7</th>\n",
       "    </tr>\n",
       "  </thead>\n",
       "  <tbody>\n",
       "    <tr>\n",
       "      <th>0</th>\n",
       "      <td>1259</td>\n",
       "      <td>1132</td>\n",
       "      <td>35</td>\n",
       "      <td>63</td>\n",
       "      <td>5</td>\n",
       "      <td>0</td>\n",
       "      <td>0</td>\n",
       "      <td>1</td>\n",
       "    </tr>\n",
       "    <tr>\n",
       "      <th>1</th>\n",
       "      <td>414</td>\n",
       "      <td>56914</td>\n",
       "      <td>392</td>\n",
       "      <td>461</td>\n",
       "      <td>31</td>\n",
       "      <td>0</td>\n",
       "      <td>0</td>\n",
       "      <td>4</td>\n",
       "    </tr>\n",
       "    <tr>\n",
       "      <th>2</th>\n",
       "      <td>22</td>\n",
       "      <td>7409</td>\n",
       "      <td>1002</td>\n",
       "      <td>4796</td>\n",
       "      <td>545</td>\n",
       "      <td>1</td>\n",
       "      <td>0</td>\n",
       "      <td>6</td>\n",
       "    </tr>\n",
       "    <tr>\n",
       "      <th>3</th>\n",
       "      <td>16</td>\n",
       "      <td>1521</td>\n",
       "      <td>484</td>\n",
       "      <td>25709</td>\n",
       "      <td>1941</td>\n",
       "      <td>8</td>\n",
       "      <td>1</td>\n",
       "      <td>21</td>\n",
       "    </tr>\n",
       "    <tr>\n",
       "      <th>4</th>\n",
       "      <td>3</td>\n",
       "      <td>119</td>\n",
       "      <td>113</td>\n",
       "      <td>3561</td>\n",
       "      <td>5859</td>\n",
       "      <td>1</td>\n",
       "      <td>0</td>\n",
       "      <td>0</td>\n",
       "    </tr>\n",
       "    <tr>\n",
       "      <th>5</th>\n",
       "      <td>0</td>\n",
       "      <td>4</td>\n",
       "      <td>7</td>\n",
       "      <td>720</td>\n",
       "      <td>103</td>\n",
       "      <td>7</td>\n",
       "      <td>0</td>\n",
       "      <td>1</td>\n",
       "    </tr>\n",
       "    <tr>\n",
       "      <th>6</th>\n",
       "      <td>0</td>\n",
       "      <td>0</td>\n",
       "      <td>1</td>\n",
       "      <td>18</td>\n",
       "      <td>0</td>\n",
       "      <td>0</td>\n",
       "      <td>0</td>\n",
       "      <td>1</td>\n",
       "    </tr>\n",
       "    <tr>\n",
       "      <th>7</th>\n",
       "      <td>2</td>\n",
       "      <td>13</td>\n",
       "      <td>3</td>\n",
       "      <td>36</td>\n",
       "      <td>1</td>\n",
       "      <td>0</td>\n",
       "      <td>0</td>\n",
       "      <td>39</td>\n",
       "    </tr>\n",
       "  </tbody>\n",
       "</table>\n",
       "</div>"
      ],
      "text/plain": [
       "      0      1     2      3     4  5  6   7\n",
       "0  1259   1132    35     63     5  0  0   1\n",
       "1   414  56914   392    461    31  0  0   4\n",
       "2    22   7409  1002   4796   545  1  0   6\n",
       "3    16   1521   484  25709  1941  8  1  21\n",
       "4     3    119   113   3561  5859  1  0   0\n",
       "5     0      4     7    720   103  7  0   1\n",
       "6     0      0     1     18     0  0  0   1\n",
       "7     2     13     3     36     1  0  0  39"
      ]
     },
     "execution_count": 136,
     "metadata": {},
     "output_type": "execute_result"
    }
   ],
   "source": [
    "conf_matrix = confusion_matrix(y_val, y_pred_val_GB)\n",
    "conf_matrix = pd.DataFrame(conf_matrix)\n",
    "print('Confusion Matrix for Validation:')\n",
    "conf_matrix"
   ]
  },
  {
   "cell_type": "markdown",
   "id": "19c7df8d",
   "metadata": {},
   "source": [
    "<a class=\"anchor\" id=\"sub-section-3_1_6\"></a>\n",
    "\n",
    "### 3.1.6. Random Forest Classifier\n",
    "\n",
    "</a>"
   ]
  },
  {
   "cell_type": "code",
   "execution_count": 137,
   "id": "f7651785",
   "metadata": {},
   "outputs": [],
   "source": [
    "rfc = RandomForestClassifier(random_state=42, class_weight='balanced')\n",
    "\n",
    "rfc.fit(X_train_scaled, y_train)\n",
    "y_pred_val_RF = rfc.predict(X_val_scaled)\n",
    "y_pred_train_RF = rfc.predict(X_train_scaled)"
   ]
  },
  {
   "cell_type": "code",
   "execution_count": 138,
   "id": "5b7fef5b-6511-4be9-b4d8-204bfa6d5ddd",
   "metadata": {},
   "outputs": [
    {
     "name": "stdout",
     "output_type": "stream",
     "text": [
      "Accuracy on Train Set: 0.9998127259265711\n",
      "Training F1 Macro: 0.9989135116220669\n",
      "Accuracy on Validation Set: 0.786725316841601\n"
     ]
    }
   ],
   "source": [
    "f1_train_RF=f1_score(y_train, y_pred_train_RF, average='macro')\n",
    "f1_val_RF=f1_score(y_val, y_pred_val_RF, average='macro')\n",
    "\n",
    "print('Accuracy on Train Set:', accuracy_score(y_train, y_pred_train_RF))\n",
    "print('Training F1 Macro:', f1_train_RF)\n",
    "print('Accuracy on Validation Set:', accuracy_score(y_val, y_pred_val_RF))"
   ]
  },
  {
   "cell_type": "code",
   "execution_count": 139,
   "id": "61b121aa-7c5d-490a-a7e1-99f49c52640e",
   "metadata": {},
   "outputs": [
    {
     "data": {
      "text/html": [
       "<div>\n",
       "<style scoped>\n",
       "    .dataframe tbody tr th:only-of-type {\n",
       "        vertical-align: middle;\n",
       "    }\n",
       "\n",
       "    .dataframe tbody tr th {\n",
       "        vertical-align: top;\n",
       "    }\n",
       "\n",
       "    .dataframe thead th {\n",
       "        text-align: right;\n",
       "    }\n",
       "</style>\n",
       "<table border=\"1\" class=\"dataframe\">\n",
       "  <thead>\n",
       "    <tr style=\"text-align: right;\">\n",
       "      <th></th>\n",
       "      <th>precision</th>\n",
       "      <th>recall</th>\n",
       "      <th>f1-score</th>\n",
       "      <th>support</th>\n",
       "    </tr>\n",
       "  </thead>\n",
       "  <tbody>\n",
       "    <tr>\n",
       "      <th>0</th>\n",
       "      <td>0.749842</td>\n",
       "      <td>0.475752</td>\n",
       "      <td>0.582148</td>\n",
       "      <td>2495.000000</td>\n",
       "    </tr>\n",
       "    <tr>\n",
       "      <th>1</th>\n",
       "      <td>0.847673</td>\n",
       "      <td>0.975488</td>\n",
       "      <td>0.907100</td>\n",
       "      <td>58216.000000</td>\n",
       "    </tr>\n",
       "    <tr>\n",
       "      <th>2</th>\n",
       "      <td>0.476289</td>\n",
       "      <td>0.067049</td>\n",
       "      <td>0.117550</td>\n",
       "      <td>13781.000000</td>\n",
       "    </tr>\n",
       "    <tr>\n",
       "      <th>3</th>\n",
       "      <td>0.703565</td>\n",
       "      <td>0.897074</td>\n",
       "      <td>0.788622</td>\n",
       "      <td>29701.000000</td>\n",
       "    </tr>\n",
       "    <tr>\n",
       "      <th>4</th>\n",
       "      <td>0.745694</td>\n",
       "      <td>0.493165</td>\n",
       "      <td>0.593692</td>\n",
       "      <td>9656.000000</td>\n",
       "    </tr>\n",
       "    <tr>\n",
       "      <th>5</th>\n",
       "      <td>0.142857</td>\n",
       "      <td>0.001188</td>\n",
       "      <td>0.002356</td>\n",
       "      <td>842.000000</td>\n",
       "    </tr>\n",
       "    <tr>\n",
       "      <th>6</th>\n",
       "      <td>0.000000</td>\n",
       "      <td>0.000000</td>\n",
       "      <td>0.000000</td>\n",
       "      <td>20.000000</td>\n",
       "    </tr>\n",
       "    <tr>\n",
       "      <th>7</th>\n",
       "      <td>0.520000</td>\n",
       "      <td>0.138298</td>\n",
       "      <td>0.218487</td>\n",
       "      <td>94.000000</td>\n",
       "    </tr>\n",
       "    <tr>\n",
       "      <th>accuracy</th>\n",
       "      <td>0.786725</td>\n",
       "      <td>0.786725</td>\n",
       "      <td>0.786725</td>\n",
       "      <td>0.786725</td>\n",
       "    </tr>\n",
       "    <tr>\n",
       "      <th>macro avg</th>\n",
       "      <td>0.523240</td>\n",
       "      <td>0.381002</td>\n",
       "      <td>0.401244</td>\n",
       "      <td>114805.000000</td>\n",
       "    </tr>\n",
       "    <tr>\n",
       "      <th>weighted avg</th>\n",
       "      <td>0.749522</td>\n",
       "      <td>0.786725</td>\n",
       "      <td>0.740893</td>\n",
       "      <td>114805.000000</td>\n",
       "    </tr>\n",
       "  </tbody>\n",
       "</table>\n",
       "</div>"
      ],
      "text/plain": [
       "              precision    recall  f1-score        support\n",
       "0              0.749842  0.475752  0.582148    2495.000000\n",
       "1              0.847673  0.975488  0.907100   58216.000000\n",
       "2              0.476289  0.067049  0.117550   13781.000000\n",
       "3              0.703565  0.897074  0.788622   29701.000000\n",
       "4              0.745694  0.493165  0.593692    9656.000000\n",
       "5              0.142857  0.001188  0.002356     842.000000\n",
       "6              0.000000  0.000000  0.000000      20.000000\n",
       "7              0.520000  0.138298  0.218487      94.000000\n",
       "accuracy       0.786725  0.786725  0.786725       0.786725\n",
       "macro avg      0.523240  0.381002  0.401244  114805.000000\n",
       "weighted avg   0.749522  0.786725  0.740893  114805.000000"
      ]
     },
     "execution_count": 139,
     "metadata": {},
     "output_type": "execute_result"
    }
   ],
   "source": [
    "class_report = classification_report(y_val, y_pred_val_RF, output_dict=True)\n",
    "class_report_df = pd.DataFrame(class_report).transpose()\n",
    "class_report_df"
   ]
  },
  {
   "cell_type": "code",
   "execution_count": 140,
   "id": "397b78a0-2cc8-4499-a442-59147ffb09cc",
   "metadata": {},
   "outputs": [
    {
     "name": "stdout",
     "output_type": "stream",
     "text": [
      "Confusion Matrix for Validation:\n"
     ]
    },
    {
     "data": {
      "text/html": [
       "<div>\n",
       "<style scoped>\n",
       "    .dataframe tbody tr th:only-of-type {\n",
       "        vertical-align: middle;\n",
       "    }\n",
       "\n",
       "    .dataframe tbody tr th {\n",
       "        vertical-align: top;\n",
       "    }\n",
       "\n",
       "    .dataframe thead th {\n",
       "        text-align: right;\n",
       "    }\n",
       "</style>\n",
       "<table border=\"1\" class=\"dataframe\">\n",
       "  <thead>\n",
       "    <tr style=\"text-align: right;\">\n",
       "      <th></th>\n",
       "      <th>0</th>\n",
       "      <th>1</th>\n",
       "      <th>2</th>\n",
       "      <th>3</th>\n",
       "      <th>4</th>\n",
       "      <th>5</th>\n",
       "      <th>6</th>\n",
       "      <th>7</th>\n",
       "    </tr>\n",
       "  </thead>\n",
       "  <tbody>\n",
       "    <tr>\n",
       "      <th>0</th>\n",
       "      <td>1187</td>\n",
       "      <td>1202</td>\n",
       "      <td>35</td>\n",
       "      <td>68</td>\n",
       "      <td>3</td>\n",
       "      <td>0</td>\n",
       "      <td>0</td>\n",
       "      <td>0</td>\n",
       "    </tr>\n",
       "    <tr>\n",
       "      <th>1</th>\n",
       "      <td>360</td>\n",
       "      <td>56789</td>\n",
       "      <td>432</td>\n",
       "      <td>611</td>\n",
       "      <td>23</td>\n",
       "      <td>0</td>\n",
       "      <td>0</td>\n",
       "      <td>1</td>\n",
       "    </tr>\n",
       "    <tr>\n",
       "      <th>2</th>\n",
       "      <td>22</td>\n",
       "      <td>7369</td>\n",
       "      <td>924</td>\n",
       "      <td>5064</td>\n",
       "      <td>398</td>\n",
       "      <td>1</td>\n",
       "      <td>0</td>\n",
       "      <td>3</td>\n",
       "    </tr>\n",
       "    <tr>\n",
       "      <th>3</th>\n",
       "      <td>14</td>\n",
       "      <td>1482</td>\n",
       "      <td>431</td>\n",
       "      <td>26644</td>\n",
       "      <td>1119</td>\n",
       "      <td>3</td>\n",
       "      <td>0</td>\n",
       "      <td>8</td>\n",
       "    </tr>\n",
       "    <tr>\n",
       "      <th>4</th>\n",
       "      <td>0</td>\n",
       "      <td>129</td>\n",
       "      <td>114</td>\n",
       "      <td>4649</td>\n",
       "      <td>4762</td>\n",
       "      <td>2</td>\n",
       "      <td>0</td>\n",
       "      <td>0</td>\n",
       "    </tr>\n",
       "    <tr>\n",
       "      <th>5</th>\n",
       "      <td>0</td>\n",
       "      <td>3</td>\n",
       "      <td>4</td>\n",
       "      <td>753</td>\n",
       "      <td>81</td>\n",
       "      <td>1</td>\n",
       "      <td>0</td>\n",
       "      <td>0</td>\n",
       "    </tr>\n",
       "    <tr>\n",
       "      <th>6</th>\n",
       "      <td>0</td>\n",
       "      <td>0</td>\n",
       "      <td>0</td>\n",
       "      <td>20</td>\n",
       "      <td>0</td>\n",
       "      <td>0</td>\n",
       "      <td>0</td>\n",
       "      <td>0</td>\n",
       "    </tr>\n",
       "    <tr>\n",
       "      <th>7</th>\n",
       "      <td>0</td>\n",
       "      <td>20</td>\n",
       "      <td>0</td>\n",
       "      <td>61</td>\n",
       "      <td>0</td>\n",
       "      <td>0</td>\n",
       "      <td>0</td>\n",
       "      <td>13</td>\n",
       "    </tr>\n",
       "  </tbody>\n",
       "</table>\n",
       "</div>"
      ],
      "text/plain": [
       "      0      1    2      3     4  5  6   7\n",
       "0  1187   1202   35     68     3  0  0   0\n",
       "1   360  56789  432    611    23  0  0   1\n",
       "2    22   7369  924   5064   398  1  0   3\n",
       "3    14   1482  431  26644  1119  3  0   8\n",
       "4     0    129  114   4649  4762  2  0   0\n",
       "5     0      3    4    753    81  1  0   0\n",
       "6     0      0    0     20     0  0  0   0\n",
       "7     0     20    0     61     0  0  0  13"
      ]
     },
     "execution_count": 140,
     "metadata": {},
     "output_type": "execute_result"
    }
   ],
   "source": [
    "conf_matrix = confusion_matrix(y_val, y_pred_val_RF)\n",
    "conf_matrix = pd.DataFrame(conf_matrix)\n",
    "print('Confusion Matrix for Validation:')\n",
    "conf_matrix"
   ]
  },
  {
   "cell_type": "markdown",
   "id": "09c49bc8",
   "metadata": {
    "id": "63b66807"
   },
   "source": [
    "<a class=\"anchor\" id=\"sub-section-3_1_7\"></a>\n",
    "\n",
    "### 3.1.7. Neural Networks\n",
    "\n",
    "</a>"
   ]
  },
  {
   "cell_type": "code",
   "execution_count": 141,
   "id": "89dc2da5",
   "metadata": {},
   "outputs": [],
   "source": [
    "NN = MLPClassifier(random_state=42)"
   ]
  },
  {
   "cell_type": "code",
   "execution_count": 142,
   "id": "e3c99628",
   "metadata": {},
   "outputs": [],
   "source": [
    "NN.fit(X_train_scaled, y_train)\n",
    "y_pred_val_NN = NN.predict(X_val_scaled)\n",
    "y_pred_train_NN = NN.predict(X_train_scaled)"
   ]
  },
  {
   "cell_type": "code",
   "execution_count": 143,
   "id": "1daa8523",
   "metadata": {},
   "outputs": [
    {
     "name": "stdout",
     "output_type": "stream",
     "text": [
      "Accuracy on Train Set: 0.7837942598318889\n",
      "Training F1 Macro: 0.43974264651394224\n",
      "Accuracy on Validation Set: 0.7827533644005052\n"
     ]
    }
   ],
   "source": [
    "f1_train_NN=f1_score(y_train, y_pred_train_NN, average='macro')\n",
    "f1_val_NN=f1_score(y_val, y_pred_val_NN, average='macro')\n",
    "\n",
    "print('Accuracy on Train Set:', accuracy_score(y_train, y_pred_train_NN))\n",
    "print('Training F1 Macro:', f1_train_NN)\n",
    "print('Accuracy on Validation Set:', accuracy_score(y_val, y_pred_val_NN))"
   ]
  },
  {
   "cell_type": "code",
   "execution_count": 144,
   "id": "1a2892c6",
   "metadata": {},
   "outputs": [
    {
     "data": {
      "text/html": [
       "<div>\n",
       "<style scoped>\n",
       "    .dataframe tbody tr th:only-of-type {\n",
       "        vertical-align: middle;\n",
       "    }\n",
       "\n",
       "    .dataframe tbody tr th {\n",
       "        vertical-align: top;\n",
       "    }\n",
       "\n",
       "    .dataframe thead th {\n",
       "        text-align: right;\n",
       "    }\n",
       "</style>\n",
       "<table border=\"1\" class=\"dataframe\">\n",
       "  <thead>\n",
       "    <tr style=\"text-align: right;\">\n",
       "      <th></th>\n",
       "      <th>precision</th>\n",
       "      <th>recall</th>\n",
       "      <th>f1-score</th>\n",
       "      <th>support</th>\n",
       "    </tr>\n",
       "  </thead>\n",
       "  <tbody>\n",
       "    <tr>\n",
       "      <th>0</th>\n",
       "      <td>0.728173</td>\n",
       "      <td>0.471343</td>\n",
       "      <td>0.572263</td>\n",
       "      <td>2495.000000</td>\n",
       "    </tr>\n",
       "    <tr>\n",
       "      <th>1</th>\n",
       "      <td>0.844407</td>\n",
       "      <td>0.976038</td>\n",
       "      <td>0.905463</td>\n",
       "      <td>58216.000000</td>\n",
       "    </tr>\n",
       "    <tr>\n",
       "      <th>2</th>\n",
       "      <td>0.450000</td>\n",
       "      <td>0.079675</td>\n",
       "      <td>0.135380</td>\n",
       "      <td>13781.000000</td>\n",
       "    </tr>\n",
       "    <tr>\n",
       "      <th>3</th>\n",
       "      <td>0.723059</td>\n",
       "      <td>0.841958</td>\n",
       "      <td>0.777992</td>\n",
       "      <td>29701.000000</td>\n",
       "    </tr>\n",
       "    <tr>\n",
       "      <th>4</th>\n",
       "      <td>0.650415</td>\n",
       "      <td>0.592688</td>\n",
       "      <td>0.620211</td>\n",
       "      <td>9656.000000</td>\n",
       "    </tr>\n",
       "    <tr>\n",
       "      <th>5</th>\n",
       "      <td>1.000000</td>\n",
       "      <td>0.001188</td>\n",
       "      <td>0.002372</td>\n",
       "      <td>842.000000</td>\n",
       "    </tr>\n",
       "    <tr>\n",
       "      <th>6</th>\n",
       "      <td>0.000000</td>\n",
       "      <td>0.000000</td>\n",
       "      <td>0.000000</td>\n",
       "      <td>20.000000</td>\n",
       "    </tr>\n",
       "    <tr>\n",
       "      <th>7</th>\n",
       "      <td>0.520548</td>\n",
       "      <td>0.404255</td>\n",
       "      <td>0.455090</td>\n",
       "      <td>94.000000</td>\n",
       "    </tr>\n",
       "    <tr>\n",
       "      <th>accuracy</th>\n",
       "      <td>0.782753</td>\n",
       "      <td>0.782753</td>\n",
       "      <td>0.782753</td>\n",
       "      <td>0.782753</td>\n",
       "    </tr>\n",
       "    <tr>\n",
       "      <th>macro avg</th>\n",
       "      <td>0.614575</td>\n",
       "      <td>0.420893</td>\n",
       "      <td>0.433596</td>\n",
       "      <td>114805.000000</td>\n",
       "    </tr>\n",
       "    <tr>\n",
       "      <th>weighted avg</th>\n",
       "      <td>0.747556</td>\n",
       "      <td>0.782753</td>\n",
       "      <td>0.741663</td>\n",
       "      <td>114805.000000</td>\n",
       "    </tr>\n",
       "  </tbody>\n",
       "</table>\n",
       "</div>"
      ],
      "text/plain": [
       "              precision    recall  f1-score        support\n",
       "0              0.728173  0.471343  0.572263    2495.000000\n",
       "1              0.844407  0.976038  0.905463   58216.000000\n",
       "2              0.450000  0.079675  0.135380   13781.000000\n",
       "3              0.723059  0.841958  0.777992   29701.000000\n",
       "4              0.650415  0.592688  0.620211    9656.000000\n",
       "5              1.000000  0.001188  0.002372     842.000000\n",
       "6              0.000000  0.000000  0.000000      20.000000\n",
       "7              0.520548  0.404255  0.455090      94.000000\n",
       "accuracy       0.782753  0.782753  0.782753       0.782753\n",
       "macro avg      0.614575  0.420893  0.433596  114805.000000\n",
       "weighted avg   0.747556  0.782753  0.741663  114805.000000"
      ]
     },
     "execution_count": 144,
     "metadata": {},
     "output_type": "execute_result"
    }
   ],
   "source": [
    "class_report = classification_report(y_val, y_pred_val_NN, output_dict=True)\n",
    "class_report_df = pd.DataFrame(class_report).transpose()\n",
    "class_report_df"
   ]
  },
  {
   "cell_type": "code",
   "execution_count": 145,
   "id": "c897973c",
   "metadata": {},
   "outputs": [
    {
     "name": "stdout",
     "output_type": "stream",
     "text": [
      "Confusion Matrix for Validation:\n"
     ]
    },
    {
     "data": {
      "text/html": [
       "<div>\n",
       "<style scoped>\n",
       "    .dataframe tbody tr th:only-of-type {\n",
       "        vertical-align: middle;\n",
       "    }\n",
       "\n",
       "    .dataframe tbody tr th {\n",
       "        vertical-align: top;\n",
       "    }\n",
       "\n",
       "    .dataframe thead th {\n",
       "        text-align: right;\n",
       "    }\n",
       "</style>\n",
       "<table border=\"1\" class=\"dataframe\">\n",
       "  <thead>\n",
       "    <tr style=\"text-align: right;\">\n",
       "      <th></th>\n",
       "      <th>0</th>\n",
       "      <th>1</th>\n",
       "      <th>2</th>\n",
       "      <th>3</th>\n",
       "      <th>4</th>\n",
       "      <th>5</th>\n",
       "      <th>6</th>\n",
       "      <th>7</th>\n",
       "    </tr>\n",
       "  </thead>\n",
       "  <tbody>\n",
       "    <tr>\n",
       "      <th>0</th>\n",
       "      <td>1176</td>\n",
       "      <td>1214</td>\n",
       "      <td>32</td>\n",
       "      <td>65</td>\n",
       "      <td>7</td>\n",
       "      <td>0</td>\n",
       "      <td>0</td>\n",
       "      <td>1</td>\n",
       "    </tr>\n",
       "    <tr>\n",
       "      <th>1</th>\n",
       "      <td>400</td>\n",
       "      <td>56821</td>\n",
       "      <td>401</td>\n",
       "      <td>551</td>\n",
       "      <td>41</td>\n",
       "      <td>0</td>\n",
       "      <td>0</td>\n",
       "      <td>2</td>\n",
       "    </tr>\n",
       "    <tr>\n",
       "      <th>2</th>\n",
       "      <td>23</td>\n",
       "      <td>7467</td>\n",
       "      <td>1098</td>\n",
       "      <td>4598</td>\n",
       "      <td>590</td>\n",
       "      <td>0</td>\n",
       "      <td>0</td>\n",
       "      <td>5</td>\n",
       "    </tr>\n",
       "    <tr>\n",
       "      <th>3</th>\n",
       "      <td>13</td>\n",
       "      <td>1637</td>\n",
       "      <td>727</td>\n",
       "      <td>25007</td>\n",
       "      <td>2293</td>\n",
       "      <td>0</td>\n",
       "      <td>1</td>\n",
       "      <td>23</td>\n",
       "    </tr>\n",
       "    <tr>\n",
       "      <th>4</th>\n",
       "      <td>2</td>\n",
       "      <td>134</td>\n",
       "      <td>164</td>\n",
       "      <td>3630</td>\n",
       "      <td>5723</td>\n",
       "      <td>0</td>\n",
       "      <td>0</td>\n",
       "      <td>3</td>\n",
       "    </tr>\n",
       "    <tr>\n",
       "      <th>5</th>\n",
       "      <td>0</td>\n",
       "      <td>2</td>\n",
       "      <td>11</td>\n",
       "      <td>687</td>\n",
       "      <td>140</td>\n",
       "      <td>1</td>\n",
       "      <td>0</td>\n",
       "      <td>1</td>\n",
       "    </tr>\n",
       "    <tr>\n",
       "      <th>6</th>\n",
       "      <td>0</td>\n",
       "      <td>0</td>\n",
       "      <td>0</td>\n",
       "      <td>20</td>\n",
       "      <td>0</td>\n",
       "      <td>0</td>\n",
       "      <td>0</td>\n",
       "      <td>0</td>\n",
       "    </tr>\n",
       "    <tr>\n",
       "      <th>7</th>\n",
       "      <td>1</td>\n",
       "      <td>16</td>\n",
       "      <td>7</td>\n",
       "      <td>27</td>\n",
       "      <td>5</td>\n",
       "      <td>0</td>\n",
       "      <td>0</td>\n",
       "      <td>38</td>\n",
       "    </tr>\n",
       "  </tbody>\n",
       "</table>\n",
       "</div>"
      ],
      "text/plain": [
       "      0      1     2      3     4  5  6   7\n",
       "0  1176   1214    32     65     7  0  0   1\n",
       "1   400  56821   401    551    41  0  0   2\n",
       "2    23   7467  1098   4598   590  0  0   5\n",
       "3    13   1637   727  25007  2293  0  1  23\n",
       "4     2    134   164   3630  5723  0  0   3\n",
       "5     0      2    11    687   140  1  0   1\n",
       "6     0      0     0     20     0  0  0   0\n",
       "7     1     16     7     27     5  0  0  38"
      ]
     },
     "execution_count": 145,
     "metadata": {},
     "output_type": "execute_result"
    }
   ],
   "source": [
    "conf_matrix = confusion_matrix(y_val, y_pred_val_NN)\n",
    "conf_matrix = pd.DataFrame(conf_matrix)\n",
    "print('Confusion Matrix for Validation:')\n",
    "conf_matrix"
   ]
  },
  {
   "cell_type": "markdown",
   "id": "b1495f14",
   "metadata": {
    "id": "63b66807"
   },
   "source": [
    "<a class=\"anchor\" id=\"sub-section-3_1_8\"></a>\n",
    "\n",
    "### 3.1.8. Comparing Models\n",
    "\n",
    "</a>"
   ]
  },
  {
   "cell_type": "code",
   "execution_count": 146,
   "id": "c61a27b8",
   "metadata": {},
   "outputs": [
    {
     "data": {
      "text/html": [
       "<div>\n",
       "<style scoped>\n",
       "    .dataframe tbody tr th:only-of-type {\n",
       "        vertical-align: middle;\n",
       "    }\n",
       "\n",
       "    .dataframe tbody tr th {\n",
       "        vertical-align: top;\n",
       "    }\n",
       "\n",
       "    .dataframe thead th {\n",
       "        text-align: right;\n",
       "    }\n",
       "</style>\n",
       "<table border=\"1\" class=\"dataframe\">\n",
       "  <thead>\n",
       "    <tr style=\"text-align: right;\">\n",
       "      <th></th>\n",
       "      <th>Macro F1 Score Train</th>\n",
       "      <th>Macro F1 Score Val</th>\n",
       "    </tr>\n",
       "  </thead>\n",
       "  <tbody>\n",
       "    <tr>\n",
       "      <th>Logistic Regression</th>\n",
       "      <td>0.337552</td>\n",
       "      <td>0.340668</td>\n",
       "    </tr>\n",
       "    <tr>\n",
       "      <th>Naive Bayes</th>\n",
       "      <td>0.325928</td>\n",
       "      <td>0.324026</td>\n",
       "    </tr>\n",
       "    <tr>\n",
       "      <th>Decision Tree</th>\n",
       "      <td>0.998918</td>\n",
       "      <td>0.371481</td>\n",
       "    </tr>\n",
       "    <tr>\n",
       "      <th>K-Nearest Neighbors</th>\n",
       "      <td>0.48035</td>\n",
       "      <td>0.395605</td>\n",
       "    </tr>\n",
       "    <tr>\n",
       "      <th>Gradient Boosting</th>\n",
       "      <td>0.634117</td>\n",
       "      <td>0.444056</td>\n",
       "    </tr>\n",
       "    <tr>\n",
       "      <th>Random Forest</th>\n",
       "      <td>0.998914</td>\n",
       "      <td>0.401244</td>\n",
       "    </tr>\n",
       "    <tr>\n",
       "      <th>Neural Network</th>\n",
       "      <td>0.439743</td>\n",
       "      <td>0.433596</td>\n",
       "    </tr>\n",
       "  </tbody>\n",
       "</table>\n",
       "</div>"
      ],
      "text/plain": [
       "                    Macro F1 Score Train Macro F1 Score Val\n",
       "Logistic Regression             0.337552           0.340668\n",
       "Naive Bayes                     0.325928           0.324026\n",
       "Decision Tree                   0.998918           0.371481\n",
       "K-Nearest Neighbors              0.48035           0.395605\n",
       "Gradient Boosting               0.634117           0.444056\n",
       "Random Forest                   0.998914           0.401244\n",
       "Neural Network                  0.439743           0.433596"
      ]
     },
     "execution_count": 146,
     "metadata": {},
     "output_type": "execute_result"
    }
   ],
   "source": [
    "models=['LR','NB','DT','KNN','GB','RF','NN']\n",
    "models_names=['Logistic Regression','Naive Bayes', 'Decision Tree', 'K-Nearest Neighbors','Gradient Boosting', 'Random Forest','Neural Network']\n",
    "train_scores = {f'f1_train_{model}': globals()[f'f1_train_{model}'] for model in models}\n",
    "val_scores = {f'f1_val_{model}': globals()[f'f1_val_{model}'] for model in models}\n",
    "\n",
    "df = pd.DataFrame(columns = ['Macro F1 Score Train','Macro F1 Score Val'], index = models_names)\n",
    "functions.compare_model_f1_scores(df, models,train_scores,val_scores)"
   ]
  },
  {
   "cell_type": "markdown",
   "id": "1f9ee20b",
   "metadata": {},
   "source": [
    "Best 4 models: Neural Networks, K-Nearest Neighbors, Gradient Boosting, Random Forest\t"
   ]
  },
  {
   "cell_type": "markdown",
   "id": "69776a8a",
   "metadata": {},
   "source": [
    "<a class=\"anchor\" id=\"sub-section-3_2\"></a>\n",
    "\n",
    "## 3.2. Optimization\n",
    "</a>"
   ]
  },
  {
   "cell_type": "markdown",
   "id": "614963c7",
   "metadata": {},
   "source": [
    "<a class=\"anchor\" id=\"sub-section-3_2.1\"></a>\n",
    "\n",
    "### 3.2.1. Oversampling\n",
    "</a>"
   ]
  },
  {
   "cell_type": "markdown",
   "id": "f1fce032-0f81-49cc-a6e2-f363555975d0",
   "metadata": {},
   "source": [
    "As mentioned, our data is highly unbalanced, and some classes have significantly fewer instances. For example, Permanent Total Disability only has 97 occurences and Death has 470 occurances, which is significantly less than Non-Compensable with 291078 counts. This imbalance can lead to poor performance on some classes, as we have seen in the classification_report across all models tested. To address this issue and in an attempt to improve our predictions, we tried using SMOTE (Synthetic Minority Oversampling Technique). We are going to test our best models with SMOTE."
   ]
  },
  {
   "cell_type": "code",
   "execution_count": 147,
   "id": "839288d8",
   "metadata": {},
   "outputs": [],
   "source": [
    "smote = SMOTE(random_state=42)\n",
    "X_resampled, y_resampled = smote.fit_resample(X_train_scaled, y_train)\n",
    "\n",
    "#models = {\n",
    "#    'NN': MLPClassifier(random_state=42),\n",
    "#    'KNN': KNeighborsClassifier(),\n",
    "#    'RF': RandomForestClassifier(random_state=42),\n",
    "#    'GB': xgb.XGBClassifier(random_state=42)\n",
    "#}\n",
    "\n",
    "#for model_name in models:\n",
    "#    model = models[model_name]\n",
    "#    model.fit(X_resampled, y_resampled) \n",
    "#    y_pred = model.predict(X_val_scaled)\n",
    "#    y_pred_train = model.predict(X_resampled)\n",
    "#    f1_macro = f1_score(y_val, y_pred, average='macro')\n",
    "#    f1_macro_train = f1_score(y_resampled, y_pred_train, average='macro')\n",
    "\n",
    "\n",
    "#    print(f\"{model_name}, F1 Macro Score Val: {f1_macro}, F1 Macro Train :{f1_macro_train}\\n,{f1_macro_train_r}\")"
   ]
  },
  {
   "cell_type": "markdown",
   "id": "baa54fd5",
   "metadata": {},
   "source": [
    "Results:\n",
    "- NN, F1 Macro Score Val: 0.3897834200470847, F1 Macro Train :0.7455728723093065\n",
    "- KNN, F1 Macro Score Val: 0.3606285492284639, F1 Macro Train:0.9492687024999497\n",
    "- RF, F1 Macro Score Val: 0.4467123961854067, F1 Macro Train 0.9999575928364732\n",
    "- GB, F1 Macro Score Val: 0.4602631952122069, F1 Macro Train Val: 0.8402889876906404"
   ]
  },
  {
   "cell_type": "code",
   "execution_count": 148,
   "id": "56b72e69",
   "metadata": {},
   "outputs": [
    {
     "data": {
      "text/html": [
       "<div>\n",
       "<style scoped>\n",
       "    .dataframe tbody tr th:only-of-type {\n",
       "        vertical-align: middle;\n",
       "    }\n",
       "\n",
       "    .dataframe tbody tr th {\n",
       "        vertical-align: top;\n",
       "    }\n",
       "\n",
       "    .dataframe thead th {\n",
       "        text-align: right;\n",
       "    }\n",
       "</style>\n",
       "<table border=\"1\" class=\"dataframe\">\n",
       "  <thead>\n",
       "    <tr style=\"text-align: right;\">\n",
       "      <th></th>\n",
       "      <th>precision</th>\n",
       "      <th>recall</th>\n",
       "      <th>f1-score</th>\n",
       "      <th>support</th>\n",
       "    </tr>\n",
       "  </thead>\n",
       "  <tbody>\n",
       "    <tr>\n",
       "      <th>0</th>\n",
       "      <td>0.581839</td>\n",
       "      <td>0.598397</td>\n",
       "      <td>0.590002</td>\n",
       "      <td>2495.000000</td>\n",
       "    </tr>\n",
       "    <tr>\n",
       "      <th>1</th>\n",
       "      <td>0.854282</td>\n",
       "      <td>0.960011</td>\n",
       "      <td>0.904066</td>\n",
       "      <td>58216.000000</td>\n",
       "    </tr>\n",
       "    <tr>\n",
       "      <th>2</th>\n",
       "      <td>0.449326</td>\n",
       "      <td>0.101662</td>\n",
       "      <td>0.165809</td>\n",
       "      <td>13781.000000</td>\n",
       "    </tr>\n",
       "    <tr>\n",
       "      <th>3</th>\n",
       "      <td>0.743532</td>\n",
       "      <td>0.794451</td>\n",
       "      <td>0.768149</td>\n",
       "      <td>29701.000000</td>\n",
       "    </tr>\n",
       "    <tr>\n",
       "      <th>4</th>\n",
       "      <td>0.630341</td>\n",
       "      <td>0.666114</td>\n",
       "      <td>0.647734</td>\n",
       "      <td>9656.000000</td>\n",
       "    </tr>\n",
       "    <tr>\n",
       "      <th>5</th>\n",
       "      <td>0.144073</td>\n",
       "      <td>0.261283</td>\n",
       "      <td>0.185732</td>\n",
       "      <td>842.000000</td>\n",
       "    </tr>\n",
       "    <tr>\n",
       "      <th>6</th>\n",
       "      <td>0.058824</td>\n",
       "      <td>0.050000</td>\n",
       "      <td>0.054054</td>\n",
       "      <td>20.000000</td>\n",
       "    </tr>\n",
       "    <tr>\n",
       "      <th>7</th>\n",
       "      <td>0.262673</td>\n",
       "      <td>0.606383</td>\n",
       "      <td>0.366559</td>\n",
       "      <td>94.000000</td>\n",
       "    </tr>\n",
       "    <tr>\n",
       "      <th>accuracy</th>\n",
       "      <td>0.775994</td>\n",
       "      <td>0.775994</td>\n",
       "      <td>0.775994</td>\n",
       "      <td>0.775994</td>\n",
       "    </tr>\n",
       "    <tr>\n",
       "      <th>macro avg</th>\n",
       "      <td>0.465611</td>\n",
       "      <td>0.504788</td>\n",
       "      <td>0.460263</td>\n",
       "      <td>114805.000000</td>\n",
       "    </tr>\n",
       "    <tr>\n",
       "      <th>weighted avg</th>\n",
       "      <td>0.746432</td>\n",
       "      <td>0.775994</td>\n",
       "      <td>0.746042</td>\n",
       "      <td>114805.000000</td>\n",
       "    </tr>\n",
       "  </tbody>\n",
       "</table>\n",
       "</div>"
      ],
      "text/plain": [
       "              precision    recall  f1-score        support\n",
       "0              0.581839  0.598397  0.590002    2495.000000\n",
       "1              0.854282  0.960011  0.904066   58216.000000\n",
       "2              0.449326  0.101662  0.165809   13781.000000\n",
       "3              0.743532  0.794451  0.768149   29701.000000\n",
       "4              0.630341  0.666114  0.647734    9656.000000\n",
       "5              0.144073  0.261283  0.185732     842.000000\n",
       "6              0.058824  0.050000  0.054054      20.000000\n",
       "7              0.262673  0.606383  0.366559      94.000000\n",
       "accuracy       0.775994  0.775994  0.775994       0.775994\n",
       "macro avg      0.465611  0.504788  0.460263  114805.000000\n",
       "weighted avg   0.746432  0.775994  0.746042  114805.000000"
      ]
     },
     "execution_count": 148,
     "metadata": {},
     "output_type": "execute_result"
    }
   ],
   "source": [
    "GB.fit(X_resampled, y_resampled) \n",
    "y_pred = GB.predict(X_val_scaled)\n",
    "class_report = classification_report(y_val, y_pred, output_dict=True)\n",
    "class_report_df = pd.DataFrame(class_report).transpose()\n",
    "class_report_df"
   ]
  },
  {
   "cell_type": "markdown",
   "id": "4a311625",
   "metadata": {},
   "source": [
    "From the results, we can see that the macro F1-score on validation increases and that i helped predict the minority class, but we will not use it as it is overfitting more."
   ]
  },
  {
   "cell_type": "markdown",
   "id": "c7dcb82e",
   "metadata": {},
   "source": [
    "<a class=\"anchor\" id=\"sub-section-3_2_2\"></a>\n",
    "\n",
    "### 3.2.2. Hyperparameter tuning\n",
    "</a>"
   ]
  },
  {
   "cell_type": "markdown",
   "id": "a14b2cfe-b570-4c71-bf83-cc5ec0659030",
   "metadata": {},
   "source": [
    "In this section, we attempt to find the best parameters for our 4 best models. We used to RandomizedSearchCV() for large parameter spaces for more efficiency and GridSearchCV() for smaller parameter spaces."
   ]
  },
  {
   "cell_type": "code",
   "execution_count": 149,
   "id": "d55f43e7",
   "metadata": {},
   "outputs": [],
   "source": [
    "#Defining the predfinef split for gird search with the indexes of val ans train to avoid data leakage\n",
    "X_combined = np.concatenate([X_train_scaled, X_val_scaled])\n",
    "y_combined = np.concatenate([y_train, y_val])\n",
    "test_fold = [-1] * len(X_train_scaled) + [0] * len(X_val_scaled)\n",
    "ps = PredefinedSplit(test_fold=test_fold)"
   ]
  },
  {
   "cell_type": "markdown",
   "id": "8ead55e4",
   "metadata": {
    "id": "63b66807"
   },
   "source": [
    "<a class=\"anchor\" id=\"sub-section-3_2_2_1\"></a>\n",
    "\n",
    "#### 3.2.2.1. Gradient Boosting\n",
    "</a>"
   ]
  },
  {
   "cell_type": "code",
   "execution_count": 150,
   "id": "8e3ca8e9",
   "metadata": {
    "scrolled": true
   },
   "outputs": [],
   "source": [
    "#parameter_space = {\n",
    "#    'n_estimators': [100, 300, 500], # Number of boosting rounds\n",
    "#    'max_depth': [3, 6, 10], # Depth of the trees\n",
    "#    'learning_rate': [0.05, 0.1, 0.2], # A smaller learning rate is better with more trees\n",
    "#    'subsample': [0.8, 1.0], # Fraction of samples used for each boosting round\n",
    "#    'colsample_bytree': [0.8, 1.0], # Fraction of features used for each tree\n",
    "#    'gamma': [0, 0.2, 0.4], # Minimum loss reduction required to make a further partition\n",
    "#    'alpha': [0,0.1, 0.5],  # L1 regularization term on weights      \n",
    "#    'lambda': [0, 1, 2],# L2 regularization term on weights     \n",
    "#    'min_child_weight':[1,5,10] #Sum of instance weights in a child node \n",
    "#}\n",
    "\n",
    "#clf_gb = RandomizedSearchCV(estimator=GB,param_distributions=parameter_space,scoring='f1_macro',\n",
    "#                            verbose=4,cv=ps,n_jobs=-1,random_state=42,n_iter=1000)\n",
    "\n",
    "#clf_gb.fit(X_combined, y_combined)\n",
    "\n",
    "#print(\"Best hyperparameters:\", clf_gb.best_params_)\n",
    "#print(\"Best Score:\", clf_gb.best_score_)"
   ]
  },
  {
   "cell_type": "code",
   "execution_count": 151,
   "id": "48b82275",
   "metadata": {},
   "outputs": [],
   "source": [
    "GB_tuned = xgb.XGBClassifier( colsample_bytree= 0.8,gamma=0.2, learning_rate= 0.2, max_depth=6, n_estimators= 500, subsample= 1,alpha=0,\n",
    "                             lambda_=1,  min_child_weight=10,random_state = 42, verbosity=1)"
   ]
  },
  {
   "cell_type": "code",
   "execution_count": 152,
   "id": "e36245b5",
   "metadata": {},
   "outputs": [],
   "source": [
    "GB_tuned.fit(X_train_scaled, y_train)\n",
    "y_pred_val_GB_tuned = GB_tuned.predict(X_val_scaled)\n",
    "y_pred_train_GB_tuned = GB_tuned.predict(X_train_scaled)"
   ]
  },
  {
   "cell_type": "code",
   "execution_count": 153,
   "id": "903d985c",
   "metadata": {},
   "outputs": [
    {
     "name": "stdout",
     "output_type": "stream",
     "text": [
      "Accuracy on Train Set: 0.8047188711293062\n",
      "Training F1 Macro: 0.531707672267614\n",
      "Accuracy on Validation Set: 0.791968990897609\n",
      "Validation F1 Macro: 0.44681382884925847\n"
     ]
    }
   ],
   "source": [
    "# Metrics for assessment\n",
    "f1_val_tuned_GB=f1_score(y_val, y_pred_val_GB_tuned, average='macro')\n",
    "\n",
    "print('Accuracy on Train Set:', accuracy_score(y_train, y_pred_train_GB_tuned))\n",
    "print('Training F1 Macro:', f1_score(y_train, y_pred_train_GB_tuned, average='macro'))\n",
    "print('Accuracy on Validation Set:', accuracy_score(y_val, y_pred_val_GB_tuned))\n",
    "print('Validation F1 Macro:',f1_val_tuned_GB)"
   ]
  },
  {
   "cell_type": "markdown",
   "id": "96c898ca",
   "metadata": {},
   "source": [
    "<a class=\"anchor\" id=\"sub-section-3_2_2_2\"></a>\n",
    "\n",
    "#### 3.2.2.2.  Random Forest\n",
    "</a>"
   ]
  },
  {
   "cell_type": "code",
   "execution_count": 154,
   "id": "c8420247",
   "metadata": {},
   "outputs": [],
   "source": [
    "#parameter_space = {\n",
    "#    'n_estimators': [100, 200],\n",
    "#    'max_depth': [7, 10, 15, 30, None],\n",
    "#    'min_samples_split': [2, 5, 10],\n",
    "#    'min_samples_leaf': [2, 4, 8],\n",
    "#    'max_features': ['sqrt', None, 0.5],\n",
    "#    'bootstrap': [True,False],\n",
    "#    'criterion': ['entropy','gini'],\n",
    "#    'class_weight': [None, 'balanced', 'balanced_subsample'],  # Class balancing\n",
    "#}\n",
    "\n",
    "rf = RandomForestClassifier(random_state=42)\n",
    "\n",
    "#clf_rf = RandomizedSearchCV(estimator=rf,param_distributions=parameter_space,scoring='f1_macro',\n",
    "                            #verbose=4,cv=ps,n_jobs=-1,random_state=42,n_iter=500)\n",
    "\n",
    "#clf_rf.fit(X_combined, y_combined)\n",
    "\n",
    "#print(\"Best hyperparameters:\", clf_rf.best_params_)\n",
    "#print(\"Best Score:\", clf_rf.best_score_)\n"
   ]
  },
  {
   "cell_type": "code",
   "execution_count": 155,
   "id": "36eb3d04",
   "metadata": {},
   "outputs": [],
   "source": [
    "RF_tuned = RandomForestClassifier(n_estimators=200, min_samples_split=5 ,min_samples_leaf=4, max_features='sqrt',\n",
    "    max_depth=30, criterion='gini',class_weight='balanced', bootstrap=False, n_jobs=-1)"
   ]
  },
  {
   "cell_type": "code",
   "execution_count": 156,
   "id": "b47e90ab",
   "metadata": {},
   "outputs": [],
   "source": [
    "RF_tuned.fit(X_train_scaled, y_train)\n",
    "y_pred_val_tuned_RF = RF_tuned.predict(X_val_scaled)\n",
    "y_pred_train_tuned_RF = RF_tuned.predict(X_train_scaled)"
   ]
  },
  {
   "cell_type": "code",
   "execution_count": 157,
   "id": "62fd3d47",
   "metadata": {},
   "outputs": [
    {
     "name": "stdout",
     "output_type": "stream",
     "text": [
      "Accuracy on Train Set: 0.9480684639170768\n",
      "Training F1 Macro: 0.9115865092593525\n",
      "Accuracy on Validation Set: 0.7663255084708854\n",
      "Validation F1 Macro: 0.46711148353102006\n"
     ]
    }
   ],
   "source": [
    "# Metrics for assessment\n",
    "f1_val_tuned_RF=f1_score(y_val, y_pred_val_tuned_RF, average='macro')\n",
    "\n",
    "print('Accuracy on Train Set:', accuracy_score(y_train, y_pred_train_tuned_RF))\n",
    "print('Training F1 Macro:', f1_score(y_train, y_pred_train_tuned_RF, average='macro'))\n",
    "print('Accuracy on Validation Set:', accuracy_score(y_val, y_pred_val_tuned_RF))\n",
    "print('Validation F1 Macro:',f1_val_tuned_RF)"
   ]
  },
  {
   "cell_type": "markdown",
   "id": "128bb162",
   "metadata": {},
   "source": [
    "<a class=\"anchor\" id=\"sub-section-3_2_2_3\"></a>\n",
    "\n",
    "#### 3.2.2.3. KNN\n",
    "</a>"
   ]
  },
  {
   "cell_type": "code",
   "execution_count": 158,
   "id": "309a8d8a",
   "metadata": {},
   "outputs": [],
   "source": [
    "#parameter_space = {\n",
    "#    'n_neighbors': [1,2,4,3,5,6,7,8,9,10],  # Number of neighbors to consider\n",
    "#    'weights': ['uniform', 'distance'],  # Weight function\n",
    "#    'metric': ['euclidean', 'manhattan', 'minkowski'],  # Distance metric\n",
    "#}\n",
    "\n",
    "#knn=KNeighborsClassifier()\n",
    "\n",
    "#clf_KNN = GridSearchCV(knn, parameter_space,scoring='f1_macro', verbose=4, cv=ps,n_jobs=-1)\n",
    "\n",
    "#clf_KNN.fit(X_combined, y_combined)\n",
    "\n",
    "#print(\"Best hyperparameters:\", clf_KNN.best_params_)\n",
    "# print(\"Best Score:\", clf_KNN.best_score_)"
   ]
  },
  {
   "cell_type": "code",
   "execution_count": 159,
   "id": "636f407b",
   "metadata": {},
   "outputs": [],
   "source": [
    "KNN_tuned = KNeighborsClassifier(n_neighbors=9,  weights='distance' ,metric='manhattan' )"
   ]
  },
  {
   "cell_type": "code",
   "execution_count": 160,
   "id": "bc3e572e",
   "metadata": {},
   "outputs": [],
   "source": [
    "KNN_tuned.fit(X_train_scaled, y_train)\n",
    "y_pred_val_tuned_KNN = KNN_tuned.predict(X_val_scaled)\n",
    "y_pred_train_KNN_tuned = KNN_tuned.predict(X_train_scaled)"
   ]
  },
  {
   "cell_type": "code",
   "execution_count": 161,
   "id": "f0ca1728",
   "metadata": {},
   "outputs": [
    {
     "name": "stdout",
     "output_type": "stream",
     "text": [
      "Accuracy on Train Set: 0.999838857192631\n",
      "Training F1 Macro: 0.9989180493909744\n",
      "Accuracy on Validation Set: 0.7666129523975437\n",
      "Validation F1 Macro: 0.4025905526129015\n"
     ]
    }
   ],
   "source": [
    "# Metrics for assessment\n",
    "f1_val_tuned_KNN=f1_score(y_val, y_pred_val_tuned_KNN, average='macro')\n",
    "\n",
    "print('Accuracy on Train Set:', accuracy_score(y_train, y_pred_train_KNN_tuned))\n",
    "print('Training F1 Macro:', f1_score(y_train, y_pred_train_KNN_tuned, average='macro'))\n",
    "print('Accuracy on Validation Set:', accuracy_score(y_val, y_pred_val_tuned_KNN))\n",
    "print('Validation F1 Macro:',f1_val_tuned_KNN)"
   ]
  },
  {
   "cell_type": "markdown",
   "id": "2c9a2f48",
   "metadata": {},
   "source": [
    "<a class=\"anchor\" id=\"sub-section-3_2_2_4\"></a>\n",
    "\n",
    "#### 3.2.2.4. Neural Networks\n",
    "</a>"
   ]
  },
  {
   "cell_type": "code",
   "execution_count": 162,
   "id": "417fc000",
   "metadata": {},
   "outputs": [],
   "source": [
    "#parameter_space = {\n",
    "#    'hidden_layer_sizes': [(50,), (10, 10), (100,)],\n",
    "#    'solver': ['lbfgs', 'sgd', 'adam'],\n",
    "#    'learning_rate': ['constant', 'adaptive', 'invscaling'],\n",
    "#    'learning_rate_init': [0.001, 0.01, 0.05],\n",
    "#}\n",
    "\n",
    "#NN = MLPClassifier(random_state=42)\n",
    "\n",
    "#clf_NN = GridSearchCV(NN, parameter_space,scoring='f1_macro', verbose=4, cv=ps,n_jobs=-1)\n",
    "\n",
    "#clf_NN.fit(X_combined, y_combined)\n",
    "\n",
    "#print(\"Best hyperparameters:\", clf_NN.best_params_)\n",
    "#print(\"Best Score:\", clf_NN.best_score_)"
   ]
  },
  {
   "cell_type": "code",
   "execution_count": 163,
   "id": "e2b87335",
   "metadata": {},
   "outputs": [],
   "source": [
    "NN_tuned = MLPClassifier(hidden_layer_sizes=(100,), learning_rate='constant',learning_rate_init=0.001,solver='adam',random_state=42)"
   ]
  },
  {
   "cell_type": "code",
   "execution_count": 164,
   "id": "b6413038",
   "metadata": {},
   "outputs": [],
   "source": [
    "NN_tuned.fit(X_train_scaled, y_train)\n",
    "y_pred_val_tuned_NN = NN_tuned.predict(X_val_scaled)\n",
    "y_pred_train_tuned_NN = NN_tuned.predict(X_train_scaled)"
   ]
  },
  {
   "cell_type": "code",
   "execution_count": 165,
   "id": "9351e500",
   "metadata": {},
   "outputs": [
    {
     "name": "stdout",
     "output_type": "stream",
     "text": [
      "Accuracy on Train Set: 0.7837942598318889\n",
      "Training F1 Macro: 0.43974264651394224\n",
      "Accuracy on Validation Set: 0.7827533644005052\n",
      "Validation F1 Macro: 0.4335964998934349\n"
     ]
    }
   ],
   "source": [
    "# Metrics for assessment\n",
    "f1_val_tuned_NN=f1_score(y_val, y_pred_val_tuned_NN, average='macro')\n",
    "\n",
    "print('Accuracy on Train Set:', accuracy_score(y_train, y_pred_train_tuned_NN))\n",
    "print('Training F1 Macro:', f1_score(y_train, y_pred_train_tuned_NN, average='macro'))\n",
    "print('Accuracy on Validation Set:', accuracy_score(y_val, y_pred_val_tuned_NN))\n",
    "print('Validation F1 Macro:',f1_val_tuned_NN)"
   ]
  },
  {
   "cell_type": "markdown",
   "id": "c89fd70f",
   "metadata": {},
   "source": [
    "<a class=\"anchor\" id=\"sub-section-3_2_3\"></a>\n",
    "\n",
    "### 3.2.3. Comparing Results\n",
    "</a>"
   ]
  },
  {
   "cell_type": "code",
   "execution_count": 166,
   "id": "70c26499",
   "metadata": {},
   "outputs": [
    {
     "data": {
      "text/html": [
       "<div>\n",
       "<style scoped>\n",
       "    .dataframe tbody tr th:only-of-type {\n",
       "        vertical-align: middle;\n",
       "    }\n",
       "\n",
       "    .dataframe tbody tr th {\n",
       "        vertical-align: top;\n",
       "    }\n",
       "\n",
       "    .dataframe thead th {\n",
       "        text-align: right;\n",
       "    }\n",
       "</style>\n",
       "<table border=\"1\" class=\"dataframe\">\n",
       "  <thead>\n",
       "    <tr style=\"text-align: right;\">\n",
       "      <th></th>\n",
       "      <th>Macro F1 Score Default</th>\n",
       "      <th>Macro F1 Score Optimized</th>\n",
       "    </tr>\n",
       "  </thead>\n",
       "  <tbody>\n",
       "    <tr>\n",
       "      <th>Gradient Boosting</th>\n",
       "      <td>0.444056</td>\n",
       "      <td>0.446814</td>\n",
       "    </tr>\n",
       "    <tr>\n",
       "      <th>Random Forest</th>\n",
       "      <td>0.401244</td>\n",
       "      <td>0.467111</td>\n",
       "    </tr>\n",
       "    <tr>\n",
       "      <th>Neural Network</th>\n",
       "      <td>0.433596</td>\n",
       "      <td>0.433596</td>\n",
       "    </tr>\n",
       "    <tr>\n",
       "      <th>K-Nearest Neighbors</th>\n",
       "      <td>0.395605</td>\n",
       "      <td>0.402591</td>\n",
       "    </tr>\n",
       "  </tbody>\n",
       "</table>\n",
       "</div>"
      ],
      "text/plain": [
       "                    Macro F1 Score Default Macro F1 Score Optimized\n",
       "Gradient Boosting                 0.444056                 0.446814\n",
       "Random Forest                     0.401244                 0.467111\n",
       "Neural Network                    0.433596                 0.433596\n",
       "K-Nearest Neighbors               0.395605                 0.402591"
      ]
     },
     "execution_count": 166,
     "metadata": {},
     "output_type": "execute_result"
    }
   ],
   "source": [
    "models=['GB','RF','NN','KNN']\n",
    "models_names=['Gradient Boosting', 'Random Forest','Neural Network','K-Nearest Neighbors']\n",
    "default_scores = {f'f1_val_{model}': globals()[f'f1_val_{model}'] for model in models}\n",
    "opt_scores = {f'f1_val_tuned_{model}': globals()[f'f1_val_tuned_{model}'] for model in models}\n",
    "\n",
    "df = pd.DataFrame(columns = ['Macro F1 Score Default','Macro F1 Score Optimized'], index = models_names)\n",
    "functions.compare_model_f1_scores_tuned(df, models,default_scores,opt_scores)"
   ]
  },
  {
   "cell_type": "code",
   "execution_count": 167,
   "id": "d53bc15d",
   "metadata": {},
   "outputs": [
    {
     "data": {
      "image/png": "[encoded data removed]",
      "text/plain": [
       "<Figure size 1000x600 with 1 Axes>"
      ]
     },
     "metadata": {},
     "output_type": "display_data"
    }
   ],
   "source": [
    "functions.plot_model_comparison(df)"
   ]
  },
  {
   "cell_type": "markdown",
   "id": "5b0452d3-65ec-43f4-bbec-37df96aff15d",
   "metadata": {},
   "source": [
    "We can observe that Gradient Boosting and KNN sligthly improved, while Neural Network did not change as it remained as default after tuning. Random Forest significantly improved, but overfitting continues to be an issue as seen when comparing train and validation sets. So, we decided on Gradient Boosting as our best model."
   ]
  },
  {
   "cell_type": "markdown",
   "id": "77e95a48",
   "metadata": {},
   "source": [
    "<a class=\"anchor\" id=\"sub-section-3_3\"></a>\n",
    "\n",
    "## 3.3. Best Model\n",
    "</a>"
   ]
  },
  {
   "cell_type": "code",
   "execution_count": 168,
   "id": "57ee6dc1",
   "metadata": {},
   "outputs": [],
   "source": [
    "best_model=GB_tuned"
   ]
  },
  {
   "cell_type": "code",
   "execution_count": 169,
   "id": "ce31b20e",
   "metadata": {},
   "outputs": [
    {
     "name": "stdout",
     "output_type": "stream",
     "text": [
      "Accuracy on Train Set: 0.8047188711293062\n",
      "Training F1 Macro: 0.531707672267614\n",
      "Accuracy on Validation Set: 0.791968990897609\n",
      "Validation F1 Macro: 0.44681382884925847\n"
     ]
    }
   ],
   "source": [
    "f1_val_tuned_GB=f1_score(y_val, y_pred_val_GB_tuned, average='macro')\n",
    "\n",
    "print('Accuracy on Train Set:', accuracy_score(y_train, y_pred_train_GB_tuned))\n",
    "print('Training F1 Macro:', f1_score(y_train, y_pred_train_GB_tuned, average='macro'))\n",
    "print('Accuracy on Validation Set:', accuracy_score(y_val, y_pred_val_GB_tuned))\n",
    "print('Validation F1 Macro:',f1_val_tuned_GB)"
   ]
  },
  {
   "cell_type": "code",
   "execution_count": 170,
   "id": "fab28f97",
   "metadata": {},
   "outputs": [
    {
     "data": {
      "text/html": [
       "<div>\n",
       "<style scoped>\n",
       "    .dataframe tbody tr th:only-of-type {\n",
       "        vertical-align: middle;\n",
       "    }\n",
       "\n",
       "    .dataframe tbody tr th {\n",
       "        vertical-align: top;\n",
       "    }\n",
       "\n",
       "    .dataframe thead th {\n",
       "        text-align: right;\n",
       "    }\n",
       "</style>\n",
       "<table border=\"1\" class=\"dataframe\">\n",
       "  <thead>\n",
       "    <tr style=\"text-align: right;\">\n",
       "      <th></th>\n",
       "      <th>precision</th>\n",
       "      <th>recall</th>\n",
       "      <th>f1-score</th>\n",
       "      <th>support</th>\n",
       "    </tr>\n",
       "  </thead>\n",
       "  <tbody>\n",
       "    <tr>\n",
       "      <th>0</th>\n",
       "      <td>0.736143</td>\n",
       "      <td>0.511022</td>\n",
       "      <td>0.603265</td>\n",
       "      <td>2495.000000</td>\n",
       "    </tr>\n",
       "    <tr>\n",
       "      <th>1</th>\n",
       "      <td>0.849176</td>\n",
       "      <td>0.977480</td>\n",
       "      <td>0.908822</td>\n",
       "      <td>58216.000000</td>\n",
       "    </tr>\n",
       "    <tr>\n",
       "      <th>2</th>\n",
       "      <td>0.505489</td>\n",
       "      <td>0.080183</td>\n",
       "      <td>0.138410</td>\n",
       "      <td>13781.000000</td>\n",
       "    </tr>\n",
       "    <tr>\n",
       "      <th>3</th>\n",
       "      <td>0.728688</td>\n",
       "      <td>0.865122</td>\n",
       "      <td>0.791066</td>\n",
       "      <td>29701.000000</td>\n",
       "    </tr>\n",
       "    <tr>\n",
       "      <th>4</th>\n",
       "      <td>0.692470</td>\n",
       "      <td>0.610501</td>\n",
       "      <td>0.648907</td>\n",
       "      <td>9656.000000</td>\n",
       "    </tr>\n",
       "    <tr>\n",
       "      <th>5</th>\n",
       "      <td>0.318182</td>\n",
       "      <td>0.008314</td>\n",
       "      <td>0.016204</td>\n",
       "      <td>842.000000</td>\n",
       "    </tr>\n",
       "    <tr>\n",
       "      <th>6</th>\n",
       "      <td>0.000000</td>\n",
       "      <td>0.000000</td>\n",
       "      <td>0.000000</td>\n",
       "      <td>20.000000</td>\n",
       "    </tr>\n",
       "    <tr>\n",
       "      <th>7</th>\n",
       "      <td>0.519481</td>\n",
       "      <td>0.425532</td>\n",
       "      <td>0.467836</td>\n",
       "      <td>94.000000</td>\n",
       "    </tr>\n",
       "    <tr>\n",
       "      <th>accuracy</th>\n",
       "      <td>0.791969</td>\n",
       "      <td>0.791969</td>\n",
       "      <td>0.791969</td>\n",
       "      <td>0.791969</td>\n",
       "    </tr>\n",
       "    <tr>\n",
       "      <th>macro avg</th>\n",
       "      <td>0.543704</td>\n",
       "      <td>0.434769</td>\n",
       "      <td>0.446814</td>\n",
       "      <td>114805.000000</td>\n",
       "    </tr>\n",
       "    <tr>\n",
       "      <th>weighted avg</th>\n",
       "      <td>0.756800</td>\n",
       "      <td>0.791969</td>\n",
       "      <td>0.750311</td>\n",
       "      <td>114805.000000</td>\n",
       "    </tr>\n",
       "  </tbody>\n",
       "</table>\n",
       "</div>"
      ],
      "text/plain": [
       "              precision    recall  f1-score        support\n",
       "0              0.736143  0.511022  0.603265    2495.000000\n",
       "1              0.849176  0.977480  0.908822   58216.000000\n",
       "2              0.505489  0.080183  0.138410   13781.000000\n",
       "3              0.728688  0.865122  0.791066   29701.000000\n",
       "4              0.692470  0.610501  0.648907    9656.000000\n",
       "5              0.318182  0.008314  0.016204     842.000000\n",
       "6              0.000000  0.000000  0.000000      20.000000\n",
       "7              0.519481  0.425532  0.467836      94.000000\n",
       "accuracy       0.791969  0.791969  0.791969       0.791969\n",
       "macro avg      0.543704  0.434769  0.446814  114805.000000\n",
       "weighted avg   0.756800  0.791969  0.750311  114805.000000"
      ]
     },
     "execution_count": 170,
     "metadata": {},
     "output_type": "execute_result"
    }
   ],
   "source": [
    "class_report = classification_report(y_val, y_pred_val_GB_tuned, output_dict=True)\n",
    "class_report_df = pd.DataFrame(class_report).transpose()\n",
    "class_report_df"
   ]
  },
  {
   "cell_type": "code",
   "execution_count": 171,
   "id": "6e0a349d",
   "metadata": {},
   "outputs": [
    {
     "data": {
      "text/plain": [
       "<AxesSubplot: xlabel='Value', ylabel='Col'>"
      ]
     },
     "execution_count": 171,
     "metadata": {},
     "output_type": "execute_result"
    },
    {
     "data": {
      "image/png": "[encoded data removed]",
      "text/plain": [
       "<Figure size 1500x800 with 1 Axes>"
      ]
     },
     "metadata": {},
     "output_type": "display_data"
    }
   ],
   "source": [
    "# Plot the importance of features to our best model\n",
    "mse_importance = best_model.fit(X_train_scaled, y_train).feature_importances_\n",
    "\n",
    "zippy = pd.DataFrame(zip(mse_importance), columns = ['mse'])\n",
    "zippy['col'] = X_train_scaled.columns\n",
    "tidy = zippy.melt(id_vars='col').rename(columns=str.title)\n",
    "tidy.sort_values(['Value'], ascending = False, inplace = True)\n",
    "\n",
    "plt.figure(figsize=(15,8))\n",
    "sns.barplot(y='Col', x='Value', hue='Variable', data=tidy)"
   ]
  },
  {
   "cell_type": "markdown",
   "id": "c14a69c1",
   "metadata": {},
   "source": [
    "<a class=\"anchor\"  id=\"chapter4\"></a>\n",
    "\n",
    "# 4. Open Ended Section\n",
    "\n",
    "</a>"
   ]
  },
  {
   "cell_type": "markdown",
   "id": "7458e75f",
   "metadata": {},
   "source": [
    "<a class=\"anchor\" id=\"sub-section-4_1\"></a>\n",
    "\n",
    "## 4.1. Agreement Reached\n",
    "\n",
    "</a>"
   ]
  },
  {
   "cell_type": "markdown",
   "id": "1ac70ff6-7d96-43ba-beed-0f2b6616b85c",
   "metadata": {},
   "source": [
    "***For more details on our open ended section, please refer to the notebook called \"Group_12_AGR_notebook.ipynb\".***"
   ]
  },
  {
   "cell_type": "code",
   "execution_count": 172,
   "id": "530e8d18",
   "metadata": {},
   "outputs": [],
   "source": [
    "# Best model from the other notebook\n",
    "model_agr = xgb.XGBClassifier(colsample_bytree=1.0,gamma=0.4,learning_rate=0.1,max_delta_step=3,max_depth=10,\n",
    "    min_child_weight=5,n_estimators=300,reg_alpha=0, reg_lambda=2, scale_pos_weight=5,subsample=1.0, random_state=42)"
   ]
  },
  {
   "cell_type": "code",
   "execution_count": 173,
   "id": "35238c95",
   "metadata": {},
   "outputs": [],
   "source": [
    "# Columns used to predict agreement reached\n",
    "agr_cols=['Age at Injury', 'Alternative Dispute Resolution',\n",
    "          'Attorney/Representative', 'Average Weekly Wage', 'Carrier Name',\n",
    "          'Carrier Type', 'County of Injury', 'COVID-19 Indicator',\n",
    "          'District Name', 'Gender', 'IME-4 Count', 'Industry Code',\n",
    "          'Medical Fee Region', 'WCIO Cause of Injury Code',\n",
    "          'WCIO Nature of Injury Code', 'WCIO Part Of Body Code', 'Zip Code',\n",
    "          'C3_Received', 'C2_Received', 'First_Hearing', 'Accident Year']"
   ]
  },
  {
   "cell_type": "code",
   "execution_count": 174,
   "id": "cc47c3af",
   "metadata": {},
   "outputs": [
    {
     "data": {
      "text/plain": [
       "Index(['Age at Injury', 'Alternative Dispute Resolution',\n",
       "       'Attorney/Representative', 'Average Weekly Wage', 'Carrier Name',\n",
       "       'Carrier Type', 'County of Injury', 'COVID-19 Indicator',\n",
       "       'District Name', 'Gender', 'IME-4 Count', 'Industry Code',\n",
       "       'Medical Fee Region', 'WCIO Cause of Injury Code',\n",
       "       'WCIO Nature of Injury Code', 'WCIO Part Of Body Code', 'Zip Code',\n",
       "       'Age', 'C3_Received', 'C2_Received', 'First_Hearing', 'Accident Year',\n",
       "       'Has_Dependents'],\n",
       "      dtype='object')"
      ]
     },
     "execution_count": 174,
     "metadata": {},
     "output_type": "execute_result"
    }
   ],
   "source": [
    "X_train_agr.columns"
   ]
  },
  {
   "cell_type": "code",
   "execution_count": 175,
   "id": "89f4c920",
   "metadata": {},
   "outputs": [
    {
     "data": {
      "text/html": [
       "<style>#sk-container-id-4 {\n",
       "  /* Definition of color scheme common for light and dark mode */\n",
       "  --sklearn-color-text: black;\n",
       "  --sklearn-color-line: gray;\n",
       "  /* Definition of color scheme for unfitted estimators */\n",
       "  --sklearn-color-unfitted-level-0: #fff5e6;\n",
       "  --sklearn-color-unfitted-level-1: #f6e4d2;\n",
       "  --sklearn-color-unfitted-level-2: #ffe0b3;\n",
       "  --sklearn-color-unfitted-level-3: chocolate;\n",
       "  /* Definition of color scheme for fitted estimators */\n",
       "  --sklearn-color-fitted-level-0: #f0f8ff;\n",
       "  --sklearn-color-fitted-level-1: #d4ebff;\n",
       "  --sklearn-color-fitted-level-2: #b3dbfd;\n",
       "  --sklearn-color-fitted-level-3: cornflowerblue;\n",
       "\n",
       "  /* Specific color for light theme */\n",
       "  --sklearn-color-text-on-default-background: var(--sg-text-color, var(--theme-code-foreground, var(--jp-content-font-color1, black)));\n",
       "  --sklearn-color-background: var(--sg-background-color, var(--theme-background, var(--jp-layout-color0, white)));\n",
       "  --sklearn-color-border-box: var(--sg-text-color, var(--theme-code-foreground, var(--jp-content-font-color1, black)));\n",
       "  --sklearn-color-icon: #696969;\n",
       "\n",
       "  @media (prefers-color-scheme: dark) {\n",
       "    /* Redefinition of color scheme for dark theme */\n",
       "    --sklearn-color-text-on-default-background: var(--sg-text-color, var(--theme-code-foreground, var(--jp-content-font-color1, white)));\n",
       "    --sklearn-color-background: var(--sg-background-color, var(--theme-background, var(--jp-layout-color0, #111)));\n",
       "    --sklearn-color-border-box: var(--sg-text-color, var(--theme-code-foreground, var(--jp-content-font-color1, white)));\n",
       "    --sklearn-color-icon: #878787;\n",
       "  }\n",
       "}\n",
       "\n",
       "#sk-container-id-4 {\n",
       "  color: var(--sklearn-color-text);\n",
       "}\n",
       "\n",
       "#sk-container-id-4 pre {\n",
       "  padding: 0;\n",
       "}\n",
       "\n",
       "#sk-container-id-4 input.sk-hidden--visually {\n",
       "  border: 0;\n",
       "  clip: rect(1px 1px 1px 1px);\n",
       "  clip: rect(1px, 1px, 1px, 1px);\n",
       "  height: 1px;\n",
       "  margin: -1px;\n",
       "  overflow: hidden;\n",
       "  padding: 0;\n",
       "  position: absolute;\n",
       "  width: 1px;\n",
       "}\n",
       "\n",
       "#sk-container-id-4 div.sk-dashed-wrapped {\n",
       "  border: 1px dashed var(--sklearn-color-line);\n",
       "  margin: 0 0.4em 0.5em 0.4em;\n",
       "  box-sizing: border-box;\n",
       "  padding-bottom: 0.4em;\n",
       "  background-color: var(--sklearn-color-background);\n",
       "}\n",
       "\n",
       "#sk-container-id-4 div.sk-container {\n",
       "  /* jupyter's `normalize.less` sets `[hidden] { display: none; }`\n",
       "     but bootstrap.min.css set `[hidden] { display: none !important; }`\n",
       "     so we also need the `!important` here to be able to override the\n",
       "     default hidden behavior on the sphinx rendered scikit-learn.org.\n",
       "     See: https://github.com/scikit-learn/scikit-learn/issues/21755 */\n",
       "  display: inline-block !important;\n",
       "  position: relative;\n",
       "}\n",
       "\n",
       "#sk-container-id-4 div.sk-text-repr-fallback {\n",
       "  display: none;\n",
       "}\n",
       "\n",
       "div.sk-parallel-item,\n",
       "div.sk-serial,\n",
       "div.sk-item {\n",
       "  /* draw centered vertical line to link estimators */\n",
       "  background-image: linear-gradient(var(--sklearn-color-text-on-default-background), var(--sklearn-color-text-on-default-background));\n",
       "  background-size: 2px 100%;\n",
       "  background-repeat: no-repeat;\n",
       "  background-position: center center;\n",
       "}\n",
       "\n",
       "/* Parallel-specific style estimator block */\n",
       "\n",
       "#sk-container-id-4 div.sk-parallel-item::after {\n",
       "  content: \"\";\n",
       "  width: 100%;\n",
       "  border-bottom: 2px solid var(--sklearn-color-text-on-default-background);\n",
       "  flex-grow: 1;\n",
       "}\n",
       "\n",
       "#sk-container-id-4 div.sk-parallel {\n",
       "  display: flex;\n",
       "  align-items: stretch;\n",
       "  justify-content: center;\n",
       "  background-color: var(--sklearn-color-background);\n",
       "  position: relative;\n",
       "}\n",
       "\n",
       "#sk-container-id-4 div.sk-parallel-item {\n",
       "  display: flex;\n",
       "  flex-direction: column;\n",
       "}\n",
       "\n",
       "#sk-container-id-4 div.sk-parallel-item:first-child::after {\n",
       "  align-self: flex-end;\n",
       "  width: 50%;\n",
       "}\n",
       "\n",
       "#sk-container-id-4 div.sk-parallel-item:last-child::after {\n",
       "  align-self: flex-start;\n",
       "  width: 50%;\n",
       "}\n",
       "\n",
       "#sk-container-id-4 div.sk-parallel-item:only-child::after {\n",
       "  width: 0;\n",
       "}\n",
       "\n",
       "/* Serial-specific style estimator block */\n",
       "\n",
       "#sk-container-id-4 div.sk-serial {\n",
       "  display: flex;\n",
       "  flex-direction: column;\n",
       "  align-items: center;\n",
       "  background-color: var(--sklearn-color-background);\n",
       "  padding-right: 1em;\n",
       "  padding-left: 1em;\n",
       "}\n",
       "\n",
       "\n",
       "/* Toggleable style: style used for estimator/Pipeline/ColumnTransformer box that is\n",
       "clickable and can be expanded/collapsed.\n",
       "- Pipeline and ColumnTransformer use this feature and define the default style\n",
       "- Estimators will overwrite some part of the style using the `sk-estimator` class\n",
       "*/\n",
       "\n",
       "/* Pipeline and ColumnTransformer style (default) */\n",
       "\n",
       "#sk-container-id-4 div.sk-toggleable {\n",
       "  /* Default theme specific background. It is overwritten whether we have a\n",
       "  specific estimator or a Pipeline/ColumnTransformer */\n",
       "  background-color: var(--sklearn-color-background);\n",
       "}\n",
       "\n",
       "/* Toggleable label */\n",
       "#sk-container-id-4 label.sk-toggleable__label {\n",
       "  cursor: pointer;\n",
       "  display: block;\n",
       "  width: 100%;\n",
       "  margin-bottom: 0;\n",
       "  padding: 0.5em;\n",
       "  box-sizing: border-box;\n",
       "  text-align: center;\n",
       "}\n",
       "\n",
       "#sk-container-id-4 label.sk-toggleable__label-arrow:before {\n",
       "  /* Arrow on the left of the label */\n",
       "  content: \"▸\";\n",
       "  float: left;\n",
       "  margin-right: 0.25em;\n",
       "  color: var(--sklearn-color-icon);\n",
       "}\n",
       "\n",
       "#sk-container-id-4 label.sk-toggleable__label-arrow:hover:before {\n",
       "  color: var(--sklearn-color-text);\n",
       "}\n",
       "\n",
       "/* Toggleable content - dropdown */\n",
       "\n",
       "#sk-container-id-4 div.sk-toggleable__content {\n",
       "  max-height: 0;\n",
       "  max-width: 0;\n",
       "  overflow: hidden;\n",
       "  text-align: left;\n",
       "  /* unfitted */\n",
       "  background-color: var(--sklearn-color-unfitted-level-0);\n",
       "}\n",
       "\n",
       "#sk-container-id-4 div.sk-toggleable__content.fitted {\n",
       "  /* fitted */\n",
       "  background-color: var(--sklearn-color-fitted-level-0);\n",
       "}\n",
       "\n",
       "#sk-container-id-4 div.sk-toggleable__content pre {\n",
       "  margin: 0.2em;\n",
       "  border-radius: 0.25em;\n",
       "  color: var(--sklearn-color-text);\n",
       "  /* unfitted */\n",
       "  background-color: var(--sklearn-color-unfitted-level-0);\n",
       "}\n",
       "\n",
       "#sk-container-id-4 div.sk-toggleable__content.fitted pre {\n",
       "  /* unfitted */\n",
       "  background-color: var(--sklearn-color-fitted-level-0);\n",
       "}\n",
       "\n",
       "#sk-container-id-4 input.sk-toggleable__control:checked~div.sk-toggleable__content {\n",
       "  /* Expand drop-down */\n",
       "  max-height: 200px;\n",
       "  max-width: 100%;\n",
       "  overflow: auto;\n",
       "}\n",
       "\n",
       "#sk-container-id-4 input.sk-toggleable__control:checked~label.sk-toggleable__label-arrow:before {\n",
       "  content: \"▾\";\n",
       "}\n",
       "\n",
       "/* Pipeline/ColumnTransformer-specific style */\n",
       "\n",
       "#sk-container-id-4 div.sk-label input.sk-toggleable__control:checked~label.sk-toggleable__label {\n",
       "  color: var(--sklearn-color-text);\n",
       "  background-color: var(--sklearn-color-unfitted-level-2);\n",
       "}\n",
       "\n",
       "#sk-container-id-4 div.sk-label.fitted input.sk-toggleable__control:checked~label.sk-toggleable__label {\n",
       "  background-color: var(--sklearn-color-fitted-level-2);\n",
       "}\n",
       "\n",
       "/* Estimator-specific style */\n",
       "\n",
       "/* Colorize estimator box */\n",
       "#sk-container-id-4 div.sk-estimator input.sk-toggleable__control:checked~label.sk-toggleable__label {\n",
       "  /* unfitted */\n",
       "  background-color: var(--sklearn-color-unfitted-level-2);\n",
       "}\n",
       "\n",
       "#sk-container-id-4 div.sk-estimator.fitted input.sk-toggleable__control:checked~label.sk-toggleable__label {\n",
       "  /* fitted */\n",
       "  background-color: var(--sklearn-color-fitted-level-2);\n",
       "}\n",
       "\n",
       "#sk-container-id-4 div.sk-label label.sk-toggleable__label,\n",
       "#sk-container-id-4 div.sk-label label {\n",
       "  /* The background is the default theme color */\n",
       "  color: var(--sklearn-color-text-on-default-background);\n",
       "}\n",
       "\n",
       "/* On hover, darken the color of the background */\n",
       "#sk-container-id-4 div.sk-label:hover label.sk-toggleable__label {\n",
       "  color: var(--sklearn-color-text);\n",
       "  background-color: var(--sklearn-color-unfitted-level-2);\n",
       "}\n",
       "\n",
       "/* Label box, darken color on hover, fitted */\n",
       "#sk-container-id-4 div.sk-label.fitted:hover label.sk-toggleable__label.fitted {\n",
       "  color: var(--sklearn-color-text);\n",
       "  background-color: var(--sklearn-color-fitted-level-2);\n",
       "}\n",
       "\n",
       "/* Estimator label */\n",
       "\n",
       "#sk-container-id-4 div.sk-label label {\n",
       "  font-family: monospace;\n",
       "  font-weight: bold;\n",
       "  display: inline-block;\n",
       "  line-height: 1.2em;\n",
       "}\n",
       "\n",
       "#sk-container-id-4 div.sk-label-container {\n",
       "  text-align: center;\n",
       "}\n",
       "\n",
       "/* Estimator-specific */\n",
       "#sk-container-id-4 div.sk-estimator {\n",
       "  font-family: monospace;\n",
       "  border: 1px dotted var(--sklearn-color-border-box);\n",
       "  border-radius: 0.25em;\n",
       "  box-sizing: border-box;\n",
       "  margin-bottom: 0.5em;\n",
       "  /* unfitted */\n",
       "  background-color: var(--sklearn-color-unfitted-level-0);\n",
       "}\n",
       "\n",
       "#sk-container-id-4 div.sk-estimator.fitted {\n",
       "  /* fitted */\n",
       "  background-color: var(--sklearn-color-fitted-level-0);\n",
       "}\n",
       "\n",
       "/* on hover */\n",
       "#sk-container-id-4 div.sk-estimator:hover {\n",
       "  /* unfitted */\n",
       "  background-color: var(--sklearn-color-unfitted-level-2);\n",
       "}\n",
       "\n",
       "#sk-container-id-4 div.sk-estimator.fitted:hover {\n",
       "  /* fitted */\n",
       "  background-color: var(--sklearn-color-fitted-level-2);\n",
       "}\n",
       "\n",
       "/* Specification for estimator info (e.g. \"i\" and \"?\") */\n",
       "\n",
       "/* Common style for \"i\" and \"?\" */\n",
       "\n",
       ".sk-estimator-doc-link,\n",
       "a:link.sk-estimator-doc-link,\n",
       "a:visited.sk-estimator-doc-link {\n",
       "  float: right;\n",
       "  font-size: smaller;\n",
       "  line-height: 1em;\n",
       "  font-family: monospace;\n",
       "  background-color: var(--sklearn-color-background);\n",
       "  border-radius: 1em;\n",
       "  height: 1em;\n",
       "  width: 1em;\n",
       "  text-decoration: none !important;\n",
       "  margin-left: 1ex;\n",
       "  /* unfitted */\n",
       "  border: var(--sklearn-color-unfitted-level-1) 1pt solid;\n",
       "  color: var(--sklearn-color-unfitted-level-1);\n",
       "}\n",
       "\n",
       ".sk-estimator-doc-link.fitted,\n",
       "a:link.sk-estimator-doc-link.fitted,\n",
       "a:visited.sk-estimator-doc-link.fitted {\n",
       "  /* fitted */\n",
       "  border: var(--sklearn-color-fitted-level-1) 1pt solid;\n",
       "  color: var(--sklearn-color-fitted-level-1);\n",
       "}\n",
       "\n",
       "/* On hover */\n",
       "div.sk-estimator:hover .sk-estimator-doc-link:hover,\n",
       ".sk-estimator-doc-link:hover,\n",
       "div.sk-label-container:hover .sk-estimator-doc-link:hover,\n",
       ".sk-estimator-doc-link:hover {\n",
       "  /* unfitted */\n",
       "  background-color: var(--sklearn-color-unfitted-level-3);\n",
       "  color: var(--sklearn-color-background);\n",
       "  text-decoration: none;\n",
       "}\n",
       "\n",
       "div.sk-estimator.fitted:hover .sk-estimator-doc-link.fitted:hover,\n",
       ".sk-estimator-doc-link.fitted:hover,\n",
       "div.sk-label-container:hover .sk-estimator-doc-link.fitted:hover,\n",
       ".sk-estimator-doc-link.fitted:hover {\n",
       "  /* fitted */\n",
       "  background-color: var(--sklearn-color-fitted-level-3);\n",
       "  color: var(--sklearn-color-background);\n",
       "  text-decoration: none;\n",
       "}\n",
       "\n",
       "/* Span, style for the box shown on hovering the info icon */\n",
       ".sk-estimator-doc-link span {\n",
       "  display: none;\n",
       "  z-index: 9999;\n",
       "  position: relative;\n",
       "  font-weight: normal;\n",
       "  right: .2ex;\n",
       "  padding: .5ex;\n",
       "  margin: .5ex;\n",
       "  width: min-content;\n",
       "  min-width: 20ex;\n",
       "  max-width: 50ex;\n",
       "  color: var(--sklearn-color-text);\n",
       "  box-shadow: 2pt 2pt 4pt #999;\n",
       "  /* unfitted */\n",
       "  background: var(--sklearn-color-unfitted-level-0);\n",
       "  border: .5pt solid var(--sklearn-color-unfitted-level-3);\n",
       "}\n",
       "\n",
       ".sk-estimator-doc-link.fitted span {\n",
       "  /* fitted */\n",
       "  background: var(--sklearn-color-fitted-level-0);\n",
       "  border: var(--sklearn-color-fitted-level-3);\n",
       "}\n",
       "\n",
       ".sk-estimator-doc-link:hover span {\n",
       "  display: block;\n",
       "}\n",
       "\n",
       "/* \"?\"-specific style due to the `<a>` HTML tag */\n",
       "\n",
       "#sk-container-id-4 a.estimator_doc_link {\n",
       "  float: right;\n",
       "  font-size: 1rem;\n",
       "  line-height: 1em;\n",
       "  font-family: monospace;\n",
       "  background-color: var(--sklearn-color-background);\n",
       "  border-radius: 1rem;\n",
       "  height: 1rem;\n",
       "  width: 1rem;\n",
       "  text-decoration: none;\n",
       "  /* unfitted */\n",
       "  color: var(--sklearn-color-unfitted-level-1);\n",
       "  border: var(--sklearn-color-unfitted-level-1) 1pt solid;\n",
       "}\n",
       "\n",
       "#sk-container-id-4 a.estimator_doc_link.fitted {\n",
       "  /* fitted */\n",
       "  border: var(--sklearn-color-fitted-level-1) 1pt solid;\n",
       "  color: var(--sklearn-color-fitted-level-1);\n",
       "}\n",
       "\n",
       "/* On hover */\n",
       "#sk-container-id-4 a.estimator_doc_link:hover {\n",
       "  /* unfitted */\n",
       "  background-color: var(--sklearn-color-unfitted-level-3);\n",
       "  color: var(--sklearn-color-background);\n",
       "  text-decoration: none;\n",
       "}\n",
       "\n",
       "#sk-container-id-4 a.estimator_doc_link.fitted:hover {\n",
       "  /* fitted */\n",
       "  background-color: var(--sklearn-color-fitted-level-3);\n",
       "}\n",
       "</style><div id=\"sk-container-id-4\" class=\"sk-top-container\"><div class=\"sk-text-repr-fallback\"><pre>XGBClassifier(base_score=None, booster=None, callbacks=None,\n",
       "              colsample_bylevel=None, colsample_bynode=None,\n",
       "              colsample_bytree=1.0, device=None, early_stopping_rounds=None,\n",
       "              enable_categorical=False, eval_metric=None, feature_types=None,\n",
       "              gamma=0.4, grow_policy=None, importance_type=None,\n",
       "              interaction_constraints=None, learning_rate=0.1, max_bin=None,\n",
       "              max_cat_threshold=None, max_cat_to_onehot=None, max_delta_step=3,\n",
       "              max_depth=10, max_leaves=None, min_child_weight=5, missing=nan,\n",
       "              monotone_constraints=None, multi_strategy=None, n_estimators=300,\n",
       "              n_jobs=None, num_parallel_tree=None, random_state=42, ...)</pre><b>In a Jupyter environment, please rerun this cell to show the HTML representation or trust the notebook. <br />On GitHub, the HTML representation is unable to render, please try loading this page with nbviewer.org.</b></div><div class=\"sk-container\" hidden><div class=\"sk-item\"><div class=\"sk-estimator fitted sk-toggleable\"><input class=\"sk-toggleable__control sk-hidden--visually\" id=\"sk-estimator-id-4\" type=\"checkbox\" checked><label for=\"sk-estimator-id-4\" class=\"sk-toggleable__label fitted sk-toggleable__label-arrow fitted\">&nbsp;XGBClassifier<span class=\"sk-estimator-doc-link fitted\">i<span>Fitted</span></span></label><div class=\"sk-toggleable__content fitted\"><pre>XGBClassifier(base_score=None, booster=None, callbacks=None,\n",
       "              colsample_bylevel=None, colsample_bynode=None,\n",
       "              colsample_bytree=1.0, device=None, early_stopping_rounds=None,\n",
       "              enable_categorical=False, eval_metric=None, feature_types=None,\n",
       "              gamma=0.4, grow_policy=None, importance_type=None,\n",
       "              interaction_constraints=None, learning_rate=0.1, max_bin=None,\n",
       "              max_cat_threshold=None, max_cat_to_onehot=None, max_delta_step=3,\n",
       "              max_depth=10, max_leaves=None, min_child_weight=5, missing=nan,\n",
       "              monotone_constraints=None, multi_strategy=None, n_estimators=300,\n",
       "              n_jobs=None, num_parallel_tree=None, random_state=42, ...)</pre></div> </div></div></div></div>"
      ],
      "text/plain": [
       "XGBClassifier(base_score=None, booster=None, callbacks=None,\n",
       "              colsample_bylevel=None, colsample_bynode=None,\n",
       "              colsample_bytree=1.0, device=None, early_stopping_rounds=None,\n",
       "              enable_categorical=False, eval_metric=None, feature_types=None,\n",
       "              gamma=0.4, grow_policy=None, importance_type=None,\n",
       "              interaction_constraints=None, learning_rate=0.1, max_bin=None,\n",
       "              max_cat_threshold=None, max_cat_to_onehot=None, max_delta_step=3,\n",
       "              max_depth=10, max_leaves=None, min_child_weight=5, missing=nan,\n",
       "              monotone_constraints=None, multi_strategy=None, n_estimators=300,\n",
       "              n_jobs=None, num_parallel_tree=None, random_state=42, ...)"
      ]
     },
     "execution_count": 175,
     "metadata": {},
     "output_type": "execute_result"
    }
   ],
   "source": [
    "# Using agr_cols because the models for the dif. targets have use dif. variables\n",
    "model_agr.fit(X_train_agr[agr_cols],y_train_agr)"
   ]
  },
  {
   "cell_type": "code",
   "execution_count": 176,
   "id": "e75f00cb",
   "metadata": {},
   "outputs": [],
   "source": [
    "X_val_agr['Agreement Reached']=model_agr.predict(X_val_agr[agr_cols])\n",
    "X_train_agr['Agreement Reached']=model_agr.predict(X_train_agr[agr_cols])"
   ]
  },
  {
   "cell_type": "code",
   "execution_count": 177,
   "id": "172b55e9",
   "metadata": {},
   "outputs": [],
   "source": [
    "# So both have the same columns\n",
    "X_train_agr.drop('Age at Injury', axis=1, inplace=True)\n",
    "X_val_agr.drop('Age at Injury', axis=1, inplace=True)\n",
    "X_train_agr.drop('Has_Dependents', axis=1, inplace=True)\n",
    "X_val_agr.drop('Has_Dependents', axis=1, inplace=True)"
   ]
  },
  {
   "cell_type": "code",
   "execution_count": 178,
   "id": "a75c9756",
   "metadata": {},
   "outputs": [
    {
     "data": {
      "text/html": [
       "<div>\n",
       "<style scoped>\n",
       "    .dataframe tbody tr th:only-of-type {\n",
       "        vertical-align: middle;\n",
       "    }\n",
       "\n",
       "    .dataframe tbody tr th {\n",
       "        vertical-align: top;\n",
       "    }\n",
       "\n",
       "    .dataframe thead th {\n",
       "        text-align: right;\n",
       "    }\n",
       "</style>\n",
       "<table border=\"1\" class=\"dataframe\">\n",
       "  <thead>\n",
       "    <tr style=\"text-align: right;\">\n",
       "      <th></th>\n",
       "      <th>Without Agreement Reahed</th>\n",
       "      <th>With Agreement Reached</th>\n",
       "    </tr>\n",
       "  </thead>\n",
       "  <tbody>\n",
       "    <tr>\n",
       "      <th>Random Forest</th>\n",
       "      <td>0.447</td>\n",
       "      <td>0.449</td>\n",
       "    </tr>\n",
       "  </tbody>\n",
       "</table>\n",
       "</div>"
      ],
      "text/plain": [
       "              Without Agreement Reahed With Agreement Reached\n",
       "Random Forest                    0.447                  0.449"
      ]
     },
     "execution_count": 178,
     "metadata": {},
     "output_type": "execute_result"
    }
   ],
   "source": [
    "df = pd.DataFrame(columns = ['Without Agreement Reahed','With Agreement Reached'], index = ['Random Forest'])\n",
    "\n",
    "# Test with  GB tuned \n",
    "functions.show_results(df,GB_tuned, X_train_scaled=X_train_scaled, y_train=y_train,X_val_scaled=X_val_scaled,y_val=y_val,X_train_agr=X_train_agr,X_val_agr=X_val_agr)  "
   ]
  },
  {
   "cell_type": "markdown",
   "id": "c3b8eb75-6c30-4e83-960d-bfdde57835dd",
   "metadata": {},
   "source": [
    "We can see that using Agreement Reached in our model slightly improved our F1-score, but did not have the impact we expected it to have. We thought it would have had more predictive power on Claim Injury Type."
   ]
  },
  {
   "cell_type": "markdown",
   "id": "59339928",
   "metadata": {},
   "source": [
    "<a class=\"anchor\" id=\"sub-section-4_2\"></a>\n",
    "\n",
    "## 4.2. Interactive Dashboard\n",
    "\n",
    "</a>"
   ]
  },
  {
   "cell_type": "code",
   "execution_count": 179,
   "id": "87d1beb4",
   "metadata": {},
   "outputs": [],
   "source": [
    "with open('claim_injury_model.pkl', 'wb') as file:\n",
    "        pickle.dump(GB_tuned, file)"
   ]
  },
  {
   "cell_type": "markdown",
   "id": "7b67ce7d",
   "metadata": {},
   "source": [
    "<a class=\"anchor\"  id=\"chapter6\"></a>\n",
    "\n",
    "# 5. Deployment\n",
    "\n",
    "</a>"
   ]
  },
  {
   "cell_type": "code",
   "execution_count": 180,
   "id": "0c7205e8",
   "metadata": {},
   "outputs": [],
   "source": [
    "# Check test with agreeement reached\n",
    "#test['Agreement Reached']=model_agr.predict(test[agr_cols])"
   ]
  },
  {
   "cell_type": "code",
   "execution_count": 181,
   "id": "5b1258ba",
   "metadata": {},
   "outputs": [],
   "source": [
    "test.drop('Has_Dependents', axis=1, inplace=True)\n",
    "test.drop('Age at Injury', axis=1, inplace=True)"
   ]
  },
  {
   "cell_type": "code",
   "execution_count": 182,
   "id": "c53c5ce3",
   "metadata": {},
   "outputs": [],
   "source": [
    "# Predictions -- model.predict\n",
    "test[\"Claim Injury Type\"]=GB_tuned.predict(test)"
   ]
  },
  {
   "cell_type": "code",
   "execution_count": 183,
   "id": "e3ff62e0",
   "metadata": {},
   "outputs": [],
   "source": [
    "# Reversing the encoder\n",
    "test['Claim Injury Type'] = enc2.inverse_transform(test['Claim Injury Type'])"
   ]
  },
  {
   "cell_type": "code",
   "execution_count": 184,
   "id": "02e6b335",
   "metadata": {},
   "outputs": [],
   "source": [
    "test=test[['Claim Injury Type']].copy()"
   ]
  },
  {
   "cell_type": "code",
   "execution_count": 185,
   "id": "158b78e7",
   "metadata": {
    "scrolled": true
   },
   "outputs": [],
   "source": [
    "# Results in the correct format\n",
    "test.reset_index(inplace=True)\n",
    "test.rename(columns={'index': 'Claim Identifier'}, inplace=True)\n",
    "test.to_csv('submission_XGB.csv', index=False)"
   ]
  }
 ],
 "metadata": {
  "colab": {
   "provenance": []
  },
  "kernelspec": {
   "display_name": "Python 3 (ipykernel)",
   "language": "python",
   "name": "python3"
  },
  "language_info": {
   "codemirror_mode": {
    "name": "ipython",
    "version": 3
   },
   "file_extension": ".py",
   "mimetype": "text/x-python",
   "name": "python",
   "nbconvert_exporter": "python",
   "pygments_lexer": "ipython3",
   "version": "3.11.9"
  }
 },
 "nbformat": 4,
 "nbformat_minor": 5
}
