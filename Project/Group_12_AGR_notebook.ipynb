{
 "cells": [
  {
   "cell_type": "markdown",
   "id": "592625b3",
   "metadata": {
    "id": "592625b3"
   },
   "source": [
    "**<h1 align=\"center\">Machine Learning Project</h1>**\n",
    "**<h1 align=\"center\">Predicting Agreement Reached</h1>**\n",
    "\n",
    "**Group members:**<br> \n",
    "Barata Diogo - 20240258 <br>\n",
    "Deschanel Chloé - 20240693  <br>\n",
    "Leandro Lara  - 20211632 <br>\n",
    "Parracho Érica - 20240583 <br>\n",
    "Walihullah Mohammad - 20230768 <br>\n",
    "\n",
    "This section is part of the open-ended section of our project. We attempted to predict Agreement Reached because it is identified as important according to the chi-square analysis from feature selection in the main part of the project. The objective of predicting this variable is to see if it could help better predict Claim Injury Type. Indeed, from the EDA, we observed different distributions of this variable among Claim Injury Type, which led us check its predictive capabilities."
   ]
  },
  {
   "cell_type": "markdown",
   "id": "462797e9",
   "metadata": {
    "id": "462797e9"
   },
   "source": [
    "# Table of Contents\n",
    "* [1. Project Setup](#chapter1)\n",
    "    * [1.1. Imports](#sub-section-1_1)\n",
    "    * [1.2. Loading Data](#sub-section-1_2)\n",
    "    * [1.3. Data Type and Duplicates](#sub-section-1_3)\n",
    "* [2. Data Preparation and Preprocessing](#chapter2)\n",
    "    * [2.1. Correcting Incoherences](#sub-section-2_1)\n",
    "    * [2.2. Feature Engineering](#sub-section-2_2)\n",
    "    * [2.3. Preprocessing](#sub-section-2_3)\n",
    "* [3. Predicting Agreement Reached](#chapter3)\n",
    "    * [3.1. Preparing the Data](#sub-section-3_1)\n",
    "    * [3.2. Feature Selection](#sub-section-3_2)\n",
    "        * [3.2.1. Chi-Square](#sub-section-3_2_1)\n",
    "        * [3.2.2. Wrapper Methods - RFE](#sub-section-3_2_2)\n",
    "        * [3.2.3. Embedded Methods - LASSO](#sub-section-3_2_3)\n",
    "        * [3.2.4. Final Drops](#sub-section-3_2_4)\n",
    "    * [3.3. Modeling ](#sub-section-3_3)\n",
    "        * [3.3.1. KNN ](#sub-section-3_3_1)\n",
    "        * [3.3.2. Gradient Boosting ](#sub-section-3_3_2)\n",
    "    * [3.4. Tuning ](#sub-section-3_4)\n",
    "    * [3.5. Final Model ](#sub-section-3_5)"
   ]
  },
  {
   "cell_type": "markdown",
   "id": "9cea38b9-6791-4424-87d0-4e7451339aae",
   "metadata": {
    "id": "9cea38b9-6791-4424-87d0-4e7451339aae"
   },
   "source": [
    "<a class=\"anchor\" id=\"chapter1\"></a>\n",
    "\n",
    "# 1. Project Setup\n",
    "\n",
    "</a>"
   ]
  },
  {
   "cell_type": "markdown",
   "id": "256bc704-b7cb-4025-b7d2-3288dc54e560",
   "metadata": {
    "id": "256bc704-b7cb-4025-b7d2-3288dc54e560"
   },
   "source": [
    "<a class=\"anchor\" id=\"sub-section-1_1\"></a>\n",
    "\n",
    "## 1.1. Imports\n",
    "\n",
    "</a>"
   ]
  },
  {
   "cell_type": "code",
   "execution_count": 1,
   "id": "7ab3097f-1f6d-41ea-b2d3-c7421b0b3e57",
   "metadata": {
    "colab": {
     "base_uri": "https://localhost:8080/"
    },
    "id": "7ab3097f-1f6d-41ea-b2d3-c7421b0b3e57",
    "outputId": "e9803bde-15a3-4e91-aff2-c11dc58759f1"
   },
   "outputs": [],
   "source": [
    "import numpy as np\n",
    "import pandas as pd\n",
    "import re\n",
    "from datetime import date\n",
    "\n",
    "# Created functions in .py file\n",
    "import functions\n",
    "\n",
    "# Visualization \n",
    "import matplotlib.pyplot as plt\n",
    "import seaborn as sns\n",
    "\n",
    "# Data Partition\n",
    "from sklearn.model_selection import train_test_split\n",
    "\n",
    "# Preprocessing\n",
    "from sklearn.preprocessing import MinMaxScaler, LabelEncoder, OrdinalEncoder\n",
    "\n",
    "# Feature Selection - Filter Methods\n",
    "import scipy.stats as stats\n",
    "from scipy.stats import chi2_contingency\n",
    "from sklearn.feature_selection import mutual_info_classif\n",
    "\n",
    "# Feature Selection - Wrapper Methods\n",
    "from sklearn.feature_selection import RFE\n",
    "from sklearn.tree import DecisionTreeClassifier\n",
    "from sklearn.linear_model import LogisticRegression\n",
    "\n",
    "# Feature Selection - Embedded Methods\n",
    "from sklearn.linear_model import LassoCV\n",
    "\n",
    "# Modeling\n",
    "from sklearn.naive_bayes import GaussianNB\n",
    "from sklearn.tree import DecisionTreeClassifier\n",
    "from sklearn.neighbors import KNeighborsClassifier\n",
    "from sklearn.ensemble import RandomForestClassifier\n",
    "import xgboost as xgb\n",
    "from sklearn.neural_network import MLPClassifier\n",
    "\n",
    "# Performance Metrics \n",
    "from sklearn.metrics import accuracy_score, classification_report, confusion_matrix, f1_score\n",
    "from sklearn.metrics import roc_auc_score\n",
    "\n",
    "# Hyperparameter tuning\n",
    "from sklearn.model_selection import GridSearchCV\n",
    "from sklearn.model_selection import RandomizedSearchCV\n",
    "from sklearn.model_selection import PredefinedSplit\n",
    "\n",
    "# Suppress Warnings\n",
    "import warnings\n",
    "warnings.filterwarnings('ignore')"
   ]
  },
  {
   "cell_type": "markdown",
   "id": "65ccbeb8-3474-4c4b-89c4-bf8fe6b3619f",
   "metadata": {
    "id": "65ccbeb8-3474-4c4b-89c4-bf8fe6b3619f"
   },
   "source": [
    "<a class=\"anchor\" id=\"sub-section-1_2\"></a>\n",
    "\n",
    "## 1.2. Loading data\n",
    "\n",
    "</a>"
   ]
  },
  {
   "cell_type": "code",
   "execution_count": 3,
   "id": "b9dde016-b689-4723-953e-afb57a0a9c0b",
   "metadata": {
    "id": "b9dde016-b689-4723-953e-afb57a0a9c0b"
   },
   "outputs": [],
   "source": [
    "# Import the train data from the csv file\n",
    "train_data_original = pd.read_csv(\"train_data.csv\")\n",
    "\n",
    "# Display all columns\n",
    "pd.set_option('display.max_columns', None)\n",
    "\n",
    "# Set Claim Identifier as index\n",
    "train_data_original.set_index('Claim Identifier', inplace = True)"
   ]
  },
  {
   "cell_type": "code",
   "execution_count": 4,
   "id": "5fd91b2c",
   "metadata": {
    "id": "5fd91b2c"
   },
   "outputs": [],
   "source": [
    "# Create a copy to work on \n",
    "train_data = train_data_original.copy()"
   ]
  },
  {
   "cell_type": "markdown",
   "id": "658ef52b-4a31-4659-a701-c945446c4a6c",
   "metadata": {
    "id": "658ef52b-4a31-4659-a701-c945446c4a6c"
   },
   "source": [
    "<a class=\"anchor\" id=\"sub-section-1_3\"></a>\n",
    "\n",
    "## 1.3. Data Type and Duplicates\n",
    "\n",
    "</a>"
   ]
  },
  {
   "cell_type": "code",
   "execution_count": 6,
   "id": "42774de6-0a7d-44be-a265-45607599b55d",
   "metadata": {
    "colab": {
     "base_uri": "https://localhost:8080/"
    },
    "id": "42774de6-0a7d-44be-a265-45607599b55d",
    "outputId": "1acf47a9-d0c3-4831-d7c9-d2a7a66b5a02"
   },
   "outputs": [],
   "source": [
    "# Change dates to datetime type\n",
    "dates = ['Accident Date', 'Assembly Date', 'C-2 Date', 'C-3 Date', 'First Hearing Date']\n",
    "train_data[dates] = train_data[dates].apply(pd.to_datetime)"
   ]
  },
  {
   "cell_type": "code",
   "execution_count": 7,
   "id": "42c49f98",
   "metadata": {
    "id": "42c49f98"
   },
   "outputs": [],
   "source": [
    "# Drop the duplicated index, as it seems to be an error\n",
    "train_data = train_data[~train_data.index.duplicated(keep = 'first')]"
   ]
  },
  {
   "cell_type": "code",
   "execution_count": 8,
   "id": "97a157e6",
   "metadata": {},
   "outputs": [],
   "source": [
    "# Drop duplicated rows\n",
    "train_data.drop_duplicates(inplace = True) "
   ]
  },
  {
   "cell_type": "markdown",
   "id": "273d97bf",
   "metadata": {
    "id": "94b3ee63-238f-4287-915a-a30f17cb0238"
   },
   "source": [
    "<a class=\"anchor\"  id=\"chapter2\"></a>\n",
    "\n",
    "# 2. Data Preparation and Preprocessing\n",
    "\n",
    "</a>"
   ]
  },
  {
   "cell_type": "markdown",
   "id": "206cbeaf-b036-47a7-bd5b-603d46e6ab74",
   "metadata": {
    "id": "206cbeaf-b036-47a7-bd5b-603d46e6ab74"
   },
   "source": [
    "<a class=\"anchor\" id=\"sub-section-2_1\"></a>\n",
    "\n",
    "## 2.1. Correcting Incoherences\n",
    "\n",
    "</a>"
   ]
  },
  {
   "cell_type": "code",
   "execution_count": 11,
   "id": "5eb6c6b6",
   "metadata": {
    "id": "5eb6c6b6"
   },
   "outputs": [],
   "source": [
    "# Missing values in Age at Injury and Birth Year\n",
    "\n",
    "# Replace values where there is a 0 in Age at Injury and Birth Year with NaN\n",
    "train_data['Age at Injury'] = train_data['Age at Injury'].replace(0, np.nan)\n",
    "train_data['Birth Year'] = train_data['Birth Year'].replace(0, np.nan)\n",
    "\n",
    "# Identify rows where one value is NaN and not the other, and calculate Birth Year\n",
    "condition = train_data['Birth Year'].isna() & train_data['Age at Injury'].notna()\n",
    "train_data.loc[condition, 'Birth Year'] = train_data['Accident Date'].dt.year - train_data['Age at Injury']\n",
    "\n",
    "# Identify rows where one value is NaN and not the other, and calculate Age at Injury\n",
    "condition = train_data['Age at Injury'].isna() & train_data['Birth Year'].notna()\n",
    "train_data.loc[condition, 'Age at Injury'] = train_data['Accident Date'].dt.year - train_data['Birth Year']"
   ]
  },
  {
   "cell_type": "code",
   "execution_count": 13,
   "id": "d7176379",
   "metadata": {},
   "outputs": [],
   "source": [
    "# Replace with NaN if Age at Injury values are outside of the range 14 and 90 years old\n",
    "train_data['Age at Injury'] = np.where((train_data['Age at Injury'] > 90) | (train_data['Age at Injury'] < 14), np.nan, train_data['Age at Injury'])"
   ]
  },
  {
   "cell_type": "code",
   "execution_count": 14,
   "id": "3d99ae23",
   "metadata": {},
   "outputs": [],
   "source": [
    "# Replace with NaN if Birth Year is greater than 2008\n",
    "train_data['Birth Year'] = np.where( train_data['Birth Year']>2008, np.nan, train_data['Birth Year'])"
   ]
  },
  {
   "cell_type": "code",
   "execution_count": 15,
   "id": "679817d8",
   "metadata": {},
   "outputs": [],
   "source": [
    "# Clean Carrier Name using clean_carrier_name function\n",
    "train_data[\"Carrier Name\"] = train_data[\"Carrier Name\"].apply(functions.clean_carrier_name)"
   ]
  },
  {
   "cell_type": "code",
   "execution_count": 16,
   "id": "ee31de3e",
   "metadata": {},
   "outputs": [],
   "source": [
    "# Replace invalid zip codes using replace_invalid_zip_codes function\n",
    "train_data['Zip Code'] = functions.replace_invalid_zip_codes(train_data['Zip Code'])"
   ]
  },
  {
   "cell_type": "code",
   "execution_count": 17,
   "id": "8367dc62",
   "metadata": {
    "id": "8367dc62"
   },
   "outputs": [],
   "source": [
    "# Deal with zip code incoherences\n",
    "train_data['Zip Code'] = functions.replace_invalid_zip_codes(train_data['Zip Code'])\n",
    "train_data['Zip Code'].replace(\"00000\", np.nan, inplace=True)\n",
    "train_data['Zip Code'].replace(\"99999\", np.nan, inplace=True)"
   ]
  },
  {
   "cell_type": "code",
   "execution_count": 18,
   "id": "65113fc9",
   "metadata": {},
   "outputs": [],
   "source": [
    "# Replace unknown values in County of Injury with NaN\n",
    "train_data['County of Injury'] = np.where( train_data['County of Injury']=='UNKNOWN', np.nan, train_data['County of Injury'])"
   ]
  },
  {
   "cell_type": "code",
   "execution_count": 19,
   "id": "735d7e02",
   "metadata": {},
   "outputs": [],
   "source": [
    "# Replace Accident Date with the oldest date provided for that individual\n",
    "train_data['Accident Date']=np.where(train_data['Assembly Date'] < train_data['Accident Date'],train_data[dates].min(axis=1),\n",
    "                                     train_data['Accident Date'])"
   ]
  },
  {
   "cell_type": "code",
   "execution_count": 20,
   "id": "d87fe667",
   "metadata": {},
   "outputs": [],
   "source": [
    "# Replace WCIO Part Of Body Code -9 with code 90\n",
    "train_data['WCIO Part Of Body Code']=np.where(train_data['WCIO Part Of Body Code'] ==-9,90,train_data['WCIO Part Of Body Code'])"
   ]
  },
  {
   "cell_type": "code",
   "execution_count": 21,
   "id": "32139c23",
   "metadata": {},
   "outputs": [],
   "source": [
    "# Replace U values in Alternative Dispute Resolution column with N\n",
    "train_data['Alternative Dispute Resolution'].replace('U', 'N', inplace=True)"
   ]
  },
  {
   "cell_type": "markdown",
   "id": "69d1737e-64c0-42f9-85ba-309c60c2e0cf",
   "metadata": {
    "id": "69d1737e-64c0-42f9-85ba-309c60c2e0cf"
   },
   "source": [
    "<a class=\"anchor\" id=\"sub-section-2_2\"></a>\n",
    "\n",
    "## 2.2. Feature Engineering\n",
    "\n",
    "</a>"
   ]
  },
  {
   "cell_type": "code",
   "execution_count": 23,
   "id": "a8a11a10-e4e3-4cb6-b91e-36446a832bc8",
   "metadata": {
    "id": "a8a11a10-e4e3-4cb6-b91e-36446a832bc8"
   },
   "outputs": [],
   "source": [
    "# Calculate the current Age based on Birth Year and current date \n",
    "train_data[\"Age\"]= date.today().year - train_data[\"Birth Year\"]"
   ]
  },
  {
   "cell_type": "code",
   "execution_count": 24,
   "id": "a7dce352",
   "metadata": {
    "id": "a7dce352"
   },
   "outputs": [],
   "source": [
    "# Create a binary variable with 1 if the C3 date is no an empty value and 0 otherwise\n",
    "train_data[\"C3_Received\"] = train_data[\"C-3 Date\"].notna().astype(int)"
   ]
  },
  {
   "cell_type": "code",
   "execution_count": 25,
   "id": "522402ec",
   "metadata": {
    "id": "522402ec"
   },
   "outputs": [],
   "source": [
    "# Create a binary variable with 1 if the C2 date is no an empty value and 0 otherwise\n",
    "train_data[\"C2_Received\"] = train_data[\"C-2 Date\"].notna().astype(int)"
   ]
  },
  {
   "cell_type": "code",
   "execution_count": 26,
   "id": "07472226",
   "metadata": {
    "id": "07472226"
   },
   "outputs": [],
   "source": [
    "# Create a binary variable with 1 if the First Hearing is no an empty value and 0 otherwise\n",
    "train_data[\"First_Hearing\"] = train_data[\"First Hearing Date\"].notna().astype(int)"
   ]
  },
  {
   "cell_type": "code",
   "execution_count": 27,
   "id": "1ff8e58c",
   "metadata": {},
   "outputs": [],
   "source": [
    "# Create a variable with the number of days between the current date and the Assembly Date\n",
    "train_data['Days_from_Assembly Date'] = (pd.Timestamp.today() - train_data['Assembly Date']).dt.days"
   ]
  },
  {
   "cell_type": "code",
   "execution_count": 28,
   "id": "271a224f",
   "metadata": {},
   "outputs": [],
   "source": [
    "# Create a variable and extract the accident year from the Accident Date to facilitate understanding \n",
    "train_data[\"Accident Year\"] = train_data[\"Accident Date\"].dt.year"
   ]
  },
  {
   "cell_type": "code",
   "execution_count": 29,
   "id": "7cd51d87-9888-462d-a9bb-2c1ae9e116a8",
   "metadata": {
    "id": "7cd51d87-9888-462d-a9bb-2c1ae9e116a8"
   },
   "outputs": [],
   "source": [
    "# Create a binary variable with 1 if the individual has a dependent and O if not\n",
    "train_data['Has_Dependents'] = train_data['Number of Dependents'].apply(lambda x: 1 if x > 0 else 0)"
   ]
  },
  {
   "cell_type": "code",
   "execution_count": 30,
   "id": "4a4a13b8",
   "metadata": {},
   "outputs": [],
   "source": [
    "# Do the log transformation of Wage to help reduce skewness in the data (+1 ensures all values have a log)\n",
    "train_data['Average Weekly Wage'] = train_data['Average Weekly Wage'].apply(lambda x: np.log(x + 1))"
   ]
  },
  {
   "cell_type": "code",
   "execution_count": 31,
   "id": "c27a9e0c",
   "metadata": {},
   "outputs": [],
   "source": [
    "# Do the log transformation of IME-4 Count to help reduce skewness in the data (+1 ensures all values have a log)\n",
    "train_data['IME-4 Count'] = train_data['IME-4 Count'].apply(lambda x: np.log(x + 1))"
   ]
  },
  {
   "cell_type": "code",
   "execution_count": 32,
   "id": "63b66807",
   "metadata": {
    "id": "63b66807"
   },
   "outputs": [],
   "source": [
    "# Drop unused variables\n",
    "train_data.drop('Birth Year', axis = 1, inplace = True)\n",
    "train_data.drop('C-3 Date', axis = 1, inplace = True) \n",
    "train_data.drop(\"First Hearing Date\", axis = 1, inplace = True)\n",
    "train_data.drop(\"Accident Date\", axis = 1, inplace = True)\n",
    "train_data.drop(\"Assembly Date\", axis = 1, inplace = True)\n",
    "train_data.drop(\"C-2 Date\", axis = 1, inplace = True)"
   ]
  },
  {
   "cell_type": "code",
   "execution_count": 33,
   "id": "8987de36-250e-44f1-92a3-1d467660c4ed",
   "metadata": {},
   "outputs": [],
   "source": [
    "# Drop code descriptions\n",
    "train_data.drop('Industry Code Description', axis = 1, inplace = True)\n",
    "train_data.drop('WCIO Cause of Injury Description', axis = 1, inplace = True)\n",
    "train_data.drop('WCIO Nature of Injury Description', axis = 1, inplace = True)\n",
    "train_data.drop('WCIO Part Of Body Description', axis = 1, inplace = True)"
   ]
  },
  {
   "cell_type": "markdown",
   "id": "64b90815-a547-4535-bc0d-c1dddbf19395",
   "metadata": {},
   "source": [
    "<a class=\"anchor\" id=\"sub-section-2_3\"></a>\n",
    "\n",
    "## 2.3. Preprocessing\n",
    "\n",
    "</a>\n"
   ]
  },
  {
   "cell_type": "markdown",
   "id": "5576e3b5",
   "metadata": {},
   "source": [
    "For the preprocessing, we decided to use the same preprocessing steps as the ones for our main target. For more simplicity, we will use a function of a majority of the process."
   ]
  },
  {
   "cell_type": "code",
   "execution_count": 44,
   "id": "39a793a7",
   "metadata": {},
   "outputs": [],
   "source": [
    "train_data.dropna(subset=[\"Claim Injury Type\"], inplace=True)"
   ]
  },
  {
   "cell_type": "code",
   "execution_count": 45,
   "id": "1d74e3ec-3933-4fa3-a91b-2cdc25e04336",
   "metadata": {},
   "outputs": [],
   "source": [
    "# Split the data set into features and target \n",
    "data = train_data.drop(columns=[\"Claim Injury Type\"])\n",
    "target = train_data[\"Claim Injury Type\"]"
   ]
  },
  {
   "cell_type": "code",
   "execution_count": 46,
   "id": "2a0c57b8-b54b-40a3-9f96-4f232701ca00",
   "metadata": {},
   "outputs": [],
   "source": [
    "# Split into the train and valiations sets\n",
    "X_train, X_val, y_train, y_val = train_test_split(data, target, test_size=0.2, random_state=5, stratify=target)"
   ]
  },
  {
   "cell_type": "code",
   "execution_count": 47,
   "id": "22adb506",
   "metadata": {},
   "outputs": [],
   "source": [
    "# Use the preprocessing function that applies all the same steps as the ones in the main notebook\n",
    "X_train_scaled, X_val_scaled=functions.preprocess_X(X_train, X_val)"
   ]
  },
  {
   "cell_type": "code",
   "execution_count": 48,
   "id": "a452baaa",
   "metadata": {},
   "outputs": [],
   "source": [
    "# Encode the target on train and val\n",
    "enc2 = LabelEncoder()  \n",
    "\n",
    "y_train_enc=enc2.fit_transform(y_train)\n",
    "y_val_enc=enc2.transform(y_val)\n",
    "y_train = pd.Series(y_train_enc, index=y_train.index)\n",
    "y_val= pd.Series(y_val_enc, index=y_val.index)"
   ]
  },
  {
   "cell_type": "markdown",
   "id": "0ab1043c",
   "metadata": {},
   "source": [
    "<a class=\"anchor\"  id=\"chapter3\"></a>\n",
    "\n",
    "# 3. Predicting Agreement Reached\n",
    "\n",
    "</a>"
   ]
  },
  {
   "cell_type": "markdown",
   "id": "408d305f",
   "metadata": {
    "id": "63b66807"
   },
   "source": [
    "<a class=\"anchor\" id=\"sub-section-3_1\"></a>\n",
    "\n",
    "## 3.1. Preparing the Data\n",
    "\n",
    "</a>"
   ]
  },
  {
   "cell_type": "code",
   "execution_count": 51,
   "id": "7e52116d",
   "metadata": {},
   "outputs": [],
   "source": [
    "X_train_agr = X_train_scaled.copy()\n",
    "X_val_agr = X_val_scaled.copy()"
   ]
  },
  {
   "cell_type": "code",
   "execution_count": 52,
   "id": "227108f9",
   "metadata": {},
   "outputs": [
    {
     "data": {
      "text/plain": [
       "Agreement Reached\n",
       "0.0    0.95331\n",
       "1.0    0.04669\n",
       "Name: proportion, dtype: float64"
      ]
     },
     "execution_count": 52,
     "metadata": {},
     "output_type": "execute_result"
    }
   ],
   "source": [
    "# Check distribution of the variable in train set\n",
    "X_train_agr[\"Agreement Reached\"].value_counts(normalize=True)"
   ]
  },
  {
   "cell_type": "code",
   "execution_count": 53,
   "id": "b3214c62",
   "metadata": {},
   "outputs": [
    {
     "data": {
      "text/plain": [
       "Agreement Reached\n",
       "0.0    0.953434\n",
       "1.0    0.046566\n",
       "Name: proportion, dtype: float64"
      ]
     },
     "execution_count": 53,
     "metadata": {},
     "output_type": "execute_result"
    }
   ],
   "source": [
    "# Check distribution of the variable in the validation set \n",
    "X_val_agr[\"Agreement Reached\"].value_counts(normalize=True)"
   ]
  },
  {
   "cell_type": "markdown",
   "id": "225ac679",
   "metadata": {},
   "source": [
    "The distributions in the training and validation set are similar, and so, there is no need to split the data again."
   ]
  },
  {
   "cell_type": "code",
   "execution_count": 59,
   "id": "467caa01",
   "metadata": {},
   "outputs": [],
   "source": [
    "# Adjust the target and feature variables for the new model\n",
    "y_train_agr = X_train_agr[\"Agreement Reached\"]\n",
    "X_train_agr = X_train_agr.drop(columns=[\"Agreement Reached\"])\n",
    "y_val_agr = X_val_agr[\"Agreement Reached\"]\n",
    "X_val_agr = X_val_agr.drop(columns=[\"Agreement Reached\"])"
   ]
  },
  {
   "cell_type": "markdown",
   "id": "92b88c26",
   "metadata": {},
   "source": [
    "<a class=\"anchor\" id=\"sub-section-3_2\"></a>\n",
    "\n",
    "## 3.2. Feature Selection\n",
    "\n",
    "</a>"
   ]
  },
  {
   "cell_type": "markdown",
   "id": "84aa9733",
   "metadata": {},
   "source": [
    "For feature selection techniques that are not dependent on the target variable, we already know that we need to drop some features:\n",
    "- Univariate: WCB Decision \n",
    "- Correlated features: Age or Age at Injury,  Accident Year or Days_from_Assembly Date\n",
    "    - These will be included in the test to see which one should be kept, and one of each pair will be dropped in 3.2.4 Final Drops."
   ]
  },
  {
   "cell_type": "code",
   "execution_count": 73,
   "id": "85f38485",
   "metadata": {},
   "outputs": [],
   "source": [
    "X_train_agr.drop('WCB Decision', axis=1, inplace=True)\n",
    "X_val_agr.drop('WCB Decision', axis=1, inplace=True)"
   ]
  },
  {
   "cell_type": "markdown",
   "id": "4c7c812e",
   "metadata": {},
   "source": [
    "For feature selection techniques that are dependent on the target variable, we are going to reproduce the feature selection techniques used in Claim Injury Type feature selection, as well as the same decision thresholds. But, this time we will consider the new target."
   ]
  },
  {
   "cell_type": "code",
   "execution_count": 76,
   "id": "7d51f86a",
   "metadata": {},
   "outputs": [],
   "source": [
    "numerical_columns = ['Age at Injury', 'Average Weekly Wage', 'Number of Dependents', 'Age', 'IME-4 Count', \n",
    "                     'Accident Year', 'Days_from_Assembly Date', 'Alternative Dispute Resolution',\n",
    "                     'Attorney/Representative', 'COVID-19 Indicator', 'C3_Received','C2_Received', \n",
    "                     'First_Hearing', 'Has_Dependents']\n",
    "\n",
    "categorical_columns = ['Alternative Dispute Resolution', 'Attorney/Representative', 'Carrier Name', \n",
    "                       'Carrier Type', 'County of Injury', 'COVID-19 Indicator', 'District Name', \n",
    "                       'Gender', 'Industry Code', 'Medical Fee Region', 'WCIO Cause of Injury Code', \n",
    "                       'WCIO Nature of Injury Code', 'WCIO Part Of Body Code', 'Zip Code', 'C3_Received', \n",
    "                       'C2_Received', 'First_Hearing', 'Has_Dependents']"
   ]
  },
  {
   "cell_type": "markdown",
   "id": "b2cfc868",
   "metadata": {},
   "source": [
    "<a class=\"anchor\" id=\"sub-section-3_2_1\"> </a>\n",
    "\n",
    "###  3.2.1. Chi-Square\n",
    "\n",
    "</a>"
   ]
  },
  {
   "cell_type": "markdown",
   "id": "140434a8",
   "metadata": {},
   "source": [
    "The Chi-square test can help determine if there is a significant association between each categorical feature and the target."
   ]
  },
  {
   "cell_type": "code",
   "execution_count": 83,
   "id": "0eb99ee0",
   "metadata": {},
   "outputs": [
    {
     "name": "stdout",
     "output_type": "stream",
     "text": [
      "Alternative Dispute Resolution is IMPORTANT for Prediction\n",
      "Attorney/Representative is IMPORTANT for Prediction\n",
      "Carrier Name is IMPORTANT for Prediction\n",
      "Carrier Type is IMPORTANT for Prediction\n",
      "County of Injury is IMPORTANT for Prediction\n",
      "COVID-19 Indicator is IMPORTANT for Prediction\n",
      "District Name is IMPORTANT for Prediction\n",
      "Gender is IMPORTANT for Prediction\n",
      "Industry Code is IMPORTANT for Prediction\n",
      "Medical Fee Region is IMPORTANT for Prediction\n",
      "WCIO Cause of Injury Code is IMPORTANT for Prediction\n",
      "WCIO Nature of Injury Code is IMPORTANT for Prediction\n",
      "WCIO Part Of Body Code is IMPORTANT for Prediction\n",
      "Zip Code is IMPORTANT for Prediction\n",
      "C3_Received is IMPORTANT for Prediction\n",
      "C2_Received is IMPORTANT for Prediction\n",
      "First_Hearing is IMPORTANT for Prediction\n",
      "Has_Dependents is NOT an important predictor. (Discard Has_Dependents from model)\n"
     ]
    }
   ],
   "source": [
    "# Test each variables against the target\n",
    "for var in X_train[categorical_columns]:\n",
    "    functions.TestIndependence(X_train_agr[categorical_columns][var],y_train_agr, var)"
   ]
  },
  {
   "cell_type": "markdown",
   "id": "af24f3c1",
   "metadata": {},
   "source": [
    "<a class=\"anchor\" id=\"sub-section-3_2_2\"> </a>\n",
    "\n",
    "###  3.2.2 Wrapper Methods - RFE\n",
    "\n",
    "</a>"
   ]
  },
  {
   "cell_type": "markdown",
   "id": "5fa6697f-8392-4778-9c2f-ac0d6800b01e",
   "metadata": {},
   "source": [
    "The Recursive Feature Elimination allows is to select the most important features to keep by running a predictive model, in this case Logistic Regression, multiple times and removing the \"least important\" at each iteration."
   ]
  },
  {
   "cell_type": "code",
   "execution_count": 94,
   "id": "30d44317",
   "metadata": {},
   "outputs": [
    {
     "name": "stdout",
     "output_type": "stream",
     "text": [
      "Optimum number of features: 13\n",
      "Score with 13 features: 0.890629\n"
     ]
    }
   ],
   "source": [
    "# Define the number of features to evaluate (from 1 to 14 features)\n",
    "nof_list = np.arange(1, 15)\n",
    "\n",
    "# Variables/lists to store the best score and number of features\n",
    "high_score = 0\n",
    "nof = 0           \n",
    "train_score_list = []\n",
    "val_score_list = []\n",
    "\n",
    "# Iterate over each possible number of features (from 1 to 15)\n",
    "for n in range(len(nof_list)):\n",
    "    \n",
    "    # Initialize a logistic regression model\n",
    "    model = LogisticRegression()\n",
    "    \n",
    "    # Perform RFE to select 'n' features\n",
    "    rfe = RFE(estimator=model, n_features_to_select=nof_list[n])\n",
    "    \n",
    "    # Apply RFE to the training & validation data, selecting the top 'n' features\n",
    "    X_train_rfe = rfe.fit_transform(X_train_agr[numerical_columns], y_train)\n",
    "    X_val_rfe = rfe.transform(X_val_agr[numerical_columns])\n",
    "    \n",
    "    # Fit the logistic regression model on the selected features from the training data\n",
    "    model.fit(X_train_rfe, y_train_agr)\n",
    "    \n",
    "    # Predict probabilities for the training and validation datasets\n",
    "    y_train_pred = model.predict_proba(X_train_rfe)[:, 1]  # Taking the probability for the positive class\n",
    "    y_val_pred = model.predict_proba(X_val_rfe)[:, 1]    # Same for validation set\n",
    "    \n",
    "    # Calculate the ROC AUC score on the training and validation data\n",
    "    train_score = roc_auc_score(y_train_agr, y_train_pred)\n",
    "    val_score = roc_auc_score(y_val_agr, y_val_pred)\n",
    "    \n",
    "    train_score_list.append(train_score)\n",
    "    val_score_list.append(val_score)\n",
    "    \n",
    "    # Check if the current validation score is higher than the best score so far\n",
    "    if val_score >= high_score:\n",
    "        high_score = val_score\n",
    "        nof = nof_list[n]\n",
    "\n",
    "print(\"Optimum number of features: %d\" % nof)\n",
    "print(\"Score with %d features: %f\" % (nof, high_score))"
   ]
  },
  {
   "cell_type": "code",
   "execution_count": 95,
   "id": "89fb939d",
   "metadata": {},
   "outputs": [],
   "source": [
    "# Initialize the RFE model with a Logistic Regression estimator & set number of features to 13\n",
    "rfe = RFE(estimator = model, n_features_to_select = 13)\n",
    "\n",
    "# Apply RFE to the scaled training data with the specified numerical columns\n",
    "X_rfe = rfe.fit_transform(X = X_train_agr[numerical_columns], y = y_train_agr)"
   ]
  },
  {
   "cell_type": "code",
   "execution_count": 96,
   "id": "be9d558b",
   "metadata": {},
   "outputs": [
    {
     "data": {
      "text/plain": [
       "Age at Injury                      True\n",
       "Average Weekly Wage                True\n",
       "Number of Dependents              False\n",
       "Age                                True\n",
       "IME-4 Count                        True\n",
       "Accident Year                      True\n",
       "Days_from_Assembly Date            True\n",
       "Alternative Dispute Resolution     True\n",
       "Attorney/Representative            True\n",
       "COVID-19 Indicator                 True\n",
       "C3_Received                        True\n",
       "C2_Received                        True\n",
       "First_Hearing                      True\n",
       "Has_Dependents                     True\n",
       "dtype: bool"
      ]
     },
     "execution_count": 96,
     "metadata": {},
     "output_type": "execute_result"
    }
   ],
   "source": [
    "# Create a pandas Series to see if a feature is selected or not\n",
    "selected_features = pd.Series(rfe.support_, index = X_train_agr[numerical_columns].columns)\n",
    "selected_features"
   ]
  },
  {
   "cell_type": "code",
   "execution_count": 97,
   "id": "1f36c360",
   "metadata": {
    "scrolled": true
   },
   "outputs": [
    {
     "data": {
      "image/png": "[encoded data removed]",
      "text/plain": [
       "<Figure size 640x480 with 1 Axes>"
      ]
     },
     "metadata": {},
     "output_type": "display_data"
    }
   ],
   "source": [
    "# Plot how training accuracy and validation accuracy vary with the number of features\n",
    "plt.plot(list(range(1,15)), train_score_list, label=\"Score on Training Set\", color='yellowgreen')\n",
    "plt.plot(list(range(1,15)), val_score_list, label=\"Score on Test Set\", color='dimgray')\n",
    "plt.xlabel(\"Maximum Depth\")\n",
    "plt.ylabel(\"Score\")\n",
    "plt.legend()\n",
    "plt.show()"
   ]
  },
  {
   "cell_type": "markdown",
   "id": "0864c9b2",
   "metadata": {},
   "source": [
    "<a class=\"anchor\" id=\"sub-section-3_2_3\"> </a>\n",
    "\n",
    "### 3.2.3 Embedded Methods - Lasso\n",
    "\n",
    "</a>"
   ]
  },
  {
   "cell_type": "markdown",
   "id": "8c0c608d-2c30-47f1-83ef-0212373960e6",
   "metadata": {},
   "source": [
    "Lasso allows us to determine which variable is insignicant (i.e. coefficient == 0)."
   ]
  },
  {
   "cell_type": "code",
   "execution_count": 100,
   "id": "cab9affc",
   "metadata": {},
   "outputs": [],
   "source": [
    "# Initialize a Lasso Regression\n",
    "Lreg = LassoCV()"
   ]
  },
  {
   "cell_type": "code",
   "execution_count": 101,
   "id": "4a85b03f",
   "metadata": {},
   "outputs": [
    {
     "data": {
      "text/html": [
       "<style>#sk-container-id-1 {\n",
       "  /* Definition of color scheme common for light and dark mode */\n",
       "  --sklearn-color-text: black;\n",
       "  --sklearn-color-line: gray;\n",
       "  /* Definition of color scheme for unfitted estimators */\n",
       "  --sklearn-color-unfitted-level-0: #fff5e6;\n",
       "  --sklearn-color-unfitted-level-1: #f6e4d2;\n",
       "  --sklearn-color-unfitted-level-2: #ffe0b3;\n",
       "  --sklearn-color-unfitted-level-3: chocolate;\n",
       "  /* Definition of color scheme for fitted estimators */\n",
       "  --sklearn-color-fitted-level-0: #f0f8ff;\n",
       "  --sklearn-color-fitted-level-1: #d4ebff;\n",
       "  --sklearn-color-fitted-level-2: #b3dbfd;\n",
       "  --sklearn-color-fitted-level-3: cornflowerblue;\n",
       "\n",
       "  /* Specific color for light theme */\n",
       "  --sklearn-color-text-on-default-background: var(--sg-text-color, var(--theme-code-foreground, var(--jp-content-font-color1, black)));\n",
       "  --sklearn-color-background: var(--sg-background-color, var(--theme-background, var(--jp-layout-color0, white)));\n",
       "  --sklearn-color-border-box: var(--sg-text-color, var(--theme-code-foreground, var(--jp-content-font-color1, black)));\n",
       "  --sklearn-color-icon: #696969;\n",
       "\n",
       "  @media (prefers-color-scheme: dark) {\n",
       "    /* Redefinition of color scheme for dark theme */\n",
       "    --sklearn-color-text-on-default-background: var(--sg-text-color, var(--theme-code-foreground, var(--jp-content-font-color1, white)));\n",
       "    --sklearn-color-background: var(--sg-background-color, var(--theme-background, var(--jp-layout-color0, #111)));\n",
       "    --sklearn-color-border-box: var(--sg-text-color, var(--theme-code-foreground, var(--jp-content-font-color1, white)));\n",
       "    --sklearn-color-icon: #878787;\n",
       "  }\n",
       "}\n",
       "\n",
       "#sk-container-id-1 {\n",
       "  color: var(--sklearn-color-text);\n",
       "}\n",
       "\n",
       "#sk-container-id-1 pre {\n",
       "  padding: 0;\n",
       "}\n",
       "\n",
       "#sk-container-id-1 input.sk-hidden--visually {\n",
       "  border: 0;\n",
       "  clip: rect(1px 1px 1px 1px);\n",
       "  clip: rect(1px, 1px, 1px, 1px);\n",
       "  height: 1px;\n",
       "  margin: -1px;\n",
       "  overflow: hidden;\n",
       "  padding: 0;\n",
       "  position: absolute;\n",
       "  width: 1px;\n",
       "}\n",
       "\n",
       "#sk-container-id-1 div.sk-dashed-wrapped {\n",
       "  border: 1px dashed var(--sklearn-color-line);\n",
       "  margin: 0 0.4em 0.5em 0.4em;\n",
       "  box-sizing: border-box;\n",
       "  padding-bottom: 0.4em;\n",
       "  background-color: var(--sklearn-color-background);\n",
       "}\n",
       "\n",
       "#sk-container-id-1 div.sk-container {\n",
       "  /* jupyter's `normalize.less` sets `[hidden] { display: none; }`\n",
       "     but bootstrap.min.css set `[hidden] { display: none !important; }`\n",
       "     so we also need the `!important` here to be able to override the\n",
       "     default hidden behavior on the sphinx rendered scikit-learn.org.\n",
       "     See: https://github.com/scikit-learn/scikit-learn/issues/21755 */\n",
       "  display: inline-block !important;\n",
       "  position: relative;\n",
       "}\n",
       "\n",
       "#sk-container-id-1 div.sk-text-repr-fallback {\n",
       "  display: none;\n",
       "}\n",
       "\n",
       "div.sk-parallel-item,\n",
       "div.sk-serial,\n",
       "div.sk-item {\n",
       "  /* draw centered vertical line to link estimators */\n",
       "  background-image: linear-gradient(var(--sklearn-color-text-on-default-background), var(--sklearn-color-text-on-default-background));\n",
       "  background-size: 2px 100%;\n",
       "  background-repeat: no-repeat;\n",
       "  background-position: center center;\n",
       "}\n",
       "\n",
       "/* Parallel-specific style estimator block */\n",
       "\n",
       "#sk-container-id-1 div.sk-parallel-item::after {\n",
       "  content: \"\";\n",
       "  width: 100%;\n",
       "  border-bottom: 2px solid var(--sklearn-color-text-on-default-background);\n",
       "  flex-grow: 1;\n",
       "}\n",
       "\n",
       "#sk-container-id-1 div.sk-parallel {\n",
       "  display: flex;\n",
       "  align-items: stretch;\n",
       "  justify-content: center;\n",
       "  background-color: var(--sklearn-color-background);\n",
       "  position: relative;\n",
       "}\n",
       "\n",
       "#sk-container-id-1 div.sk-parallel-item {\n",
       "  display: flex;\n",
       "  flex-direction: column;\n",
       "}\n",
       "\n",
       "#sk-container-id-1 div.sk-parallel-item:first-child::after {\n",
       "  align-self: flex-end;\n",
       "  width: 50%;\n",
       "}\n",
       "\n",
       "#sk-container-id-1 div.sk-parallel-item:last-child::after {\n",
       "  align-self: flex-start;\n",
       "  width: 50%;\n",
       "}\n",
       "\n",
       "#sk-container-id-1 div.sk-parallel-item:only-child::after {\n",
       "  width: 0;\n",
       "}\n",
       "\n",
       "/* Serial-specific style estimator block */\n",
       "\n",
       "#sk-container-id-1 div.sk-serial {\n",
       "  display: flex;\n",
       "  flex-direction: column;\n",
       "  align-items: center;\n",
       "  background-color: var(--sklearn-color-background);\n",
       "  padding-right: 1em;\n",
       "  padding-left: 1em;\n",
       "}\n",
       "\n",
       "\n",
       "/* Toggleable style: style used for estimator/Pipeline/ColumnTransformer box that is\n",
       "clickable and can be expanded/collapsed.\n",
       "- Pipeline and ColumnTransformer use this feature and define the default style\n",
       "- Estimators will overwrite some part of the style using the `sk-estimator` class\n",
       "*/\n",
       "\n",
       "/* Pipeline and ColumnTransformer style (default) */\n",
       "\n",
       "#sk-container-id-1 div.sk-toggleable {\n",
       "  /* Default theme specific background. It is overwritten whether we have a\n",
       "  specific estimator or a Pipeline/ColumnTransformer */\n",
       "  background-color: var(--sklearn-color-background);\n",
       "}\n",
       "\n",
       "/* Toggleable label */\n",
       "#sk-container-id-1 label.sk-toggleable__label {\n",
       "  cursor: pointer;\n",
       "  display: block;\n",
       "  width: 100%;\n",
       "  margin-bottom: 0;\n",
       "  padding: 0.5em;\n",
       "  box-sizing: border-box;\n",
       "  text-align: center;\n",
       "}\n",
       "\n",
       "#sk-container-id-1 label.sk-toggleable__label-arrow:before {\n",
       "  /* Arrow on the left of the label */\n",
       "  content: \"▸\";\n",
       "  float: left;\n",
       "  margin-right: 0.25em;\n",
       "  color: var(--sklearn-color-icon);\n",
       "}\n",
       "\n",
       "#sk-container-id-1 label.sk-toggleable__label-arrow:hover:before {\n",
       "  color: var(--sklearn-color-text);\n",
       "}\n",
       "\n",
       "/* Toggleable content - dropdown */\n",
       "\n",
       "#sk-container-id-1 div.sk-toggleable__content {\n",
       "  max-height: 0;\n",
       "  max-width: 0;\n",
       "  overflow: hidden;\n",
       "  text-align: left;\n",
       "  /* unfitted */\n",
       "  background-color: var(--sklearn-color-unfitted-level-0);\n",
       "}\n",
       "\n",
       "#sk-container-id-1 div.sk-toggleable__content.fitted {\n",
       "  /* fitted */\n",
       "  background-color: var(--sklearn-color-fitted-level-0);\n",
       "}\n",
       "\n",
       "#sk-container-id-1 div.sk-toggleable__content pre {\n",
       "  margin: 0.2em;\n",
       "  border-radius: 0.25em;\n",
       "  color: var(--sklearn-color-text);\n",
       "  /* unfitted */\n",
       "  background-color: var(--sklearn-color-unfitted-level-0);\n",
       "}\n",
       "\n",
       "#sk-container-id-1 div.sk-toggleable__content.fitted pre {\n",
       "  /* unfitted */\n",
       "  background-color: var(--sklearn-color-fitted-level-0);\n",
       "}\n",
       "\n",
       "#sk-container-id-1 input.sk-toggleable__control:checked~div.sk-toggleable__content {\n",
       "  /* Expand drop-down */\n",
       "  max-height: 200px;\n",
       "  max-width: 100%;\n",
       "  overflow: auto;\n",
       "}\n",
       "\n",
       "#sk-container-id-1 input.sk-toggleable__control:checked~label.sk-toggleable__label-arrow:before {\n",
       "  content: \"▾\";\n",
       "}\n",
       "\n",
       "/* Pipeline/ColumnTransformer-specific style */\n",
       "\n",
       "#sk-container-id-1 div.sk-label input.sk-toggleable__control:checked~label.sk-toggleable__label {\n",
       "  color: var(--sklearn-color-text);\n",
       "  background-color: var(--sklearn-color-unfitted-level-2);\n",
       "}\n",
       "\n",
       "#sk-container-id-1 div.sk-label.fitted input.sk-toggleable__control:checked~label.sk-toggleable__label {\n",
       "  background-color: var(--sklearn-color-fitted-level-2);\n",
       "}\n",
       "\n",
       "/* Estimator-specific style */\n",
       "\n",
       "/* Colorize estimator box */\n",
       "#sk-container-id-1 div.sk-estimator input.sk-toggleable__control:checked~label.sk-toggleable__label {\n",
       "  /* unfitted */\n",
       "  background-color: var(--sklearn-color-unfitted-level-2);\n",
       "}\n",
       "\n",
       "#sk-container-id-1 div.sk-estimator.fitted input.sk-toggleable__control:checked~label.sk-toggleable__label {\n",
       "  /* fitted */\n",
       "  background-color: var(--sklearn-color-fitted-level-2);\n",
       "}\n",
       "\n",
       "#sk-container-id-1 div.sk-label label.sk-toggleable__label,\n",
       "#sk-container-id-1 div.sk-label label {\n",
       "  /* The background is the default theme color */\n",
       "  color: var(--sklearn-color-text-on-default-background);\n",
       "}\n",
       "\n",
       "/* On hover, darken the color of the background */\n",
       "#sk-container-id-1 div.sk-label:hover label.sk-toggleable__label {\n",
       "  color: var(--sklearn-color-text);\n",
       "  background-color: var(--sklearn-color-unfitted-level-2);\n",
       "}\n",
       "\n",
       "/* Label box, darken color on hover, fitted */\n",
       "#sk-container-id-1 div.sk-label.fitted:hover label.sk-toggleable__label.fitted {\n",
       "  color: var(--sklearn-color-text);\n",
       "  background-color: var(--sklearn-color-fitted-level-2);\n",
       "}\n",
       "\n",
       "/* Estimator label */\n",
       "\n",
       "#sk-container-id-1 div.sk-label label {\n",
       "  font-family: monospace;\n",
       "  font-weight: bold;\n",
       "  display: inline-block;\n",
       "  line-height: 1.2em;\n",
       "}\n",
       "\n",
       "#sk-container-id-1 div.sk-label-container {\n",
       "  text-align: center;\n",
       "}\n",
       "\n",
       "/* Estimator-specific */\n",
       "#sk-container-id-1 div.sk-estimator {\n",
       "  font-family: monospace;\n",
       "  border: 1px dotted var(--sklearn-color-border-box);\n",
       "  border-radius: 0.25em;\n",
       "  box-sizing: border-box;\n",
       "  margin-bottom: 0.5em;\n",
       "  /* unfitted */\n",
       "  background-color: var(--sklearn-color-unfitted-level-0);\n",
       "}\n",
       "\n",
       "#sk-container-id-1 div.sk-estimator.fitted {\n",
       "  /* fitted */\n",
       "  background-color: var(--sklearn-color-fitted-level-0);\n",
       "}\n",
       "\n",
       "/* on hover */\n",
       "#sk-container-id-1 div.sk-estimator:hover {\n",
       "  /* unfitted */\n",
       "  background-color: var(--sklearn-color-unfitted-level-2);\n",
       "}\n",
       "\n",
       "#sk-container-id-1 div.sk-estimator.fitted:hover {\n",
       "  /* fitted */\n",
       "  background-color: var(--sklearn-color-fitted-level-2);\n",
       "}\n",
       "\n",
       "/* Specification for estimator info (e.g. \"i\" and \"?\") */\n",
       "\n",
       "/* Common style for \"i\" and \"?\" */\n",
       "\n",
       ".sk-estimator-doc-link,\n",
       "a:link.sk-estimator-doc-link,\n",
       "a:visited.sk-estimator-doc-link {\n",
       "  float: right;\n",
       "  font-size: smaller;\n",
       "  line-height: 1em;\n",
       "  font-family: monospace;\n",
       "  background-color: var(--sklearn-color-background);\n",
       "  border-radius: 1em;\n",
       "  height: 1em;\n",
       "  width: 1em;\n",
       "  text-decoration: none !important;\n",
       "  margin-left: 1ex;\n",
       "  /* unfitted */\n",
       "  border: var(--sklearn-color-unfitted-level-1) 1pt solid;\n",
       "  color: var(--sklearn-color-unfitted-level-1);\n",
       "}\n",
       "\n",
       ".sk-estimator-doc-link.fitted,\n",
       "a:link.sk-estimator-doc-link.fitted,\n",
       "a:visited.sk-estimator-doc-link.fitted {\n",
       "  /* fitted */\n",
       "  border: var(--sklearn-color-fitted-level-1) 1pt solid;\n",
       "  color: var(--sklearn-color-fitted-level-1);\n",
       "}\n",
       "\n",
       "/* On hover */\n",
       "div.sk-estimator:hover .sk-estimator-doc-link:hover,\n",
       ".sk-estimator-doc-link:hover,\n",
       "div.sk-label-container:hover .sk-estimator-doc-link:hover,\n",
       ".sk-estimator-doc-link:hover {\n",
       "  /* unfitted */\n",
       "  background-color: var(--sklearn-color-unfitted-level-3);\n",
       "  color: var(--sklearn-color-background);\n",
       "  text-decoration: none;\n",
       "}\n",
       "\n",
       "div.sk-estimator.fitted:hover .sk-estimator-doc-link.fitted:hover,\n",
       ".sk-estimator-doc-link.fitted:hover,\n",
       "div.sk-label-container:hover .sk-estimator-doc-link.fitted:hover,\n",
       ".sk-estimator-doc-link.fitted:hover {\n",
       "  /* fitted */\n",
       "  background-color: var(--sklearn-color-fitted-level-3);\n",
       "  color: var(--sklearn-color-background);\n",
       "  text-decoration: none;\n",
       "}\n",
       "\n",
       "/* Span, style for the box shown on hovering the info icon */\n",
       ".sk-estimator-doc-link span {\n",
       "  display: none;\n",
       "  z-index: 9999;\n",
       "  position: relative;\n",
       "  font-weight: normal;\n",
       "  right: .2ex;\n",
       "  padding: .5ex;\n",
       "  margin: .5ex;\n",
       "  width: min-content;\n",
       "  min-width: 20ex;\n",
       "  max-width: 50ex;\n",
       "  color: var(--sklearn-color-text);\n",
       "  box-shadow: 2pt 2pt 4pt #999;\n",
       "  /* unfitted */\n",
       "  background: var(--sklearn-color-unfitted-level-0);\n",
       "  border: .5pt solid var(--sklearn-color-unfitted-level-3);\n",
       "}\n",
       "\n",
       ".sk-estimator-doc-link.fitted span {\n",
       "  /* fitted */\n",
       "  background: var(--sklearn-color-fitted-level-0);\n",
       "  border: var(--sklearn-color-fitted-level-3);\n",
       "}\n",
       "\n",
       ".sk-estimator-doc-link:hover span {\n",
       "  display: block;\n",
       "}\n",
       "\n",
       "/* \"?\"-specific style due to the `<a>` HTML tag */\n",
       "\n",
       "#sk-container-id-1 a.estimator_doc_link {\n",
       "  float: right;\n",
       "  font-size: 1rem;\n",
       "  line-height: 1em;\n",
       "  font-family: monospace;\n",
       "  background-color: var(--sklearn-color-background);\n",
       "  border-radius: 1rem;\n",
       "  height: 1rem;\n",
       "  width: 1rem;\n",
       "  text-decoration: none;\n",
       "  /* unfitted */\n",
       "  color: var(--sklearn-color-unfitted-level-1);\n",
       "  border: var(--sklearn-color-unfitted-level-1) 1pt solid;\n",
       "}\n",
       "\n",
       "#sk-container-id-1 a.estimator_doc_link.fitted {\n",
       "  /* fitted */\n",
       "  border: var(--sklearn-color-fitted-level-1) 1pt solid;\n",
       "  color: var(--sklearn-color-fitted-level-1);\n",
       "}\n",
       "\n",
       "/* On hover */\n",
       "#sk-container-id-1 a.estimator_doc_link:hover {\n",
       "  /* unfitted */\n",
       "  background-color: var(--sklearn-color-unfitted-level-3);\n",
       "  color: var(--sklearn-color-background);\n",
       "  text-decoration: none;\n",
       "}\n",
       "\n",
       "#sk-container-id-1 a.estimator_doc_link.fitted:hover {\n",
       "  /* fitted */\n",
       "  background-color: var(--sklearn-color-fitted-level-3);\n",
       "}\n",
       "</style><div id=\"sk-container-id-1\" class=\"sk-top-container\"><div class=\"sk-text-repr-fallback\"><pre>LassoCV()</pre><b>In a Jupyter environment, please rerun this cell to show the HTML representation or trust the notebook. <br />On GitHub, the HTML representation is unable to render, please try loading this page with nbviewer.org.</b></div><div class=\"sk-container\" hidden><div class=\"sk-item\"><div class=\"sk-estimator fitted sk-toggleable\"><input class=\"sk-toggleable__control sk-hidden--visually\" id=\"sk-estimator-id-1\" type=\"checkbox\" checked><label for=\"sk-estimator-id-1\" class=\"sk-toggleable__label fitted sk-toggleable__label-arrow fitted\">&nbsp;&nbsp;LassoCV<a class=\"sk-estimator-doc-link fitted\" rel=\"noreferrer\" target=\"_blank\" href=\"https://scikit-learn.org/1.5/modules/generated/sklearn.linear_model.LassoCV.html\">?<span>Documentation for LassoCV</span></a><span class=\"sk-estimator-doc-link fitted\">i<span>Fitted</span></span></label><div class=\"sk-toggleable__content fitted\"><pre>LassoCV()</pre></div> </div></div></div></div>"
      ],
      "text/plain": [
       "LassoCV()"
      ]
     },
     "execution_count": 101,
     "metadata": {},
     "output_type": "execute_result"
    }
   ],
   "source": [
    "# Fit the data to the regression \n",
    "Lreg.fit(X_train_agr[numerical_columns], y_train_agr)"
   ]
  },
  {
   "cell_type": "code",
   "execution_count": 102,
   "id": "a1217398",
   "metadata": {},
   "outputs": [
    {
     "data": {
      "text/plain": [
       "Age at Injury                    -1.126959\n",
       "Average Weekly Wage              -0.073834\n",
       "Number of Dependents             -0.000000\n",
       "Age                               1.088765\n",
       "IME-4 Count                       0.143161\n",
       "Accident Year                    -0.099958\n",
       "Days_from_Assembly Date          -0.049425\n",
       "Alternative Dispute Resolution    0.017392\n",
       "Attorney/Representative           0.091829\n",
       "COVID-19 Indicator               -0.015243\n",
       "C3_Received                      -0.013292\n",
       "C2_Received                       0.053099\n",
       "First_Hearing                     0.040569\n",
       "Has_Dependents                    0.000525\n",
       "dtype: float64"
      ]
     },
     "execution_count": 102,
     "metadata": {},
     "output_type": "execute_result"
    }
   ],
   "source": [
    "coef = pd.Series(Lreg.coef_, index = X_train_agr[numerical_columns].columns)\n",
    "coef"
   ]
  },
  {
   "cell_type": "markdown",
   "id": "b2632346",
   "metadata": {},
   "source": [
    "<a class=\"anchor\" id=\"sub-section-3_2_4\"> </a>\n",
    "\n",
    "### 3.2.4. Final Drops\n",
    "\n",
    "</a>"
   ]
  },
  {
   "cell_type": "markdown",
   "id": "af1d95f3-4e7c-440f-a675-0d2147c57a08",
   "metadata": {},
   "source": [
    "According to the feature selection tests, the following variables should be dropped:\n",
    "- Correlated features: Age or Age at Injury, Days_from_Assembly Date or Accident Year\n",
    "- Chi-square: Has_Dependents\n",
    "- RFE: Number of Dependents \n",
    "- Lasso: Number of Dependents\n",
    "\n",
    "Final considerations:\n",
    "- Only Age, Days_from_Assembly Date, and Number of Dependents will be dropped.\n",
    "    - Age has a lower score than Age at Injury according to Lasso.\n",
    "    - Days_from_Assembly Date has a lower score than Accident Year according to Lasso.\n",
    "    - Number of Dependents failed in RFE and Lasso.\n",
    "- Has_dependents was only flagged once, and following our decision criteria, this categorical variable should remain in the model."
   ]
  },
  {
   "cell_type": "code",
   "execution_count": 112,
   "id": "9e7664a5-943c-4199-8599-908ba3c81af1",
   "metadata": {},
   "outputs": [],
   "source": [
    "X_train_agr.drop('Age', axis=1, inplace=True)\n",
    "X_val_agr.drop('Age', axis=1, inplace=True)"
   ]
  },
  {
   "cell_type": "code",
   "execution_count": 114,
   "id": "5a653515",
   "metadata": {},
   "outputs": [],
   "source": [
    "X_train_agr.drop('Days_from_Assembly Date', axis=1, inplace=True)\n",
    "X_val_agr.drop('Days_from_Assembly Date', axis=1, inplace=True)"
   ]
  },
  {
   "cell_type": "code",
   "execution_count": 116,
   "id": "1f262e74",
   "metadata": {},
   "outputs": [],
   "source": [
    "X_train_agr.drop('Number of Dependents', axis=1, inplace=True)\n",
    "X_val_agr.drop('Number of Dependents', axis=1, inplace=True)"
   ]
  },
  {
   "cell_type": "code",
   "execution_count": 118,
   "id": "567a465b",
   "metadata": {},
   "outputs": [
    {
     "data": {
      "text/plain": [
       "Index(['Age at Injury', 'Alternative Dispute Resolution',\n",
       "       'Attorney/Representative', 'Average Weekly Wage', 'Carrier Name',\n",
       "       'Carrier Type', 'County of Injury', 'COVID-19 Indicator',\n",
       "       'District Name', 'Gender', 'IME-4 Count', 'Industry Code',\n",
       "       'Medical Fee Region', 'WCIO Cause of Injury Code',\n",
       "       'WCIO Nature of Injury Code', 'WCIO Part Of Body Code', 'Zip Code',\n",
       "       'C3_Received', 'C2_Received', 'First_Hearing', 'Accident Year',\n",
       "       'Has_Dependents'],\n",
       "      dtype='object')"
      ]
     },
     "execution_count": 118,
     "metadata": {},
     "output_type": "execute_result"
    }
   ],
   "source": [
    "# Check the remaining features\n",
    "X_train_agr.columns"
   ]
  },
  {
   "cell_type": "markdown",
   "id": "d11774ed",
   "metadata": {},
   "source": [
    "<a class=\"anchor\" id=\"sub-section-3_3\"></a>\n",
    "\n",
    "## 3.3. Modeling\n",
    "\n",
    "</a>"
   ]
  },
  {
   "cell_type": "markdown",
   "id": "6b488039-476f-4efd-9e53-dbf967a4dbcd",
   "metadata": {},
   "source": [
    "In this section, we will try three models to predict Agreement Reached:\n",
    "- KNN\n",
    "- Gradient Boosting\n",
    "- Random Forest"
   ]
  },
  {
   "cell_type": "markdown",
   "id": "12095deb",
   "metadata": {},
   "source": [
    "<a class=\"anchor\" id=\"sub-section-3_3_1\"></a>\n",
    "\n",
    "### 3.3.1. KNN\n",
    "\n",
    "</a>"
   ]
  },
  {
   "cell_type": "code",
   "execution_count": 123,
   "id": "31d81559",
   "metadata": {},
   "outputs": [
    {
     "name": "stdout",
     "output_type": "stream",
     "text": [
      "F1_Scores for each k value:\n",
      "k = 1 -> F1 Score: 0.6232\n",
      "k = 2 -> F1 Score: 0.6232\n",
      "k = 3 -> F1 Score: 0.6210\n",
      "k = 4 -> F1 Score: 0.6201\n",
      "k = 5 -> F1 Score: 0.6093\n",
      "k = 6 -> F1 Score: 0.6104\n",
      "k = 7 -> F1 Score: 0.5999\n",
      "k = 8 -> F1 Score: 0.5998\n",
      "k = 9 -> F1 Score: 0.5923\n",
      "k = 10 -> F1 Score: 0.5917\n",
      "k = 11 -> F1 Score: 0.5864\n"
     ]
    }
   ],
   "source": [
    "# Set range of k values that will be tested\n",
    "k_values = range(1, 12) \n",
    "\n",
    "# Initialize variables \n",
    "best_f1_score = 0\n",
    "best_k = 0\n",
    "f1_scores = []\n",
    "\n",
    "# Run knn between k=1 and k=9 to get the best result\n",
    "for k in k_values:\n",
    "    knn = KNeighborsClassifier(n_neighbors=k, weights='distance') \n",
    "    knn.fit(X_train_agr, y_train_agr)\n",
    "    y_pred = knn.predict(X_val_agr)\n",
    "    \n",
    "    f1 = f1_score(y_val_agr, y_pred, average='macro')\n",
    "    \n",
    "    # Get the best k value based on f1 score (macro)\n",
    "    if f1 > best_f1_score:\n",
    "        best_f1_score = f1\n",
    "        best_k = k\n",
    "\n",
    "    f1_scores.append(f1)\n",
    "\n",
    "print(\"F1_Scores for each k value:\")\n",
    "for k, f1 in zip(k_values, f1_scores):\n",
    "    print(f\"k = {k} -> F1 Score: {f1:.4f}\")"
   ]
  },
  {
   "cell_type": "code",
   "execution_count": 124,
   "id": "a89ee07f",
   "metadata": {},
   "outputs": [],
   "source": [
    "knn = KNeighborsClassifier(n_neighbors=1)  "
   ]
  },
  {
   "cell_type": "code",
   "execution_count": 125,
   "id": "2b0936af",
   "metadata": {},
   "outputs": [],
   "source": [
    "knn.fit(X_train_agr, y_train_agr)\n",
    "y_pred_val_knn_agr = knn.predict(X_val_agr)"
   ]
  },
  {
   "cell_type": "code",
   "execution_count": 126,
   "id": "77dc80d1",
   "metadata": {},
   "outputs": [
    {
     "name": "stdout",
     "output_type": "stream",
     "text": [
      "Classification Report for Validation:\n"
     ]
    },
    {
     "data": {
      "text/html": [
       "<div>\n",
       "<style scoped>\n",
       "    .dataframe tbody tr th:only-of-type {\n",
       "        vertical-align: middle;\n",
       "    }\n",
       "\n",
       "    .dataframe tbody tr th {\n",
       "        vertical-align: top;\n",
       "    }\n",
       "\n",
       "    .dataframe thead th {\n",
       "        text-align: right;\n",
       "    }\n",
       "</style>\n",
       "<table border=\"1\" class=\"dataframe\">\n",
       "  <thead>\n",
       "    <tr style=\"text-align: right;\">\n",
       "      <th></th>\n",
       "      <th>precision</th>\n",
       "      <th>recall</th>\n",
       "      <th>f1-score</th>\n",
       "      <th>support</th>\n",
       "    </tr>\n",
       "  </thead>\n",
       "  <tbody>\n",
       "    <tr>\n",
       "      <th>0.0</th>\n",
       "      <td>0.964740</td>\n",
       "      <td>0.966097</td>\n",
       "      <td>0.965418</td>\n",
       "      <td>109459.00000</td>\n",
       "    </tr>\n",
       "    <tr>\n",
       "      <th>1.0</th>\n",
       "      <td>0.285247</td>\n",
       "      <td>0.277030</td>\n",
       "      <td>0.281078</td>\n",
       "      <td>5346.00000</td>\n",
       "    </tr>\n",
       "    <tr>\n",
       "      <th>accuracy</th>\n",
       "      <td>0.934010</td>\n",
       "      <td>0.934010</td>\n",
       "      <td>0.934010</td>\n",
       "      <td>0.93401</td>\n",
       "    </tr>\n",
       "    <tr>\n",
       "      <th>macro avg</th>\n",
       "      <td>0.624993</td>\n",
       "      <td>0.621563</td>\n",
       "      <td>0.623248</td>\n",
       "      <td>114805.00000</td>\n",
       "    </tr>\n",
       "    <tr>\n",
       "      <th>weighted avg</th>\n",
       "      <td>0.933098</td>\n",
       "      <td>0.934010</td>\n",
       "      <td>0.933551</td>\n",
       "      <td>114805.00000</td>\n",
       "    </tr>\n",
       "  </tbody>\n",
       "</table>\n",
       "</div>"
      ],
      "text/plain": [
       "              precision    recall  f1-score       support\n",
       "0.0            0.964740  0.966097  0.965418  109459.00000\n",
       "1.0            0.285247  0.277030  0.281078    5346.00000\n",
       "accuracy       0.934010  0.934010  0.934010       0.93401\n",
       "macro avg      0.624993  0.621563  0.623248  114805.00000\n",
       "weighted avg   0.933098  0.934010  0.933551  114805.00000"
      ]
     },
     "execution_count": 126,
     "metadata": {},
     "output_type": "execute_result"
    }
   ],
   "source": [
    "class_report = classification_report(y_val_agr, y_pred_val_knn_agr, output_dict=True)\n",
    "class_report_df = pd.DataFrame(class_report).transpose()\n",
    "print(\"Classification Report for Validation:\")\n",
    "class_report_df"
   ]
  },
  {
   "cell_type": "code",
   "execution_count": 127,
   "id": "b76c341c",
   "metadata": {},
   "outputs": [
    {
     "name": "stdout",
     "output_type": "stream",
     "text": [
      "Confusion Matrix for Validation:\n"
     ]
    },
    {
     "data": {
      "text/html": [
       "<div>\n",
       "<style scoped>\n",
       "    .dataframe tbody tr th:only-of-type {\n",
       "        vertical-align: middle;\n",
       "    }\n",
       "\n",
       "    .dataframe tbody tr th {\n",
       "        vertical-align: top;\n",
       "    }\n",
       "\n",
       "    .dataframe thead th {\n",
       "        text-align: right;\n",
       "    }\n",
       "</style>\n",
       "<table border=\"1\" class=\"dataframe\">\n",
       "  <thead>\n",
       "    <tr style=\"text-align: right;\">\n",
       "      <th></th>\n",
       "      <th>0</th>\n",
       "      <th>1</th>\n",
       "    </tr>\n",
       "  </thead>\n",
       "  <tbody>\n",
       "    <tr>\n",
       "      <th>0</th>\n",
       "      <td>105748</td>\n",
       "      <td>3711</td>\n",
       "    </tr>\n",
       "    <tr>\n",
       "      <th>1</th>\n",
       "      <td>3865</td>\n",
       "      <td>1481</td>\n",
       "    </tr>\n",
       "  </tbody>\n",
       "</table>\n",
       "</div>"
      ],
      "text/plain": [
       "        0     1\n",
       "0  105748  3711\n",
       "1    3865  1481"
      ]
     },
     "execution_count": 127,
     "metadata": {},
     "output_type": "execute_result"
    }
   ],
   "source": [
    "conf_matrix = confusion_matrix(y_val_agr, y_pred_val_knn_agr)\n",
    "conf_matrix = pd.DataFrame(conf_matrix)\n",
    "print('Confusion Matrix for Validation:')\n",
    "conf_matrix"
   ]
  },
  {
   "cell_type": "markdown",
   "id": "edb2be08",
   "metadata": {},
   "source": [
    "<a class=\"anchor\" id=\"sub-section-3_3_2\"></a>\n",
    "\n",
    "### 3.3.2. Gradient Boosting\n",
    "\n",
    "</a>"
   ]
  },
  {
   "cell_type": "code",
   "execution_count": 136,
   "id": "d637d71b",
   "metadata": {},
   "outputs": [],
   "source": [
    "GB = xgb.XGBClassifier(random_state=42, verbosity=1)"
   ]
  },
  {
   "cell_type": "code",
   "execution_count": 138,
   "id": "202eb36f",
   "metadata": {},
   "outputs": [],
   "source": [
    "GB.fit(X_train_agr, y_train_agr)\n",
    "y_pred_val_GB_agr = GB.predict(X_val_agr)\n",
    "y_pred_train_GB_agr = GB.predict(X_train_agr)"
   ]
  },
  {
   "cell_type": "code",
   "execution_count": 139,
   "id": "f152516c-6c2b-4ec8-a42c-156ca4e8f8a0",
   "metadata": {
    "scrolled": true
   },
   "outputs": [
    {
     "name": "stdout",
     "output_type": "stream",
     "text": [
      "Classification Report for Training:\n"
     ]
    },
    {
     "data": {
      "text/html": [
       "<div>\n",
       "<style scoped>\n",
       "    .dataframe tbody tr th:only-of-type {\n",
       "        vertical-align: middle;\n",
       "    }\n",
       "\n",
       "    .dataframe tbody tr th {\n",
       "        vertical-align: top;\n",
       "    }\n",
       "\n",
       "    .dataframe thead th {\n",
       "        text-align: right;\n",
       "    }\n",
       "</style>\n",
       "<table border=\"1\" class=\"dataframe\">\n",
       "  <thead>\n",
       "    <tr style=\"text-align: right;\">\n",
       "      <th></th>\n",
       "      <th>precision</th>\n",
       "      <th>recall</th>\n",
       "      <th>f1-score</th>\n",
       "      <th>support</th>\n",
       "    </tr>\n",
       "  </thead>\n",
       "  <tbody>\n",
       "    <tr>\n",
       "      <th>0.0</th>\n",
       "      <td>0.963366</td>\n",
       "      <td>0.997140</td>\n",
       "      <td>0.979962</td>\n",
       "      <td>437779.000000</td>\n",
       "    </tr>\n",
       "    <tr>\n",
       "      <th>1.0</th>\n",
       "      <td>0.794518</td>\n",
       "      <td>0.225782</td>\n",
       "      <td>0.351638</td>\n",
       "      <td>21441.000000</td>\n",
       "    </tr>\n",
       "    <tr>\n",
       "      <th>accuracy</th>\n",
       "      <td>0.961125</td>\n",
       "      <td>0.961125</td>\n",
       "      <td>0.961125</td>\n",
       "      <td>0.961125</td>\n",
       "    </tr>\n",
       "    <tr>\n",
       "      <th>macro avg</th>\n",
       "      <td>0.878942</td>\n",
       "      <td>0.611461</td>\n",
       "      <td>0.665800</td>\n",
       "      <td>459220.000000</td>\n",
       "    </tr>\n",
       "    <tr>\n",
       "      <th>weighted avg</th>\n",
       "      <td>0.955482</td>\n",
       "      <td>0.961125</td>\n",
       "      <td>0.950625</td>\n",
       "      <td>459220.000000</td>\n",
       "    </tr>\n",
       "  </tbody>\n",
       "</table>\n",
       "</div>"
      ],
      "text/plain": [
       "              precision    recall  f1-score        support\n",
       "0.0            0.963366  0.997140  0.979962  437779.000000\n",
       "1.0            0.794518  0.225782  0.351638   21441.000000\n",
       "accuracy       0.961125  0.961125  0.961125       0.961125\n",
       "macro avg      0.878942  0.611461  0.665800  459220.000000\n",
       "weighted avg   0.955482  0.961125  0.950625  459220.000000"
      ]
     },
     "execution_count": 139,
     "metadata": {},
     "output_type": "execute_result"
    }
   ],
   "source": [
    "class_report = classification_report(y_train_agr, y_pred_train_GB_agr, output_dict=True)\n",
    "class_report_df = pd.DataFrame(class_report).transpose()\n",
    "print(\"Classification Report for Training:\")\n",
    "class_report_df"
   ]
  },
  {
   "cell_type": "code",
   "execution_count": 140,
   "id": "4dcaa8d7",
   "metadata": {
    "scrolled": true
   },
   "outputs": [
    {
     "name": "stdout",
     "output_type": "stream",
     "text": [
      "Classification Report for Validation:\n"
     ]
    },
    {
     "data": {
      "text/html": [
       "<div>\n",
       "<style scoped>\n",
       "    .dataframe tbody tr th:only-of-type {\n",
       "        vertical-align: middle;\n",
       "    }\n",
       "\n",
       "    .dataframe tbody tr th {\n",
       "        vertical-align: top;\n",
       "    }\n",
       "\n",
       "    .dataframe thead th {\n",
       "        text-align: right;\n",
       "    }\n",
       "</style>\n",
       "<table border=\"1\" class=\"dataframe\">\n",
       "  <thead>\n",
       "    <tr style=\"text-align: right;\">\n",
       "      <th></th>\n",
       "      <th>precision</th>\n",
       "      <th>recall</th>\n",
       "      <th>f1-score</th>\n",
       "      <th>support</th>\n",
       "    </tr>\n",
       "  </thead>\n",
       "  <tbody>\n",
       "    <tr>\n",
       "      <th>0.0</th>\n",
       "      <td>0.961044</td>\n",
       "      <td>0.995286</td>\n",
       "      <td>0.977865</td>\n",
       "      <td>109459.00000</td>\n",
       "    </tr>\n",
       "    <tr>\n",
       "      <th>1.0</th>\n",
       "      <td>0.643154</td>\n",
       "      <td>0.173962</td>\n",
       "      <td>0.273852</td>\n",
       "      <td>5346.00000</td>\n",
       "    </tr>\n",
       "    <tr>\n",
       "      <th>accuracy</th>\n",
       "      <td>0.957040</td>\n",
       "      <td>0.957040</td>\n",
       "      <td>0.957040</td>\n",
       "      <td>0.95704</td>\n",
       "    </tr>\n",
       "    <tr>\n",
       "      <th>macro avg</th>\n",
       "      <td>0.802099</td>\n",
       "      <td>0.584624</td>\n",
       "      <td>0.625858</td>\n",
       "      <td>114805.00000</td>\n",
       "    </tr>\n",
       "    <tr>\n",
       "      <th>weighted avg</th>\n",
       "      <td>0.946241</td>\n",
       "      <td>0.957040</td>\n",
       "      <td>0.945082</td>\n",
       "      <td>114805.00000</td>\n",
       "    </tr>\n",
       "  </tbody>\n",
       "</table>\n",
       "</div>"
      ],
      "text/plain": [
       "              precision    recall  f1-score       support\n",
       "0.0            0.961044  0.995286  0.977865  109459.00000\n",
       "1.0            0.643154  0.173962  0.273852    5346.00000\n",
       "accuracy       0.957040  0.957040  0.957040       0.95704\n",
       "macro avg      0.802099  0.584624  0.625858  114805.00000\n",
       "weighted avg   0.946241  0.957040  0.945082  114805.00000"
      ]
     },
     "execution_count": 140,
     "metadata": {},
     "output_type": "execute_result"
    }
   ],
   "source": [
    "class_report = classification_report(y_val_agr, y_pred_val_GB_agr, output_dict=True)\n",
    "class_report_df = pd.DataFrame(class_report).transpose()\n",
    "print(\"Classification Report for Validation:\")\n",
    "class_report_df"
   ]
  },
  {
   "cell_type": "code",
   "execution_count": 141,
   "id": "f45e9c89",
   "metadata": {},
   "outputs": [
    {
     "name": "stdout",
     "output_type": "stream",
     "text": [
      "Confusion Matrix for Validation:\n"
     ]
    },
    {
     "data": {
      "text/html": [
       "<div>\n",
       "<style scoped>\n",
       "    .dataframe tbody tr th:only-of-type {\n",
       "        vertical-align: middle;\n",
       "    }\n",
       "\n",
       "    .dataframe tbody tr th {\n",
       "        vertical-align: top;\n",
       "    }\n",
       "\n",
       "    .dataframe thead th {\n",
       "        text-align: right;\n",
       "    }\n",
       "</style>\n",
       "<table border=\"1\" class=\"dataframe\">\n",
       "  <thead>\n",
       "    <tr style=\"text-align: right;\">\n",
       "      <th></th>\n",
       "      <th>0</th>\n",
       "      <th>1</th>\n",
       "    </tr>\n",
       "  </thead>\n",
       "  <tbody>\n",
       "    <tr>\n",
       "      <th>0</th>\n",
       "      <td>108943</td>\n",
       "      <td>516</td>\n",
       "    </tr>\n",
       "    <tr>\n",
       "      <th>1</th>\n",
       "      <td>4416</td>\n",
       "      <td>930</td>\n",
       "    </tr>\n",
       "  </tbody>\n",
       "</table>\n",
       "</div>"
      ],
      "text/plain": [
       "        0    1\n",
       "0  108943  516\n",
       "1    4416  930"
      ]
     },
     "execution_count": 141,
     "metadata": {},
     "output_type": "execute_result"
    }
   ],
   "source": [
    "conf_matrix = confusion_matrix(y_val_agr, y_pred_val_GB_agr)\n",
    "conf_matrix = pd.DataFrame(conf_matrix)\n",
    "print('Confusion Matrix for Validation:')\n",
    "conf_matrix"
   ]
  },
  {
   "cell_type": "markdown",
   "id": "60b87ede",
   "metadata": {},
   "source": [
    "<a class=\"anchor\" id=\"sub-section-3_3_3\"></a>\n",
    "\n",
    "### 3.3.3. Random Forest\n",
    "\n",
    "</a>"
   ]
  },
  {
   "cell_type": "code",
   "execution_count": 147,
   "id": "a2b74a49",
   "metadata": {
    "id": "a2b74a49"
   },
   "outputs": [],
   "source": [
    "rf = RandomForestClassifier(random_state=42, n_estimators=100, max_depth=None, class_weight='balanced')"
   ]
  },
  {
   "cell_type": "code",
   "execution_count": 149,
   "id": "PdM6Qp4H3Rmc",
   "metadata": {
    "colab": {
     "base_uri": "https://localhost:8080/",
     "height": 80
    },
    "id": "PdM6Qp4H3Rmc",
    "outputId": "06d8a6df-2ad0-48de-8d35-9fc0d292e08b",
    "scrolled": true
   },
   "outputs": [],
   "source": [
    "rf.fit(X_train_agr, y_train_agr)\n",
    "y_pred_val_rf_agr = rf.predict(X_val_agr)"
   ]
  },
  {
   "cell_type": "code",
   "execution_count": 150,
   "id": "7F63pDES43Qu",
   "metadata": {
    "colab": {
     "base_uri": "https://localhost:8080/"
    },
    "id": "7F63pDES43Qu",
    "outputId": "c222981b-f757-419b-e1e6-077b5d80a945",
    "scrolled": true
   },
   "outputs": [
    {
     "name": "stdout",
     "output_type": "stream",
     "text": [
      "Classification Report for Validation:\n"
     ]
    },
    {
     "data": {
      "text/html": [
       "<div>\n",
       "<style scoped>\n",
       "    .dataframe tbody tr th:only-of-type {\n",
       "        vertical-align: middle;\n",
       "    }\n",
       "\n",
       "    .dataframe tbody tr th {\n",
       "        vertical-align: top;\n",
       "    }\n",
       "\n",
       "    .dataframe thead th {\n",
       "        text-align: right;\n",
       "    }\n",
       "</style>\n",
       "<table border=\"1\" class=\"dataframe\">\n",
       "  <thead>\n",
       "    <tr style=\"text-align: right;\">\n",
       "      <th></th>\n",
       "      <th>precision</th>\n",
       "      <th>recall</th>\n",
       "      <th>f1-score</th>\n",
       "      <th>support</th>\n",
       "    </tr>\n",
       "  </thead>\n",
       "  <tbody>\n",
       "    <tr>\n",
       "      <th>0.0</th>\n",
       "      <td>0.958207</td>\n",
       "      <td>0.998081</td>\n",
       "      <td>0.977738</td>\n",
       "      <td>109459.000000</td>\n",
       "    </tr>\n",
       "    <tr>\n",
       "      <th>1.0</th>\n",
       "      <td>0.734513</td>\n",
       "      <td>0.108679</td>\n",
       "      <td>0.189343</td>\n",
       "      <td>5346.000000</td>\n",
       "    </tr>\n",
       "    <tr>\n",
       "      <th>accuracy</th>\n",
       "      <td>0.956666</td>\n",
       "      <td>0.956666</td>\n",
       "      <td>0.956666</td>\n",
       "      <td>0.956666</td>\n",
       "    </tr>\n",
       "    <tr>\n",
       "      <th>macro avg</th>\n",
       "      <td>0.846360</td>\n",
       "      <td>0.553380</td>\n",
       "      <td>0.583541</td>\n",
       "      <td>114805.000000</td>\n",
       "    </tr>\n",
       "    <tr>\n",
       "      <th>weighted avg</th>\n",
       "      <td>0.947790</td>\n",
       "      <td>0.956666</td>\n",
       "      <td>0.941025</td>\n",
       "      <td>114805.000000</td>\n",
       "    </tr>\n",
       "  </tbody>\n",
       "</table>\n",
       "</div>"
      ],
      "text/plain": [
       "              precision    recall  f1-score        support\n",
       "0.0            0.958207  0.998081  0.977738  109459.000000\n",
       "1.0            0.734513  0.108679  0.189343    5346.000000\n",
       "accuracy       0.956666  0.956666  0.956666       0.956666\n",
       "macro avg      0.846360  0.553380  0.583541  114805.000000\n",
       "weighted avg   0.947790  0.956666  0.941025  114805.000000"
      ]
     },
     "execution_count": 150,
     "metadata": {},
     "output_type": "execute_result"
    }
   ],
   "source": [
    "class_report_rf = classification_report(y_val_agr, y_pred_val_rf_agr, output_dict=True)\n",
    "class_report_rf_df = pd.DataFrame(class_report_rf).transpose()\n",
    "print(\"Classification Report for Validation:\")\n",
    "class_report_rf_df"
   ]
  },
  {
   "cell_type": "code",
   "execution_count": 151,
   "id": "KwjhF9td5IJY",
   "metadata": {
    "id": "KwjhF9td5IJY"
   },
   "outputs": [
    {
     "name": "stdout",
     "output_type": "stream",
     "text": [
      "Confusion Matrix for Validation:\n"
     ]
    },
    {
     "data": {
      "text/html": [
       "<div>\n",
       "<style scoped>\n",
       "    .dataframe tbody tr th:only-of-type {\n",
       "        vertical-align: middle;\n",
       "    }\n",
       "\n",
       "    .dataframe tbody tr th {\n",
       "        vertical-align: top;\n",
       "    }\n",
       "\n",
       "    .dataframe thead th {\n",
       "        text-align: right;\n",
       "    }\n",
       "</style>\n",
       "<table border=\"1\" class=\"dataframe\">\n",
       "  <thead>\n",
       "    <tr style=\"text-align: right;\">\n",
       "      <th></th>\n",
       "      <th>0</th>\n",
       "      <th>1</th>\n",
       "    </tr>\n",
       "  </thead>\n",
       "  <tbody>\n",
       "    <tr>\n",
       "      <th>0</th>\n",
       "      <td>109249</td>\n",
       "      <td>210</td>\n",
       "    </tr>\n",
       "    <tr>\n",
       "      <th>1</th>\n",
       "      <td>4765</td>\n",
       "      <td>581</td>\n",
       "    </tr>\n",
       "  </tbody>\n",
       "</table>\n",
       "</div>"
      ],
      "text/plain": [
       "        0    1\n",
       "0  109249  210\n",
       "1    4765  581"
      ]
     },
     "execution_count": 151,
     "metadata": {},
     "output_type": "execute_result"
    }
   ],
   "source": [
    "conf_matrix_rf = confusion_matrix(y_val_agr, y_pred_val_rf_agr)\n",
    "conf_matrix_rf_df = pd.DataFrame(conf_matrix_rf)\n",
    "print(\"Confusion Matrix for Validation:\")\n",
    "conf_matrix_rf_df"
   ]
  },
  {
   "cell_type": "markdown",
   "id": "daa4b78d-499e-4a90-b3e6-e737a13de9ca",
   "metadata": {},
   "source": [
    "From the three models, it seems that Gradient Boosting is a good model. It has a higher macro F1-score (0.625858) than Random Forest (0.583541), meaning there is a good balance between Precision and Recall. Indeed, even though RF has a higher Precision (0.734513) for the minority (1.0), it has a very poor Recall score for this class (0.108679). Now, comparing GB and KNN, GB has a much higher Precision for the minority class (0.643154), than KNN (0.285247). This makes GB more reliable to correctly identify positive cases and minimising false positives. "
   ]
  },
  {
   "cell_type": "markdown",
   "id": "1c72a3ed",
   "metadata": {},
   "source": [
    "<a class=\"anchor\" id=\"sub-section-3_4\"></a>\n",
    "\n",
    "## 3.4. Tuning\n",
    "\n",
    "</a>"
   ]
  },
  {
   "cell_type": "markdown",
   "id": "339673f8-4b5b-4b70-8e4d-bd7504dc43f8",
   "metadata": {},
   "source": [
    "From the results of the three models, we can see that Gradient Boosting provides the best results, and so, we will tune the model using GridSearchCV() to find the best parameters."
   ]
  },
  {
   "cell_type": "code",
   "execution_count": 86,
   "id": "3ee90363",
   "metadata": {
    "scrolled": true
   },
   "outputs": [
    {
     "name": "stdout",
     "output_type": "stream",
     "text": [
      "Fitting 1 folds for each of 100 candidates, totalling 100 fits\n",
      "Best Parameters: {'colsample_bytree': 1.0, 'gamma': 0.6, 'learning_rate': 0.1, 'max_delta_step': 3, 'max_depth': 10, 'min_child_weight': 5, 'n_estimators': 300, 'objective': 'binary:logistic', 'reg_alpha': 0, 'reg_lambda': 2, 'scale_pos_weight': 5, 'subsample': 1.0}\n",
      "Best Score: 0.7131992272994387\n"
     ]
    }
   ],
   "source": [
    "#parameter_space = {\n",
    "#    'n_estimators': [100, 300, 500], \n",
    "#    'max_depth': [3, 7, 10], \n",
    "#    'learning_rate': [0.01, 0.1, 0.2], \n",
    "#    'subsample': [0.7, 1.0], \n",
    "#    'colsample_bytree': [0.7, 1.0], \n",
    "#    'min_child_weight': [1, 5, 10], \n",
    "#    'max_delta_step': [0, 3],\n",
    "#    'gamma': [0, 0.4],  # 3 options\n",
    "#    'objective': ['binary:logistic'],  \n",
    "#    'scale_pos_weight': [5, 7],  \n",
    "#    'reg_alpha': [0, 0.5],  \n",
    "#    'reg_lambda': [1, 2]}\n",
    "\n",
    "#gb = xgb.XGBClassifier(random_state=42, verbosity=1)\n",
    "\n",
    "#X_combined = np.concatenate([X_train_agr, X_val_agr])\n",
    "#y_combined = np.concatenate([y_train_agr, y_val_agr])\n",
    "#test_fold = [-1] * len(X_train_agr) + [0] * len(X_val_agr)\n",
    "#ps = PredefinedSplit(test_fold=test_fold)\n",
    "\n",
    "#clf_gb = GridSearchCV(\n",
    "#    estimator=gb,\n",
    "#    param_grid=param_grid,\n",
    "#    scoring='f1_macro',  \n",
    "#    cv=ps,                \n",
    "#    verbose=5,           \n",
    "#    n_jobs=-2)\n",
    " \n",
    "\n",
    "#clf_gb.fit(X_combined, y_combined)\n",
    "\n",
    "#print(\"Best Hyperparameters:\", clf_gb.best_params_)\n",
    "#print(\"Best Score:\", clf_gb.best_score_)"
   ]
  },
  {
   "cell_type": "markdown",
   "id": "6bdc5741",
   "metadata": {},
   "source": [
    "<a class=\"anchor\" id=\"sub-section-3_5\"></a>\n",
    "\n",
    "## 3.5. Final Model\n",
    "\n",
    "</a>"
   ]
  },
  {
   "cell_type": "code",
   "execution_count": 156,
   "id": "2375fcc0",
   "metadata": {},
   "outputs": [
    {
     "name": "stdout",
     "output_type": "stream",
     "text": [
      "Accuracy on Train Set: 0.968041461608815\n",
      "Training F1 Macro: 0.8573886673414572\n",
      "Accuracy on Validation Set: 0.9368407299333653\n",
      "Validation F1 Macro: 0.7111955202805519\n"
     ]
    },
    {
     "data": {
      "text/html": [
       "<div>\n",
       "<style scoped>\n",
       "    .dataframe tbody tr th:only-of-type {\n",
       "        vertical-align: middle;\n",
       "    }\n",
       "\n",
       "    .dataframe tbody tr th {\n",
       "        vertical-align: top;\n",
       "    }\n",
       "\n",
       "    .dataframe thead th {\n",
       "        text-align: right;\n",
       "    }\n",
       "</style>\n",
       "<table border=\"1\" class=\"dataframe\">\n",
       "  <thead>\n",
       "    <tr style=\"text-align: right;\">\n",
       "      <th></th>\n",
       "      <th>precision</th>\n",
       "      <th>recall</th>\n",
       "      <th>f1-score</th>\n",
       "      <th>support</th>\n",
       "    </tr>\n",
       "  </thead>\n",
       "  <tbody>\n",
       "    <tr>\n",
       "      <th>0.0</th>\n",
       "      <td>0.978394</td>\n",
       "      <td>0.954842</td>\n",
       "      <td>0.966474</td>\n",
       "      <td>109459.000000</td>\n",
       "    </tr>\n",
       "    <tr>\n",
       "      <th>1.0</th>\n",
       "      <td>0.380654</td>\n",
       "      <td>0.568275</td>\n",
       "      <td>0.455917</td>\n",
       "      <td>5346.000000</td>\n",
       "    </tr>\n",
       "    <tr>\n",
       "      <th>accuracy</th>\n",
       "      <td>0.936841</td>\n",
       "      <td>0.936841</td>\n",
       "      <td>0.936841</td>\n",
       "      <td>0.936841</td>\n",
       "    </tr>\n",
       "    <tr>\n",
       "      <th>macro avg</th>\n",
       "      <td>0.679524</td>\n",
       "      <td>0.761558</td>\n",
       "      <td>0.711196</td>\n",
       "      <td>114805.000000</td>\n",
       "    </tr>\n",
       "    <tr>\n",
       "      <th>weighted avg</th>\n",
       "      <td>0.950560</td>\n",
       "      <td>0.936841</td>\n",
       "      <td>0.942700</td>\n",
       "      <td>114805.000000</td>\n",
       "    </tr>\n",
       "  </tbody>\n",
       "</table>\n",
       "</div>"
      ],
      "text/plain": [
       "              precision    recall  f1-score        support\n",
       "0.0            0.978394  0.954842  0.966474  109459.000000\n",
       "1.0            0.380654  0.568275  0.455917    5346.000000\n",
       "accuracy       0.936841  0.936841  0.936841       0.936841\n",
       "macro avg      0.679524  0.761558  0.711196  114805.000000\n",
       "weighted avg   0.950560  0.936841  0.942700  114805.000000"
      ]
     },
     "execution_count": 156,
     "metadata": {},
     "output_type": "execute_result"
    }
   ],
   "source": [
    "tuned_model = xgb.XGBClassifier(colsample_bytree=1.0,gamma=0.4,learning_rate=0.1,max_delta_step=3,max_depth=10,\n",
    "    min_child_weight=5,n_estimators=300,reg_alpha=0,reg_lambda=2,scale_pos_weight=5,subsample=1.0,random_state=42)\n",
    "\n",
    "\n",
    "tuned_model.fit(X_train_agr, y_train_agr)\n",
    "y_pred_val_tuned = tuned_model.predict(X_val_agr)\n",
    "y_pred_train_tuned = tuned_model.predict(X_train_agr)\n",
    "\n",
    "# Metrics for assessment\n",
    "f1_val_tuned=f1_score(y_val_agr, y_pred_val_tuned, average='macro')\n",
    "\n",
    "print('Accuracy on Train Set:', accuracy_score(y_train_agr, y_pred_train_tuned))\n",
    "print('Training F1 Macro:', f1_score(y_train_agr, y_pred_train_tuned, average='macro'))\n",
    "print('Accuracy on Validation Set:', accuracy_score(y_val_agr, y_pred_val_tuned))\n",
    "print('Validation F1 Macro:',f1_val_tuned)\n",
    "\n",
    "\n",
    "class_report = classification_report(y_val_agr, y_pred_val_tuned, output_dict=True)\n",
    "class_report_df = pd.DataFrame(class_report).transpose()\n",
    "class_report_df"
   ]
  },
  {
   "cell_type": "markdown",
   "id": "10f71c59-1200-48cc-afa6-95789a35c6ef",
   "metadata": {},
   "source": [
    "After tuning, we can see that the macore F1-score improved from 0.625858 to 0.711196. It also improved Class 1's macro F1-score from 0.273852 to 0.455917, which shows a better balance between Precision and Recall for the minority class. We can also observe that there is a slight decrease in precision and overall accuracy, but the tuned model does a better job at predicting the minority class, which is important as there is an imbalance.  "
   ]
  }
 ],
 "metadata": {
  "colab": {
   "provenance": []
  },
  "kernelspec": {
   "display_name": "Python 3 (ipykernel)",
   "language": "python",
   "name": "python3"
  },
  "language_info": {
   "codemirror_mode": {
    "name": "ipython",
    "version": 3
   },
   "file_extension": ".py",
   "mimetype": "text/x-python",
   "name": "python",
   "nbconvert_exporter": "python",
   "pygments_lexer": "ipython3",
   "version": "3.11.9"
  }
 },
 "nbformat": 4,
 "nbformat_minor": 5
}
